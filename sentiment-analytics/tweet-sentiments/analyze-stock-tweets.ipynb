{
 "cells": [
  {
   "cell_type": "code",
   "execution_count": 2,
   "metadata": {
    "collapsed": true
   },
   "outputs": [],
   "source": [
    "import matplotlib.pyplot as plt\n",
    "import pandas as pd\n",
    "import wordcount as wordcount\n",
    "from textblob import TextBlob\n"
   ]
  },
  {
   "cell_type": "code",
   "execution_count": 3,
   "outputs": [
    {
     "data": {
      "text/plain": "  Ticker                                               Text  replyCount  \\\n0   TSLA     Let's hope they will allow more cars into t...           0   \n1   TSLA  NEWS GMs share of the US EV market is exactly ...           0   \n2   TSLA  I wouldnt pity if Ken Griffin CITADEL one day ...           0   \n3   TSLA  lol again  is not \"recalling , vehicles\" it's ...           0   \n4   TSLA    admit when first heard  skeptical at bestbut...           0   \n\n   retweetCount  likeCount  quoteCount  retweetedTweet quotedTweet  \\\n0             0          1           0             NaN         NaN   \n1             1          4           0             NaN         NaN   \n2             1          2           1             NaN         NaN   \n3             0          0           1             NaN         NaN   \n4             1          1           1             NaN         NaN   \n\n   mentionedUsers  \n0               3  \n1               0  \n2               0  \n3               3  \n4               4  ",
      "text/html": "<div>\n<style scoped>\n    .dataframe tbody tr th:only-of-type {\n        vertical-align: middle;\n    }\n\n    .dataframe tbody tr th {\n        vertical-align: top;\n    }\n\n    .dataframe thead th {\n        text-align: right;\n    }\n</style>\n<table border=\"1\" class=\"dataframe\">\n  <thead>\n    <tr style=\"text-align: right;\">\n      <th></th>\n      <th>Ticker</th>\n      <th>Text</th>\n      <th>replyCount</th>\n      <th>retweetCount</th>\n      <th>likeCount</th>\n      <th>quoteCount</th>\n      <th>retweetedTweet</th>\n      <th>quotedTweet</th>\n      <th>mentionedUsers</th>\n    </tr>\n  </thead>\n  <tbody>\n    <tr>\n      <th>0</th>\n      <td>TSLA</td>\n      <td>Let's hope they will allow more cars into t...</td>\n      <td>0</td>\n      <td>0</td>\n      <td>1</td>\n      <td>0</td>\n      <td>NaN</td>\n      <td>NaN</td>\n      <td>3</td>\n    </tr>\n    <tr>\n      <th>1</th>\n      <td>TSLA</td>\n      <td>NEWS GMs share of the US EV market is exactly ...</td>\n      <td>0</td>\n      <td>1</td>\n      <td>4</td>\n      <td>0</td>\n      <td>NaN</td>\n      <td>NaN</td>\n      <td>0</td>\n    </tr>\n    <tr>\n      <th>2</th>\n      <td>TSLA</td>\n      <td>I wouldnt pity if Ken Griffin CITADEL one day ...</td>\n      <td>0</td>\n      <td>1</td>\n      <td>2</td>\n      <td>1</td>\n      <td>NaN</td>\n      <td>NaN</td>\n      <td>0</td>\n    </tr>\n    <tr>\n      <th>3</th>\n      <td>TSLA</td>\n      <td>lol again  is not \"recalling , vehicles\" it's ...</td>\n      <td>0</td>\n      <td>0</td>\n      <td>0</td>\n      <td>1</td>\n      <td>NaN</td>\n      <td>NaN</td>\n      <td>3</td>\n    </tr>\n    <tr>\n      <th>4</th>\n      <td>TSLA</td>\n      <td>admit when first heard  skeptical at bestbut...</td>\n      <td>0</td>\n      <td>1</td>\n      <td>1</td>\n      <td>1</td>\n      <td>NaN</td>\n      <td>NaN</td>\n      <td>4</td>\n    </tr>\n  </tbody>\n</table>\n</div>"
     },
     "execution_count": 3,
     "metadata": {},
     "output_type": "execute_result"
    }
   ],
   "source": [
    "\n",
    "\n",
    "def load_data():\n",
    "    data = pd.read_csv('data/stock_tweets_simple.csv')\n",
    "    return data\n",
    "\n",
    "\n",
    "tweet_df = load_data()\n",
    "tweet_df.head()"
   ],
   "metadata": {
    "collapsed": false,
    "pycharm": {
     "name": "#%%\n"
    }
   }
  },
  {
   "cell_type": "code",
   "execution_count": 4,
   "outputs": [
    {
     "name": "stdout",
     "output_type": "stream",
     "text": [
      "<class 'pandas.core.frame.DataFrame'>\n",
      "RangeIndex: 197 entries, 0 to 196\n",
      "Data columns (total 9 columns):\n",
      " #   Column          Non-Null Count  Dtype  \n",
      "---  ------          --------------  -----  \n",
      " 0   Ticker          197 non-null    object \n",
      " 1   Text            197 non-null    object \n",
      " 2   replyCount      197 non-null    int64  \n",
      " 3   retweetCount    197 non-null    int64  \n",
      " 4   likeCount       197 non-null    int64  \n",
      " 5   quoteCount      197 non-null    int64  \n",
      " 6   retweetedTweet  0 non-null      float64\n",
      " 7   quotedTweet     9 non-null      object \n",
      " 8   mentionedUsers  197 non-null    int64  \n",
      "dtypes: float64(1), int64(5), object(3)\n",
      "memory usage: 14.0+ KB\n"
     ]
    }
   ],
   "source": [
    "tweet_df.info()"
   ],
   "metadata": {
    "collapsed": false,
    "pycharm": {
     "name": "#%%\n"
    }
   }
  },
  {
   "cell_type": "code",
   "execution_count": 5,
   "outputs": [
    {
     "name": "stdout",
     "output_type": "stream",
     "text": [
      "  Ticker                                               Text  replyCount  \\\n",
      "0   TSLA     Let's hope they will allow more cars into t...           0   \n",
      "1   TSLA  NEWS GMs share of the US EV market is exactly ...           0   \n",
      "2   TSLA  I wouldnt pity if Ken Griffin CITADEL one day ...           0   \n",
      "3   TSLA  lol again  is not \"recalling , vehicles\" it's ...           0   \n",
      "4   TSLA    admit when first heard  skeptical at bestbut...           0   \n",
      "\n",
      "   retweetCount  likeCount  quoteCount  retweetedTweet quotedTweet  \\\n",
      "0             0          1           0             NaN         NaN   \n",
      "1             1          4           0             NaN         NaN   \n",
      "2             1          2           1             NaN         NaN   \n",
      "3             0          0           1             NaN         NaN   \n",
      "4             1          1           1             NaN         NaN   \n",
      "\n",
      "   mentionedUsers  \n",
      "0               3  \n",
      "1               0  \n",
      "2               0  \n",
      "3               3  \n",
      "4               4  \n",
      "Dataset size: (197, 9)\n",
      "Columns are: Index(['Ticker', 'Text', 'replyCount', 'retweetCount', 'likeCount',\n",
      "       'quoteCount', 'retweetedTweet', 'quotedTweet', 'mentionedUsers'],\n",
      "      dtype='object')\n",
      "    Ticker                                               Text  replyCount  \\\n",
      "0     TSLA     Let's hope they will allow more cars into t...           0   \n",
      "1     TSLA  NEWS GMs share of the US EV market is exactly ...           0   \n",
      "2     TSLA  I wouldnt pity if Ken Griffin CITADEL one day ...           0   \n",
      "3     TSLA  lol again  is not \"recalling , vehicles\" it's ...           0   \n",
      "4     TSLA    admit when first heard  skeptical at bestbut...           0   \n",
      "..     ...                                                ...         ...   \n",
      "192   NVDA  $AMD killed earnings $NVDA runs on sympathy Gu...           0   \n",
      "193   NVDA                       All chips no dip  $AMD $NVDA           0   \n",
      "194   NVDA  $NVDA\\nbeen a while since I hit %\\nbreak this ...           2   \n",
      "195   NVDA  If $NVDA opens over $ tomorrow, this call will...           1   \n",
      "196   NVDA  $NVDA and $QQQ please print on these calls for...           0   \n",
      "\n",
      "     retweetCount  likeCount  quoteCount  retweetedTweet  \\\n",
      "0               0          1           0             NaN   \n",
      "1               1          4           0             NaN   \n",
      "2               1          2           1             NaN   \n",
      "3               0          0           1             NaN   \n",
      "4               1          1           1             NaN   \n",
      "..            ...        ...         ...             ...   \n",
      "192             0          6           0             NaN   \n",
      "193             0          0           0             NaN   \n",
      "194             0          9           0             NaN   \n",
      "195             0          0           0             NaN   \n",
      "196             0          0           0             NaN   \n",
      "\n",
      "                                           quotedTweet  mentionedUsers  \\\n",
      "0                                                  NaN               3   \n",
      "1                                                  NaN               0   \n",
      "2                                                  NaN               0   \n",
      "3                                                  NaN               3   \n",
      "4                                                  NaN               4   \n",
      "..                                                 ...             ...   \n",
      "192                                                NaN               0   \n",
      "193                                                NaN               0   \n",
      "194                                                NaN               0   \n",
      "195  https://twitter.com/SpyderTrades/status/148816...               0   \n",
      "196                                                NaN               0   \n",
      "\n",
      "     Subjectivity  Polarity  \n",
      "0        0.500000    0.5000  \n",
      "1        0.250000    0.2500  \n",
      "2        0.125000   -0.0875  \n",
      "3        0.400000    0.4000  \n",
      "4        0.351667    0.0100  \n",
      "..            ...       ...  \n",
      "192      0.050000   -0.0500  \n",
      "193      0.000000    0.0000  \n",
      "194      0.000000    0.0000  \n",
      "195      0.560000    0.3600  \n",
      "196      0.000000    0.0000  \n",
      "\n",
      "[197 rows x 11 columns]\n"
     ]
    }
   ],
   "source": [
    "\n",
    "\n",
    "def get_subjectivity(text):\n",
    "    return TextBlob(text).sentiment.subjectivity\n",
    "\n",
    "\n",
    "def get_polarity(text):\n",
    "    return TextBlob(text).sentiment.polarity\n",
    "\n",
    "\n",
    "df = load_data()\n",
    "print(df.head())\n",
    "print('Dataset size:', df.shape)\n",
    "print('Columns are:', df.columns)\n",
    "\n",
    "df['Subjectivity'] = df['Text'].apply(get_subjectivity)\n",
    "df['Polarity'] = df['Text'].apply(get_polarity)\n",
    "print(df)"
   ],
   "metadata": {
    "collapsed": false,
    "pycharm": {
     "name": "#%%\n"
    }
   }
  },
  {
   "cell_type": "code",
   "execution_count": 6,
   "outputs": [
    {
     "ename": "ModuleNotFoundError",
     "evalue": "No module named 'wordcloud'",
     "output_type": "error",
     "traceback": [
      "\u001B[1;31m---------------------------------------------------------------------------\u001B[0m",
      "\u001B[1;31mModuleNotFoundError\u001B[0m                       Traceback (most recent call last)",
      "Input \u001B[1;32mIn [6]\u001B[0m, in \u001B[0;36m<module>\u001B[1;34m\u001B[0m\n\u001B[1;32m----> 1\u001B[0m \u001B[38;5;28;01mfrom\u001B[39;00m \u001B[38;5;21;01mwordcloud\u001B[39;00m \u001B[38;5;28;01mimport\u001B[39;00m WordCloud\n\u001B[0;32m      2\u001B[0m \u001B[38;5;28;01mfrom\u001B[39;00m \u001B[38;5;21;01mtextblob\u001B[39;00m \u001B[38;5;28;01mimport\u001B[39;00m TextBlob\n\u001B[0;32m      4\u001B[0m plt\u001B[38;5;241m.\u001B[39mstyle\u001B[38;5;241m.\u001B[39muse(\u001B[38;5;124m'\u001B[39m\u001B[38;5;124mfivethirtyeight\u001B[39m\u001B[38;5;124m'\u001B[39m)\n",
      "\u001B[1;31mModuleNotFoundError\u001B[0m: No module named 'wordcloud'"
     ]
    }
   ],
   "source": [
    "from wordcloud import WordCloud\n",
    "from textblob import TextBlob\n",
    "\n",
    "plt.style.use('fivethirtyeight')\n",
    "\n",
    "\n",
    "\n",
    "def get_subjectivity(text):\n",
    "    return TextBlob(text).sentiment.subjectivity\n",
    "\n",
    "\n",
    "def get_polarity(text):\n",
    "    return TextBlob(text).sentiment.polarity\n",
    "\n",
    "\n",
    "df = load_data()\n",
    "print(df.head())\n",
    "print('Dataset size:', df.shape)\n",
    "print('Columns are:', df.columns)\n",
    "\n",
    "df['Subjectivity'] = df['Text'].apply(get_subjectivity)\n",
    "df['Polarity'] = df['Text'].apply(get_polarity)\n",
    "print(df)\n",
    "\n",
    "# Print word cloud\n",
    "all_words = ' '.join(txt for txt in df['Text'])\n",
    "word_count = wordcount(width=500, height=300, random_state=21, max_font_size=119).generate(all_words)\n",
    "\n",
    "plt.imshow(word_count, interpolation=\"bilinear\")\n",
    "plt.axis('off')\n",
    "plt.show()\n"
   ],
   "metadata": {
    "collapsed": false,
    "pycharm": {
     "name": "#%%\n"
    }
   }
  }
 ],
 "metadata": {
  "kernelspec": {
   "display_name": "Python 3",
   "language": "python",
   "name": "python3"
  },
  "language_info": {
   "codemirror_mode": {
    "name": "ipython",
    "version": 2
   },
   "file_extension": ".py",
   "mimetype": "text/x-python",
   "name": "python",
   "nbconvert_exporter": "python",
   "pygments_lexer": "ipython2",
   "version": "2.7.6"
  }
 },
 "nbformat": 4,
 "nbformat_minor": 0
}