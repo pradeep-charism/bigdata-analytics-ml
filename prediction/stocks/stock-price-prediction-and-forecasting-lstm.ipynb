{
 "metadata": {
  "kernelspec": {
   "language": "python",
   "display_name": "Python 3",
   "name": "python3"
  },
  "language_info": {
   "name": "python",
   "version": "3.7.10",
   "mimetype": "text/x-python",
   "codemirror_mode": {
    "name": "ipython",
    "version": 3
   },
   "pygments_lexer": "ipython3",
   "nbconvert_exporter": "python",
   "file_extension": ".py"
  }
 },
 "nbformat_minor": 4,
 "nbformat": 4,
 "cells": [
  {
   "cell_type": "code",
   "source": [
    "# This Python 3 environment comes with many helpful analytics libraries installed\n",
    "# It is defined by the kaggle/python Docker image: https://github.com/kaggle/docker-python\n",
    "# For example, here's several helpful packages to load\n",
    "\n",
    "import numpy as np # linear algebra\n",
    "import pandas as pd # data processing, CSV file I/O (e.g. pd.read_csv)\n",
    "\n",
    "# Input data files are available in the read-only \"../input/\" directory\n",
    "# For example, running this (by clicking run or pressing Shift+Enter) will list all files under the input directory\n",
    "\n",
    "import os\n",
    "for dirname, _, filenames in os.walk('data'):\n",
    "    for filename in filenames:\n",
    "        print(os.path.join(dirname, filename))\n",
    "\n",
    "# You can write up to 20GB to the current directory (/kaggle/working/) that gets preserved as output when you create a version using \"Save & Run All\" \n",
    "# You can also write temporary files to /kaggle/temp/, but they won't be saved outside of the current session"
   ],
   "metadata": {
    "_uuid": "8f2839f25d086af736a60e9eeb907d3b93b6e0e5",
    "_cell_guid": "b1076dfc-b9ad-4769-8c92-a6c4dae69d19",
    "execution": {
     "iopub.status.busy": "2021-07-08T17:23:20.955388Z",
     "iopub.execute_input": "2021-07-08T17:23:20.955723Z",
     "iopub.status.idle": "2021-07-08T17:23:20.964865Z",
     "shell.execute_reply.started": "2021-07-08T17:23:20.955691Z",
     "shell.execute_reply": "2021-07-08T17:23:20.963747Z"
    },
    "trusted": true
   },
   "execution_count": 1,
   "outputs": [
    {
     "name": "stdout",
     "output_type": "stream",
     "text": [
      "data\\AAPL.csv\n",
      "data\\stock_data.csv\n"
     ]
    }
   ]
  },
  {
   "cell_type": "code",
   "source": [
    "df = pd.read_csv('data\\AAPL.csv')"
   ],
   "metadata": {
    "execution": {
     "iopub.status.busy": "2021-07-08T17:23:20.968222Z",
     "iopub.execute_input": "2021-07-08T17:23:20.968787Z",
     "iopub.status.idle": "2021-07-08T17:23:20.987789Z",
     "shell.execute_reply.started": "2021-07-08T17:23:20.968734Z",
     "shell.execute_reply": "2021-07-08T17:23:20.987045Z"
    },
    "trusted": true
   },
   "execution_count": 2,
   "outputs": []
  },
  {
   "cell_type": "code",
   "source": [
    "df.head()"
   ],
   "metadata": {
    "execution": {
     "iopub.status.busy": "2021-07-08T17:23:20.989028Z",
     "iopub.execute_input": "2021-07-08T17:23:20.989335Z",
     "iopub.status.idle": "2021-07-08T17:23:21.009689Z",
     "shell.execute_reply.started": "2021-07-08T17:23:20.989308Z",
     "shell.execute_reply": "2021-07-08T17:23:21.008660Z"
    },
    "trusted": true
   },
   "execution_count": 3,
   "outputs": [
    {
     "data": {
      "text/plain": "   Unnamed: 0 symbol                       date    close     high     low  \\\n0           0   AAPL  2015-05-27 00:00:00+00:00  132.045  132.260  130.05   \n1           1   AAPL  2015-05-28 00:00:00+00:00  131.780  131.950  131.10   \n2           2   AAPL  2015-05-29 00:00:00+00:00  130.280  131.450  129.90   \n3           3   AAPL  2015-06-01 00:00:00+00:00  130.535  131.390  130.05   \n4           4   AAPL  2015-06-02 00:00:00+00:00  129.960  130.655  129.32   \n\n     open    volume    adjClose     adjHigh      adjLow     adjOpen  \\\n0  130.34  45833246  121.682558  121.880685  119.844118  120.111360   \n1  131.86  30733309  121.438354  121.595013  120.811718  121.512076   \n2  131.23  50884452  120.056069  121.134251  119.705890  120.931516   \n3  131.20  32112797  120.291057  121.078960  119.844118  120.903870   \n4  129.86  33667627  119.761181  120.401640  119.171406  119.669029   \n\n   adjVolume  divCash  splitFactor  \n0   45833246      0.0          1.0  \n1   30733309      0.0          1.0  \n2   50884452      0.0          1.0  \n3   32112797      0.0          1.0  \n4   33667627      0.0          1.0  ",
      "text/html": "<div>\n<style scoped>\n    .dataframe tbody tr th:only-of-type {\n        vertical-align: middle;\n    }\n\n    .dataframe tbody tr th {\n        vertical-align: top;\n    }\n\n    .dataframe thead th {\n        text-align: right;\n    }\n</style>\n<table border=\"1\" class=\"dataframe\">\n  <thead>\n    <tr style=\"text-align: right;\">\n      <th></th>\n      <th>Unnamed: 0</th>\n      <th>symbol</th>\n      <th>date</th>\n      <th>close</th>\n      <th>high</th>\n      <th>low</th>\n      <th>open</th>\n      <th>volume</th>\n      <th>adjClose</th>\n      <th>adjHigh</th>\n      <th>adjLow</th>\n      <th>adjOpen</th>\n      <th>adjVolume</th>\n      <th>divCash</th>\n      <th>splitFactor</th>\n    </tr>\n  </thead>\n  <tbody>\n    <tr>\n      <th>0</th>\n      <td>0</td>\n      <td>AAPL</td>\n      <td>2015-05-27 00:00:00+00:00</td>\n      <td>132.045</td>\n      <td>132.260</td>\n      <td>130.05</td>\n      <td>130.34</td>\n      <td>45833246</td>\n      <td>121.682558</td>\n      <td>121.880685</td>\n      <td>119.844118</td>\n      <td>120.111360</td>\n      <td>45833246</td>\n      <td>0.0</td>\n      <td>1.0</td>\n    </tr>\n    <tr>\n      <th>1</th>\n      <td>1</td>\n      <td>AAPL</td>\n      <td>2015-05-28 00:00:00+00:00</td>\n      <td>131.780</td>\n      <td>131.950</td>\n      <td>131.10</td>\n      <td>131.86</td>\n      <td>30733309</td>\n      <td>121.438354</td>\n      <td>121.595013</td>\n      <td>120.811718</td>\n      <td>121.512076</td>\n      <td>30733309</td>\n      <td>0.0</td>\n      <td>1.0</td>\n    </tr>\n    <tr>\n      <th>2</th>\n      <td>2</td>\n      <td>AAPL</td>\n      <td>2015-05-29 00:00:00+00:00</td>\n      <td>130.280</td>\n      <td>131.450</td>\n      <td>129.90</td>\n      <td>131.23</td>\n      <td>50884452</td>\n      <td>120.056069</td>\n      <td>121.134251</td>\n      <td>119.705890</td>\n      <td>120.931516</td>\n      <td>50884452</td>\n      <td>0.0</td>\n      <td>1.0</td>\n    </tr>\n    <tr>\n      <th>3</th>\n      <td>3</td>\n      <td>AAPL</td>\n      <td>2015-06-01 00:00:00+00:00</td>\n      <td>130.535</td>\n      <td>131.390</td>\n      <td>130.05</td>\n      <td>131.20</td>\n      <td>32112797</td>\n      <td>120.291057</td>\n      <td>121.078960</td>\n      <td>119.844118</td>\n      <td>120.903870</td>\n      <td>32112797</td>\n      <td>0.0</td>\n      <td>1.0</td>\n    </tr>\n    <tr>\n      <th>4</th>\n      <td>4</td>\n      <td>AAPL</td>\n      <td>2015-06-02 00:00:00+00:00</td>\n      <td>129.960</td>\n      <td>130.655</td>\n      <td>129.32</td>\n      <td>129.86</td>\n      <td>33667627</td>\n      <td>119.761181</td>\n      <td>120.401640</td>\n      <td>119.171406</td>\n      <td>119.669029</td>\n      <td>33667627</td>\n      <td>0.0</td>\n      <td>1.0</td>\n    </tr>\n  </tbody>\n</table>\n</div>"
     },
     "execution_count": 3,
     "metadata": {},
     "output_type": "execute_result"
    }
   ]
  },
  {
   "cell_type": "code",
   "source": [
    "df.shape"
   ],
   "metadata": {
    "execution": {
     "iopub.status.busy": "2021-07-08T17:23:21.011642Z",
     "iopub.execute_input": "2021-07-08T17:23:21.012195Z",
     "iopub.status.idle": "2021-07-08T17:23:21.018571Z",
     "shell.execute_reply.started": "2021-07-08T17:23:21.012158Z",
     "shell.execute_reply": "2021-07-08T17:23:21.017720Z"
    },
    "trusted": true
   },
   "execution_count": 4,
   "outputs": [
    {
     "data": {
      "text/plain": "(1258, 15)"
     },
     "execution_count": 4,
     "metadata": {},
     "output_type": "execute_result"
    }
   ]
  },
  {
   "cell_type": "code",
   "source": [
    "df.isnull().sum()"
   ],
   "metadata": {
    "execution": {
     "iopub.status.busy": "2021-07-08T17:23:21.020071Z",
     "iopub.execute_input": "2021-07-08T17:23:21.020849Z",
     "iopub.status.idle": "2021-07-08T17:23:21.031654Z",
     "shell.execute_reply.started": "2021-07-08T17:23:21.020811Z",
     "shell.execute_reply": "2021-07-08T17:23:21.030653Z"
    },
    "trusted": true
   },
   "execution_count": 5,
   "outputs": [
    {
     "data": {
      "text/plain": "Unnamed: 0     0\nsymbol         0\ndate           0\nclose          0\nhigh           0\nlow            0\nopen           0\nvolume         0\nadjClose       0\nadjHigh        0\nadjLow         0\nadjOpen        0\nadjVolume      0\ndivCash        0\nsplitFactor    0\ndtype: int64"
     },
     "execution_count": 5,
     "metadata": {},
     "output_type": "execute_result"
    }
   ]
  },
  {
   "cell_type": "markdown",
   "source": [
    "We are performing the prediction/forecasting on 'close' column \n"
   ],
   "metadata": {}
  },
  {
   "cell_type": "code",
   "source": [
    "df1 = df.reset_index()['close']"
   ],
   "metadata": {
    "execution": {
     "iopub.status.busy": "2021-07-08T17:23:21.033349Z",
     "iopub.execute_input": "2021-07-08T17:23:21.033676Z",
     "iopub.status.idle": "2021-07-08T17:23:21.039292Z",
     "shell.execute_reply.started": "2021-07-08T17:23:21.033643Z",
     "shell.execute_reply": "2021-07-08T17:23:21.038349Z"
    },
    "trusted": true
   },
   "execution_count": 6,
   "outputs": []
  },
  {
   "cell_type": "code",
   "source": [
    "df1\n",
    "# len(df1)\n"
   ],
   "metadata": {
    "execution": {
     "iopub.status.busy": "2021-07-08T17:23:21.040900Z",
     "iopub.execute_input": "2021-07-08T17:23:21.041255Z",
     "iopub.status.idle": "2021-07-08T17:23:21.051966Z",
     "shell.execute_reply.started": "2021-07-08T17:23:21.041220Z",
     "shell.execute_reply": "2021-07-08T17:23:21.050917Z"
    },
    "trusted": true
   },
   "execution_count": 10,
   "outputs": [
    {
     "data": {
      "text/plain": "0       132.045\n1       131.780\n2       130.280\n3       130.535\n4       129.960\n         ...   \n1253    314.960\n1254    313.140\n1255    319.230\n1256    316.850\n1257    318.890\nName: close, Length: 1258, dtype: float64"
     },
     "execution_count": 10,
     "metadata": {},
     "output_type": "execute_result"
    }
   ]
  },
  {
   "cell_type": "code",
   "source": [
    "import seaborn as sns \n",
    "import matplotlib.pyplot as plt\n",
    "plt.plot(df1)"
   ],
   "metadata": {
    "execution": {
     "iopub.status.busy": "2021-07-08T17:23:21.053164Z",
     "iopub.execute_input": "2021-07-08T17:23:21.053509Z",
     "iopub.status.idle": "2021-07-08T17:23:21.189659Z",
     "shell.execute_reply.started": "2021-07-08T17:23:21.053476Z",
     "shell.execute_reply": "2021-07-08T17:23:21.188740Z"
    },
    "trusted": true
   },
   "execution_count": 11,
   "outputs": [
    {
     "data": {
      "text/plain": "[<matplotlib.lines.Line2D at 0x26dc98036a0>]"
     },
     "execution_count": 11,
     "metadata": {},
     "output_type": "execute_result"
    },
    {
     "data": {
      "text/plain": "<Figure size 432x288 with 1 Axes>",
      "image/png": "[encoded data removed]"
     },
     "metadata": {
      "needs_background": "light"
     },
     "output_type": "display_data"
    }
   ]
  },
  {
   "cell_type": "code",
   "source": [
    "### LSTM are sensitive to the scale of the data. so we apply MinMax scaler\n",
    "from sklearn.preprocessing import MinMaxScaler\n",
    "scaler = MinMaxScaler(feature_range=(0,1))\n",
    "df1 = scaler.fit_transform(np.array(df1).reshape(-1,1))"
   ],
   "metadata": {
    "execution": {
     "iopub.status.busy": "2021-07-08T17:23:21.191635Z",
     "iopub.execute_input": "2021-07-08T17:23:21.191994Z",
     "iopub.status.idle": "2021-07-08T17:23:21.197561Z",
     "shell.execute_reply.started": "2021-07-08T17:23:21.191959Z",
     "shell.execute_reply": "2021-07-08T17:23:21.196733Z"
    },
    "trusted": true
   },
   "execution_count": 12,
   "outputs": []
  },
  {
   "cell_type": "code",
   "source": [
    "df1.shape"
   ],
   "metadata": {
    "execution": {
     "iopub.status.busy": "2021-07-08T17:23:21.199136Z",
     "iopub.execute_input": "2021-07-08T17:23:21.199674Z",
     "iopub.status.idle": "2021-07-08T17:23:21.208999Z",
     "shell.execute_reply.started": "2021-07-08T17:23:21.199638Z",
     "shell.execute_reply": "2021-07-08T17:23:21.208146Z"
    },
    "trusted": true
   },
   "execution_count": 13,
   "outputs": [
    {
     "data": {
      "text/plain": "(1258, 1)"
     },
     "execution_count": 13,
     "metadata": {},
     "output_type": "execute_result"
    }
   ]
  },
  {
   "cell_type": "code",
   "source": [
    "##splitting dataset into train and test split\n",
    "train_size = int(len(df1)*0.65)\n",
    "train_data,test_data = df1[0:train_size,:],df1[train_size:len(df1),:1]"
   ],
   "metadata": {
    "execution": {
     "iopub.status.busy": "2021-07-08T17:23:21.210171Z",
     "iopub.execute_input": "2021-07-08T17:23:21.210650Z",
     "iopub.status.idle": "2021-07-08T17:23:21.217669Z",
     "shell.execute_reply.started": "2021-07-08T17:23:21.210614Z",
     "shell.execute_reply": "2021-07-08T17:23:21.216989Z"
    },
    "trusted": true
   },
   "execution_count": 14,
   "outputs": []
  },
  {
   "cell_type": "code",
   "source": [
    "train_size, len(train_data), len(test_data)"
   ],
   "metadata": {
    "execution": {
     "iopub.status.busy": "2021-07-08T17:23:21.220494Z",
     "iopub.execute_input": "2021-07-08T17:23:21.220972Z",
     "iopub.status.idle": "2021-07-08T17:23:21.229323Z",
     "shell.execute_reply.started": "2021-07-08T17:23:21.220896Z",
     "shell.execute_reply": "2021-07-08T17:23:21.228525Z"
    },
    "trusted": true
   },
   "execution_count": 20,
   "outputs": [
    {
     "data": {
      "text/plain": "(817, 817, 441)"
     },
     "execution_count": 20,
     "metadata": {},
     "output_type": "execute_result"
    }
   ]
  },
  {
   "cell_type": "code",
   "source": [
    "#Data Preprocessing\n",
    "# convert an array of values into a dataset matrix\n",
    "\n",
    "def create_ds(dataset,time_steps):   #Time Steps is how many previous records considered to predict the current record\n",
    "    data_x,data_y = [],[]\n",
    "    for i in range(len(dataset)-time_steps-1):\n",
    "        a = dataset[i:(i+time_steps),0]\n",
    "        data_x.append(a)\n",
    "        b = dataset[i+time_steps,0]\n",
    "        data_y.append(b)\n",
    "    return np.array(data_x),np.array(data_y)\n",
    "    \n",
    "    "
   ],
   "metadata": {
    "execution": {
     "iopub.status.busy": "2021-07-08T17:23:21.231901Z",
     "iopub.execute_input": "2021-07-08T17:23:21.232248Z",
     "iopub.status.idle": "2021-07-08T17:23:21.238878Z",
     "shell.execute_reply.started": "2021-07-08T17:23:21.232214Z",
     "shell.execute_reply": "2021-07-08T17:23:21.237984Z"
    },
    "trusted": true
   },
   "execution_count": 16,
   "outputs": []
  },
  {
   "cell_type": "code",
   "source": [
    "time_step = 100\n",
    "X_train, y_train = create_ds(train_data, time_step)\n",
    "X_test, ytest = create_ds(test_data, time_step)"
   ],
   "metadata": {
    "execution": {
     "iopub.status.busy": "2021-07-08T17:23:21.240171Z",
     "iopub.execute_input": "2021-07-08T17:23:21.240571Z",
     "iopub.status.idle": "2021-07-08T17:23:21.249110Z",
     "shell.execute_reply.started": "2021-07-08T17:23:21.240536Z",
     "shell.execute_reply": "2021-07-08T17:23:21.248379Z"
    },
    "trusted": true
   },
   "execution_count": 25,
   "outputs": []
  },
  {
   "cell_type": "code",
   "source": [
    "print(X_train.shape), print(y_train.shape), print(X_test.shape), print(ytest.shape)"
   ],
   "metadata": {
    "execution": {
     "iopub.status.busy": "2021-07-08T17:23:21.250321Z",
     "iopub.execute_input": "2021-07-08T17:23:21.250841Z",
     "iopub.status.idle": "2021-07-08T17:23:21.262533Z",
     "shell.execute_reply.started": "2021-07-08T17:23:21.250804Z",
     "shell.execute_reply": "2021-07-08T17:23:21.261620Z"
    },
    "trusted": true
   },
   "execution_count": 26,
   "outputs": [
    {
     "name": "stdout",
     "output_type": "stream",
     "text": [
      "(716, 100)\n",
      "(716,)\n",
      "(340, 100)\n",
      "(340,)\n"
     ]
    },
    {
     "data": {
      "text/plain": "(None, None, None, None)"
     },
     "execution_count": 26,
     "metadata": {},
     "output_type": "execute_result"
    }
   ]
  },
  {
   "cell_type": "code",
   "source": [
    "print(X_test.shape), print(ytest.shape)"
   ],
   "metadata": {
    "execution": {
     "iopub.status.busy": "2021-07-08T17:23:21.266023Z",
     "iopub.execute_input": "2021-07-08T17:23:21.266282Z",
     "iopub.status.idle": "2021-07-08T17:23:21.274884Z",
     "shell.execute_reply.started": "2021-07-08T17:23:21.266252Z",
     "shell.execute_reply": "2021-07-08T17:23:21.273819Z"
    },
    "trusted": true
   },
   "execution_count": 27,
   "outputs": [
    {
     "name": "stdout",
     "output_type": "stream",
     "text": [
      "(340, 100)\n",
      "(340,)\n"
     ]
    },
    {
     "data": {
      "text/plain": "(None, None)"
     },
     "execution_count": 27,
     "metadata": {},
     "output_type": "execute_result"
    }
   ]
  },
  {
   "cell_type": "code",
   "source": [
    "#Before feeding into lstm we must convert dataset into 3d \n",
    "# reshape input to be [samples, time steps, features] which is required for LSTM\n",
    "X_train =X_train.reshape(X_train.shape[0],X_train.shape[1] , 1)\n",
    "X_test = X_test.reshape(X_test.shape[0],X_test.shape[1] , 1)"
   ],
   "metadata": {
    "execution": {
     "iopub.status.busy": "2021-07-08T17:23:21.277351Z",
     "iopub.execute_input": "2021-07-08T17:23:21.277713Z",
     "iopub.status.idle": "2021-07-08T17:23:21.284047Z",
     "shell.execute_reply.started": "2021-07-08T17:23:21.277677Z",
     "shell.execute_reply": "2021-07-08T17:23:21.283210Z"
    },
    "trusted": true
   },
   "execution_count": 54,
   "outputs": []
  },
  {
   "cell_type": "code",
   "source": [
    "#Model Creation \n",
    "from tensorflow.keras.models import Sequential\n",
    "from tensorflow.keras.layers import Dense\n",
    "from tensorflow.keras.layers import LSTM"
   ],
   "metadata": {
    "execution": {
     "iopub.status.busy": "2021-07-08T17:23:21.285022Z",
     "iopub.execute_input": "2021-07-08T17:23:21.285822Z",
     "iopub.status.idle": "2021-07-08T17:23:21.293415Z",
     "shell.execute_reply.started": "2021-07-08T17:23:21.285797Z",
     "shell.execute_reply": "2021-07-08T17:23:21.292602Z"
    },
    "trusted": true
   },
   "execution_count": 23,
   "outputs": []
  },
  {
   "cell_type": "code",
   "source": [
    "model=Sequential()\n",
    "model.add(LSTM(128,return_sequences=True,input_shape=(X_train.shape[1],1)))\n",
    "model.add(LSTM(64,return_sequences=False))\n",
    "model.add(Dense(25))\n",
    "model.add(Dense(1))\n",
    "\n",
    "model.compile(loss='mean_absolute_error',optimizer='adam')"
   ],
   "metadata": {
    "execution": {
     "iopub.status.busy": "2021-07-08T17:23:21.294342Z",
     "iopub.execute_input": "2021-07-08T17:23:21.294592Z",
     "iopub.status.idle": "2021-07-08T17:23:21.881941Z",
     "shell.execute_reply.started": "2021-07-08T17:23:21.294570Z",
     "shell.execute_reply": "2021-07-08T17:23:21.881018Z"
    },
    "trusted": true
   },
   "execution_count": 55,
   "outputs": []
  },
  {
   "cell_type": "code",
   "source": [
    "model.summary()\n"
   ],
   "metadata": {
    "execution": {
     "iopub.status.busy": "2021-07-08T17:23:21.883175Z",
     "iopub.execute_input": "2021-07-08T17:23:21.883691Z",
     "iopub.status.idle": "2021-07-08T17:23:21.891974Z",
     "shell.execute_reply.started": "2021-07-08T17:23:21.883646Z",
     "shell.execute_reply": "2021-07-08T17:23:21.891048Z"
    },
    "trusted": true
   },
   "execution_count": 56,
   "outputs": [
    {
     "name": "stdout",
     "output_type": "stream",
     "text": [
      "Model: \"sequential_1\"\n",
      "_________________________________________________________________\n",
      " Layer (type)                Output Shape              Param #   \n",
      "=================================================================\n",
      " lstm_3 (LSTM)               (None, 100, 128)          66560     \n",
      "                                                                 \n",
      " lstm_4 (LSTM)               (None, 64)                49408     \n",
      "                                                                 \n",
      " dense_1 (Dense)             (None, 25)                1625      \n",
      "                                                                 \n",
      " dense_2 (Dense)             (None, 1)                 26        \n",
      "                                                                 \n",
      "=================================================================\n",
      "Total params: 117,619\n",
      "Trainable params: 117,619\n",
      "Non-trainable params: 0\n",
      "_________________________________________________________________\n"
     ]
    }
   ]
  },
  {
   "cell_type": "code",
   "source": [
    "model.fit(X_train,y_train,validation_data=(X_test,ytest),epochs=100,batch_size=64,verbose=1)"
   ],
   "metadata": {
    "scrolled": true,
    "execution": {
     "iopub.status.busy": "2021-07-08T17:23:21.893122Z",
     "iopub.execute_input": "2021-07-08T17:23:21.893637Z",
     "iopub.status.idle": "2021-07-08T17:23:50.635314Z",
     "shell.execute_reply.started": "2021-07-08T17:23:21.893597Z",
     "shell.execute_reply": "2021-07-08T17:23:50.634499Z"
    },
    "trusted": true
   },
   "execution_count": 57,
   "outputs": [
    {
     "name": "stdout",
     "output_type": "stream",
     "text": [
      "Epoch 1/100\n",
      "12/12 [==============================] - 7s 274ms/step - loss: 0.0931 - val_loss: 0.2177\n",
      "Epoch 2/100\n",
      "12/12 [==============================] - 2s 183ms/step - loss: 0.0376 - val_loss: 0.0894\n",
      "Epoch 3/100\n",
      "12/12 [==============================] - 2s 196ms/step - loss: 0.0214 - val_loss: 0.0318\n",
      "Epoch 4/100\n",
      "12/12 [==============================] - 2s 193ms/step - loss: 0.0151 - val_loss: 0.0332\n",
      "Epoch 5/100\n",
      "12/12 [==============================] - 2s 192ms/step - loss: 0.0142 - val_loss: 0.0282\n",
      "Epoch 6/100\n",
      "12/12 [==============================] - 2s 207ms/step - loss: 0.0137 - val_loss: 0.0340\n",
      "Epoch 7/100\n",
      "12/12 [==============================] - 2s 186ms/step - loss: 0.0151 - val_loss: 0.0274\n",
      "Epoch 8/100\n",
      "12/12 [==============================] - 2s 186ms/step - loss: 0.0137 - val_loss: 0.0356\n",
      "Epoch 9/100\n",
      "12/12 [==============================] - 3s 216ms/step - loss: 0.0139 - val_loss: 0.0308\n",
      "Epoch 10/100\n",
      "12/12 [==============================] - 2s 195ms/step - loss: 0.0151 - val_loss: 0.0251\n",
      "Epoch 11/100\n",
      "12/12 [==============================] - 2s 189ms/step - loss: 0.0137 - val_loss: 0.0312\n",
      "Epoch 12/100\n",
      "12/12 [==============================] - 2s 190ms/step - loss: 0.0136 - val_loss: 0.0433\n",
      "Epoch 13/100\n",
      "12/12 [==============================] - 2s 186ms/step - loss: 0.0127 - val_loss: 0.0241\n",
      "Epoch 14/100\n",
      "12/12 [==============================] - 2s 196ms/step - loss: 0.0121 - val_loss: 0.0243\n",
      "Epoch 15/100\n",
      "12/12 [==============================] - 2s 187ms/step - loss: 0.0123 - val_loss: 0.0274\n",
      "Epoch 16/100\n",
      "12/12 [==============================] - 2s 190ms/step - loss: 0.0118 - val_loss: 0.0246\n",
      "Epoch 17/100\n",
      "12/12 [==============================] - 2s 201ms/step - loss: 0.0112 - val_loss: 0.0220\n",
      "Epoch 18/100\n",
      "12/12 [==============================] - 2s 188ms/step - loss: 0.0111 - val_loss: 0.0348\n",
      "Epoch 19/100\n",
      "12/12 [==============================] - 2s 191ms/step - loss: 0.0122 - val_loss: 0.0247\n",
      "Epoch 20/100\n",
      "12/12 [==============================] - 2s 195ms/step - loss: 0.0108 - val_loss: 0.0211\n",
      "Epoch 21/100\n",
      "12/12 [==============================] - 2s 184ms/step - loss: 0.0107 - val_loss: 0.0431\n",
      "Epoch 22/100\n",
      "12/12 [==============================] - 2s 196ms/step - loss: 0.0142 - val_loss: 0.0255\n",
      "Epoch 23/100\n",
      "12/12 [==============================] - 2s 199ms/step - loss: 0.0107 - val_loss: 0.0218\n",
      "Epoch 24/100\n",
      "12/12 [==============================] - 2s 195ms/step - loss: 0.0103 - val_loss: 0.0234\n",
      "Epoch 25/100\n",
      "12/12 [==============================] - 2s 182ms/step - loss: 0.0102 - val_loss: 0.0249\n",
      "Epoch 26/100\n",
      "12/12 [==============================] - 2s 201ms/step - loss: 0.0100 - val_loss: 0.0279\n",
      "Epoch 27/100\n",
      "12/12 [==============================] - 2s 209ms/step - loss: 0.0104 - val_loss: 0.0252\n",
      "Epoch 28/100\n",
      "12/12 [==============================] - 2s 187ms/step - loss: 0.0102 - val_loss: 0.0228\n",
      "Epoch 29/100\n",
      "12/12 [==============================] - 2s 195ms/step - loss: 0.0099 - val_loss: 0.0198\n",
      "Epoch 30/100\n",
      "12/12 [==============================] - 2s 188ms/step - loss: 0.0098 - val_loss: 0.0192\n",
      "Epoch 31/100\n",
      "12/12 [==============================] - 2s 194ms/step - loss: 0.0097 - val_loss: 0.0329\n",
      "Epoch 32/100\n",
      "12/12 [==============================] - 2s 193ms/step - loss: 0.0095 - val_loss: 0.0230\n",
      "Epoch 33/100\n",
      "12/12 [==============================] - 2s 184ms/step - loss: 0.0089 - val_loss: 0.0283\n",
      "Epoch 34/100\n",
      "12/12 [==============================] - 2s 199ms/step - loss: 0.0089 - val_loss: 0.0261\n",
      "Epoch 35/100\n",
      "12/12 [==============================] - 2s 199ms/step - loss: 0.0089 - val_loss: 0.0189\n",
      "Epoch 36/100\n",
      "12/12 [==============================] - 3s 216ms/step - loss: 0.0089 - val_loss: 0.0194\n",
      "Epoch 37/100\n",
      "12/12 [==============================] - 2s 201ms/step - loss: 0.0088 - val_loss: 0.0290\n",
      "Epoch 38/100\n",
      "12/12 [==============================] - 2s 200ms/step - loss: 0.0086 - val_loss: 0.0188\n",
      "Epoch 39/100\n",
      "12/12 [==============================] - 2s 188ms/step - loss: 0.0091 - val_loss: 0.0225\n",
      "Epoch 40/100\n",
      "12/12 [==============================] - 2s 200ms/step - loss: 0.0099 - val_loss: 0.0242\n",
      "Epoch 41/100\n",
      "12/12 [==============================] - 2s 200ms/step - loss: 0.0097 - val_loss: 0.0183\n",
      "Epoch 42/100\n",
      "12/12 [==============================] - 3s 221ms/step - loss: 0.0079 - val_loss: 0.0282\n",
      "Epoch 43/100\n",
      "12/12 [==============================] - 3s 228ms/step - loss: 0.0094 - val_loss: 0.0244\n",
      "Epoch 44/100\n",
      "12/12 [==============================] - 2s 202ms/step - loss: 0.0081 - val_loss: 0.0190\n",
      "Epoch 45/100\n",
      "12/12 [==============================] - 2s 199ms/step - loss: 0.0094 - val_loss: 0.0327\n",
      "Epoch 46/100\n",
      "12/12 [==============================] - 2s 198ms/step - loss: 0.0113 - val_loss: 0.0181\n",
      "Epoch 47/100\n",
      "12/12 [==============================] - 2s 197ms/step - loss: 0.0099 - val_loss: 0.0174\n",
      "Epoch 48/100\n",
      "12/12 [==============================] - 2s 199ms/step - loss: 0.0086 - val_loss: 0.0174\n",
      "Epoch 49/100\n",
      "12/12 [==============================] - 2s 193ms/step - loss: 0.0082 - val_loss: 0.0173\n",
      "Epoch 50/100\n",
      "12/12 [==============================] - 2s 205ms/step - loss: 0.0078 - val_loss: 0.0176\n",
      "Epoch 51/100\n",
      "12/12 [==============================] - 2s 204ms/step - loss: 0.0074 - val_loss: 0.0218\n",
      "Epoch 52/100\n",
      "12/12 [==============================] - 3s 235ms/step - loss: 0.0075 - val_loss: 0.0170\n",
      "Epoch 53/100\n",
      "12/12 [==============================] - 2s 207ms/step - loss: 0.0076 - val_loss: 0.0171\n",
      "Epoch 54/100\n",
      "12/12 [==============================] - 3s 220ms/step - loss: 0.0075 - val_loss: 0.0279\n",
      "Epoch 55/100\n",
      "12/12 [==============================] - 3s 213ms/step - loss: 0.0080 - val_loss: 0.0222\n",
      "Epoch 56/100\n",
      "12/12 [==============================] - 2s 203ms/step - loss: 0.0075 - val_loss: 0.0179\n",
      "Epoch 57/100\n",
      "12/12 [==============================] - 3s 217ms/step - loss: 0.0086 - val_loss: 0.0198\n",
      "Epoch 58/100\n",
      "12/12 [==============================] - 3s 215ms/step - loss: 0.0078 - val_loss: 0.0173\n",
      "Epoch 59/100\n",
      "12/12 [==============================] - 3s 213ms/step - loss: 0.0081 - val_loss: 0.0161\n",
      "Epoch 60/100\n",
      "12/12 [==============================] - 3s 213ms/step - loss: 0.0082 - val_loss: 0.0176\n",
      "Epoch 61/100\n",
      "12/12 [==============================] - 2s 206ms/step - loss: 0.0079 - val_loss: 0.0183\n",
      "Epoch 62/100\n",
      "12/12 [==============================] - 3s 215ms/step - loss: 0.0069 - val_loss: 0.0166\n",
      "Epoch 63/100\n",
      "12/12 [==============================] - 3s 214ms/step - loss: 0.0070 - val_loss: 0.0177\n",
      "Epoch 64/100\n",
      "12/12 [==============================] - 2s 197ms/step - loss: 0.0070 - val_loss: 0.0173\n",
      "Epoch 65/100\n",
      "12/12 [==============================] - 2s 189ms/step - loss: 0.0076 - val_loss: 0.0171\n",
      "Epoch 66/100\n",
      "12/12 [==============================] - 2s 190ms/step - loss: 0.0070 - val_loss: 0.0163\n",
      "Epoch 67/100\n",
      "12/12 [==============================] - 2s 198ms/step - loss: 0.0070 - val_loss: 0.0157\n",
      "Epoch 68/100\n",
      "12/12 [==============================] - 2s 204ms/step - loss: 0.0075 - val_loss: 0.0155\n",
      "Epoch 69/100\n",
      "12/12 [==============================] - 2s 188ms/step - loss: 0.0067 - val_loss: 0.0272\n",
      "Epoch 70/100\n",
      "12/12 [==============================] - 2s 183ms/step - loss: 0.0084 - val_loss: 0.0310\n",
      "Epoch 71/100\n",
      "12/12 [==============================] - 2s 183ms/step - loss: 0.0080 - val_loss: 0.0192\n",
      "Epoch 72/100\n",
      "12/12 [==============================] - 2s 183ms/step - loss: 0.0067 - val_loss: 0.0172\n",
      "Epoch 73/100\n",
      "12/12 [==============================] - 2s 183ms/step - loss: 0.0072 - val_loss: 0.0237\n",
      "Epoch 74/100\n",
      "12/12 [==============================] - 2s 181ms/step - loss: 0.0079 - val_loss: 0.0181\n",
      "Epoch 75/100\n",
      "12/12 [==============================] - 2s 182ms/step - loss: 0.0072 - val_loss: 0.0175\n",
      "Epoch 76/100\n",
      "12/12 [==============================] - 2s 195ms/step - loss: 0.0065 - val_loss: 0.0170\n",
      "Epoch 77/100\n",
      "12/12 [==============================] - 2s 185ms/step - loss: 0.0065 - val_loss: 0.0196\n",
      "Epoch 78/100\n",
      "12/12 [==============================] - 2s 180ms/step - loss: 0.0067 - val_loss: 0.0165\n",
      "Epoch 79/100\n",
      "12/12 [==============================] - 2s 181ms/step - loss: 0.0079 - val_loss: 0.0159\n",
      "Epoch 80/100\n",
      "12/12 [==============================] - 2s 176ms/step - loss: 0.0062 - val_loss: 0.0202\n",
      "Epoch 81/100\n",
      "12/12 [==============================] - 2s 183ms/step - loss: 0.0080 - val_loss: 0.0166\n",
      "Epoch 82/100\n",
      "12/12 [==============================] - 2s 177ms/step - loss: 0.0060 - val_loss: 0.0184\n",
      "Epoch 83/100\n",
      "12/12 [==============================] - 2s 180ms/step - loss: 0.0068 - val_loss: 0.0161\n",
      "Epoch 84/100\n",
      "12/12 [==============================] - 2s 204ms/step - loss: 0.0072 - val_loss: 0.0173\n",
      "Epoch 85/100\n",
      "12/12 [==============================] - 3s 215ms/step - loss: 0.0067 - val_loss: 0.0164\n",
      "Epoch 86/100\n",
      "12/12 [==============================] - 2s 200ms/step - loss: 0.0061 - val_loss: 0.0167\n",
      "Epoch 87/100\n",
      "12/12 [==============================] - 2s 190ms/step - loss: 0.0064 - val_loss: 0.0170\n",
      "Epoch 88/100\n",
      "12/12 [==============================] - 2s 189ms/step - loss: 0.0062 - val_loss: 0.0166\n",
      "Epoch 89/100\n",
      "12/12 [==============================] - 2s 184ms/step - loss: 0.0067 - val_loss: 0.0170\n",
      "Epoch 90/100\n",
      "12/12 [==============================] - 2s 178ms/step - loss: 0.0071 - val_loss: 0.0255\n",
      "Epoch 91/100\n",
      "12/12 [==============================] - 2s 175ms/step - loss: 0.0087 - val_loss: 0.0339\n",
      "Epoch 92/100\n",
      "12/12 [==============================] - 2s 175ms/step - loss: 0.0078 - val_loss: 0.0220\n",
      "Epoch 93/100\n",
      "12/12 [==============================] - 2s 176ms/step - loss: 0.0067 - val_loss: 0.0174\n",
      "Epoch 94/100\n",
      "12/12 [==============================] - 2s 176ms/step - loss: 0.0059 - val_loss: 0.0172\n",
      "Epoch 95/100\n",
      "12/12 [==============================] - 2s 176ms/step - loss: 0.0063 - val_loss: 0.0223\n",
      "Epoch 96/100\n",
      "12/12 [==============================] - 2s 177ms/step - loss: 0.0060 - val_loss: 0.0211\n",
      "Epoch 97/100\n",
      "12/12 [==============================] - 2s 173ms/step - loss: 0.0059 - val_loss: 0.0189\n",
      "Epoch 98/100\n",
      "12/12 [==============================] - 2s 174ms/step - loss: 0.0059 - val_loss: 0.0184\n",
      "Epoch 99/100\n",
      "12/12 [==============================] - 2s 175ms/step - loss: 0.0063 - val_loss: 0.0187\n",
      "Epoch 100/100\n",
      "12/12 [==============================] - 2s 174ms/step - loss: 0.0064 - val_loss: 0.0182\n"
     ]
    },
    {
     "data": {
      "text/plain": "<keras.callbacks.History at 0x26ddbe794f0>"
     },
     "execution_count": 57,
     "metadata": {},
     "output_type": "execute_result"
    }
   ]
  },
  {
   "cell_type": "code",
   "source": [
    "train_predict=model.predict(X_train)\n",
    "test_predict=model.predict(X_test)"
   ],
   "metadata": {
    "execution": {
     "iopub.status.busy": "2021-07-08T17:23:50.636677Z",
     "iopub.execute_input": "2021-07-08T17:23:50.637034Z",
     "iopub.status.idle": "2021-07-08T17:23:51.974712Z",
     "shell.execute_reply.started": "2021-07-08T17:23:50.636994Z",
     "shell.execute_reply": "2021-07-08T17:23:51.973902Z"
    },
    "trusted": true
   },
   "execution_count": 58,
   "outputs": []
  },
  {
   "cell_type": "code",
   "execution_count": 59,
   "outputs": [
    {
     "data": {
      "text/plain": "(716, 340)"
     },
     "execution_count": 59,
     "metadata": {},
     "output_type": "execute_result"
    }
   ],
   "source": [
    "len(train_predict), len(test_predict)"
   ],
   "metadata": {
    "collapsed": false,
    "pycharm": {
     "name": "#%%\n"
    }
   }
  },
  {
   "cell_type": "code",
   "source": [
    "# We have scaled it, so we need to reverse scale it to find the o/p\n",
    "train_predict=scaler.inverse_transform(train_predict)\n",
    "test_predict=scaler.inverse_transform(test_predict)"
   ],
   "metadata": {
    "execution": {
     "iopub.status.busy": "2021-07-08T17:23:51.976139Z",
     "iopub.execute_input": "2021-07-08T17:23:51.976465Z",
     "iopub.status.idle": "2021-07-08T17:23:51.980962Z",
     "shell.execute_reply.started": "2021-07-08T17:23:51.976431Z",
     "shell.execute_reply": "2021-07-08T17:23:51.980153Z"
    },
    "trusted": true
   },
   "execution_count": 60,
   "outputs": []
  },
  {
   "cell_type": "code",
   "source": [
    "#rmse\n",
    "import math\n",
    "from sklearn.metrics import mean_squared_error\n",
    "math.sqrt(mean_squared_error(y_train,train_predict))"
   ],
   "metadata": {
    "execution": {
     "iopub.status.busy": "2021-07-08T17:23:51.982341Z",
     "iopub.execute_input": "2021-07-08T17:23:51.982885Z",
     "iopub.status.idle": "2021-07-08T17:23:51.993863Z",
     "shell.execute_reply.started": "2021-07-08T17:23:51.982849Z",
     "shell.execute_reply": "2021-07-08T17:23:51.992940Z"
    },
    "trusted": true
   },
   "execution_count": 62,
   "outputs": [
    {
     "data": {
      "text/plain": "143.34219649680895"
     },
     "execution_count": 62,
     "metadata": {},
     "output_type": "execute_result"
    }
   ]
  },
  {
   "cell_type": "code",
   "source": [
    "math.sqrt(mean_squared_error(ytest,test_predict))"
   ],
   "metadata": {
    "execution": {
     "iopub.status.busy": "2021-07-08T17:23:51.995230Z",
     "iopub.execute_input": "2021-07-08T17:23:51.995622Z",
     "iopub.status.idle": "2021-07-08T17:23:52.003756Z",
     "shell.execute_reply.started": "2021-07-08T17:23:51.995586Z",
     "shell.execute_reply": "2021-07-08T17:23:52.002809Z"
    },
    "trusted": true
   },
   "execution_count": 63,
   "outputs": [
    {
     "data": {
      "text/plain": "239.38712614341065"
     },
     "execution_count": 63,
     "metadata": {},
     "output_type": "execute_result"
    }
   ]
  },
  {
   "cell_type": "code",
   "execution_count": 65,
   "outputs": [
    {
     "data": {
      "text/plain": "239.42750226105866"
     },
     "execution_count": 65,
     "metadata": {},
     "output_type": "execute_result"
    }
   ],
   "source": [
    "rmse = np.sqrt(np.mean(((test_predict - ytest) ** 2)))\n",
    "rmse"
   ],
   "metadata": {
    "collapsed": false,
    "pycharm": {
     "name": "#%%\n"
    }
   }
  },
  {
   "cell_type": "code",
   "source": [
    "plt.plot(scaler.inverse_transform(df1))\n",
    "look_back=100\n",
    "trainPredictPlot = np.empty_like(df1)\n",
    "trainPredictPlot[:, :] = np.nan\n",
    "trainPredictPlot[look_back:len(train_predict)+look_back, :] = train_predict\n",
    "plt.plot(trainPredictPlot)\n",
    "testPredictPlot = np.empty_like(df1)\n",
    "testPredictPlot[:, :] = np.nan\n",
    "testPredictPlot[len(train_predict)+(look_back*2)+1:len(df1)-1, :] = test_predict\n",
    "plt.plot(testPredictPlot)"
   ],
   "metadata": {
    "execution": {
     "iopub.status.busy": "2021-07-08T17:23:52.005226Z",
     "iopub.execute_input": "2021-07-08T17:23:52.005833Z",
     "iopub.status.idle": "2021-07-08T17:23:52.155660Z",
     "shell.execute_reply.started": "2021-07-08T17:23:52.005729Z",
     "shell.execute_reply": "2021-07-08T17:23:52.154917Z"
    },
    "trusted": true
   },
   "execution_count": 66,
   "outputs": [
    {
     "data": {
      "text/plain": "[<matplotlib.lines.Line2D at 0x26de492e580>]"
     },
     "execution_count": 66,
     "metadata": {},
     "output_type": "execute_result"
    },
    {
     "data": {
      "text/plain": "<Figure size 432x288 with 1 Axes>",
      "image/png": "[encoded data removed]"
     },
     "metadata": {
      "needs_background": "light"
     },
     "output_type": "display_data"
    }
   ]
  },
  {
   "cell_type": "code",
   "source": [
    "#predicting future 30 days\n",
    "#For predicting next day after last test data, we need to take previous 100 values(timestep)\n",
    "x_input=test_data[341:].reshape(1,-1)\n",
    "x_input.shape"
   ],
   "metadata": {
    "execution": {
     "iopub.status.busy": "2021-07-08T17:23:52.156948Z",
     "iopub.execute_input": "2021-07-08T17:23:52.157276Z",
     "iopub.status.idle": "2021-07-08T17:23:52.163459Z",
     "shell.execute_reply.started": "2021-07-08T17:23:52.157243Z",
     "shell.execute_reply": "2021-07-08T17:23:52.162441Z"
    },
    "trusted": true
   },
   "execution_count": 67,
   "outputs": [
    {
     "data": {
      "text/plain": "(1, 100)"
     },
     "execution_count": 67,
     "metadata": {},
     "output_type": "execute_result"
    }
   ]
  },
  {
   "cell_type": "code",
   "source": [
    "x_input"
   ],
   "metadata": {
    "execution": {
     "iopub.status.busy": "2021-07-08T17:23:52.164703Z",
     "iopub.execute_input": "2021-07-08T17:23:52.165253Z",
     "iopub.status.idle": "2021-07-08T17:23:52.178640Z",
     "shell.execute_reply.started": "2021-07-08T17:23:52.165217Z",
     "shell.execute_reply": "2021-07-08T17:23:52.177631Z"
    },
    "trusted": true
   },
   "execution_count": 39,
   "outputs": [
    {
     "data": {
      "text/plain": "array([[0.85835515, 0.8866419 , 0.87431394, 0.88431985, 0.87836697,\n        0.8986321 , 0.92582116, 0.92877649, 0.95676771, 0.93869797,\n        0.93304061, 0.94950604, 0.96424048, 0.95512117, 0.95989192,\n        0.96635143, 0.96246728, 0.92295027, 0.9598497 , 0.98792536,\n        0.98594106, 0.92531453, 0.92172591, 0.96474711, 0.97572406,\n        0.99159841, 0.96972895, 0.97614625, 0.96795575, 1.        ,\n        0.99016297, 0.99050072, 0.96538039, 0.98488559, 0.97086887,\n        0.94026007, 0.87748037, 0.83483915, 0.85413324, 0.77336823,\n        0.77269273, 0.88014017, 0.84007431, 0.89673225, 0.85527316,\n        0.83884995, 0.74233725, 0.82327113, 0.78143207, 0.6665963 ,\n        0.7921557 , 0.64118044, 0.68614371, 0.66001013, 0.65203074,\n        0.58642236, 0.56586169, 0.66089673, 0.65515494, 0.70970193,\n        0.66452757, 0.69437642, 0.69218104, 0.63569197, 0.65266402,\n        0.63780292, 0.7267162 , 0.71388162, 0.74191506, 0.75002111,\n        0.77222832, 0.83049059, 0.8194292 , 0.8289707 , 0.8125475 ,\n        0.78776492, 0.75162543, 0.78426074, 0.77974331, 0.81326522,\n        0.8141096 , 0.79473106, 0.83336148, 0.85898843, 0.83901883,\n        0.85628641, 0.87486279, 0.88782403, 0.90095415, 0.92793211,\n        0.948535  , 0.93333615, 0.91746179, 0.92544119, 0.91771511,\n        0.9483239 , 0.94064004, 0.96635143, 0.9563033 , 0.96491598]])"
     },
     "execution_count": 39,
     "metadata": {},
     "output_type": "execute_result"
    }
   ]
  },
  {
   "cell_type": "code",
   "source": [
    "temp_input=list(x_input)\n",
    "temp_input=temp_input[0].tolist()"
   ],
   "metadata": {
    "execution": {
     "iopub.status.busy": "2021-07-08T17:23:52.179878Z",
     "iopub.execute_input": "2021-07-08T17:23:52.180231Z",
     "iopub.status.idle": "2021-07-08T17:23:52.187159Z",
     "shell.execute_reply.started": "2021-07-08T17:23:52.180196Z",
     "shell.execute_reply": "2021-07-08T17:23:52.186345Z"
    },
    "trusted": true
   },
   "execution_count": 68,
   "outputs": []
  },
  {
   "cell_type": "code",
   "source": [
    "temp_input"
   ],
   "metadata": {
    "execution": {
     "iopub.status.busy": "2021-07-08T17:23:52.188330Z",
     "iopub.execute_input": "2021-07-08T17:23:52.188783Z",
     "iopub.status.idle": "2021-07-08T17:23:52.201971Z",
     "shell.execute_reply.started": "2021-07-08T17:23:52.188733Z",
     "shell.execute_reply": "2021-07-08T17:23:52.200932Z"
    },
    "trusted": true
   },
   "execution_count": 41,
   "outputs": [
    {
     "data": {
      "text/plain": "[0.8583551465000423,\n 0.8866418981676942,\n 0.8743139407244789,\n 0.8843198513890065,\n 0.8783669678290975,\n 0.8986321033521913,\n 0.925821160179009,\n 0.9287764924427933,\n 0.9567677108840666,\n 0.9386979650426415,\n 0.933040614709111,\n 0.9495060373216249,\n 0.9642404796082076,\n 0.9551211686228154,\n 0.9598919192772104,\n 0.9663514312251966,\n 0.9624672802499368,\n 0.9229502659799038,\n 0.9598497002448705,\n 0.9879253567508233,\n 0.985941062230854,\n 0.9253145317909315,\n 0.9217259140420504,\n 0.964747107996285,\n 0.9757240564046274,\n 0.9915984125643842,\n 0.9697289538123788,\n 0.9761462467280253,\n 0.9679557544541082,\n 1.0000000000000002,\n 0.9901629654648318,\n 0.9905007177235499,\n 0.9653803934813816,\n 0.9848855864223593,\n 0.9708688676855528,\n 0.9402600692392133,\n 0.8774803681499621,\n 0.8348391454867856,\n 0.8541332432660644,\n 0.7733682344000676,\n 0.7726927298826314,\n 0.8801401671873683,\n 0.8400743054969182,\n 0.8967322468969012,\n 0.8552731571392387,\n 0.8388499535590646,\n 0.7423372456303303,\n 0.8232711306256861,\n 0.7814320695769654,\n 0.6665963016127672,\n 0.7921557037912694,\n 0.6411804441442204,\n 0.6861437135860848,\n 0.6600101325677616,\n 0.6520307354555435,\n 0.5864223591995272,\n 0.5658616904500551,\n 0.660896732246897,\n 0.6551549438486872,\n 0.7097019336316812,\n 0.664527569028118,\n 0.6943764248923416,\n 0.692181035210673,\n 0.6356919699400492,\n 0.6526640209406402,\n 0.637802921557038,\n 0.7267162036646122,\n 0.7138816178333194,\n 0.7419150553069325,\n 0.7500211095161702,\n 0.7722283205268936,\n 0.8304905851557884,\n 0.8194291986827664,\n 0.8289706999915563,\n 0.8125474964113824,\n 0.7877649244279323,\n 0.7516254327450818,\n 0.7842607447437306,\n 0.7797433082833742,\n 0.8132652199611587,\n 0.8141096006079542,\n 0.7947310647639958,\n 0.8333614793548934,\n 0.8589884319851391,\n 0.8390188296884238,\n 0.8562864139153934,\n 0.8748627881448958,\n 0.887824031073208,\n 0.9009541501308793,\n 0.9279321117959978,\n 0.9485349995778098,\n 0.9333361479354896,\n 0.9174617917757326,\n 0.925441188887951,\n 0.9177151059697712,\n 0.9483239044161109,\n 0.9406400405302711,\n 0.9663514312251966,\n 0.9563033015283293,\n 0.964915984125644]"
     },
     "execution_count": 41,
     "metadata": {},
     "output_type": "execute_result"
    }
   ]
  },
  {
   "cell_type": "code",
   "source": [
    "from numpy import array\n",
    "\n",
    "lst_output=[]\n",
    "n_steps=100\n",
    "i=0\n",
    "while(i<10):\n",
    "    \n",
    "    if(len(temp_input)>100):\n",
    "        #print(temp_input)\n",
    "        x_input=np.array(temp_input[1:])\n",
    "        print(\"{} day input {}\".format(i,x_input))\n",
    "        x_input=x_input.reshape(1,-1)\n",
    "        x_input = x_input.reshape((1, n_steps, 1))\n",
    "        #print(x_input)\n",
    "        yhat = model.predict(x_input, verbose=0)\n",
    "        print(\"{} day output {}\".format(i,yhat))\n",
    "        temp_input.extend(yhat[0].tolist())\n",
    "        temp_input=temp_input[1:]\n",
    "        #print(temp_input)\n",
    "        lst_output.extend(yhat.tolist())\n",
    "        i=i+1\n",
    "    else:\n",
    "        x_input = x_input.reshape((1, n_steps,1))\n",
    "        yhat = model.predict(x_input, verbose=0)\n",
    "        print(yhat[0])\n",
    "        temp_input.extend(yhat[0].tolist())\n",
    "        print(len(temp_input))\n",
    "        lst_output.extend(yhat.tolist())\n",
    "        i=i+1\n",
    "    "
   ],
   "metadata": {
    "scrolled": true,
    "execution": {
     "iopub.status.busy": "2021-07-08T17:23:52.203263Z",
     "iopub.execute_input": "2021-07-08T17:23:52.203654Z",
     "iopub.status.idle": "2021-07-08T17:23:53.282726Z",
     "shell.execute_reply.started": "2021-07-08T17:23:52.203622Z",
     "shell.execute_reply": "2021-07-08T17:23:53.281873Z"
    },
    "trusted": true
   },
   "execution_count": 69,
   "outputs": [
    {
     "name": "stdout",
     "output_type": "stream",
     "text": [
      "[0.96772474]\n",
      "101\n",
      "1 day input [0.8866419  0.87431394 0.88431985 0.87836697 0.8986321  0.92582116\n",
      " 0.92877649 0.95676771 0.93869797 0.93304061 0.94950604 0.96424048\n",
      " 0.95512117 0.95989192 0.96635143 0.96246728 0.92295027 0.9598497\n",
      " 0.98792536 0.98594106 0.92531453 0.92172591 0.96474711 0.97572406\n",
      " 0.99159841 0.96972895 0.97614625 0.96795575 1.         0.99016297\n",
      " 0.99050072 0.96538039 0.98488559 0.97086887 0.94026007 0.87748037\n",
      " 0.83483915 0.85413324 0.77336823 0.77269273 0.88014017 0.84007431\n",
      " 0.89673225 0.85527316 0.83884995 0.74233725 0.82327113 0.78143207\n",
      " 0.6665963  0.7921557  0.64118044 0.68614371 0.66001013 0.65203074\n",
      " 0.58642236 0.56586169 0.66089673 0.65515494 0.70970193 0.66452757\n",
      " 0.69437642 0.69218104 0.63569197 0.65266402 0.63780292 0.7267162\n",
      " 0.71388162 0.74191506 0.75002111 0.77222832 0.83049059 0.8194292\n",
      " 0.8289707  0.8125475  0.78776492 0.75162543 0.78426074 0.77974331\n",
      " 0.81326522 0.8141096  0.79473106 0.83336148 0.85898843 0.83901883\n",
      " 0.85628641 0.87486279 0.88782403 0.90095415 0.92793211 0.948535\n",
      " 0.93333615 0.91746179 0.92544119 0.91771511 0.9483239  0.94064004\n",
      " 0.96635143 0.9563033  0.96491598 0.96772474]\n",
      "1 day output [[0.9659219]]\n",
      "2 day input [0.87431394 0.88431985 0.87836697 0.8986321  0.92582116 0.92877649\n",
      " 0.95676771 0.93869797 0.93304061 0.94950604 0.96424048 0.95512117\n",
      " 0.95989192 0.96635143 0.96246728 0.92295027 0.9598497  0.98792536\n",
      " 0.98594106 0.92531453 0.92172591 0.96474711 0.97572406 0.99159841\n",
      " 0.96972895 0.97614625 0.96795575 1.         0.99016297 0.99050072\n",
      " 0.96538039 0.98488559 0.97086887 0.94026007 0.87748037 0.83483915\n",
      " 0.85413324 0.77336823 0.77269273 0.88014017 0.84007431 0.89673225\n",
      " 0.85527316 0.83884995 0.74233725 0.82327113 0.78143207 0.6665963\n",
      " 0.7921557  0.64118044 0.68614371 0.66001013 0.65203074 0.58642236\n",
      " 0.56586169 0.66089673 0.65515494 0.70970193 0.66452757 0.69437642\n",
      " 0.69218104 0.63569197 0.65266402 0.63780292 0.7267162  0.71388162\n",
      " 0.74191506 0.75002111 0.77222832 0.83049059 0.8194292  0.8289707\n",
      " 0.8125475  0.78776492 0.75162543 0.78426074 0.77974331 0.81326522\n",
      " 0.8141096  0.79473106 0.83336148 0.85898843 0.83901883 0.85628641\n",
      " 0.87486279 0.88782403 0.90095415 0.92793211 0.948535   0.93333615\n",
      " 0.91746179 0.92544119 0.91771511 0.9483239  0.94064004 0.96635143\n",
      " 0.9563033  0.96491598 0.96772474 0.96592188]\n",
      "2 day output [[0.9633176]]\n",
      "3 day input [0.88431985 0.87836697 0.8986321  0.92582116 0.92877649 0.95676771\n",
      " 0.93869797 0.93304061 0.94950604 0.96424048 0.95512117 0.95989192\n",
      " 0.96635143 0.96246728 0.92295027 0.9598497  0.98792536 0.98594106\n",
      " 0.92531453 0.92172591 0.96474711 0.97572406 0.99159841 0.96972895\n",
      " 0.97614625 0.96795575 1.         0.99016297 0.99050072 0.96538039\n",
      " 0.98488559 0.97086887 0.94026007 0.87748037 0.83483915 0.85413324\n",
      " 0.77336823 0.77269273 0.88014017 0.84007431 0.89673225 0.85527316\n",
      " 0.83884995 0.74233725 0.82327113 0.78143207 0.6665963  0.7921557\n",
      " 0.64118044 0.68614371 0.66001013 0.65203074 0.58642236 0.56586169\n",
      " 0.66089673 0.65515494 0.70970193 0.66452757 0.69437642 0.69218104\n",
      " 0.63569197 0.65266402 0.63780292 0.7267162  0.71388162 0.74191506\n",
      " 0.75002111 0.77222832 0.83049059 0.8194292  0.8289707  0.8125475\n",
      " 0.78776492 0.75162543 0.78426074 0.77974331 0.81326522 0.8141096\n",
      " 0.79473106 0.83336148 0.85898843 0.83901883 0.85628641 0.87486279\n",
      " 0.88782403 0.90095415 0.92793211 0.948535   0.93333615 0.91746179\n",
      " 0.92544119 0.91771511 0.9483239  0.94064004 0.96635143 0.9563033\n",
      " 0.96491598 0.96772474 0.96592188 0.96331757]\n",
      "3 day output [[0.96154124]]\n",
      "4 day input [0.87836697 0.8986321  0.92582116 0.92877649 0.95676771 0.93869797\n",
      " 0.93304061 0.94950604 0.96424048 0.95512117 0.95989192 0.96635143\n",
      " 0.96246728 0.92295027 0.9598497  0.98792536 0.98594106 0.92531453\n",
      " 0.92172591 0.96474711 0.97572406 0.99159841 0.96972895 0.97614625\n",
      " 0.96795575 1.         0.99016297 0.99050072 0.96538039 0.98488559\n",
      " 0.97086887 0.94026007 0.87748037 0.83483915 0.85413324 0.77336823\n",
      " 0.77269273 0.88014017 0.84007431 0.89673225 0.85527316 0.83884995\n",
      " 0.74233725 0.82327113 0.78143207 0.6665963  0.7921557  0.64118044\n",
      " 0.68614371 0.66001013 0.65203074 0.58642236 0.56586169 0.66089673\n",
      " 0.65515494 0.70970193 0.66452757 0.69437642 0.69218104 0.63569197\n",
      " 0.65266402 0.63780292 0.7267162  0.71388162 0.74191506 0.75002111\n",
      " 0.77222832 0.83049059 0.8194292  0.8289707  0.8125475  0.78776492\n",
      " 0.75162543 0.78426074 0.77974331 0.81326522 0.8141096  0.79473106\n",
      " 0.83336148 0.85898843 0.83901883 0.85628641 0.87486279 0.88782403\n",
      " 0.90095415 0.92793211 0.948535   0.93333615 0.91746179 0.92544119\n",
      " 0.91771511 0.9483239  0.94064004 0.96635143 0.9563033  0.96491598\n",
      " 0.96772474 0.96592188 0.96331757 0.96154124]\n",
      "4 day output [[0.9610862]]\n",
      "5 day input [0.8986321  0.92582116 0.92877649 0.95676771 0.93869797 0.93304061\n",
      " 0.94950604 0.96424048 0.95512117 0.95989192 0.96635143 0.96246728\n",
      " 0.92295027 0.9598497  0.98792536 0.98594106 0.92531453 0.92172591\n",
      " 0.96474711 0.97572406 0.99159841 0.96972895 0.97614625 0.96795575\n",
      " 1.         0.99016297 0.99050072 0.96538039 0.98488559 0.97086887\n",
      " 0.94026007 0.87748037 0.83483915 0.85413324 0.77336823 0.77269273\n",
      " 0.88014017 0.84007431 0.89673225 0.85527316 0.83884995 0.74233725\n",
      " 0.82327113 0.78143207 0.6665963  0.7921557  0.64118044 0.68614371\n",
      " 0.66001013 0.65203074 0.58642236 0.56586169 0.66089673 0.65515494\n",
      " 0.70970193 0.66452757 0.69437642 0.69218104 0.63569197 0.65266402\n",
      " 0.63780292 0.7267162  0.71388162 0.74191506 0.75002111 0.77222832\n",
      " 0.83049059 0.8194292  0.8289707  0.8125475  0.78776492 0.75162543\n",
      " 0.78426074 0.77974331 0.81326522 0.8141096  0.79473106 0.83336148\n",
      " 0.85898843 0.83901883 0.85628641 0.87486279 0.88782403 0.90095415\n",
      " 0.92793211 0.948535   0.93333615 0.91746179 0.92544119 0.91771511\n",
      " 0.9483239  0.94064004 0.96635143 0.9563033  0.96491598 0.96772474\n",
      " 0.96592188 0.96331757 0.96154124 0.96108621]\n",
      "5 day output [[0.9618133]]\n",
      "6 day input [0.92582116 0.92877649 0.95676771 0.93869797 0.93304061 0.94950604\n",
      " 0.96424048 0.95512117 0.95989192 0.96635143 0.96246728 0.92295027\n",
      " 0.9598497  0.98792536 0.98594106 0.92531453 0.92172591 0.96474711\n",
      " 0.97572406 0.99159841 0.96972895 0.97614625 0.96795575 1.\n",
      " 0.99016297 0.99050072 0.96538039 0.98488559 0.97086887 0.94026007\n",
      " 0.87748037 0.83483915 0.85413324 0.77336823 0.77269273 0.88014017\n",
      " 0.84007431 0.89673225 0.85527316 0.83884995 0.74233725 0.82327113\n",
      " 0.78143207 0.6665963  0.7921557  0.64118044 0.68614371 0.66001013\n",
      " 0.65203074 0.58642236 0.56586169 0.66089673 0.65515494 0.70970193\n",
      " 0.66452757 0.69437642 0.69218104 0.63569197 0.65266402 0.63780292\n",
      " 0.7267162  0.71388162 0.74191506 0.75002111 0.77222832 0.83049059\n",
      " 0.8194292  0.8289707  0.8125475  0.78776492 0.75162543 0.78426074\n",
      " 0.77974331 0.81326522 0.8141096  0.79473106 0.83336148 0.85898843\n",
      " 0.83901883 0.85628641 0.87486279 0.88782403 0.90095415 0.92793211\n",
      " 0.948535   0.93333615 0.91746179 0.92544119 0.91771511 0.9483239\n",
      " 0.94064004 0.96635143 0.9563033  0.96491598 0.96772474 0.96592188\n",
      " 0.96331757 0.96154124 0.96108621 0.96181327]\n",
      "6 day output [[0.9633029]]\n",
      "7 day input [0.92877649 0.95676771 0.93869797 0.93304061 0.94950604 0.96424048\n",
      " 0.95512117 0.95989192 0.96635143 0.96246728 0.92295027 0.9598497\n",
      " 0.98792536 0.98594106 0.92531453 0.92172591 0.96474711 0.97572406\n",
      " 0.99159841 0.96972895 0.97614625 0.96795575 1.         0.99016297\n",
      " 0.99050072 0.96538039 0.98488559 0.97086887 0.94026007 0.87748037\n",
      " 0.83483915 0.85413324 0.77336823 0.77269273 0.88014017 0.84007431\n",
      " 0.89673225 0.85527316 0.83884995 0.74233725 0.82327113 0.78143207\n",
      " 0.6665963  0.7921557  0.64118044 0.68614371 0.66001013 0.65203074\n",
      " 0.58642236 0.56586169 0.66089673 0.65515494 0.70970193 0.66452757\n",
      " 0.69437642 0.69218104 0.63569197 0.65266402 0.63780292 0.7267162\n",
      " 0.71388162 0.74191506 0.75002111 0.77222832 0.83049059 0.8194292\n",
      " 0.8289707  0.8125475  0.78776492 0.75162543 0.78426074 0.77974331\n",
      " 0.81326522 0.8141096  0.79473106 0.83336148 0.85898843 0.83901883\n",
      " 0.85628641 0.87486279 0.88782403 0.90095415 0.92793211 0.948535\n",
      " 0.93333615 0.91746179 0.92544119 0.91771511 0.9483239  0.94064004\n",
      " 0.96635143 0.9563033  0.96491598 0.96772474 0.96592188 0.96331757\n",
      " 0.96154124 0.96108621 0.96181327 0.96330291]\n",
      "7 day output [[0.9651253]]\n",
      "8 day input [0.95676771 0.93869797 0.93304061 0.94950604 0.96424048 0.95512117\n",
      " 0.95989192 0.96635143 0.96246728 0.92295027 0.9598497  0.98792536\n",
      " 0.98594106 0.92531453 0.92172591 0.96474711 0.97572406 0.99159841\n",
      " 0.96972895 0.97614625 0.96795575 1.         0.99016297 0.99050072\n",
      " 0.96538039 0.98488559 0.97086887 0.94026007 0.87748037 0.83483915\n",
      " 0.85413324 0.77336823 0.77269273 0.88014017 0.84007431 0.89673225\n",
      " 0.85527316 0.83884995 0.74233725 0.82327113 0.78143207 0.6665963\n",
      " 0.7921557  0.64118044 0.68614371 0.66001013 0.65203074 0.58642236\n",
      " 0.56586169 0.66089673 0.65515494 0.70970193 0.66452757 0.69437642\n",
      " 0.69218104 0.63569197 0.65266402 0.63780292 0.7267162  0.71388162\n",
      " 0.74191506 0.75002111 0.77222832 0.83049059 0.8194292  0.8289707\n",
      " 0.8125475  0.78776492 0.75162543 0.78426074 0.77974331 0.81326522\n",
      " 0.8141096  0.79473106 0.83336148 0.85898843 0.83901883 0.85628641\n",
      " 0.87486279 0.88782403 0.90095415 0.92793211 0.948535   0.93333615\n",
      " 0.91746179 0.92544119 0.91771511 0.9483239  0.94064004 0.96635143\n",
      " 0.9563033  0.96491598 0.96772474 0.96592188 0.96331757 0.96154124\n",
      " 0.96108621 0.96181327 0.96330291 0.96512532]\n",
      "8 day output [[0.9669925]]\n",
      "9 day input [0.93869797 0.93304061 0.94950604 0.96424048 0.95512117 0.95989192\n",
      " 0.96635143 0.96246728 0.92295027 0.9598497  0.98792536 0.98594106\n",
      " 0.92531453 0.92172591 0.96474711 0.97572406 0.99159841 0.96972895\n",
      " 0.97614625 0.96795575 1.         0.99016297 0.99050072 0.96538039\n",
      " 0.98488559 0.97086887 0.94026007 0.87748037 0.83483915 0.85413324\n",
      " 0.77336823 0.77269273 0.88014017 0.84007431 0.89673225 0.85527316\n",
      " 0.83884995 0.74233725 0.82327113 0.78143207 0.6665963  0.7921557\n",
      " 0.64118044 0.68614371 0.66001013 0.65203074 0.58642236 0.56586169\n",
      " 0.66089673 0.65515494 0.70970193 0.66452757 0.69437642 0.69218104\n",
      " 0.63569197 0.65266402 0.63780292 0.7267162  0.71388162 0.74191506\n",
      " 0.75002111 0.77222832 0.83049059 0.8194292  0.8289707  0.8125475\n",
      " 0.78776492 0.75162543 0.78426074 0.77974331 0.81326522 0.8141096\n",
      " 0.79473106 0.83336148 0.85898843 0.83901883 0.85628641 0.87486279\n",
      " 0.88782403 0.90095415 0.92793211 0.948535   0.93333615 0.91746179\n",
      " 0.92544119 0.91771511 0.9483239  0.94064004 0.96635143 0.9563033\n",
      " 0.96491598 0.96772474 0.96592188 0.96331757 0.96154124 0.96108621\n",
      " 0.96181327 0.96330291 0.96512532 0.9669925 ]\n",
      "9 day output [[0.96879137]]\n"
     ]
    }
   ]
  },
  {
   "cell_type": "code",
   "source": [
    "day_new=np.arange(1,101)\n",
    "day_pred=np.arange(101,111)"
   ],
   "metadata": {
    "execution": {
     "iopub.status.busy": "2021-07-08T17:23:53.283919Z",
     "iopub.execute_input": "2021-07-08T17:23:53.284448Z",
     "iopub.status.idle": "2021-07-08T17:23:53.288903Z",
     "shell.execute_reply.started": "2021-07-08T17:23:53.284409Z",
     "shell.execute_reply": "2021-07-08T17:23:53.287944Z"
    },
    "trusted": true
   },
   "execution_count": 70,
   "outputs": []
  },
  {
   "cell_type": "code",
   "source": "plt.plot(day_new,scaler.inverse_transform(df1[1158:]))\nplt.plot(day_pred,scaler.inverse_transform(lst_output))",
   "metadata": {
    "execution": {
     "iopub.status.busy": "2021-07-08T17:23:53.290339Z",
     "iopub.execute_input": "2021-07-08T17:23:53.290837Z",
     "iopub.status.idle": "2021-07-08T17:23:53.431387Z",
     "shell.execute_reply.started": "2021-07-08T17:23:53.290804Z",
     "shell.execute_reply": "2021-07-08T17:23:53.430684Z"
    },
    "trusted": true
   },
   "execution_count": 71,
   "outputs": [
    {
     "data": {
      "text/plain": "[<matplotlib.lines.Line2D at 0x26de8428220>]"
     },
     "execution_count": 71,
     "metadata": {},
     "output_type": "execute_result"
    },
    {
     "data": {
      "text/plain": "<Figure size 432x288 with 1 Axes>",
      "image/png": "[encoded data removed]"
     },
     "metadata": {
      "needs_background": "light"
     },
     "output_type": "display_data"
    }
   ]
  },
  {
   "cell_type": "code",
   "source": "df3=df1.tolist()\ndf3.extend(lst_output)\nplt.plot(df3[1200:])",
   "metadata": {
    "execution": {
     "iopub.status.busy": "2021-07-08T17:23:53.433222Z",
     "iopub.execute_input": "2021-07-08T17:23:53.433551Z",
     "iopub.status.idle": "2021-07-08T17:23:53.548904Z",
     "shell.execute_reply.started": "2021-07-08T17:23:53.433518Z",
     "shell.execute_reply": "2021-07-08T17:23:53.548165Z"
    },
    "trusted": true
   },
   "execution_count": 73,
   "outputs": [
    {
     "data": {
      "text/plain": "[<matplotlib.lines.Line2D at 0x26de8499ac0>]"
     },
     "execution_count": 73,
     "metadata": {},
     "output_type": "execute_result"
    },
    {
     "data": {
      "text/plain": "<Figure size 432x288 with 1 Axes>",
      "image/png": "[encoded data removed]"
     },
     "metadata": {
      "needs_background": "light"
     },
     "output_type": "display_data"
    }
   ]
  },
  {
   "cell_type": "code",
   "source": "df3=scaler.inverse_transform(df3).tolist()",
   "metadata": {
    "execution": {
     "iopub.status.busy": "2021-07-08T17:23:53.550056Z",
     "iopub.execute_input": "2021-07-08T17:23:53.550401Z",
     "iopub.status.idle": "2021-07-08T17:23:53.558090Z",
     "shell.execute_reply.started": "2021-07-08T17:23:53.550366Z",
     "shell.execute_reply": "2021-07-08T17:23:53.557066Z"
    },
    "trusted": true
   },
   "execution_count": 74,
   "outputs": []
  },
  {
   "cell_type": "code",
   "source": "plt.plot(df3)",
   "metadata": {
    "execution": {
     "iopub.status.busy": "2021-07-08T17:23:53.559325Z",
     "iopub.execute_input": "2021-07-08T17:23:53.559844Z",
     "iopub.status.idle": "2021-07-08T17:23:53.693907Z",
     "shell.execute_reply.started": "2021-07-08T17:23:53.559809Z",
     "shell.execute_reply": "2021-07-08T17:23:53.693179Z"
    },
    "trusted": true
   },
   "execution_count": 75,
   "outputs": [
    {
     "data": {
      "text/plain": "[<matplotlib.lines.Line2D at 0x26de8509730>]"
     },
     "execution_count": 75,
     "metadata": {},
     "output_type": "execute_result"
    },
    {
     "data": {
      "text/plain": "<Figure size 432x288 with 1 Axes>",
      "image/png": "[encoded data removed]"
     },
     "metadata": {
      "needs_background": "light"
     },
     "output_type": "display_data"
    }
   ]
  },
  {
   "cell_type": "code",
   "source": "",
   "metadata": {},
   "execution_count": null,
   "outputs": []
  }
 ]
}