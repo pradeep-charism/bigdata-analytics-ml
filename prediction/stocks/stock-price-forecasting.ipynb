{
 "cells": [
  {
   "cell_type": "code",
   "execution_count": 18,
   "metadata": {
    "collapsed": true
   },
   "outputs": [],
   "source": [
    "import pandas as pd\n",
    "import numpy as np\n",
    "\n",
    "import os, datetime\n",
    "import seaborn as sns\n",
    "import matplotlib.pyplot as plt\n",
    "from pyspark.ml.feature import StandardScaler\n",
    "\n",
    "from sklearn.metrics import r2_score\n",
    "from sklearn.preprocessing import StandardScaler\n",
    "\n",
    "import tensorflow as tf\n",
    "\n",
    "from tensorflow import keras\n",
    "from tensorflow.keras import layers"
   ]
  },
  {
   "cell_type": "code",
   "execution_count": 19,
   "outputs": [
    {
     "data": {
      "text/plain": "         High         Low        Open       Close       Volume   Adj Close  \\\n0  149.729996  148.490005  149.360001  148.850006   56094900.0  148.443954   \n1  153.169998  149.720001  149.820007  152.570007  100077900.0  152.153809   \n2  149.940002  146.410004  147.220001  149.800003  124953200.0  149.391357   \n3  149.699997  147.800003  148.990005  148.960007   74588300.0  148.553650   \n4  151.570007  148.649994  148.660004  150.020004   69122000.0  149.610764   \n\n  Ticker  \n0   AAPL  \n1   AAPL  \n2   AAPL  \n3   AAPL  \n4   AAPL  ",
      "text/html": "<div>\n<style scoped>\n    .dataframe tbody tr th:only-of-type {\n        vertical-align: middle;\n    }\n\n    .dataframe tbody tr th {\n        vertical-align: top;\n    }\n\n    .dataframe thead th {\n        text-align: right;\n    }\n</style>\n<table border=\"1\" class=\"dataframe\">\n  <thead>\n    <tr style=\"text-align: right;\">\n      <th></th>\n      <th>High</th>\n      <th>Low</th>\n      <th>Open</th>\n      <th>Close</th>\n      <th>Volume</th>\n      <th>Adj Close</th>\n      <th>Ticker</th>\n    </tr>\n  </thead>\n  <tbody>\n    <tr>\n      <th>0</th>\n      <td>149.729996</td>\n      <td>148.490005</td>\n      <td>149.360001</td>\n      <td>148.850006</td>\n      <td>56094900.0</td>\n      <td>148.443954</td>\n      <td>AAPL</td>\n    </tr>\n    <tr>\n      <th>1</th>\n      <td>153.169998</td>\n      <td>149.720001</td>\n      <td>149.820007</td>\n      <td>152.570007</td>\n      <td>100077900.0</td>\n      <td>152.153809</td>\n      <td>AAPL</td>\n    </tr>\n    <tr>\n      <th>2</th>\n      <td>149.940002</td>\n      <td>146.410004</td>\n      <td>147.220001</td>\n      <td>149.800003</td>\n      <td>124953200.0</td>\n      <td>149.391357</td>\n      <td>AAPL</td>\n    </tr>\n    <tr>\n      <th>3</th>\n      <td>149.699997</td>\n      <td>147.800003</td>\n      <td>148.990005</td>\n      <td>148.960007</td>\n      <td>74588300.0</td>\n      <td>148.553650</td>\n      <td>AAPL</td>\n    </tr>\n    <tr>\n      <th>4</th>\n      <td>151.570007</td>\n      <td>148.649994</td>\n      <td>148.660004</td>\n      <td>150.020004</td>\n      <td>69122000.0</td>\n      <td>149.610764</td>\n      <td>AAPL</td>\n    </tr>\n  </tbody>\n</table>\n</div>"
     },
     "execution_count": 19,
     "metadata": {},
     "output_type": "execute_result"
    }
   ],
   "source": [
    "df = pd.read_csv(\"data/stock_data.csv\")\n",
    "df.head()"
   ],
   "metadata": {
    "collapsed": false,
    "pycharm": {
     "name": "#%%\n"
    }
   }
  },
  {
   "cell_type": "code",
   "execution_count": 20,
   "outputs": [
    {
     "data": {
      "text/plain": "0     148.850006\n1     152.570007\n2     149.800003\n3     148.960007\n4     150.020004\n         ...    \n95    155.089996\n96    159.589996\n97    160.619995\n98    163.979996\n99    165.380005\nName: Close, Length: 100, dtype: float64"
     },
     "execution_count": 20,
     "metadata": {},
     "output_type": "execute_result"
    }
   ],
   "source": [
    "df1=df.reset_index()['Close']\n",
    "df1"
   ],
   "metadata": {
    "collapsed": false,
    "pycharm": {
     "name": "#%%\n"
    }
   }
  },
  {
   "cell_type": "code",
   "execution_count": 21,
   "outputs": [
    {
     "data": {
      "text/plain": "[<matplotlib.lines.Line2D at 0x220eb9df910>]"
     },
     "execution_count": 21,
     "metadata": {},
     "output_type": "execute_result"
    },
    {
     "data": {
      "text/plain": "<Figure size 432x288 with 1 Axes>",
      "image/png": "[encoded data removed]"
     },
     "metadata": {
      "needs_background": "light"
     },
     "output_type": "display_data"
    }
   ],
   "source": [
    "import matplotlib.pyplot as plt\n",
    "plt.plot(df1)"
   ],
   "metadata": {
    "collapsed": false,
    "pycharm": {
     "name": "#%%\n"
    }
   }
  },
  {
   "cell_type": "code",
   "execution_count": 22,
   "outputs": [
    {
     "name": "stdout",
     "output_type": "stream",
     "text": [
      "100\n"
     ]
    }
   ],
   "source": [
    "import numpy as np\n",
    "from sklearn.preprocessing import MinMaxScaler\n",
    "scaler=MinMaxScaler(feature_range=(0,1))\n",
    "df1=scaler.fit_transform(np.array(df1).reshape(-1,1))\n",
    "print(len(df1))"
   ],
   "metadata": {
    "collapsed": false,
    "pycharm": {
     "name": "#%%\n"
    }
   }
  },
  {
   "cell_type": "code",
   "execution_count": 24,
   "outputs": [
    {
     "data": {
      "text/plain": "(65, 35)"
     },
     "execution_count": 24,
     "metadata": {},
     "output_type": "execute_result"
    }
   ],
   "source": [
    "##splitting dataset into train and test split\n",
    "training_size=int(len(df1)*0.65)\n",
    "test_size=len(df1)-training_size\n",
    "train_data,test_data=df1[0:training_size,:],df1[training_size:len(df1),:1]\n",
    "training_size,test_size"
   ],
   "metadata": {
    "collapsed": false,
    "pycharm": {
     "name": "#%%\n"
    }
   }
  },
  {
   "cell_type": "code",
   "execution_count": 25,
   "outputs": [
    {
     "data": {
      "text/plain": "array([[0.02870565],\n       [0.13766878],\n       [0.05653216],\n       [0.0319277 ],\n       [0.06297625],\n       [0.10603428],\n       [0.09051001],\n       [0.09988294],\n       [0.07527848],\n       [0.08611607],\n       [0.00146465],\n       [0.        ],\n       [0.06209755],\n       [0.0623903 ],\n       [0.09168146],\n       [0.16461659],\n       [0.29291155],\n       [0.37141207],\n       [0.38517895],\n       [0.39660248],\n       [0.41212676],\n       [0.26186299],\n       [0.36233189],\n       [0.51054506],\n       [0.49502078],\n       [0.46543643],\n       [0.40919747],\n       [0.51113101],\n       [0.68277674],\n       [0.79701251],\n       [0.78178099],\n       [0.92501472],\n       [0.81634478],\n       [0.77504415],\n       [0.92062122],\n       [0.71441124],\n       [0.68160529],\n       [0.64089061],\n       [0.73579411],\n       [0.81341549],\n       [0.83216181],\n       [0.95079107],\n       [0.92032802],\n       [0.92296457],\n       [0.88840077],\n       [0.86994765],\n       [1.        ],\n       [0.9323375 ],\n       [0.79232582],\n       [0.7067957 ],\n       [0.71177515],\n       [0.71236109],\n       [0.79701251],\n       [0.81019344],\n       [0.71236109],\n       [0.73813745],\n       [0.64235525],\n       [0.53778562],\n       [0.48740479],\n       [0.42589364],\n       [0.40275338],\n       [0.34885776],\n       [0.34622166],\n       [0.33245478],\n       [0.65787953]])"
     },
     "execution_count": 25,
     "metadata": {},
     "output_type": "execute_result"
    }
   ],
   "source": [
    "train_data"
   ],
   "metadata": {
    "collapsed": false,
    "pycharm": {
     "name": "#%%\n"
    }
   }
  },
  {
   "cell_type": "code",
   "execution_count": 26,
   "outputs": [],
   "source": [
    "import numpy\n",
    "# convert an array of values into a dataset matrix\n",
    "def create_dataset(dataset, time_step=1):\n",
    "\tdataX, dataY = [], []\n",
    "\tfor i in range(len(dataset)-time_step-1):\n",
    "\t\ta = dataset[i:(i+time_step), 0]   ###i=0, 0,1,2,3-----99   100\n",
    "\t\tdataX.append(a)\n",
    "\t\tdataY.append(dataset[i + time_step, 0])\n",
    "\treturn numpy.array(dataX), numpy.array(dataY)"
   ],
   "metadata": {
    "collapsed": false,
    "pycharm": {
     "name": "#%%\n"
    }
   }
  },
  {
   "cell_type": "code",
   "execution_count": 29,
   "outputs": [],
   "source": [
    "# reshape into X=t,t+1,t+2,t+3 and Y=t+4\n",
    "time_step = 10\n",
    "X_train, y_train = create_dataset(train_data, time_step)\n",
    "X_test, ytest = create_dataset(test_data, time_step)"
   ],
   "metadata": {
    "collapsed": false,
    "pycharm": {
     "name": "#%%\n"
    }
   }
  },
  {
   "cell_type": "code",
   "execution_count": 31,
   "outputs": [
    {
     "name": "stdout",
     "output_type": "stream",
     "text": [
      "(54, 10)\n",
      "(54,)\n",
      "(24, 10)\n",
      "(24,)\n"
     ]
    },
    {
     "data": {
      "text/plain": "(None, None)"
     },
     "execution_count": 31,
     "metadata": {},
     "output_type": "execute_result"
    }
   ],
   "source": [
    "print(X_train.shape), print(y_train.shape)\n",
    "print(X_test.shape), print(ytest.shape)"
   ],
   "metadata": {
    "collapsed": false,
    "pycharm": {
     "name": "#%%\n"
    }
   }
  },
  {
   "cell_type": "code",
   "execution_count": 32,
   "outputs": [],
   "source": [
    "# reshape input to be [samples, time steps, features] which is required for LSTM\n",
    "X_train =X_train.reshape(X_train.shape[0],X_train.shape[1] , 1)\n",
    "X_test = X_test.reshape(X_test.shape[0],X_test.shape[1] , 1)"
   ],
   "metadata": {
    "collapsed": false,
    "pycharm": {
     "name": "#%%\n"
    }
   }
  },
  {
   "cell_type": "code",
   "execution_count": 37,
   "outputs": [
    {
     "name": "stdout",
     "output_type": "stream",
     "text": [
      "Model: \"sequential_2\"\n",
      "_________________________________________________________________\n",
      " Layer (type)                Output Shape              Param #   \n",
      "=================================================================\n",
      " lstm_6 (LSTM)               (None, 10, 50)            10400     \n",
      "                                                                 \n",
      " lstm_7 (LSTM)               (None, 10, 50)            20200     \n",
      "                                                                 \n",
      " lstm_8 (LSTM)               (None, 50)                20200     \n",
      "                                                                 \n",
      " dense_2 (Dense)             (None, 1)                 51        \n",
      "                                                                 \n",
      "=================================================================\n",
      "Total params: 50,851\n",
      "Trainable params: 50,851\n",
      "Non-trainable params: 0\n",
      "_________________________________________________________________\n"
     ]
    }
   ],
   "source": [
    "### Create the Stacked LSTM model\n",
    "from tensorflow.keras.models import Sequential\n",
    "from tensorflow.keras.layers import Dense\n",
    "from tensorflow.keras.layers import LSTM\n",
    "\n",
    "model=Sequential()\n",
    "model.add(LSTM(50,return_sequences=True,input_shape=(10,1)))\n",
    "model.add(LSTM(50,return_sequences=True))\n",
    "model.add(LSTM(50))\n",
    "model.add(Dense(1))\n",
    "model.compile(loss='mean_squared_error',optimizer='adam')\n",
    "model.summary()"
   ],
   "metadata": {
    "collapsed": false,
    "pycharm": {
     "name": "#%%\n"
    }
   }
  },
  {
   "cell_type": "code",
   "execution_count": 43,
   "outputs": [
    {
     "name": "stdout",
     "output_type": "stream",
     "text": [
      "Epoch 1/25\n",
      "6/6 [==============================] - 0s 23ms/step - loss: 0.0313 - val_loss: 0.0469\n",
      "Epoch 2/25\n",
      "6/6 [==============================] - 0s 23ms/step - loss: 0.0311 - val_loss: 0.0366\n",
      "Epoch 3/25\n",
      "6/6 [==============================] - 0s 20ms/step - loss: 0.0309 - val_loss: 0.0355\n",
      "Epoch 4/25\n",
      "6/6 [==============================] - 0s 20ms/step - loss: 0.0308 - val_loss: 0.0505\n",
      "Epoch 5/25\n",
      "6/6 [==============================] - 0s 23ms/step - loss: 0.0302 - val_loss: 0.0338\n",
      "Epoch 6/25\n",
      "6/6 [==============================] - 0s 23ms/step - loss: 0.0322 - val_loss: 0.0248\n",
      "Epoch 7/25\n",
      "6/6 [==============================] - 0s 24ms/step - loss: 0.0300 - val_loss: 0.0452\n",
      "Epoch 8/25\n",
      "6/6 [==============================] - 0s 33ms/step - loss: 0.0313 - val_loss: 0.0437\n",
      "Epoch 9/25\n",
      "6/6 [==============================] - 0s 20ms/step - loss: 0.0321 - val_loss: 0.0299\n",
      "Epoch 10/25\n",
      "6/6 [==============================] - 0s 23ms/step - loss: 0.0308 - val_loss: 0.0437\n",
      "Epoch 11/25\n",
      "6/6 [==============================] - 0s 20ms/step - loss: 0.0296 - val_loss: 0.0343\n",
      "Epoch 12/25\n",
      "6/6 [==============================] - 0s 20ms/step - loss: 0.0283 - val_loss: 0.0405\n",
      "Epoch 13/25\n",
      "6/6 [==============================] - 0s 20ms/step - loss: 0.0286 - val_loss: 0.0385\n",
      "Epoch 14/25\n",
      "6/6 [==============================] - 0s 20ms/step - loss: 0.0282 - val_loss: 0.0303\n",
      "Epoch 15/25\n",
      "6/6 [==============================] - 0s 20ms/step - loss: 0.0287 - val_loss: 0.0401\n",
      "Epoch 16/25\n",
      "6/6 [==============================] - 0s 20ms/step - loss: 0.0285 - val_loss: 0.0360\n",
      "Epoch 17/25\n",
      "6/6 [==============================] - 0s 21ms/step - loss: 0.0276 - val_loss: 0.0415\n",
      "Epoch 18/25\n",
      "6/6 [==============================] - 0s 20ms/step - loss: 0.0267 - val_loss: 0.0240\n",
      "Epoch 19/25\n",
      "6/6 [==============================] - 0s 20ms/step - loss: 0.0281 - val_loss: 0.0359\n",
      "Epoch 20/25\n",
      "6/6 [==============================] - 0s 17ms/step - loss: 0.0259 - val_loss: 0.0296\n",
      "Epoch 21/25\n",
      "6/6 [==============================] - 0s 23ms/step - loss: 0.0253 - val_loss: 0.0368\n",
      "Epoch 22/25\n",
      "6/6 [==============================] - 0s 23ms/step - loss: 0.0240 - val_loss: 0.0257\n",
      "Epoch 23/25\n",
      "6/6 [==============================] - 0s 20ms/step - loss: 0.0251 - val_loss: 0.0376\n",
      "Epoch 24/25\n",
      "6/6 [==============================] - 0s 20ms/step - loss: 0.0237 - val_loss: 0.0301\n",
      "Epoch 25/25\n",
      "6/6 [==============================] - 0s 20ms/step - loss: 0.0228 - val_loss: 0.0265\n"
     ]
    },
    {
     "data": {
      "text/plain": "<keras.callbacks.History at 0x220f60433d0>"
     },
     "execution_count": 43,
     "metadata": {},
     "output_type": "execute_result"
    }
   ],
   "source": [
    "model.fit(X_train,y_train,validation_data=(X_test,ytest),epochs=25,batch_size=10,verbose=1)"
   ],
   "metadata": {
    "collapsed": false,
    "pycharm": {
     "name": "#%%\n"
    }
   }
  },
  {
   "cell_type": "code",
   "execution_count": 44,
   "outputs": [],
   "source": [
    "import tensorflow as tf\n",
    "### Lets Do the prediction and check performance metrics\n",
    "train_predict=model.predict(X_train)\n",
    "test_predict=model.predict(X_test)"
   ],
   "metadata": {
    "collapsed": false,
    "pycharm": {
     "name": "#%%\n"
    }
   }
  },
  {
   "cell_type": "code",
   "execution_count": 45,
   "outputs": [],
   "source": [
    "##Transformback to original form\n",
    "train_predict=scaler.inverse_transform(train_predict)\n",
    "test_predict=scaler.inverse_transform(test_predict)"
   ],
   "metadata": {
    "collapsed": false,
    "pycharm": {
     "name": "#%%\n"
    }
   }
  },
  {
   "cell_type": "code",
   "execution_count": 46,
   "outputs": [
    {
     "data": {
      "text/plain": "166.764654017249"
     },
     "execution_count": 46,
     "metadata": {},
     "output_type": "execute_result"
    }
   ],
   "source": [
    "### Calculate RMSE performance metrics\n",
    "import math\n",
    "from sklearn.metrics import mean_squared_error\n",
    "math.sqrt(mean_squared_error(y_train,train_predict))"
   ],
   "metadata": {
    "collapsed": false,
    "pycharm": {
     "name": "#%%\n"
    }
   }
  },
  {
   "cell_type": "code",
   "execution_count": 47,
   "outputs": [
    {
     "data": {
      "text/plain": "166.26632555926673"
     },
     "execution_count": 47,
     "metadata": {},
     "output_type": "execute_result"
    }
   ],
   "source": [
    "### Test Data RMSE\n",
    "math.sqrt(mean_squared_error(ytest,test_predict))"
   ],
   "metadata": {
    "collapsed": false,
    "pycharm": {
     "name": "#%%\n"
    }
   }
  },
  {
   "cell_type": "code",
   "execution_count": 49,
   "outputs": [
    {
     "data": {
      "text/plain": "<Figure size 432x288 with 1 Axes>",
      "image/png": "[encoded data removed]"
     },
     "metadata": {
      "needs_background": "light"
     },
     "output_type": "display_data"
    }
   ],
   "source": [
    "### Plotting\n",
    "# shift train predictions for plotting\n",
    "look_back=10\n",
    "trainPredictPlot = numpy.empty_like(df1)\n",
    "trainPredictPlot[:, :] = np.nan\n",
    "trainPredictPlot[look_back:len(train_predict)+look_back, :] = train_predict\n",
    "# shift test predictions for plotting\n",
    "testPredictPlot = numpy.empty_like(df1)\n",
    "testPredictPlot[:, :] = numpy.nan\n",
    "testPredictPlot[len(train_predict)+(look_back*2)+1:len(df1)-1, :] = test_predict\n",
    "# plot baseline and predictions\n",
    "plt.plot(scaler.inverse_transform(df1))\n",
    "plt.plot(trainPredictPlot)\n",
    "plt.plot(testPredictPlot)\n",
    "plt.show()"
   ],
   "metadata": {
    "collapsed": false,
    "pycharm": {
     "name": "#%%\n"
    }
   }
  },
  {
   "cell_type": "code",
   "execution_count": 50,
   "outputs": [
    {
     "data": {
      "text/plain": "35"
     },
     "execution_count": 50,
     "metadata": {},
     "output_type": "execute_result"
    }
   ],
   "source": [
    "len(test_data)"
   ],
   "metadata": {
    "collapsed": false,
    "pycharm": {
     "name": "#%%\n"
    }
   }
  },
  {
   "cell_type": "code",
   "execution_count": 55,
   "outputs": [
    {
     "data": {
      "text/plain": "(1, 25)"
     },
     "execution_count": 55,
     "metadata": {},
     "output_type": "execute_result"
    }
   ],
   "source": [
    "x_input=test_data[10:].reshape(1,-1)\n",
    "x_input.shape"
   ],
   "metadata": {
    "collapsed": false,
    "pycharm": {
     "name": "#%%\n"
    }
   }
  },
  {
   "cell_type": "code",
   "execution_count": 66,
   "outputs": [
    {
     "data": {
      "text/plain": "25"
     },
     "execution_count": 66,
     "metadata": {},
     "output_type": "execute_result"
    }
   ],
   "source": [
    "temp_input=list(x_input)\n",
    "temp_input=temp_input[0].tolist()\n",
    "len(temp_input)"
   ],
   "metadata": {
    "collapsed": false,
    "pycharm": {
     "name": "#%%\n"
    }
   }
  },
  {
   "cell_type": "code",
   "execution_count": 67,
   "outputs": [
    {
     "name": "stdout",
     "output_type": "stream",
     "text": [
      "[0.28140718]\n",
      "26\n",
      "1 day input [0.72290593 0.61540744 0.56912737 0.48183985 0.35735244 0.43555977\n",
      " 0.49736413 0.50527242 0.44903345 0.54745175 0.53778562 0.44815475\n",
      " 0.33479813 0.28031656 0.44171066 0.31195106 0.20093734 0.08055068\n",
      " 0.21148217 0.34329237 0.37346222 0.47188052 0.5128884  0.25071999\n",
      " 0.28140718]\n",
      "1 day output [[0.30358317]]\n",
      "2 day input [0.61540744 0.56912737 0.48183985 0.35735244 0.43555977 0.49736413\n",
      " 0.50527242 0.44903345 0.54745175 0.53778562 0.44815475 0.33479813\n",
      " 0.28031656 0.44171066 0.31195106 0.20093734 0.08055068 0.21148217\n",
      " 0.34329237 0.37346222 0.47188052 0.5128884  0.25071999 0.28140718\n",
      " 0.30358317]\n",
      "2 day output [[0.3179909]]\n",
      "3 day input [0.56912737 0.48183985 0.35735244 0.43555977 0.49736413 0.50527242\n",
      " 0.44903345 0.54745175 0.53778562 0.44815475 0.33479813 0.28031656\n",
      " 0.44171066 0.31195106 0.20093734 0.08055068 0.21148217 0.34329237\n",
      " 0.37346222 0.47188052 0.5128884  0.25071999 0.28140718 0.30358317\n",
      " 0.3179909 ]\n",
      "3 day output [[0.32616645]]\n",
      "4 day input [0.48183985 0.35735244 0.43555977 0.49736413 0.50527242 0.44903345\n",
      " 0.54745175 0.53778562 0.44815475 0.33479813 0.28031656 0.44171066\n",
      " 0.31195106 0.20093734 0.08055068 0.21148217 0.34329237 0.37346222\n",
      " 0.47188052 0.5128884  0.25071999 0.28140718 0.30358317 0.3179909\n",
      " 0.32616645]\n",
      "4 day output [[0.32996598]]\n",
      "5 day input [0.35735244 0.43555977 0.49736413 0.50527242 0.44903345 0.54745175\n",
      " 0.53778562 0.44815475 0.33479813 0.28031656 0.44171066 0.31195106\n",
      " 0.20093734 0.08055068 0.21148217 0.34329237 0.37346222 0.47188052\n",
      " 0.5128884  0.25071999 0.28140718 0.30358317 0.3179909  0.32616645\n",
      " 0.32996598]\n",
      "5 day output [[0.33120668]]\n",
      "6 day input [0.43555977 0.49736413 0.50527242 0.44903345 0.54745175 0.53778562\n",
      " 0.44815475 0.33479813 0.28031656 0.44171066 0.31195106 0.20093734\n",
      " 0.08055068 0.21148217 0.34329237 0.37346222 0.47188052 0.5128884\n",
      " 0.25071999 0.28140718 0.30358317 0.3179909  0.32616645 0.32996598\n",
      " 0.33120668]\n",
      "6 day output [[0.33125135]]\n",
      "7 day input [0.49736413 0.50527242 0.44903345 0.54745175 0.53778562 0.44815475\n",
      " 0.33479813 0.28031656 0.44171066 0.31195106 0.20093734 0.08055068\n",
      " 0.21148217 0.34329237 0.37346222 0.47188052 0.5128884  0.25071999\n",
      " 0.28140718 0.30358317 0.3179909  0.32616645 0.32996598 0.33120668\n",
      " 0.33125135]\n",
      "7 day output [[0.3305625]]\n",
      "8 day input [0.50527242 0.44903345 0.54745175 0.53778562 0.44815475 0.33479813\n",
      " 0.28031656 0.44171066 0.31195106 0.20093734 0.08055068 0.21148217\n",
      " 0.34329237 0.37346222 0.47188052 0.5128884  0.25071999 0.28140718\n",
      " 0.30358317 0.3179909  0.32616645 0.32996598 0.33120668 0.33125135\n",
      " 0.3305625 ]\n",
      "8 day output [[0.32953393]]\n",
      "9 day input [0.44903345 0.54745175 0.53778562 0.44815475 0.33479813 0.28031656\n",
      " 0.44171066 0.31195106 0.20093734 0.08055068 0.21148217 0.34329237\n",
      " 0.37346222 0.47188052 0.5128884  0.25071999 0.28140718 0.30358317\n",
      " 0.3179909  0.32616645 0.32996598 0.33120668 0.33125135 0.3305625\n",
      " 0.32953393]\n",
      "9 day output [[0.32844695]]\n",
      "[[0.2814071774482727], [0.30358317494392395], [0.31799089908599854], [0.32616645097732544], [0.3299659788608551], [0.33120667934417725], [0.3312513530254364], [0.3305625021457672], [0.3295339345932007], [0.3284469544887543]]\n"
     ]
    }
   ],
   "source": [
    "# demonstrate prediction for next 10 days\n",
    "from numpy import array\n",
    "\n",
    "lst_output=[]\n",
    "n_steps=25\n",
    "i=0\n",
    "while(i<10):\n",
    "\n",
    "    if(len(temp_input)>25):\n",
    "        #print(temp_input)\n",
    "        x_input=np.array(temp_input[1:])\n",
    "        print(\"{} day input {}\".format(i,x_input))\n",
    "        x_input=x_input.reshape(1,-1)\n",
    "        x_input = x_input.reshape((1, n_steps, 1))\n",
    "        #print(x_input)\n",
    "        yhat = model.predict(x_input, verbose=0)\n",
    "        print(\"{} day output {}\".format(i,yhat))\n",
    "        temp_input.extend(yhat[0].tolist())\n",
    "        temp_input=temp_input[1:]\n",
    "        #print(temp_input)\n",
    "        lst_output.extend(yhat.tolist())\n",
    "        i=i+1\n",
    "    else:\n",
    "        x_input = x_input.reshape((1, n_steps,1))\n",
    "        yhat = model.predict(x_input, verbose=0)\n",
    "        print(yhat[0])\n",
    "        temp_input.extend(yhat[0].tolist())\n",
    "        print(len(temp_input))\n",
    "        lst_output.extend(yhat.tolist())\n",
    "        i=i+1\n",
    "\n",
    "\n",
    "print(lst_output)"
   ],
   "metadata": {
    "collapsed": false,
    "pycharm": {
     "name": "#%%\n"
    }
   }
  },
  {
   "cell_type": "code",
   "execution_count": 85,
   "outputs": [],
   "source": [
    "day_new=np.arange(1,101)\n",
    "day_pred=np.arange(101,111)"
   ],
   "metadata": {
    "collapsed": false,
    "pycharm": {
     "name": "#%%\n"
    }
   }
  },
  {
   "cell_type": "code",
   "execution_count": 80,
   "outputs": [
    {
     "data": {
      "text/plain": "100"
     },
     "execution_count": 80,
     "metadata": {},
     "output_type": "execute_result"
    }
   ],
   "source": [
    "len(df1)"
   ],
   "metadata": {
    "collapsed": false,
    "pycharm": {
     "name": "#%%\n"
    }
   }
  },
  {
   "cell_type": "code",
   "execution_count": null,
   "outputs": [],
   "source": [],
   "metadata": {
    "collapsed": false,
    "pycharm": {
     "name": "#%%\n"
    }
   }
  },
  {
   "cell_type": "code",
   "execution_count": 87,
   "outputs": [
    {
     "data": {
      "text/plain": "[<matplotlib.lines.Line2D at 0x220fd29b2e0>]"
     },
     "execution_count": 87,
     "metadata": {},
     "output_type": "execute_result"
    },
    {
     "data": {
      "text/plain": "<Figure size 432x288 with 1 Axes>",
      "image/png": "[encoded data removed]"
     },
     "metadata": {
      "needs_background": "light"
     },
     "output_type": "display_data"
    }
   ],
   "source": [
    "plt.plot(day_new,scaler.inverse_transform(df1[100:]))\n",
    "plt.plot(day_pred,scaler.inverse_transform(lst_output))"
   ],
   "metadata": {
    "collapsed": false,
    "pycharm": {
     "name": "#%%\n"
    }
   }
  }
 ],
 "metadata": {
  "kernelspec": {
   "display_name": "Python 3",
   "language": "python",
   "name": "python3"
  },
  "language_info": {
   "codemirror_mode": {
    "name": "ipython",
    "version": 2
   },
   "file_extension": ".py",
   "mimetype": "text/x-python",
   "name": "python",
   "nbconvert_exporter": "python",
   "pygments_lexer": "ipython2",
   "version": "2.7.6"
  }
 },
 "nbformat": 4,
 "nbformat_minor": 0
}