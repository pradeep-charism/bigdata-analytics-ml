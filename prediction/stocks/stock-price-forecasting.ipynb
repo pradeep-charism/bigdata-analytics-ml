{
 "cells": [
  {
   "cell_type": "code",
   "execution_count": 1,
   "metadata": {
    "collapsed": true
   },
   "outputs": [],
   "source": [
    "import pandas as pd\n",
    "import numpy as np\n",
    "\n",
    "import os, datetime\n",
    "import seaborn as sns\n",
    "import matplotlib.pyplot as plt\n",
    "from pyspark.ml.feature import StandardScaler\n",
    "\n",
    "from sklearn.metrics import r2_score\n",
    "from sklearn.preprocessing import StandardScaler\n",
    "\n",
    "import tensorflow as tf\n",
    "\n",
    "from tensorflow import keras\n",
    "from tensorflow.keras import layers"
   ]
  },
  {
   "cell_type": "code",
   "execution_count": 2,
   "outputs": [
    {
     "data": {
      "text/plain": "         High         Low        Open       Close       Volume   Adj Close  \\\n0  149.729996  148.490005  149.360001  148.850006   56094900.0  148.443954   \n1  153.169998  149.720001  149.820007  152.570007  100077900.0  152.153809   \n2  149.940002  146.410004  147.220001  149.800003  124953200.0  149.391357   \n3  149.699997  147.800003  148.990005  148.960007   74588300.0  148.553650   \n4  151.570007  148.649994  148.660004  150.020004   69122000.0  149.610764   \n\n  Ticker  \n0   AAPL  \n1   AAPL  \n2   AAPL  \n3   AAPL  \n4   AAPL  ",
      "text/html": "<div>\n<style scoped>\n    .dataframe tbody tr th:only-of-type {\n        vertical-align: middle;\n    }\n\n    .dataframe tbody tr th {\n        vertical-align: top;\n    }\n\n    .dataframe thead th {\n        text-align: right;\n    }\n</style>\n<table border=\"1\" class=\"dataframe\">\n  <thead>\n    <tr style=\"text-align: right;\">\n      <th></th>\n      <th>High</th>\n      <th>Low</th>\n      <th>Open</th>\n      <th>Close</th>\n      <th>Volume</th>\n      <th>Adj Close</th>\n      <th>Ticker</th>\n    </tr>\n  </thead>\n  <tbody>\n    <tr>\n      <th>0</th>\n      <td>149.729996</td>\n      <td>148.490005</td>\n      <td>149.360001</td>\n      <td>148.850006</td>\n      <td>56094900.0</td>\n      <td>148.443954</td>\n      <td>AAPL</td>\n    </tr>\n    <tr>\n      <th>1</th>\n      <td>153.169998</td>\n      <td>149.720001</td>\n      <td>149.820007</td>\n      <td>152.570007</td>\n      <td>100077900.0</td>\n      <td>152.153809</td>\n      <td>AAPL</td>\n    </tr>\n    <tr>\n      <th>2</th>\n      <td>149.940002</td>\n      <td>146.410004</td>\n      <td>147.220001</td>\n      <td>149.800003</td>\n      <td>124953200.0</td>\n      <td>149.391357</td>\n      <td>AAPL</td>\n    </tr>\n    <tr>\n      <th>3</th>\n      <td>149.699997</td>\n      <td>147.800003</td>\n      <td>148.990005</td>\n      <td>148.960007</td>\n      <td>74588300.0</td>\n      <td>148.553650</td>\n      <td>AAPL</td>\n    </tr>\n    <tr>\n      <th>4</th>\n      <td>151.570007</td>\n      <td>148.649994</td>\n      <td>148.660004</td>\n      <td>150.020004</td>\n      <td>69122000.0</td>\n      <td>149.610764</td>\n      <td>AAPL</td>\n    </tr>\n  </tbody>\n</table>\n</div>"
     },
     "execution_count": 2,
     "metadata": {},
     "output_type": "execute_result"
    }
   ],
   "source": [
    "df = pd.read_csv(\"data/stock_data.csv\")\n",
    "df.head()"
   ],
   "metadata": {
    "collapsed": false,
    "pycharm": {
     "name": "#%%\n"
    }
   }
  },
  {
   "cell_type": "code",
   "execution_count": 3,
   "outputs": [
    {
     "data": {
      "text/plain": "0     148.850006\n1     152.570007\n2     149.800003\n3     148.960007\n4     150.020004\n         ...    \n95    155.089996\n96    159.589996\n97    160.619995\n98    163.979996\n99    165.380005\nName: Close, Length: 100, dtype: float64"
     },
     "execution_count": 3,
     "metadata": {},
     "output_type": "execute_result"
    }
   ],
   "source": [
    "df1=df.reset_index()['Close']\n",
    "df1"
   ],
   "metadata": {
    "collapsed": false,
    "pycharm": {
     "name": "#%%\n"
    }
   }
  },
  {
   "cell_type": "code",
   "execution_count": 4,
   "outputs": [
    {
     "data": {
      "text/plain": "[<matplotlib.lines.Line2D at 0x17cbd99d4c0>]"
     },
     "execution_count": 4,
     "metadata": {},
     "output_type": "execute_result"
    },
    {
     "data": {
      "text/plain": "<Figure size 432x288 with 1 Axes>",
      "image/png": "[encoded data removed]"
     },
     "metadata": {
      "needs_background": "light"
     },
     "output_type": "display_data"
    }
   ],
   "source": [
    "import matplotlib.pyplot as plt\n",
    "plt.plot(df1)"
   ],
   "metadata": {
    "collapsed": false,
    "pycharm": {
     "name": "#%%\n"
    }
   }
  },
  {
   "cell_type": "code",
   "execution_count": 5,
   "outputs": [
    {
     "name": "stdout",
     "output_type": "stream",
     "text": [
      "100\n"
     ]
    }
   ],
   "source": [
    "import numpy as np\n",
    "from sklearn.preprocessing import MinMaxScaler\n",
    "scaler=MinMaxScaler(feature_range=(0,1))\n",
    "df1=scaler.fit_transform(np.array(df1).reshape(-1,1))\n",
    "print(len(df1))"
   ],
   "metadata": {
    "collapsed": false,
    "pycharm": {
     "name": "#%%\n"
    }
   }
  },
  {
   "cell_type": "code",
   "execution_count": 6,
   "outputs": [
    {
     "data": {
      "text/plain": "(65, 35)"
     },
     "execution_count": 6,
     "metadata": {},
     "output_type": "execute_result"
    }
   ],
   "source": [
    "##splitting dataset into train and test split\n",
    "training_size=int(len(df1)*0.65)\n",
    "test_size=len(df1)-training_size\n",
    "train_data,test_data=df1[0:training_size,:],df1[training_size:len(df1),:1]\n",
    "training_size,test_size"
   ],
   "metadata": {
    "collapsed": false,
    "pycharm": {
     "name": "#%%\n"
    }
   }
  },
  {
   "cell_type": "code",
   "execution_count": 7,
   "outputs": [
    {
     "data": {
      "text/plain": "array([[0.02870565],\n       [0.13766878],\n       [0.05653216],\n       [0.0319277 ],\n       [0.06297625],\n       [0.10603428],\n       [0.09051001],\n       [0.09988294],\n       [0.07527848],\n       [0.08611607],\n       [0.00146465],\n       [0.        ],\n       [0.06209755],\n       [0.0623903 ],\n       [0.09168146],\n       [0.16461659],\n       [0.29291155],\n       [0.37141207],\n       [0.38517895],\n       [0.39660248],\n       [0.41212676],\n       [0.26186299],\n       [0.36233189],\n       [0.51054506],\n       [0.49502078],\n       [0.46543643],\n       [0.40919747],\n       [0.51113101],\n       [0.68277674],\n       [0.79701251],\n       [0.78178099],\n       [0.92501472],\n       [0.81634478],\n       [0.77504415],\n       [0.92062122],\n       [0.71441124],\n       [0.68160529],\n       [0.64089061],\n       [0.73579411],\n       [0.81341549],\n       [0.83216181],\n       [0.95079107],\n       [0.92032802],\n       [0.92296457],\n       [0.88840077],\n       [0.86994765],\n       [1.        ],\n       [0.9323375 ],\n       [0.79232582],\n       [0.7067957 ],\n       [0.71177515],\n       [0.71236109],\n       [0.79701251],\n       [0.81019344],\n       [0.71236109],\n       [0.73813745],\n       [0.64235525],\n       [0.53778562],\n       [0.48740479],\n       [0.42589364],\n       [0.40275338],\n       [0.34885776],\n       [0.34622166],\n       [0.33245478],\n       [0.65787953]])"
     },
     "execution_count": 7,
     "metadata": {},
     "output_type": "execute_result"
    }
   ],
   "source": [
    "train_data"
   ],
   "metadata": {
    "collapsed": false,
    "pycharm": {
     "name": "#%%\n"
    }
   }
  },
  {
   "cell_type": "code",
   "execution_count": 8,
   "outputs": [],
   "source": [
    "import numpy\n",
    "# convert an array of values into a dataset matrix\n",
    "def create_dataset(dataset, time_step=1):\n",
    "\tdataX, dataY = [], []\n",
    "\tfor i in range(len(dataset)-time_step-1):\n",
    "\t\ta = dataset[i:(i+time_step), 0]   ###i=0, 0,1,2,3-----99   100\n",
    "\t\tdataX.append(a)\n",
    "\t\tdataY.append(dataset[i + time_step, 0])\n",
    "\treturn numpy.array(dataX), numpy.array(dataY)"
   ],
   "metadata": {
    "collapsed": false,
    "pycharm": {
     "name": "#%%\n"
    }
   }
  },
  {
   "cell_type": "code",
   "execution_count": 9,
   "outputs": [],
   "source": [
    "# reshape into X=t,t+1,t+2,t+3 and Y=t+4\n",
    "time_step = 10\n",
    "X_train, y_train = create_dataset(train_data, time_step)\n",
    "X_test, ytest = create_dataset(test_data, time_step)"
   ],
   "metadata": {
    "collapsed": false,
    "pycharm": {
     "name": "#%%\n"
    }
   }
  },
  {
   "cell_type": "code",
   "execution_count": 10,
   "outputs": [
    {
     "name": "stdout",
     "output_type": "stream",
     "text": [
      "(54, 10)\n",
      "(54,)\n",
      "(24, 10)\n",
      "(24,)\n"
     ]
    },
    {
     "data": {
      "text/plain": "(None, None)"
     },
     "execution_count": 10,
     "metadata": {},
     "output_type": "execute_result"
    }
   ],
   "source": [
    "print(X_train.shape), print(y_train.shape)\n",
    "print(X_test.shape), print(ytest.shape)"
   ],
   "metadata": {
    "collapsed": false,
    "pycharm": {
     "name": "#%%\n"
    }
   }
  },
  {
   "cell_type": "code",
   "execution_count": 11,
   "outputs": [],
   "source": [
    "# reshape input to be [samples, time steps, features] which is required for LSTM\n",
    "X_train =X_train.reshape(X_train.shape[0],X_train.shape[1] , 1)\n",
    "X_test = X_test.reshape(X_test.shape[0],X_test.shape[1] , 1)"
   ],
   "metadata": {
    "collapsed": false,
    "pycharm": {
     "name": "#%%\n"
    }
   }
  },
  {
   "cell_type": "code",
   "execution_count": 12,
   "outputs": [
    {
     "name": "stdout",
     "output_type": "stream",
     "text": [
      "Model: \"sequential\"\n",
      "_________________________________________________________________\n",
      " Layer (type)                Output Shape              Param #   \n",
      "=================================================================\n",
      " lstm (LSTM)                 (None, 10, 50)            10400     \n",
      "                                                                 \n",
      " lstm_1 (LSTM)               (None, 10, 50)            20200     \n",
      "                                                                 \n",
      " lstm_2 (LSTM)               (None, 50)                20200     \n",
      "                                                                 \n",
      " dense (Dense)               (None, 1)                 51        \n",
      "                                                                 \n",
      "=================================================================\n",
      "Total params: 50,851\n",
      "Trainable params: 50,851\n",
      "Non-trainable params: 0\n",
      "_________________________________________________________________\n"
     ]
    }
   ],
   "source": [
    "### Create the Stacked LSTM model\n",
    "from tensorflow.keras.models import Sequential\n",
    "from tensorflow.keras.layers import Dense\n",
    "from tensorflow.keras.layers import LSTM\n",
    "\n",
    "model=Sequential()\n",
    "model.add(LSTM(50,return_sequences=True,input_shape=(10,1)))\n",
    "model.add(LSTM(50,return_sequences=True))\n",
    "model.add(LSTM(50))\n",
    "model.add(Dense(1))\n",
    "model.compile(loss='mean_squared_error',optimizer='adam')\n",
    "model.summary()"
   ],
   "metadata": {
    "collapsed": false,
    "pycharm": {
     "name": "#%%\n"
    }
   }
  },
  {
   "cell_type": "code",
   "execution_count": 13,
   "outputs": [
    {
     "name": "stdout",
     "output_type": "stream",
     "text": [
      "Epoch 1/25\n",
      "6/6 [==============================] - 13s 356ms/step - loss: 0.3333 - val_loss: 0.0477\n",
      "Epoch 2/25\n",
      "6/6 [==============================] - 0s 22ms/step - loss: 0.0937 - val_loss: 0.1063\n",
      "Epoch 3/25\n",
      "6/6 [==============================] - 0s 21ms/step - loss: 0.0514 - val_loss: 0.0399\n",
      "Epoch 4/25\n",
      "6/6 [==============================] - 0s 23ms/step - loss: 0.0371 - val_loss: 0.0195\n",
      "Epoch 5/25\n",
      "6/6 [==============================] - 0s 22ms/step - loss: 0.0377 - val_loss: 0.0357\n",
      "Epoch 6/25\n",
      "6/6 [==============================] - 0s 21ms/step - loss: 0.0335 - val_loss: 0.0604\n",
      "Epoch 7/25\n",
      "6/6 [==============================] - 0s 21ms/step - loss: 0.0327 - val_loss: 0.0331\n",
      "Epoch 8/25\n",
      "6/6 [==============================] - 0s 22ms/step - loss: 0.0348 - val_loss: 0.0259\n",
      "Epoch 9/25\n",
      "6/6 [==============================] - 0s 23ms/step - loss: 0.0358 - val_loss: 0.0505\n",
      "Epoch 10/25\n",
      "6/6 [==============================] - 0s 22ms/step - loss: 0.0350 - val_loss: 0.0334\n",
      "Epoch 11/25\n",
      "6/6 [==============================] - 0s 22ms/step - loss: 0.0326 - val_loss: 0.0462\n",
      "Epoch 12/25\n",
      "6/6 [==============================] - 0s 21ms/step - loss: 0.0324 - val_loss: 0.0372\n",
      "Epoch 13/25\n",
      "6/6 [==============================] - 0s 20ms/step - loss: 0.0319 - val_loss: 0.0261\n",
      "Epoch 14/25\n",
      "6/6 [==============================] - 0s 21ms/step - loss: 0.0331 - val_loss: 0.0379\n",
      "Epoch 15/25\n",
      "6/6 [==============================] - 0s 21ms/step - loss: 0.0315 - val_loss: 0.0486\n",
      "Epoch 16/25\n",
      "6/6 [==============================] - 0s 22ms/step - loss: 0.0325 - val_loss: 0.0443\n",
      "Epoch 17/25\n",
      "6/6 [==============================] - 0s 20ms/step - loss: 0.0319 - val_loss: 0.0346\n",
      "Epoch 18/25\n",
      "6/6 [==============================] - 0s 22ms/step - loss: 0.0319 - val_loss: 0.0359\n",
      "Epoch 19/25\n",
      "6/6 [==============================] - 0s 21ms/step - loss: 0.0308 - val_loss: 0.0498\n",
      "Epoch 20/25\n",
      "6/6 [==============================] - 0s 22ms/step - loss: 0.0311 - val_loss: 0.0336\n",
      "Epoch 21/25\n",
      "6/6 [==============================] - 0s 21ms/step - loss: 0.0387 - val_loss: 0.0223\n",
      "Epoch 22/25\n",
      "6/6 [==============================] - 0s 21ms/step - loss: 0.0355 - val_loss: 0.0682\n",
      "Epoch 23/25\n",
      "6/6 [==============================] - 0s 23ms/step - loss: 0.0346 - val_loss: 0.0333\n",
      "Epoch 24/25\n",
      "6/6 [==============================] - 0s 21ms/step - loss: 0.0343 - val_loss: 0.0225\n",
      "Epoch 25/25\n",
      "6/6 [==============================] - 0s 21ms/step - loss: 0.0321 - val_loss: 0.0419\n"
     ]
    },
    {
     "data": {
      "text/plain": "<keras.callbacks.History at 0x17cc0e0ea90>"
     },
     "execution_count": 13,
     "metadata": {},
     "output_type": "execute_result"
    }
   ],
   "source": [
    "model.fit(X_train,y_train,validation_data=(X_test,ytest),epochs=25,batch_size=10,verbose=1)"
   ],
   "metadata": {
    "collapsed": false,
    "pycharm": {
     "name": "#%%\n"
    }
   }
  },
  {
   "cell_type": "code",
   "execution_count": 14,
   "outputs": [],
   "source": [
    "import tensorflow as tf\n",
    "### Lets Do the prediction and check performance metrics\n",
    "train_predict=model.predict(X_train)\n",
    "test_predict=model.predict(X_test)"
   ],
   "metadata": {
    "collapsed": false,
    "pycharm": {
     "name": "#%%\n"
    }
   }
  },
  {
   "cell_type": "code",
   "execution_count": 15,
   "outputs": [],
   "source": [
    "##Transformback to original form\n",
    "train_predict=scaler.inverse_transform(train_predict)\n",
    "test_predict=scaler.inverse_transform(test_predict)"
   ],
   "metadata": {
    "collapsed": false,
    "pycharm": {
     "name": "#%%\n"
    }
   }
  },
  {
   "cell_type": "code",
   "execution_count": 16,
   "outputs": [
    {
     "data": {
      "text/plain": "167.774578958399"
     },
     "execution_count": 16,
     "metadata": {},
     "output_type": "execute_result"
    }
   ],
   "source": [
    "### Calculate RMSE performance metrics\n",
    "import math\n",
    "from sklearn.metrics import mean_squared_error\n",
    "math.sqrt(mean_squared_error(y_train,train_predict))"
   ],
   "metadata": {
    "collapsed": false,
    "pycharm": {
     "name": "#%%\n"
    }
   }
  },
  {
   "cell_type": "code",
   "execution_count": 17,
   "outputs": [
    {
     "data": {
      "text/plain": "168.23371621620697"
     },
     "execution_count": 17,
     "metadata": {},
     "output_type": "execute_result"
    }
   ],
   "source": [
    "### Test Data RMSE\n",
    "math.sqrt(mean_squared_error(ytest,test_predict))"
   ],
   "metadata": {
    "collapsed": false,
    "pycharm": {
     "name": "#%%\n"
    }
   }
  },
  {
   "cell_type": "code",
   "execution_count": 18,
   "outputs": [
    {
     "data": {
      "text/plain": "<Figure size 432x288 with 1 Axes>",
      "image/png": "[encoded data removed]"
     },
     "metadata": {
      "needs_background": "light"
     },
     "output_type": "display_data"
    }
   ],
   "source": [
    "### Plotting\n",
    "# shift train predictions for plotting\n",
    "look_back=10\n",
    "trainPredictPlot = numpy.empty_like(df1)\n",
    "trainPredictPlot[:, :] = np.nan\n",
    "trainPredictPlot[look_back:len(train_predict)+look_back, :] = train_predict\n",
    "# shift test predictions for plotting\n",
    "testPredictPlot = numpy.empty_like(df1)\n",
    "testPredictPlot[:, :] = numpy.nan\n",
    "testPredictPlot[len(train_predict)+(look_back*2)+1:len(df1)-1, :] = test_predict\n",
    "# plot baseline and predictions\n",
    "plt.plot(scaler.inverse_transform(df1))\n",
    "plt.plot(trainPredictPlot)\n",
    "plt.plot(testPredictPlot)\n",
    "plt.show()"
   ],
   "metadata": {
    "collapsed": false,
    "pycharm": {
     "name": "#%%\n"
    }
   }
  },
  {
   "cell_type": "code",
   "execution_count": 19,
   "outputs": [
    {
     "data": {
      "text/plain": "35"
     },
     "execution_count": 19,
     "metadata": {},
     "output_type": "execute_result"
    }
   ],
   "source": [
    "len(test_data)"
   ],
   "metadata": {
    "collapsed": false,
    "pycharm": {
     "name": "#%%\n"
    }
   }
  },
  {
   "cell_type": "code",
   "execution_count": 35,
   "outputs": [
    {
     "data": {
      "text/plain": "(1, 10)"
     },
     "execution_count": 35,
     "metadata": {},
     "output_type": "execute_result"
    }
   ],
   "source": [
    "x_input=test_data[25:].reshape(1,-1)\n",
    "x_input.shape"
   ],
   "metadata": {
    "collapsed": false,
    "pycharm": {
     "name": "#%%\n"
    }
   }
  },
  {
   "cell_type": "code",
   "execution_count": 36,
   "outputs": [
    {
     "data": {
      "text/plain": "10"
     },
     "execution_count": 36,
     "metadata": {},
     "output_type": "execute_result"
    }
   ],
   "source": [
    "temp_input=list(x_input)\n",
    "temp_input=temp_input[0].tolist()\n",
    "len(temp_input)"
   ],
   "metadata": {
    "collapsed": false,
    "pycharm": {
     "name": "#%%\n"
    }
   }
  },
  {
   "cell_type": "code",
   "execution_count": 37,
   "outputs": [
    {
     "name": "stdout",
     "output_type": "stream",
     "text": [
      "[0.42582124]\n",
      "11\n",
      "1 day input [0.44171066 0.31195106 0.20093734 0.08055068 0.21148217 0.34329237\n",
      " 0.37346222 0.47188052 0.5128884  0.42582124]\n",
      "1 day output [[0.43829572]]\n",
      "2 day input [0.31195106 0.20093734 0.08055068 0.21148217 0.34329237 0.37346222\n",
      " 0.47188052 0.5128884  0.42582124 0.43829572]\n",
      "2 day output [[0.44236007]]\n",
      "3 day input [0.20093734 0.08055068 0.21148217 0.34329237 0.37346222 0.47188052\n",
      " 0.5128884  0.42582124 0.43829572 0.44236007]\n",
      "3 day output [[0.45810953]]\n",
      "4 day input [0.08055068 0.21148217 0.34329237 0.37346222 0.47188052 0.5128884\n",
      " 0.42582124 0.43829572 0.44236007 0.45810953]\n",
      "4 day output [[0.48216596]]\n",
      "5 day input [0.21148217 0.34329237 0.37346222 0.47188052 0.5128884  0.42582124\n",
      " 0.43829572 0.44236007 0.45810953 0.48216596]\n",
      "5 day output [[0.51346976]]\n",
      "6 day input [0.34329237 0.37346222 0.47188052 0.5128884  0.42582124 0.43829572\n",
      " 0.44236007 0.45810953 0.48216596 0.51346976]\n",
      "6 day output [[0.5341375]]\n",
      "7 day input [0.37346222 0.47188052 0.5128884  0.42582124 0.43829572 0.44236007\n",
      " 0.45810953 0.48216596 0.51346976 0.53413749]\n",
      "7 day output [[0.54578984]]\n",
      "8 day input [0.47188052 0.5128884  0.42582124 0.43829572 0.44236007 0.45810953\n",
      " 0.48216596 0.51346976 0.53413749 0.54578984]\n",
      "8 day output [[0.55634487]]\n",
      "9 day input [0.5128884  0.42582124 0.43829572 0.44236007 0.45810953 0.48216596\n",
      " 0.51346976 0.53413749 0.54578984 0.55634487]\n",
      "9 day output [[0.5615381]]\n",
      "[[0.4258212447166443], [0.43829572200775146], [0.4423600733280182], [0.4581095278263092], [0.48216596245765686], [0.5134697556495667], [0.534137487411499], [0.5457898378372192], [0.5563448667526245], [0.5615381002426147]]\n"
     ]
    }
   ],
   "source": [
    "# demonstrate prediction for next 10 days\n",
    "from numpy import array\n",
    "\n",
    "lst_output=[]\n",
    "n_steps=10\n",
    "i=0\n",
    "while(i<10):\n",
    "\n",
    "    if(len(temp_input)>10):\n",
    "        #print(temp_input)\n",
    "        x_input=np.array(temp_input[1:])\n",
    "        print(\"{} day input {}\".format(i,x_input))\n",
    "        x_input=x_input.reshape(1,-1)\n",
    "        x_input = x_input.reshape((1, n_steps, 1))\n",
    "        #print(x_input)\n",
    "        yhat = model.predict(x_input, verbose=0)\n",
    "        print(\"{} day output {}\".format(i,yhat))\n",
    "        temp_input.extend(yhat[0].tolist())\n",
    "        temp_input=temp_input[1:]\n",
    "        #print(temp_input)\n",
    "        lst_output.extend(yhat.tolist())\n",
    "        i=i+1\n",
    "    else:\n",
    "        x_input = x_input.reshape((1, n_steps,1))\n",
    "        yhat = model.predict(x_input, verbose=0)\n",
    "        print(yhat[0])\n",
    "        temp_input.extend(yhat[0].tolist())\n",
    "        print(len(temp_input))\n",
    "        lst_output.extend(yhat.tolist())\n",
    "        i=i+1\n",
    "\n",
    "\n",
    "print(lst_output)"
   ],
   "metadata": {
    "collapsed": false,
    "pycharm": {
     "name": "#%%\n"
    }
   }
  },
  {
   "cell_type": "code",
   "execution_count": 38,
   "outputs": [],
   "source": [
    "day_new=np.arange(1,101)\n",
    "day_pred=np.arange(101,111)"
   ],
   "metadata": {
    "collapsed": false,
    "pycharm": {
     "name": "#%%\n"
    }
   }
  },
  {
   "cell_type": "code",
   "execution_count": 24,
   "outputs": [
    {
     "data": {
      "text/plain": "100"
     },
     "execution_count": 24,
     "metadata": {},
     "output_type": "execute_result"
    }
   ],
   "source": [
    "len(df1)"
   ],
   "metadata": {
    "collapsed": false,
    "pycharm": {
     "name": "#%%\n"
    }
   }
  },
  {
   "cell_type": "code",
   "execution_count": 24,
   "outputs": [],
   "source": [],
   "metadata": {
    "collapsed": false,
    "pycharm": {
     "name": "#%%\n"
    }
   }
  },
  {
   "cell_type": "code",
   "execution_count": 40,
   "outputs": [
    {
     "ename": "ValueError",
     "evalue": "Found array with 0 sample(s) (shape=(0, 1)) while a minimum of 1 is required.",
     "output_type": "error",
     "traceback": [
      "\u001B[1;31m---------------------------------------------------------------------------\u001B[0m",
      "\u001B[1;31mValueError\u001B[0m                                Traceback (most recent call last)",
      "Input \u001B[1;32mIn [40]\u001B[0m, in \u001B[0;36m<module>\u001B[1;34m\u001B[0m\n\u001B[1;32m----> 1\u001B[0m plt\u001B[38;5;241m.\u001B[39mplot(day_new,\u001B[43mscaler\u001B[49m\u001B[38;5;241;43m.\u001B[39;49m\u001B[43minverse_transform\u001B[49m\u001B[43m(\u001B[49m\u001B[43mdf1\u001B[49m\u001B[43m[\u001B[49m\u001B[38;5;241;43m100\u001B[39;49m\u001B[43m:\u001B[49m\u001B[43m]\u001B[49m\u001B[43m)\u001B[49m)\n\u001B[0;32m      2\u001B[0m plt\u001B[38;5;241m.\u001B[39mplot(day_pred,scaler\u001B[38;5;241m.\u001B[39minverse_transform(lst_output))\n",
      "File \u001B[1;32md:\\development\\softwares\\venv\\lib\\site-packages\\sklearn\\preprocessing\\_data.py:525\u001B[0m, in \u001B[0;36mMinMaxScaler.inverse_transform\u001B[1;34m(self, X)\u001B[0m\n\u001B[0;32m    511\u001B[0m \u001B[38;5;124;03m\"\"\"Undo the scaling of X according to feature_range.\u001B[39;00m\n\u001B[0;32m    512\u001B[0m \n\u001B[0;32m    513\u001B[0m \u001B[38;5;124;03mParameters\u001B[39;00m\n\u001B[1;32m   (...)\u001B[0m\n\u001B[0;32m    521\u001B[0m \u001B[38;5;124;03m    Transformed data.\u001B[39;00m\n\u001B[0;32m    522\u001B[0m \u001B[38;5;124;03m\"\"\"\u001B[39;00m\n\u001B[0;32m    523\u001B[0m check_is_fitted(\u001B[38;5;28mself\u001B[39m)\n\u001B[1;32m--> 525\u001B[0m X \u001B[38;5;241m=\u001B[39m \u001B[43mcheck_array\u001B[49m\u001B[43m(\u001B[49m\n\u001B[0;32m    526\u001B[0m \u001B[43m    \u001B[49m\u001B[43mX\u001B[49m\u001B[43m,\u001B[49m\u001B[43m \u001B[49m\u001B[43mcopy\u001B[49m\u001B[38;5;241;43m=\u001B[39;49m\u001B[38;5;28;43mself\u001B[39;49m\u001B[38;5;241;43m.\u001B[39;49m\u001B[43mcopy\u001B[49m\u001B[43m,\u001B[49m\u001B[43m \u001B[49m\u001B[43mdtype\u001B[49m\u001B[38;5;241;43m=\u001B[39;49m\u001B[43mFLOAT_DTYPES\u001B[49m\u001B[43m,\u001B[49m\u001B[43m \u001B[49m\u001B[43mforce_all_finite\u001B[49m\u001B[38;5;241;43m=\u001B[39;49m\u001B[38;5;124;43m\"\u001B[39;49m\u001B[38;5;124;43mallow-nan\u001B[39;49m\u001B[38;5;124;43m\"\u001B[39;49m\n\u001B[0;32m    527\u001B[0m \u001B[43m\u001B[49m\u001B[43m)\u001B[49m\n\u001B[0;32m    529\u001B[0m X \u001B[38;5;241m-\u001B[39m\u001B[38;5;241m=\u001B[39m \u001B[38;5;28mself\u001B[39m\u001B[38;5;241m.\u001B[39mmin_\n\u001B[0;32m    530\u001B[0m X \u001B[38;5;241m/\u001B[39m\u001B[38;5;241m=\u001B[39m \u001B[38;5;28mself\u001B[39m\u001B[38;5;241m.\u001B[39mscale_\n",
      "File \u001B[1;32md:\\development\\softwares\\venv\\lib\\site-packages\\sklearn\\utils\\validation.py:805\u001B[0m, in \u001B[0;36mcheck_array\u001B[1;34m(array, accept_sparse, accept_large_sparse, dtype, order, copy, force_all_finite, ensure_2d, allow_nd, ensure_min_samples, ensure_min_features, estimator)\u001B[0m\n\u001B[0;32m    803\u001B[0m     n_samples \u001B[38;5;241m=\u001B[39m _num_samples(array)\n\u001B[0;32m    804\u001B[0m     \u001B[38;5;28;01mif\u001B[39;00m n_samples \u001B[38;5;241m<\u001B[39m ensure_min_samples:\n\u001B[1;32m--> 805\u001B[0m         \u001B[38;5;28;01mraise\u001B[39;00m \u001B[38;5;167;01mValueError\u001B[39;00m(\n\u001B[0;32m    806\u001B[0m             \u001B[38;5;124m\"\u001B[39m\u001B[38;5;124mFound array with \u001B[39m\u001B[38;5;132;01m%d\u001B[39;00m\u001B[38;5;124m sample(s) (shape=\u001B[39m\u001B[38;5;132;01m%s\u001B[39;00m\u001B[38;5;124m) while a\u001B[39m\u001B[38;5;124m\"\u001B[39m\n\u001B[0;32m    807\u001B[0m             \u001B[38;5;124m\"\u001B[39m\u001B[38;5;124m minimum of \u001B[39m\u001B[38;5;132;01m%d\u001B[39;00m\u001B[38;5;124m is required\u001B[39m\u001B[38;5;132;01m%s\u001B[39;00m\u001B[38;5;124m.\u001B[39m\u001B[38;5;124m\"\u001B[39m\n\u001B[0;32m    808\u001B[0m             \u001B[38;5;241m%\u001B[39m (n_samples, array\u001B[38;5;241m.\u001B[39mshape, ensure_min_samples, context)\n\u001B[0;32m    809\u001B[0m         )\n\u001B[0;32m    811\u001B[0m \u001B[38;5;28;01mif\u001B[39;00m ensure_min_features \u001B[38;5;241m>\u001B[39m \u001B[38;5;241m0\u001B[39m \u001B[38;5;129;01mand\u001B[39;00m array\u001B[38;5;241m.\u001B[39mndim \u001B[38;5;241m==\u001B[39m \u001B[38;5;241m2\u001B[39m:\n\u001B[0;32m    812\u001B[0m     n_features \u001B[38;5;241m=\u001B[39m array\u001B[38;5;241m.\u001B[39mshape[\u001B[38;5;241m1\u001B[39m]\n",
      "\u001B[1;31mValueError\u001B[0m: Found array with 0 sample(s) (shape=(0, 1)) while a minimum of 1 is required."
     ]
    }
   ],
   "source": [
    "# plt.plot(day_new,scaler.inverse_transform(df1[100:]))\n",
    "plt.plot(day_pred,scaler.inverse_transform(lst_output))"
   ],
   "metadata": {
    "collapsed": false,
    "pycharm": {
     "name": "#%%\n"
    }
   }
  }
 ],
 "metadata": {
  "kernelspec": {
   "display_name": "Python 3",
   "language": "python",
   "name": "python3"
  },
  "language_info": {
   "codemirror_mode": {
    "name": "ipython",
    "version": 2
   },
   "file_extension": ".py",
   "mimetype": "text/x-python",
   "name": "python",
   "nbconvert_exporter": "python",
   "pygments_lexer": "ipython2",
   "version": "2.7.6"
  }
 },
 "nbformat": 4,
 "nbformat_minor": 0
}