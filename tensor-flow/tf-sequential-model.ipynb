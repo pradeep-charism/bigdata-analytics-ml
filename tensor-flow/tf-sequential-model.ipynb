{
 "cells": [
  {
   "cell_type": "code",
   "execution_count": null,
   "outputs": [],
   "source": [
    "import pandas as pd\n",
    "import numpy as np\n",
    "\n",
    "import os, datetime\n",
    "import seaborn as sns\n",
    "import matplotlib.pyplot as plt\n",
    "from pyspark.ml.feature import StandardScaler\n",
    "\n",
    "from sklearn.metrics import r2_score\n",
    "from sklearn.preprocessing import StandardScaler\n",
    "\n",
    "import tensorflow as tf\n",
    "\n",
    "from tensorflow import keras\n",
    "from tensorflow.keras import layers"
   ],
   "metadata": {
    "collapsed": false,
    "pycharm": {
     "name": "#%%\n"
    }
   }
  },
  {
   "cell_type": "code",
   "execution_count": 7,
   "outputs": [
    {
     "data": {
      "text/plain": "                                        Country  Year      Status  \\\n1588                                   Malaysia  2013  Developing   \n1587                                   Malaysia  2014  Developing   \n640                                  Costa Rica  2000  Developing   \n2673                                    Tunisia  2007  Developing   \n2596  The former Yugoslav republic of Macedonia  2004  Developing   \n\n      Life expectancy   Adult Mortality  infant deaths  Alcohol  \\\n1588              74.6            128.0              3     0.53   \n1587              74.8            126.0              4     0.52   \n640               77.6             98.0              1     4.34   \n2673              74.6             12.0              3     1.24   \n2596              73.5             12.0              0     2.07   \n\n      percentage expenditure  Hepatitis B  Measles   ...  Polio  \\\n1588              110.677971         96.0       195  ...   97.0   \n1587              721.365543         96.0       221  ...   97.0   \n640                94.178195         89.0         0  ...    8.0   \n2673              469.628292         98.0         4  ...   98.0   \n2596                0.000000          NaN         9  ...   95.0   \n\n      Total expenditure  Diphtheria    HIV/AIDS           GDP  Population  \\\n1588               4.20         97.0        0.1   1882.278420   2976724.0   \n1587               4.17         97.0        0.1  11183.961910    322817.0   \n640                7.12         88.0        0.1    388.363689   3925443.0   \n2673               5.64         98.0        0.1   3778.184171    129887.0   \n2596               8.64         94.0        0.1           NaN         NaN   \n\n       thinness  1-19 years   thinness 5-9 years  \\\n1588                    7.8                  7.6   \n1587                    7.6                  7.4   \n640                     2.4                  2.3   \n2673                    6.3                  6.3   \n2596                    2.6                  2.6   \n\n      Income composition of resources  Schooling  \n1588                            0.779       12.9  \n1587                            0.783       13.0  \n640                             0.702       11.6  \n2673                            0.695       14.3  \n2596                            0.000       11.9  \n\n[5 rows x 22 columns]",
      "text/html": "<div>\n<style scoped>\n    .dataframe tbody tr th:only-of-type {\n        vertical-align: middle;\n    }\n\n    .dataframe tbody tr th {\n        vertical-align: top;\n    }\n\n    .dataframe thead th {\n        text-align: right;\n    }\n</style>\n<table border=\"1\" class=\"dataframe\">\n  <thead>\n    <tr style=\"text-align: right;\">\n      <th></th>\n      <th>Country</th>\n      <th>Year</th>\n      <th>Status</th>\n      <th>Life expectancy</th>\n      <th>Adult Mortality</th>\n      <th>infant deaths</th>\n      <th>Alcohol</th>\n      <th>percentage expenditure</th>\n      <th>Hepatitis B</th>\n      <th>Measles</th>\n      <th>...</th>\n      <th>Polio</th>\n      <th>Total expenditure</th>\n      <th>Diphtheria</th>\n      <th>HIV/AIDS</th>\n      <th>GDP</th>\n      <th>Population</th>\n      <th>thinness  1-19 years</th>\n      <th>thinness 5-9 years</th>\n      <th>Income composition of resources</th>\n      <th>Schooling</th>\n    </tr>\n  </thead>\n  <tbody>\n    <tr>\n      <th>1588</th>\n      <td>Malaysia</td>\n      <td>2013</td>\n      <td>Developing</td>\n      <td>74.6</td>\n      <td>128.0</td>\n      <td>3</td>\n      <td>0.53</td>\n      <td>110.677971</td>\n      <td>96.0</td>\n      <td>195</td>\n      <td>...</td>\n      <td>97.0</td>\n      <td>4.20</td>\n      <td>97.0</td>\n      <td>0.1</td>\n      <td>1882.278420</td>\n      <td>2976724.0</td>\n      <td>7.8</td>\n      <td>7.6</td>\n      <td>0.779</td>\n      <td>12.9</td>\n    </tr>\n    <tr>\n      <th>1587</th>\n      <td>Malaysia</td>\n      <td>2014</td>\n      <td>Developing</td>\n      <td>74.8</td>\n      <td>126.0</td>\n      <td>4</td>\n      <td>0.52</td>\n      <td>721.365543</td>\n      <td>96.0</td>\n      <td>221</td>\n      <td>...</td>\n      <td>97.0</td>\n      <td>4.17</td>\n      <td>97.0</td>\n      <td>0.1</td>\n      <td>11183.961910</td>\n      <td>322817.0</td>\n      <td>7.6</td>\n      <td>7.4</td>\n      <td>0.783</td>\n      <td>13.0</td>\n    </tr>\n    <tr>\n      <th>640</th>\n      <td>Costa Rica</td>\n      <td>2000</td>\n      <td>Developing</td>\n      <td>77.6</td>\n      <td>98.0</td>\n      <td>1</td>\n      <td>4.34</td>\n      <td>94.178195</td>\n      <td>89.0</td>\n      <td>0</td>\n      <td>...</td>\n      <td>8.0</td>\n      <td>7.12</td>\n      <td>88.0</td>\n      <td>0.1</td>\n      <td>388.363689</td>\n      <td>3925443.0</td>\n      <td>2.4</td>\n      <td>2.3</td>\n      <td>0.702</td>\n      <td>11.6</td>\n    </tr>\n    <tr>\n      <th>2673</th>\n      <td>Tunisia</td>\n      <td>2007</td>\n      <td>Developing</td>\n      <td>74.6</td>\n      <td>12.0</td>\n      <td>3</td>\n      <td>1.24</td>\n      <td>469.628292</td>\n      <td>98.0</td>\n      <td>4</td>\n      <td>...</td>\n      <td>98.0</td>\n      <td>5.64</td>\n      <td>98.0</td>\n      <td>0.1</td>\n      <td>3778.184171</td>\n      <td>129887.0</td>\n      <td>6.3</td>\n      <td>6.3</td>\n      <td>0.695</td>\n      <td>14.3</td>\n    </tr>\n    <tr>\n      <th>2596</th>\n      <td>The former Yugoslav republic of Macedonia</td>\n      <td>2004</td>\n      <td>Developing</td>\n      <td>73.5</td>\n      <td>12.0</td>\n      <td>0</td>\n      <td>2.07</td>\n      <td>0.000000</td>\n      <td>NaN</td>\n      <td>9</td>\n      <td>...</td>\n      <td>95.0</td>\n      <td>8.64</td>\n      <td>94.0</td>\n      <td>0.1</td>\n      <td>NaN</td>\n      <td>NaN</td>\n      <td>2.6</td>\n      <td>2.6</td>\n      <td>0.000</td>\n      <td>11.9</td>\n    </tr>\n  </tbody>\n</table>\n<p>5 rows × 22 columns</p>\n</div>"
     },
     "execution_count": 7,
     "metadata": {},
     "output_type": "execute_result"
    }
   ],
   "source": [
    "data = pd.read_csv(\"datasets/life_expectancy_data.csv\")\n",
    "data.sample(5)"
   ],
   "metadata": {
    "collapsed": false,
    "pycharm": {
     "name": "#%%\n"
    }
   }
  },
  {
   "cell_type": "code",
   "execution_count": 9,
   "outputs": [
    {
     "data": {
      "text/plain": "Country                              0\nYear                                 0\nStatus                               0\nLife expectancy                     10\nAdult Mortality                     10\ninfant deaths                        0\nAlcohol                            194\npercentage expenditure               0\nHepatitis B                        553\nMeasles                              0\n BMI                                34\nunder-five deaths                    0\nPolio                               19\nTotal expenditure                  226\nDiphtheria                          19\n HIV/AIDS                            0\nGDP                                448\nPopulation                         652\n thinness  1-19 years               34\n thinness 5-9 years                 34\nIncome composition of resources    167\nSchooling                          163\ndtype: int64"
     },
     "execution_count": 9,
     "metadata": {},
     "output_type": "execute_result"
    }
   ],
   "source": [
    "data.isna().sum()"
   ],
   "metadata": {
    "collapsed": false,
    "pycharm": {
     "name": "#%%\n"
    }
   }
  },
  {
   "cell_type": "code",
   "execution_count": 10,
   "outputs": [
    {
     "data": {
      "text/plain": "(1649, 22)"
     },
     "execution_count": 10,
     "metadata": {},
     "output_type": "execute_result"
    }
   ],
   "source": [
    "data = data.dropna()\n",
    "data.shape"
   ],
   "metadata": {
    "collapsed": false,
    "pycharm": {
     "name": "#%%\n"
    }
   }
  },
  {
   "cell_type": "code",
   "execution_count": 12,
   "outputs": [
    {
     "data": {
      "text/plain": "                     Country  Year      Status  Life expectancy   \\\n552                    Chile  2007  Developing              78.9   \n1982        Papua New Guinea  2008  Developing              61.4   \n1531               Lithuania  2006   Developed              76.0   \n1971                  Panama  2003  Developing              75.5   \n328   Bosnia and Herzegovina  2007  Developing              75.4   \n\n      Adult Mortality  infant deaths  Alcohol  percentage expenditure  \\\n552               9.0              2     7.39              209.487587   \n1982             29.0             11     0.81              103.727773   \n1531            229.0              0    12.70              116.504961   \n1971            126.0              1     5.52               58.459760   \n328              16.0              0     5.16                8.240356   \n\n      Hepatitis B  Measles   ...  Polio  Total expenditure  Diphtheria   \\\n552          92.0         0  ...   95.0               6.35         96.0   \n1982         59.0         0  ...   76.0               4.60         63.0   \n1531         95.0         1  ...   94.0               6.20         94.0   \n1971         98.0         0  ...   95.0               7.60         98.0   \n328          94.0       166  ...   95.0               8.37         95.0   \n\n       HIV/AIDS          GDP  Population   thinness  1-19 years  \\\n552         0.1  1526.877460  16491687.0                    0.9   \n1982        1.3  1178.724690   6787187.0                    1.4   \n1531        0.1   924.642548    326999.0                    3.0   \n1971        0.1  4267.135780    329174.0                    2.2   \n328         0.1   418.292176      3774.0                    2.8   \n\n       thinness 5-9 years  Income composition of resources  Schooling  \n552                   0.9                            0.797       14.8  \n1982                  1.3                            0.469        8.9  \n1531                  3.0                            0.807       16.4  \n1971                  2.2                            0.728       12.8  \n328                   2.8                            0.703       12.9  \n\n[5 rows x 22 columns]",
      "text/html": "<div>\n<style scoped>\n    .dataframe tbody tr th:only-of-type {\n        vertical-align: middle;\n    }\n\n    .dataframe tbody tr th {\n        vertical-align: top;\n    }\n\n    .dataframe thead th {\n        text-align: right;\n    }\n</style>\n<table border=\"1\" class=\"dataframe\">\n  <thead>\n    <tr style=\"text-align: right;\">\n      <th></th>\n      <th>Country</th>\n      <th>Year</th>\n      <th>Status</th>\n      <th>Life expectancy</th>\n      <th>Adult Mortality</th>\n      <th>infant deaths</th>\n      <th>Alcohol</th>\n      <th>percentage expenditure</th>\n      <th>Hepatitis B</th>\n      <th>Measles</th>\n      <th>...</th>\n      <th>Polio</th>\n      <th>Total expenditure</th>\n      <th>Diphtheria</th>\n      <th>HIV/AIDS</th>\n      <th>GDP</th>\n      <th>Population</th>\n      <th>thinness  1-19 years</th>\n      <th>thinness 5-9 years</th>\n      <th>Income composition of resources</th>\n      <th>Schooling</th>\n    </tr>\n  </thead>\n  <tbody>\n    <tr>\n      <th>552</th>\n      <td>Chile</td>\n      <td>2007</td>\n      <td>Developing</td>\n      <td>78.9</td>\n      <td>9.0</td>\n      <td>2</td>\n      <td>7.39</td>\n      <td>209.487587</td>\n      <td>92.0</td>\n      <td>0</td>\n      <td>...</td>\n      <td>95.0</td>\n      <td>6.35</td>\n      <td>96.0</td>\n      <td>0.1</td>\n      <td>1526.877460</td>\n      <td>16491687.0</td>\n      <td>0.9</td>\n      <td>0.9</td>\n      <td>0.797</td>\n      <td>14.8</td>\n    </tr>\n    <tr>\n      <th>1982</th>\n      <td>Papua New Guinea</td>\n      <td>2008</td>\n      <td>Developing</td>\n      <td>61.4</td>\n      <td>29.0</td>\n      <td>11</td>\n      <td>0.81</td>\n      <td>103.727773</td>\n      <td>59.0</td>\n      <td>0</td>\n      <td>...</td>\n      <td>76.0</td>\n      <td>4.60</td>\n      <td>63.0</td>\n      <td>1.3</td>\n      <td>1178.724690</td>\n      <td>6787187.0</td>\n      <td>1.4</td>\n      <td>1.3</td>\n      <td>0.469</td>\n      <td>8.9</td>\n    </tr>\n    <tr>\n      <th>1531</th>\n      <td>Lithuania</td>\n      <td>2006</td>\n      <td>Developed</td>\n      <td>76.0</td>\n      <td>229.0</td>\n      <td>0</td>\n      <td>12.70</td>\n      <td>116.504961</td>\n      <td>95.0</td>\n      <td>1</td>\n      <td>...</td>\n      <td>94.0</td>\n      <td>6.20</td>\n      <td>94.0</td>\n      <td>0.1</td>\n      <td>924.642548</td>\n      <td>326999.0</td>\n      <td>3.0</td>\n      <td>3.0</td>\n      <td>0.807</td>\n      <td>16.4</td>\n    </tr>\n    <tr>\n      <th>1971</th>\n      <td>Panama</td>\n      <td>2003</td>\n      <td>Developing</td>\n      <td>75.5</td>\n      <td>126.0</td>\n      <td>1</td>\n      <td>5.52</td>\n      <td>58.459760</td>\n      <td>98.0</td>\n      <td>0</td>\n      <td>...</td>\n      <td>95.0</td>\n      <td>7.60</td>\n      <td>98.0</td>\n      <td>0.1</td>\n      <td>4267.135780</td>\n      <td>329174.0</td>\n      <td>2.2</td>\n      <td>2.2</td>\n      <td>0.728</td>\n      <td>12.8</td>\n    </tr>\n    <tr>\n      <th>328</th>\n      <td>Bosnia and Herzegovina</td>\n      <td>2007</td>\n      <td>Developing</td>\n      <td>75.4</td>\n      <td>16.0</td>\n      <td>0</td>\n      <td>5.16</td>\n      <td>8.240356</td>\n      <td>94.0</td>\n      <td>166</td>\n      <td>...</td>\n      <td>95.0</td>\n      <td>8.37</td>\n      <td>95.0</td>\n      <td>0.1</td>\n      <td>418.292176</td>\n      <td>3774.0</td>\n      <td>2.8</td>\n      <td>2.8</td>\n      <td>0.703</td>\n      <td>12.9</td>\n    </tr>\n  </tbody>\n</table>\n<p>5 rows × 22 columns</p>\n</div>"
     },
     "execution_count": 12,
     "metadata": {},
     "output_type": "execute_result"
    }
   ],
   "source": [
    "data.sample(5)"
   ],
   "metadata": {
    "collapsed": false,
    "pycharm": {
     "name": "#%%\n"
    }
   }
  },
  {
   "cell_type": "code",
   "execution_count": 13,
   "outputs": [
    {
     "data": {
      "text/plain": "Developing    1407\nDeveloped      242\nName: Status, dtype: int64"
     },
     "execution_count": 13,
     "metadata": {},
     "output_type": "execute_result"
    }
   ],
   "source": [
    "data[\"Status\"].value_counts()"
   ],
   "metadata": {
    "collapsed": false,
    "pycharm": {
     "name": "#%%\n"
    }
   }
  },
  {
   "cell_type": "code",
   "execution_count": 14,
   "outputs": [
    {
     "data": {
      "text/plain": "Afghanistan          16\nAlbania              16\nKiribati             15\nMexico               15\nMauritius            15\n                     ..\nIreland               5\nSweden                4\nNetherlands           4\nHaiti                 2\nEquatorial Guinea     1\nName: Country, Length: 133, dtype: int64"
     },
     "execution_count": 14,
     "metadata": {},
     "output_type": "execute_result"
    }
   ],
   "source": [
    "data[\"Country\"].value_counts()"
   ],
   "metadata": {
    "collapsed": false,
    "pycharm": {
     "name": "#%%\n"
    }
   }
  },
  {
   "cell_type": "code",
   "execution_count": 16,
   "outputs": [
    {
     "data": {
      "text/plain": "<Figure size 720x576 with 1 Axes>",
      "image/png": "[encoded data removed]"
     },
     "metadata": {
      "needs_background": "light"
     },
     "output_type": "display_data"
    }
   ],
   "source": [
    "plt.figure(figsize=(10, 8))\n",
    "data.boxplot('Life expectancy ')\n",
    "plt.show()"
   ],
   "metadata": {
    "collapsed": false,
    "pycharm": {
     "name": "#%%\n"
    }
   }
  },
  {
   "cell_type": "code",
   "execution_count": 20,
   "outputs": [
    {
     "name": "stderr",
     "output_type": "stream",
     "text": [
      "d:\\development\\softwares\\venv\\lib\\site-packages\\seaborn\\_decorators.py:36: FutureWarning: Pass the following variables as keyword args: x, y. From version 0.12, the only valid positional argument will be `data`, and passing other arguments without an explicit keyword will result in an error or misinterpretation.\n",
      "  warnings.warn(\n"
     ]
    },
    {
     "data": {
      "text/plain": "<Figure size 576x432 with 1 Axes>",
      "image/png": "[encoded data removed]"
     },
     "metadata": {
      "needs_background": "light"
     },
     "output_type": "display_data"
    }
   ],
   "source": [
    "plt.figure(figsize=(8,6))\n",
    "sns.boxplot('Status', 'Life expectancy ', data=data)\n",
    "plt.xlabel('Status', fontsize=16)\n",
    "plt.ylabel('Total expenditure', fontsize=16)\n",
    "plt.show()"
   ],
   "metadata": {
    "collapsed": false,
    "pycharm": {
     "name": "#%%\n"
    }
   }
  },
  {
   "cell_type": "code",
   "execution_count": 22,
   "outputs": [
    {
     "data": {
      "text/plain": "                   Life expectancy   Adult Mortality  Schooling  \\\nLife expectancy            1.000000        -0.702523   0.727630   \nAdult Mortality           -0.702523         1.000000  -0.421171   \nSchooling                  0.727630        -0.421171   1.000000   \nTotal expenditure          0.174718        -0.085227   0.243783   \nDiphtheria                 0.341331        -0.191429   0.350398   \nGDP                        0.441322        -0.255035   0.467947   \nPopulation                -0.022305        -0.015012  -0.040312   \n\n                   Total expenditure  Diphtheria        GDP  Population  \nLife expectancy             0.174718     0.341331  0.441322   -0.022305  \nAdult Mortality            -0.085227    -0.191429 -0.255035   -0.015012  \nSchooling                   0.243783     0.350398  0.467947   -0.040312  \nTotal expenditure           1.000000     0.129915  0.180373   -0.079962  \nDiphtheria                  0.129915     1.000000  0.158438   -0.039898  \nGDP                         0.180373     0.158438  1.000000   -0.020369  \nPopulation                 -0.079962    -0.039898 -0.020369    1.000000  ",
      "text/html": "<div>\n<style scoped>\n    .dataframe tbody tr th:only-of-type {\n        vertical-align: middle;\n    }\n\n    .dataframe tbody tr th {\n        vertical-align: top;\n    }\n\n    .dataframe thead th {\n        text-align: right;\n    }\n</style>\n<table border=\"1\" class=\"dataframe\">\n  <thead>\n    <tr style=\"text-align: right;\">\n      <th></th>\n      <th>Life expectancy</th>\n      <th>Adult Mortality</th>\n      <th>Schooling</th>\n      <th>Total expenditure</th>\n      <th>Diphtheria</th>\n      <th>GDP</th>\n      <th>Population</th>\n    </tr>\n  </thead>\n  <tbody>\n    <tr>\n      <th>Life expectancy</th>\n      <td>1.000000</td>\n      <td>-0.702523</td>\n      <td>0.727630</td>\n      <td>0.174718</td>\n      <td>0.341331</td>\n      <td>0.441322</td>\n      <td>-0.022305</td>\n    </tr>\n    <tr>\n      <th>Adult Mortality</th>\n      <td>-0.702523</td>\n      <td>1.000000</td>\n      <td>-0.421171</td>\n      <td>-0.085227</td>\n      <td>-0.191429</td>\n      <td>-0.255035</td>\n      <td>-0.015012</td>\n    </tr>\n    <tr>\n      <th>Schooling</th>\n      <td>0.727630</td>\n      <td>-0.421171</td>\n      <td>1.000000</td>\n      <td>0.243783</td>\n      <td>0.350398</td>\n      <td>0.467947</td>\n      <td>-0.040312</td>\n    </tr>\n    <tr>\n      <th>Total expenditure</th>\n      <td>0.174718</td>\n      <td>-0.085227</td>\n      <td>0.243783</td>\n      <td>1.000000</td>\n      <td>0.129915</td>\n      <td>0.180373</td>\n      <td>-0.079962</td>\n    </tr>\n    <tr>\n      <th>Diphtheria</th>\n      <td>0.341331</td>\n      <td>-0.191429</td>\n      <td>0.350398</td>\n      <td>0.129915</td>\n      <td>1.000000</td>\n      <td>0.158438</td>\n      <td>-0.039898</td>\n    </tr>\n    <tr>\n      <th>GDP</th>\n      <td>0.441322</td>\n      <td>-0.255035</td>\n      <td>0.467947</td>\n      <td>0.180373</td>\n      <td>0.158438</td>\n      <td>1.000000</td>\n      <td>-0.020369</td>\n    </tr>\n    <tr>\n      <th>Population</th>\n      <td>-0.022305</td>\n      <td>-0.015012</td>\n      <td>-0.040312</td>\n      <td>-0.079962</td>\n      <td>-0.039898</td>\n      <td>-0.020369</td>\n      <td>1.000000</td>\n    </tr>\n  </tbody>\n</table>\n</div>"
     },
     "execution_count": 22,
     "metadata": {},
     "output_type": "execute_result"
    }
   ],
   "source": [
    "data_corr = data[['Life expectancy ', 'Adult Mortality', 'Schooling', 'Total expenditure', 'Diphtheria ', 'GDP', 'Population']].corr()\n",
    "data_corr"
   ],
   "metadata": {
    "collapsed": false,
    "pycharm": {
     "name": "#%%\n"
    }
   }
  },
  {
   "cell_type": "code",
   "execution_count": 23,
   "outputs": [
    {
     "data": {
      "text/plain": "<Figure size 864x576 with 2 Axes>",
      "image/png": "[encoded data removed]"
     },
     "metadata": {
      "needs_background": "light"
     },
     "output_type": "display_data"
    }
   ],
   "source": [
    "fig, ax = plt.subplots(figsize=(12, 8))\n",
    "sns.heatmap(data_corr, annot=True)\n",
    "plt.show()"
   ],
   "metadata": {
    "collapsed": false,
    "pycharm": {
     "name": "#%%\n"
    }
   }
  },
  {
   "cell_type": "code",
   "execution_count": 25,
   "outputs": [
    {
     "data": {
      "text/plain": "Index(['Country', 'Year', 'Status', 'Adult Mortality', 'infant deaths',\n       'Alcohol', 'percentage expenditure', 'Hepatitis B', 'Measles ', ' BMI ',\n       'under-five deaths ', 'Polio', 'Total expenditure', 'Diphtheria ',\n       ' HIV/AIDS', 'GDP', 'Population', ' thinness  1-19 years',\n       ' thinness 5-9 years', 'Income composition of resources', 'Schooling'],\n      dtype='object')"
     },
     "execution_count": 25,
     "metadata": {},
     "output_type": "execute_result"
    }
   ],
   "source": [
    "features = data.drop('Life expectancy ', axis=1)\n",
    "target = data[['Life expectancy ']]\n",
    "features.columns"
   ],
   "metadata": {
    "collapsed": false,
    "pycharm": {
     "name": "#%%\n"
    }
   }
  },
  {
   "cell_type": "code",
   "execution_count": 27,
   "outputs": [
    {
     "data": {
      "text/plain": "      Life expectancy \n1472              73.0\n1866              73.2\n386               74.1\n938               89.0\n1375              52.1",
      "text/html": "<div>\n<style scoped>\n    .dataframe tbody tr th:only-of-type {\n        vertical-align: middle;\n    }\n\n    .dataframe tbody tr th {\n        vertical-align: top;\n    }\n\n    .dataframe thead th {\n        text-align: right;\n    }\n</style>\n<table border=\"1\" class=\"dataframe\">\n  <thead>\n    <tr style=\"text-align: right;\">\n      <th></th>\n      <th>Life expectancy</th>\n    </tr>\n  </thead>\n  <tbody>\n    <tr>\n      <th>1472</th>\n      <td>73.0</td>\n    </tr>\n    <tr>\n      <th>1866</th>\n      <td>73.2</td>\n    </tr>\n    <tr>\n      <th>386</th>\n      <td>74.1</td>\n    </tr>\n    <tr>\n      <th>938</th>\n      <td>89.0</td>\n    </tr>\n    <tr>\n      <th>1375</th>\n      <td>52.1</td>\n    </tr>\n  </tbody>\n</table>\n</div>"
     },
     "execution_count": 27,
     "metadata": {},
     "output_type": "execute_result"
    }
   ],
   "source": [
    "target.sample(5)"
   ],
   "metadata": {
    "collapsed": false,
    "pycharm": {
     "name": "#%%\n"
    }
   }
  },
  {
   "cell_type": "code",
   "execution_count": 40,
   "outputs": [
    {
     "data": {
      "text/plain": "Index(['Year', 'Status', 'Adult Mortality', 'infant deaths', 'Alcohol',\n       'percentage expenditure', 'Hepatitis B', 'Measles ', ' BMI ',\n       'under-five deaths ', 'Polio', 'Total expenditure', 'Diphtheria ',\n       ' HIV/AIDS', 'GDP', 'Population', ' thinness  1-19 years',\n       ' thinness 5-9 years', 'Income composition of resources', 'Schooling'],\n      dtype='object')"
     },
     "execution_count": 40,
     "metadata": {},
     "output_type": "execute_result"
    }
   ],
   "source": [
    "features = features.drop('Country', axis=1)\n",
    "features.columns"
   ],
   "metadata": {
    "collapsed": false,
    "pycharm": {
     "name": "#%%\n"
    }
   }
  },
  {
   "cell_type": "code",
   "execution_count": 41,
   "outputs": [
    {
     "data": {
      "text/plain": "0    Developing\n1    Developing\n2    Developing\n3    Developing\n4    Developing\nName: Status, dtype: object"
     },
     "execution_count": 41,
     "metadata": {},
     "output_type": "execute_result"
    }
   ],
   "source": [
    "categorical_features = features['Status'].copy()\n",
    "categorical_features.head()"
   ],
   "metadata": {
    "collapsed": false,
    "pycharm": {
     "name": "#%%\n"
    }
   }
  },
  {
   "cell_type": "code",
   "execution_count": 42,
   "outputs": [
    {
     "data": {
      "text/plain": "   Developed  Developing\n0          0           1\n1          0           1\n2          0           1\n3          0           1\n4          0           1",
      "text/html": "<div>\n<style scoped>\n    .dataframe tbody tr th:only-of-type {\n        vertical-align: middle;\n    }\n\n    .dataframe tbody tr th {\n        vertical-align: top;\n    }\n\n    .dataframe thead th {\n        text-align: right;\n    }\n</style>\n<table border=\"1\" class=\"dataframe\">\n  <thead>\n    <tr style=\"text-align: right;\">\n      <th></th>\n      <th>Developed</th>\n      <th>Developing</th>\n    </tr>\n  </thead>\n  <tbody>\n    <tr>\n      <th>0</th>\n      <td>0</td>\n      <td>1</td>\n    </tr>\n    <tr>\n      <th>1</th>\n      <td>0</td>\n      <td>1</td>\n    </tr>\n    <tr>\n      <th>2</th>\n      <td>0</td>\n      <td>1</td>\n    </tr>\n    <tr>\n      <th>3</th>\n      <td>0</td>\n      <td>1</td>\n    </tr>\n    <tr>\n      <th>4</th>\n      <td>0</td>\n      <td>1</td>\n    </tr>\n  </tbody>\n</table>\n</div>"
     },
     "execution_count": 42,
     "metadata": {},
     "output_type": "execute_result"
    }
   ],
   "source": [
    "categorical_features = pd.get_dummies(categorical_features)\n",
    "categorical_features.head()"
   ],
   "metadata": {
    "collapsed": false,
    "pycharm": {
     "name": "#%%\n"
    }
   }
  },
  {
   "cell_type": "code",
   "execution_count": 43,
   "outputs": [
    {
     "data": {
      "text/plain": "   Year  Adult Mortality  infant deaths  Alcohol  percentage expenditure  \\\n0  2015            263.0             62     0.01               71.279624   \n1  2014            271.0             64     0.01               73.523582   \n2  2013            268.0             66     0.01               73.219243   \n3  2012            272.0             69     0.01               78.184215   \n4  2011            275.0             71     0.01                7.097109   \n\n   Hepatitis B  Measles    BMI   under-five deaths   Polio  Total expenditure  \\\n0         65.0      1154   19.1                  83    6.0               8.16   \n1         62.0       492   18.6                  86   58.0               8.18   \n2         64.0       430   18.1                  89   62.0               8.13   \n3         67.0      2787   17.6                  93   67.0               8.52   \n4         68.0      3013   17.2                  97   68.0               7.87   \n\n   Diphtheria    HIV/AIDS         GDP  Population   thinness  1-19 years  \\\n0         65.0        0.1  584.259210  33736494.0                   17.2   \n1         62.0        0.1  612.696514    327582.0                   17.5   \n2         64.0        0.1  631.744976  31731688.0                   17.7   \n3         67.0        0.1  669.959000   3696958.0                   17.9   \n4         68.0        0.1   63.537231   2978599.0                   18.2   \n\n    thinness 5-9 years  Income composition of resources  Schooling  \n0                 17.3                            0.479       10.1  \n1                 17.5                            0.476       10.0  \n2                 17.7                            0.470        9.9  \n3                 18.0                            0.463        9.8  \n4                 18.2                            0.454        9.5  ",
      "text/html": "<div>\n<style scoped>\n    .dataframe tbody tr th:only-of-type {\n        vertical-align: middle;\n    }\n\n    .dataframe tbody tr th {\n        vertical-align: top;\n    }\n\n    .dataframe thead th {\n        text-align: right;\n    }\n</style>\n<table border=\"1\" class=\"dataframe\">\n  <thead>\n    <tr style=\"text-align: right;\">\n      <th></th>\n      <th>Year</th>\n      <th>Adult Mortality</th>\n      <th>infant deaths</th>\n      <th>Alcohol</th>\n      <th>percentage expenditure</th>\n      <th>Hepatitis B</th>\n      <th>Measles</th>\n      <th>BMI</th>\n      <th>under-five deaths</th>\n      <th>Polio</th>\n      <th>Total expenditure</th>\n      <th>Diphtheria</th>\n      <th>HIV/AIDS</th>\n      <th>GDP</th>\n      <th>Population</th>\n      <th>thinness  1-19 years</th>\n      <th>thinness 5-9 years</th>\n      <th>Income composition of resources</th>\n      <th>Schooling</th>\n    </tr>\n  </thead>\n  <tbody>\n    <tr>\n      <th>0</th>\n      <td>2015</td>\n      <td>263.0</td>\n      <td>62</td>\n      <td>0.01</td>\n      <td>71.279624</td>\n      <td>65.0</td>\n      <td>1154</td>\n      <td>19.1</td>\n      <td>83</td>\n      <td>6.0</td>\n      <td>8.16</td>\n      <td>65.0</td>\n      <td>0.1</td>\n      <td>584.259210</td>\n      <td>33736494.0</td>\n      <td>17.2</td>\n      <td>17.3</td>\n      <td>0.479</td>\n      <td>10.1</td>\n    </tr>\n    <tr>\n      <th>1</th>\n      <td>2014</td>\n      <td>271.0</td>\n      <td>64</td>\n      <td>0.01</td>\n      <td>73.523582</td>\n      <td>62.0</td>\n      <td>492</td>\n      <td>18.6</td>\n      <td>86</td>\n      <td>58.0</td>\n      <td>8.18</td>\n      <td>62.0</td>\n      <td>0.1</td>\n      <td>612.696514</td>\n      <td>327582.0</td>\n      <td>17.5</td>\n      <td>17.5</td>\n      <td>0.476</td>\n      <td>10.0</td>\n    </tr>\n    <tr>\n      <th>2</th>\n      <td>2013</td>\n      <td>268.0</td>\n      <td>66</td>\n      <td>0.01</td>\n      <td>73.219243</td>\n      <td>64.0</td>\n      <td>430</td>\n      <td>18.1</td>\n      <td>89</td>\n      <td>62.0</td>\n      <td>8.13</td>\n      <td>64.0</td>\n      <td>0.1</td>\n      <td>631.744976</td>\n      <td>31731688.0</td>\n      <td>17.7</td>\n      <td>17.7</td>\n      <td>0.470</td>\n      <td>9.9</td>\n    </tr>\n    <tr>\n      <th>3</th>\n      <td>2012</td>\n      <td>272.0</td>\n      <td>69</td>\n      <td>0.01</td>\n      <td>78.184215</td>\n      <td>67.0</td>\n      <td>2787</td>\n      <td>17.6</td>\n      <td>93</td>\n      <td>67.0</td>\n      <td>8.52</td>\n      <td>67.0</td>\n      <td>0.1</td>\n      <td>669.959000</td>\n      <td>3696958.0</td>\n      <td>17.9</td>\n      <td>18.0</td>\n      <td>0.463</td>\n      <td>9.8</td>\n    </tr>\n    <tr>\n      <th>4</th>\n      <td>2011</td>\n      <td>275.0</td>\n      <td>71</td>\n      <td>0.01</td>\n      <td>7.097109</td>\n      <td>68.0</td>\n      <td>3013</td>\n      <td>17.2</td>\n      <td>97</td>\n      <td>68.0</td>\n      <td>7.87</td>\n      <td>68.0</td>\n      <td>0.1</td>\n      <td>63.537231</td>\n      <td>2978599.0</td>\n      <td>18.2</td>\n      <td>18.2</td>\n      <td>0.454</td>\n      <td>9.5</td>\n    </tr>\n  </tbody>\n</table>\n</div>"
     },
     "execution_count": 43,
     "metadata": {},
     "output_type": "execute_result"
    }
   ],
   "source": [
    "numeric_features = features.drop(['Status'], axis = 1)\n",
    "numeric_features.head()"
   ],
   "metadata": {
    "collapsed": false,
    "pycharm": {
     "name": "#%%\n"
    }
   }
  },
  {
   "cell_type": "code",
   "execution_count": 44,
   "outputs": [
    {
     "data": {
      "text/plain": "                                  count          mean           std  \\\nYear                             1649.0  2.007841e+03  4.087711e+00   \nAdult Mortality                  1649.0  1.682153e+02  1.253104e+02   \ninfant deaths                    1649.0  3.255306e+01  1.208472e+02   \nAlcohol                          1649.0  4.533196e+00  4.029189e+00   \npercentage expenditure           1649.0  6.989736e+02  1.759229e+03   \nHepatitis B                      1649.0  7.921771e+01  2.560466e+01   \nMeasles                          1649.0  2.224494e+03  1.008580e+04   \n BMI                             1649.0  3.812862e+01  1.975425e+01   \nunder-five deaths                1649.0  4.422013e+01  1.628980e+02   \nPolio                            1649.0  8.356458e+01  2.245056e+01   \nTotal expenditure                1649.0  5.955925e+00  2.299385e+00   \nDiphtheria                       1649.0  8.415525e+01  2.157919e+01   \n HIV/AIDS                        1649.0  1.983869e+00  6.032360e+00   \nGDP                              1649.0  5.566032e+03  1.147590e+04   \nPopulation                       1649.0  1.465363e+07  7.046039e+07   \n thinness  1-19 years            1649.0  4.850637e+00  4.599228e+00   \n thinness 5-9 years              1649.0  4.907762e+00  4.653757e+00   \nIncome composition of resources  1649.0  6.315512e-01  1.830887e-01   \nSchooling                        1649.0  1.211989e+01  2.795388e+00   \n\n                                        min            25%           50%  \\\nYear                             2000.00000    2005.000000  2.008000e+03   \nAdult Mortality                     1.00000      77.000000  1.480000e+02   \ninfant deaths                       0.00000       1.000000  3.000000e+00   \nAlcohol                             0.01000       0.810000  3.790000e+00   \npercentage expenditure              0.00000      37.438577  1.451023e+02   \nHepatitis B                         2.00000      74.000000  8.900000e+01   \nMeasles                             0.00000       0.000000  1.500000e+01   \n BMI                                2.00000      19.500000  4.370000e+01   \nunder-five deaths                   0.00000       1.000000  4.000000e+00   \nPolio                               3.00000      81.000000  9.300000e+01   \nTotal expenditure                   0.74000       4.410000  5.840000e+00   \nDiphtheria                          2.00000      82.000000  9.200000e+01   \n HIV/AIDS                           0.10000       0.100000  1.000000e-01   \nGDP                                 1.68135     462.149650  1.592572e+03   \nPopulation                         34.00000  191897.000000  1.419631e+06   \n thinness  1-19 years               0.10000       1.600000  3.000000e+00   \n thinness 5-9 years                 0.10000       1.700000  3.200000e+00   \nIncome composition of resources     0.00000       0.509000  6.730000e-01   \nSchooling                           4.20000      10.300000  1.230000e+01   \n\n                                          75%           max  \nYear                             2.011000e+03  2.015000e+03  \nAdult Mortality                  2.270000e+02  7.230000e+02  \ninfant deaths                    2.200000e+01  1.600000e+03  \nAlcohol                          7.340000e+00  1.787000e+01  \npercentage expenditure           5.093900e+02  1.896135e+04  \nHepatitis B                      9.600000e+01  9.900000e+01  \nMeasles                          3.730000e+02  1.314410e+05  \n BMI                             5.580000e+01  7.710000e+01  \nunder-five deaths                2.900000e+01  2.100000e+03  \nPolio                            9.700000e+01  9.900000e+01  \nTotal expenditure                7.470000e+00  1.439000e+01  \nDiphtheria                       9.700000e+01  9.900000e+01  \n HIV/AIDS                        7.000000e-01  5.060000e+01  \nGDP                              4.718513e+03  1.191727e+05  \nPopulation                       7.658972e+06  1.293859e+09  \n thinness  1-19 years            7.100000e+00  2.720000e+01  \n thinness 5-9 years              7.100000e+00  2.820000e+01  \nIncome composition of resources  7.510000e-01  9.360000e-01  \nSchooling                        1.400000e+01  2.070000e+01  ",
      "text/html": "<div>\n<style scoped>\n    .dataframe tbody tr th:only-of-type {\n        vertical-align: middle;\n    }\n\n    .dataframe tbody tr th {\n        vertical-align: top;\n    }\n\n    .dataframe thead th {\n        text-align: right;\n    }\n</style>\n<table border=\"1\" class=\"dataframe\">\n  <thead>\n    <tr style=\"text-align: right;\">\n      <th></th>\n      <th>count</th>\n      <th>mean</th>\n      <th>std</th>\n      <th>min</th>\n      <th>25%</th>\n      <th>50%</th>\n      <th>75%</th>\n      <th>max</th>\n    </tr>\n  </thead>\n  <tbody>\n    <tr>\n      <th>Year</th>\n      <td>1649.0</td>\n      <td>2.007841e+03</td>\n      <td>4.087711e+00</td>\n      <td>2000.00000</td>\n      <td>2005.000000</td>\n      <td>2.008000e+03</td>\n      <td>2.011000e+03</td>\n      <td>2.015000e+03</td>\n    </tr>\n    <tr>\n      <th>Adult Mortality</th>\n      <td>1649.0</td>\n      <td>1.682153e+02</td>\n      <td>1.253104e+02</td>\n      <td>1.00000</td>\n      <td>77.000000</td>\n      <td>1.480000e+02</td>\n      <td>2.270000e+02</td>\n      <td>7.230000e+02</td>\n    </tr>\n    <tr>\n      <th>infant deaths</th>\n      <td>1649.0</td>\n      <td>3.255306e+01</td>\n      <td>1.208472e+02</td>\n      <td>0.00000</td>\n      <td>1.000000</td>\n      <td>3.000000e+00</td>\n      <td>2.200000e+01</td>\n      <td>1.600000e+03</td>\n    </tr>\n    <tr>\n      <th>Alcohol</th>\n      <td>1649.0</td>\n      <td>4.533196e+00</td>\n      <td>4.029189e+00</td>\n      <td>0.01000</td>\n      <td>0.810000</td>\n      <td>3.790000e+00</td>\n      <td>7.340000e+00</td>\n      <td>1.787000e+01</td>\n    </tr>\n    <tr>\n      <th>percentage expenditure</th>\n      <td>1649.0</td>\n      <td>6.989736e+02</td>\n      <td>1.759229e+03</td>\n      <td>0.00000</td>\n      <td>37.438577</td>\n      <td>1.451023e+02</td>\n      <td>5.093900e+02</td>\n      <td>1.896135e+04</td>\n    </tr>\n    <tr>\n      <th>Hepatitis B</th>\n      <td>1649.0</td>\n      <td>7.921771e+01</td>\n      <td>2.560466e+01</td>\n      <td>2.00000</td>\n      <td>74.000000</td>\n      <td>8.900000e+01</td>\n      <td>9.600000e+01</td>\n      <td>9.900000e+01</td>\n    </tr>\n    <tr>\n      <th>Measles</th>\n      <td>1649.0</td>\n      <td>2.224494e+03</td>\n      <td>1.008580e+04</td>\n      <td>0.00000</td>\n      <td>0.000000</td>\n      <td>1.500000e+01</td>\n      <td>3.730000e+02</td>\n      <td>1.314410e+05</td>\n    </tr>\n    <tr>\n      <th>BMI</th>\n      <td>1649.0</td>\n      <td>3.812862e+01</td>\n      <td>1.975425e+01</td>\n      <td>2.00000</td>\n      <td>19.500000</td>\n      <td>4.370000e+01</td>\n      <td>5.580000e+01</td>\n      <td>7.710000e+01</td>\n    </tr>\n    <tr>\n      <th>under-five deaths</th>\n      <td>1649.0</td>\n      <td>4.422013e+01</td>\n      <td>1.628980e+02</td>\n      <td>0.00000</td>\n      <td>1.000000</td>\n      <td>4.000000e+00</td>\n      <td>2.900000e+01</td>\n      <td>2.100000e+03</td>\n    </tr>\n    <tr>\n      <th>Polio</th>\n      <td>1649.0</td>\n      <td>8.356458e+01</td>\n      <td>2.245056e+01</td>\n      <td>3.00000</td>\n      <td>81.000000</td>\n      <td>9.300000e+01</td>\n      <td>9.700000e+01</td>\n      <td>9.900000e+01</td>\n    </tr>\n    <tr>\n      <th>Total expenditure</th>\n      <td>1649.0</td>\n      <td>5.955925e+00</td>\n      <td>2.299385e+00</td>\n      <td>0.74000</td>\n      <td>4.410000</td>\n      <td>5.840000e+00</td>\n      <td>7.470000e+00</td>\n      <td>1.439000e+01</td>\n    </tr>\n    <tr>\n      <th>Diphtheria</th>\n      <td>1649.0</td>\n      <td>8.415525e+01</td>\n      <td>2.157919e+01</td>\n      <td>2.00000</td>\n      <td>82.000000</td>\n      <td>9.200000e+01</td>\n      <td>9.700000e+01</td>\n      <td>9.900000e+01</td>\n    </tr>\n    <tr>\n      <th>HIV/AIDS</th>\n      <td>1649.0</td>\n      <td>1.983869e+00</td>\n      <td>6.032360e+00</td>\n      <td>0.10000</td>\n      <td>0.100000</td>\n      <td>1.000000e-01</td>\n      <td>7.000000e-01</td>\n      <td>5.060000e+01</td>\n    </tr>\n    <tr>\n      <th>GDP</th>\n      <td>1649.0</td>\n      <td>5.566032e+03</td>\n      <td>1.147590e+04</td>\n      <td>1.68135</td>\n      <td>462.149650</td>\n      <td>1.592572e+03</td>\n      <td>4.718513e+03</td>\n      <td>1.191727e+05</td>\n    </tr>\n    <tr>\n      <th>Population</th>\n      <td>1649.0</td>\n      <td>1.465363e+07</td>\n      <td>7.046039e+07</td>\n      <td>34.00000</td>\n      <td>191897.000000</td>\n      <td>1.419631e+06</td>\n      <td>7.658972e+06</td>\n      <td>1.293859e+09</td>\n    </tr>\n    <tr>\n      <th>thinness  1-19 years</th>\n      <td>1649.0</td>\n      <td>4.850637e+00</td>\n      <td>4.599228e+00</td>\n      <td>0.10000</td>\n      <td>1.600000</td>\n      <td>3.000000e+00</td>\n      <td>7.100000e+00</td>\n      <td>2.720000e+01</td>\n    </tr>\n    <tr>\n      <th>thinness 5-9 years</th>\n      <td>1649.0</td>\n      <td>4.907762e+00</td>\n      <td>4.653757e+00</td>\n      <td>0.10000</td>\n      <td>1.700000</td>\n      <td>3.200000e+00</td>\n      <td>7.100000e+00</td>\n      <td>2.820000e+01</td>\n    </tr>\n    <tr>\n      <th>Income composition of resources</th>\n      <td>1649.0</td>\n      <td>6.315512e-01</td>\n      <td>1.830887e-01</td>\n      <td>0.00000</td>\n      <td>0.509000</td>\n      <td>6.730000e-01</td>\n      <td>7.510000e-01</td>\n      <td>9.360000e-01</td>\n    </tr>\n    <tr>\n      <th>Schooling</th>\n      <td>1649.0</td>\n      <td>1.211989e+01</td>\n      <td>2.795388e+00</td>\n      <td>4.20000</td>\n      <td>10.300000</td>\n      <td>1.230000e+01</td>\n      <td>1.400000e+01</td>\n      <td>2.070000e+01</td>\n    </tr>\n  </tbody>\n</table>\n</div>"
     },
     "execution_count": 44,
     "metadata": {},
     "output_type": "execute_result"
    }
   ],
   "source": [
    "numeric_features.describe().T"
   ],
   "metadata": {
    "collapsed": false,
    "pycharm": {
     "name": "#%%\n"
    }
   }
  },
  {
   "cell_type": "code",
   "execution_count": 45,
   "outputs": [
    {
     "data": {
      "text/plain": "                                  count          mean       std       min  \\\nYear                             1649.0 -7.962905e-15  1.000303 -1.918650   \nAdult Mortality                  1649.0 -7.756076e-17  1.000303 -1.334813   \ninfant deaths                    1649.0 -4.308931e-18  1.000303 -0.269455   \nAlcohol                          1649.0  6.894290e-17  1.000303 -1.122948   \npercentage expenditure           1649.0  2.585359e-17  1.000303 -0.397439   \nHepatitis B                      1649.0  1.637394e-16  1.000303 -3.016682   \nMeasles                          1649.0 -4.308931e-18  1.000303 -0.220624   \n BMI                             1649.0 -6.894290e-17  1.000303 -1.829459   \nunder-five deaths                1649.0 -2.585359e-17  1.000303 -0.271541   \nPolio                            1649.0  2.574586e-16  1.000303 -3.589622   \nTotal expenditure                1649.0  1.680483e-16  1.000303 -2.269088   \nDiphtheria                       1649.0  1.292679e-17  1.000303 -3.808306   \n HIV/AIDS                        1649.0  6.032504e-17  1.000303 -0.312389   \nGDP                              1649.0  8.617862e-17  1.000303 -0.485020   \nPopulation                       1649.0 -3.016252e-17  1.000303 -0.208032   \n thinness  1-19 years            1649.0  5.601610e-17  1.000303 -1.033234   \n thinness 5-9 years              1649.0 -7.756076e-17  1.000303 -1.033406   \nIncome composition of resources  1649.0  1.723572e-16  1.000303 -3.450474   \nSchooling                        1649.0  7.928433e-16  1.000303 -2.834059   \n\n                                      25%       50%       75%        max  \nYear                            -0.695101  0.039029  0.773159   1.751998  \nAdult Mortality                 -0.728135 -0.161371  0.469255   4.428626  \ninfant deaths                   -0.261178 -0.244623 -0.087352  12.974422  \nAlcohol                         -0.924336 -0.184509  0.696829   3.311051  \npercentage expenditure          -0.376151 -0.314933 -0.107798  10.384044  \nHepatitis B                     -0.203841  0.382167  0.655638   0.772839  \nMeasles                         -0.220624 -0.219136 -0.183630  12.815610  \n BMI                            -0.943305  0.282120  0.894832   1.973408  \nunder-five deaths               -0.265401 -0.246979 -0.093462  12.623872  \nPolio                           -0.114267  0.420403  0.598626   0.687738  \nTotal expenditure               -0.672525 -0.050431  0.658669   3.669082  \nDiphtheria                      -0.099906  0.363644  0.595419   0.688128  \n HIV/AIDS                       -0.312389 -0.312389 -0.212895   8.061668  \nGDP                             -0.444883 -0.346349 -0.073874   9.902593  \nPopulation                      -0.205308 -0.187879 -0.099301  18.160468  \n thinness  1-19 years           -0.706993 -0.402502  0.489222   4.860846  \n thinness 5-9 years             -0.689494 -0.367076  0.471211   5.006558  \nIncome composition of resources -0.669557  0.226455  0.652607   1.663353  \nSchooling                       -0.651231  0.064450  0.672780   3.070312  ",
      "text/html": "<div>\n<style scoped>\n    .dataframe tbody tr th:only-of-type {\n        vertical-align: middle;\n    }\n\n    .dataframe tbody tr th {\n        vertical-align: top;\n    }\n\n    .dataframe thead th {\n        text-align: right;\n    }\n</style>\n<table border=\"1\" class=\"dataframe\">\n  <thead>\n    <tr style=\"text-align: right;\">\n      <th></th>\n      <th>count</th>\n      <th>mean</th>\n      <th>std</th>\n      <th>min</th>\n      <th>25%</th>\n      <th>50%</th>\n      <th>75%</th>\n      <th>max</th>\n    </tr>\n  </thead>\n  <tbody>\n    <tr>\n      <th>Year</th>\n      <td>1649.0</td>\n      <td>-7.962905e-15</td>\n      <td>1.000303</td>\n      <td>-1.918650</td>\n      <td>-0.695101</td>\n      <td>0.039029</td>\n      <td>0.773159</td>\n      <td>1.751998</td>\n    </tr>\n    <tr>\n      <th>Adult Mortality</th>\n      <td>1649.0</td>\n      <td>-7.756076e-17</td>\n      <td>1.000303</td>\n      <td>-1.334813</td>\n      <td>-0.728135</td>\n      <td>-0.161371</td>\n      <td>0.469255</td>\n      <td>4.428626</td>\n    </tr>\n    <tr>\n      <th>infant deaths</th>\n      <td>1649.0</td>\n      <td>-4.308931e-18</td>\n      <td>1.000303</td>\n      <td>-0.269455</td>\n      <td>-0.261178</td>\n      <td>-0.244623</td>\n      <td>-0.087352</td>\n      <td>12.974422</td>\n    </tr>\n    <tr>\n      <th>Alcohol</th>\n      <td>1649.0</td>\n      <td>6.894290e-17</td>\n      <td>1.000303</td>\n      <td>-1.122948</td>\n      <td>-0.924336</td>\n      <td>-0.184509</td>\n      <td>0.696829</td>\n      <td>3.311051</td>\n    </tr>\n    <tr>\n      <th>percentage expenditure</th>\n      <td>1649.0</td>\n      <td>2.585359e-17</td>\n      <td>1.000303</td>\n      <td>-0.397439</td>\n      <td>-0.376151</td>\n      <td>-0.314933</td>\n      <td>-0.107798</td>\n      <td>10.384044</td>\n    </tr>\n    <tr>\n      <th>Hepatitis B</th>\n      <td>1649.0</td>\n      <td>1.637394e-16</td>\n      <td>1.000303</td>\n      <td>-3.016682</td>\n      <td>-0.203841</td>\n      <td>0.382167</td>\n      <td>0.655638</td>\n      <td>0.772839</td>\n    </tr>\n    <tr>\n      <th>Measles</th>\n      <td>1649.0</td>\n      <td>-4.308931e-18</td>\n      <td>1.000303</td>\n      <td>-0.220624</td>\n      <td>-0.220624</td>\n      <td>-0.219136</td>\n      <td>-0.183630</td>\n      <td>12.815610</td>\n    </tr>\n    <tr>\n      <th>BMI</th>\n      <td>1649.0</td>\n      <td>-6.894290e-17</td>\n      <td>1.000303</td>\n      <td>-1.829459</td>\n      <td>-0.943305</td>\n      <td>0.282120</td>\n      <td>0.894832</td>\n      <td>1.973408</td>\n    </tr>\n    <tr>\n      <th>under-five deaths</th>\n      <td>1649.0</td>\n      <td>-2.585359e-17</td>\n      <td>1.000303</td>\n      <td>-0.271541</td>\n      <td>-0.265401</td>\n      <td>-0.246979</td>\n      <td>-0.093462</td>\n      <td>12.623872</td>\n    </tr>\n    <tr>\n      <th>Polio</th>\n      <td>1649.0</td>\n      <td>2.574586e-16</td>\n      <td>1.000303</td>\n      <td>-3.589622</td>\n      <td>-0.114267</td>\n      <td>0.420403</td>\n      <td>0.598626</td>\n      <td>0.687738</td>\n    </tr>\n    <tr>\n      <th>Total expenditure</th>\n      <td>1649.0</td>\n      <td>1.680483e-16</td>\n      <td>1.000303</td>\n      <td>-2.269088</td>\n      <td>-0.672525</td>\n      <td>-0.050431</td>\n      <td>0.658669</td>\n      <td>3.669082</td>\n    </tr>\n    <tr>\n      <th>Diphtheria</th>\n      <td>1649.0</td>\n      <td>1.292679e-17</td>\n      <td>1.000303</td>\n      <td>-3.808306</td>\n      <td>-0.099906</td>\n      <td>0.363644</td>\n      <td>0.595419</td>\n      <td>0.688128</td>\n    </tr>\n    <tr>\n      <th>HIV/AIDS</th>\n      <td>1649.0</td>\n      <td>6.032504e-17</td>\n      <td>1.000303</td>\n      <td>-0.312389</td>\n      <td>-0.312389</td>\n      <td>-0.312389</td>\n      <td>-0.212895</td>\n      <td>8.061668</td>\n    </tr>\n    <tr>\n      <th>GDP</th>\n      <td>1649.0</td>\n      <td>8.617862e-17</td>\n      <td>1.000303</td>\n      <td>-0.485020</td>\n      <td>-0.444883</td>\n      <td>-0.346349</td>\n      <td>-0.073874</td>\n      <td>9.902593</td>\n    </tr>\n    <tr>\n      <th>Population</th>\n      <td>1649.0</td>\n      <td>-3.016252e-17</td>\n      <td>1.000303</td>\n      <td>-0.208032</td>\n      <td>-0.205308</td>\n      <td>-0.187879</td>\n      <td>-0.099301</td>\n      <td>18.160468</td>\n    </tr>\n    <tr>\n      <th>thinness  1-19 years</th>\n      <td>1649.0</td>\n      <td>5.601610e-17</td>\n      <td>1.000303</td>\n      <td>-1.033234</td>\n      <td>-0.706993</td>\n      <td>-0.402502</td>\n      <td>0.489222</td>\n      <td>4.860846</td>\n    </tr>\n    <tr>\n      <th>thinness 5-9 years</th>\n      <td>1649.0</td>\n      <td>-7.756076e-17</td>\n      <td>1.000303</td>\n      <td>-1.033406</td>\n      <td>-0.689494</td>\n      <td>-0.367076</td>\n      <td>0.471211</td>\n      <td>5.006558</td>\n    </tr>\n    <tr>\n      <th>Income composition of resources</th>\n      <td>1649.0</td>\n      <td>1.723572e-16</td>\n      <td>1.000303</td>\n      <td>-3.450474</td>\n      <td>-0.669557</td>\n      <td>0.226455</td>\n      <td>0.652607</td>\n      <td>1.663353</td>\n    </tr>\n    <tr>\n      <th>Schooling</th>\n      <td>1649.0</td>\n      <td>7.928433e-16</td>\n      <td>1.000303</td>\n      <td>-2.834059</td>\n      <td>-0.651231</td>\n      <td>0.064450</td>\n      <td>0.672780</td>\n      <td>3.070312</td>\n    </tr>\n  </tbody>\n</table>\n</div>"
     },
     "execution_count": 45,
     "metadata": {},
     "output_type": "execute_result"
    }
   ],
   "source": [
    "standardScalar = StandardScaler()\n",
    "\n",
    "numeric_features = pd.DataFrame(standardScalar.fit_transform(numeric_features), columns=numeric_features.columns, index=numeric_features.index)\n",
    "\n",
    "numeric_features.describe().T"
   ],
   "metadata": {
    "collapsed": false,
    "pycharm": {
     "name": "#%%\n"
    }
   }
  },
  {
   "cell_type": "code",
   "execution_count": 46,
   "outputs": [
    {
     "data": {
      "text/plain": "       Year  Adult Mortality  infant deaths   Alcohol  percentage expenditure  \\\n0  1.751998         0.756629       0.243745 -1.122948               -0.356909   \n1  1.507289         0.820490       0.260300 -1.122948               -0.355633   \n2  1.262579         0.796542       0.276854 -1.122948               -0.355806   \n3  1.017869         0.828472       0.301687 -1.122948               -0.352983   \n4  0.773159         0.852420       0.318242 -1.122948               -0.393403   \n\n   Hepatitis B  Measles       BMI   under-five deaths      Polio  ...  \\\n0    -0.555446 -0.106171 -0.963560            0.238134 -3.455955  ...   \n1    -0.672648 -0.171828 -0.988878            0.256557 -1.139051  ...   \n2    -0.594514 -0.177977 -1.014197            0.274979 -0.960828  ...   \n3    -0.477312  0.055789 -1.039516            0.299541 -0.738049  ...   \n4    -0.438245  0.078203 -1.059771            0.324104 -0.693493  ...   \n\n   Diphtheria    HIV/AIDS       GDP  Population   thinness  1-19 years  \\\n0    -0.887941  -0.312389 -0.434239    0.270913               2.685909   \n1    -1.027006  -0.312389 -0.431760   -0.203382               2.751157   \n2    -0.934296  -0.312389 -0.430100    0.242452               2.794656   \n3    -0.795231  -0.312389 -0.426769   -0.155548               2.838155   \n4    -0.748876  -0.312389 -0.479628   -0.165747               2.903403   \n\n    thinness 5-9 years  Income composition of resources  Schooling  Developed  \\\n0             2.663654                        -0.833462  -0.722799          0   \n1             2.706643                        -0.849853  -0.758583          0   \n2             2.749632                        -0.882634  -0.794367          0   \n3             2.814116                        -0.920878  -0.830151          0   \n4             2.857105                        -0.970049  -0.937503          0   \n\n   Developing  \n0           1  \n1           1  \n2           1  \n3           1  \n4           1  \n\n[5 rows x 21 columns]",
      "text/html": "<div>\n<style scoped>\n    .dataframe tbody tr th:only-of-type {\n        vertical-align: middle;\n    }\n\n    .dataframe tbody tr th {\n        vertical-align: top;\n    }\n\n    .dataframe thead th {\n        text-align: right;\n    }\n</style>\n<table border=\"1\" class=\"dataframe\">\n  <thead>\n    <tr style=\"text-align: right;\">\n      <th></th>\n      <th>Year</th>\n      <th>Adult Mortality</th>\n      <th>infant deaths</th>\n      <th>Alcohol</th>\n      <th>percentage expenditure</th>\n      <th>Hepatitis B</th>\n      <th>Measles</th>\n      <th>BMI</th>\n      <th>under-five deaths</th>\n      <th>Polio</th>\n      <th>...</th>\n      <th>Diphtheria</th>\n      <th>HIV/AIDS</th>\n      <th>GDP</th>\n      <th>Population</th>\n      <th>thinness  1-19 years</th>\n      <th>thinness 5-9 years</th>\n      <th>Income composition of resources</th>\n      <th>Schooling</th>\n      <th>Developed</th>\n      <th>Developing</th>\n    </tr>\n  </thead>\n  <tbody>\n    <tr>\n      <th>0</th>\n      <td>1.751998</td>\n      <td>0.756629</td>\n      <td>0.243745</td>\n      <td>-1.122948</td>\n      <td>-0.356909</td>\n      <td>-0.555446</td>\n      <td>-0.106171</td>\n      <td>-0.963560</td>\n      <td>0.238134</td>\n      <td>-3.455955</td>\n      <td>...</td>\n      <td>-0.887941</td>\n      <td>-0.312389</td>\n      <td>-0.434239</td>\n      <td>0.270913</td>\n      <td>2.685909</td>\n      <td>2.663654</td>\n      <td>-0.833462</td>\n      <td>-0.722799</td>\n      <td>0</td>\n      <td>1</td>\n    </tr>\n    <tr>\n      <th>1</th>\n      <td>1.507289</td>\n      <td>0.820490</td>\n      <td>0.260300</td>\n      <td>-1.122948</td>\n      <td>-0.355633</td>\n      <td>-0.672648</td>\n      <td>-0.171828</td>\n      <td>-0.988878</td>\n      <td>0.256557</td>\n      <td>-1.139051</td>\n      <td>...</td>\n      <td>-1.027006</td>\n      <td>-0.312389</td>\n      <td>-0.431760</td>\n      <td>-0.203382</td>\n      <td>2.751157</td>\n      <td>2.706643</td>\n      <td>-0.849853</td>\n      <td>-0.758583</td>\n      <td>0</td>\n      <td>1</td>\n    </tr>\n    <tr>\n      <th>2</th>\n      <td>1.262579</td>\n      <td>0.796542</td>\n      <td>0.276854</td>\n      <td>-1.122948</td>\n      <td>-0.355806</td>\n      <td>-0.594514</td>\n      <td>-0.177977</td>\n      <td>-1.014197</td>\n      <td>0.274979</td>\n      <td>-0.960828</td>\n      <td>...</td>\n      <td>-0.934296</td>\n      <td>-0.312389</td>\n      <td>-0.430100</td>\n      <td>0.242452</td>\n      <td>2.794656</td>\n      <td>2.749632</td>\n      <td>-0.882634</td>\n      <td>-0.794367</td>\n      <td>0</td>\n      <td>1</td>\n    </tr>\n    <tr>\n      <th>3</th>\n      <td>1.017869</td>\n      <td>0.828472</td>\n      <td>0.301687</td>\n      <td>-1.122948</td>\n      <td>-0.352983</td>\n      <td>-0.477312</td>\n      <td>0.055789</td>\n      <td>-1.039516</td>\n      <td>0.299541</td>\n      <td>-0.738049</td>\n      <td>...</td>\n      <td>-0.795231</td>\n      <td>-0.312389</td>\n      <td>-0.426769</td>\n      <td>-0.155548</td>\n      <td>2.838155</td>\n      <td>2.814116</td>\n      <td>-0.920878</td>\n      <td>-0.830151</td>\n      <td>0</td>\n      <td>1</td>\n    </tr>\n    <tr>\n      <th>4</th>\n      <td>0.773159</td>\n      <td>0.852420</td>\n      <td>0.318242</td>\n      <td>-1.122948</td>\n      <td>-0.393403</td>\n      <td>-0.438245</td>\n      <td>0.078203</td>\n      <td>-1.059771</td>\n      <td>0.324104</td>\n      <td>-0.693493</td>\n      <td>...</td>\n      <td>-0.748876</td>\n      <td>-0.312389</td>\n      <td>-0.479628</td>\n      <td>-0.165747</td>\n      <td>2.903403</td>\n      <td>2.857105</td>\n      <td>-0.970049</td>\n      <td>-0.937503</td>\n      <td>0</td>\n      <td>1</td>\n    </tr>\n  </tbody>\n</table>\n<p>5 rows × 21 columns</p>\n</div>"
     },
     "execution_count": 46,
     "metadata": {},
     "output_type": "execute_result"
    }
   ],
   "source": [
    "processed_features = pd.concat([numeric_features, categorical_features], axis=1, sort=False)\n",
    "processed_features.head()"
   ],
   "metadata": {
    "collapsed": false,
    "pycharm": {
     "name": "#%%\n"
    }
   }
  },
  {
   "cell_type": "code",
   "execution_count": 47,
   "outputs": [],
   "source": [
    "from sklearn.model_selection import train_test_split\n",
    "\n",
    "x_train, x_test, y_train, y_test = train_test_split(processed_features, target, test_size=0.2, random_state=1)"
   ],
   "metadata": {
    "collapsed": false,
    "pycharm": {
     "name": "#%%\n"
    }
   }
  },
  {
   "cell_type": "code",
   "execution_count": 50,
   "outputs": [
    {
     "data": {
      "text/plain": "(((1319, 21), (330, 21)), ((1319, 1), (330, 1)))"
     },
     "execution_count": 50,
     "metadata": {},
     "output_type": "execute_result"
    }
   ],
   "source": [
    "(x_train.shape, x_test.shape), (y_train.shape, y_test.shape)"
   ],
   "metadata": {
    "collapsed": false,
    "pycharm": {
     "name": "#%%\n"
    }
   }
  },
  {
   "cell_type": "code",
   "execution_count": 53,
   "outputs": [],
   "source": [
    "def build_single_layer_model():\n",
    "    model = tf.keras.Sequential()\n",
    "    model.add(tf.keras.layers.Dense(32, input_shape = (x_train.shape[1],),activation = 'sigmoid'))\n",
    "\n",
    "    model.add(tf.keras.layers.Dense(1))\n",
    "\n",
    "    optimizer = tf.keras.optimizers.Adam(learning_rate=0.01)\n",
    "\n",
    "    model.compile(loss = 'mse', metrics=['mae', 'mse'], optimizer=optimizer)\n",
    "\n",
    "    return model"
   ],
   "metadata": {
    "collapsed": false,
    "pycharm": {
     "name": "#%%\n"
    }
   }
  },
  {
   "cell_type": "code",
   "execution_count": 54,
   "outputs": [
    {
     "name": "stdout",
     "output_type": "stream",
     "text": [
      "Model: \"sequential\"\n",
      "_________________________________________________________________\n",
      " Layer (type)                Output Shape              Param #   \n",
      "=================================================================\n",
      " dense (Dense)               (None, 32)                704       \n",
      "                                                                 \n",
      " dense_1 (Dense)             (None, 1)                 33        \n",
      "                                                                 \n",
      "=================================================================\n",
      "Total params: 737\n",
      "Trainable params: 737\n",
      "Non-trainable params: 0\n",
      "_________________________________________________________________\n"
     ]
    }
   ],
   "source": [
    "model = build_single_layer_model()\n",
    "model.summary()"
   ],
   "metadata": {
    "collapsed": false,
    "pycharm": {
     "name": "#%%\n"
    }
   }
  },
  {
   "cell_type": "code",
   "execution_count": 59,
   "outputs": [
    {
     "name": "stdout",
     "output_type": "stream",
     "text": [
      "You must install pydot (`pip install pydot`) and install graphviz (see instructions at https://graphviz.gitlab.io/download/) for plot_model/model_to_dot to work.\n"
     ]
    }
   ],
   "source": [
    "# !pip install pydot\n",
    "# !pip install graphviz\n",
    "tf.keras.utils.plot_model(model)"
   ],
   "metadata": {
    "collapsed": false,
    "pycharm": {
     "name": "#%%\n"
    }
   }
  }
 ],
 "metadata": {
  "kernelspec": {
   "display_name": "Python 3",
   "language": "python",
   "name": "python3"
  },
  "language_info": {
   "codemirror_mode": {
    "name": "ipython",
    "version": 2
   },
   "file_extension": ".py",
   "mimetype": "text/x-python",
   "name": "python",
   "nbconvert_exporter": "python",
   "pygments_lexer": "ipython2",
   "version": "2.7.6"
  }
 },
 "nbformat": 4,
 "nbformat_minor": 0
}