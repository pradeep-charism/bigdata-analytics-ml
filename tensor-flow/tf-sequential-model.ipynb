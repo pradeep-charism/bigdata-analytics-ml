{
 "cells": [
  {
   "cell_type": "code",
   "execution_count": 3,
   "outputs": [],
   "source": [
    "import pandas as pd\n",
    "import numpy as np\n",
    "\n",
    "import os, datetime\n",
    "import seaborn as sns\n",
    "import matplotlib.pyplot as plt\n",
    "from pyspark.ml.feature import StandardScaler\n",
    "\n",
    "from sklearn.metrics import r2_score\n",
    "from sklearn.preprocessing import StandardScaler\n",
    "\n",
    "import tensorflow as tf\n",
    "\n",
    "from tensorflow import keras\n",
    "from tensorflow.keras import layers"
   ],
   "metadata": {
    "collapsed": false,
    "pycharm": {
     "name": "#%%\n"
    }
   }
  },
  {
   "cell_type": "code",
   "execution_count": 4,
   "outputs": [
    {
     "data": {
      "text/plain": "                                 Country  Year      Status  Life expectancy   \\\n798                              Ecuador  2003  Developing              74.4   \n1834                         Netherlands  2010   Developed              88.0   \n1214                           Indonesia  2003  Developing              66.9   \n940                               France  2005  Developing              81.0   \n2863  Venezuela (Bolivarian Republic of)  2010  Developing              73.7   \n\n      Adult Mortality  infant deaths  Alcohol  percentage expenditure  \\\n798             151.0              8     3.69               18.261833   \n1834             64.0              1     9.33             1035.621437   \n1214            189.0            173     0.05                8.460156   \n940              93.0              3    12.20             5451.701225   \n2863            158.0              9     7.22                0.000000   \n\n      Hepatitis B  Measles   ...  Polio  Total expenditure  Diphtheria   \\\n798          82.0         0  ...   97.0               6.46         87.0   \n1834          NaN        15  ...   97.0               1.48         97.0   \n1214         64.0     24457  ...    8.0               2.53         71.0   \n940          35.0        36  ...   98.0               1.60         98.0   \n2863         78.0         0  ...   74.0               5.40         78.0   \n\n       HIV/AIDS          GDP  Population   thinness  1-19 years  \\\n798         0.3    244.46898   1328961.0                    1.5   \n1834        0.1   5338.25483  16615394.0                    1.0   \n1214        0.1    164.59447  22545214.0                    1.9   \n940         0.1  34879.72633  63179356.0                    0.6   \n2863        0.1          NaN         NaN                    1.6   \n\n       thinness 5-9 years  Income composition of resources  Schooling  \n798                   1.4                            0.679       12.6  \n1834                  0.9                            0.906       17.0  \n1214                 11.0                            0.613       10.8  \n940                   0.6                            0.860       15.5  \n2863                  1.5                            0.754       14.0  \n\n[5 rows x 22 columns]",
      "text/html": "<div>\n<style scoped>\n    .dataframe tbody tr th:only-of-type {\n        vertical-align: middle;\n    }\n\n    .dataframe tbody tr th {\n        vertical-align: top;\n    }\n\n    .dataframe thead th {\n        text-align: right;\n    }\n</style>\n<table border=\"1\" class=\"dataframe\">\n  <thead>\n    <tr style=\"text-align: right;\">\n      <th></th>\n      <th>Country</th>\n      <th>Year</th>\n      <th>Status</th>\n      <th>Life expectancy</th>\n      <th>Adult Mortality</th>\n      <th>infant deaths</th>\n      <th>Alcohol</th>\n      <th>percentage expenditure</th>\n      <th>Hepatitis B</th>\n      <th>Measles</th>\n      <th>...</th>\n      <th>Polio</th>\n      <th>Total expenditure</th>\n      <th>Diphtheria</th>\n      <th>HIV/AIDS</th>\n      <th>GDP</th>\n      <th>Population</th>\n      <th>thinness  1-19 years</th>\n      <th>thinness 5-9 years</th>\n      <th>Income composition of resources</th>\n      <th>Schooling</th>\n    </tr>\n  </thead>\n  <tbody>\n    <tr>\n      <th>798</th>\n      <td>Ecuador</td>\n      <td>2003</td>\n      <td>Developing</td>\n      <td>74.4</td>\n      <td>151.0</td>\n      <td>8</td>\n      <td>3.69</td>\n      <td>18.261833</td>\n      <td>82.0</td>\n      <td>0</td>\n      <td>...</td>\n      <td>97.0</td>\n      <td>6.46</td>\n      <td>87.0</td>\n      <td>0.3</td>\n      <td>244.46898</td>\n      <td>1328961.0</td>\n      <td>1.5</td>\n      <td>1.4</td>\n      <td>0.679</td>\n      <td>12.6</td>\n    </tr>\n    <tr>\n      <th>1834</th>\n      <td>Netherlands</td>\n      <td>2010</td>\n      <td>Developed</td>\n      <td>88.0</td>\n      <td>64.0</td>\n      <td>1</td>\n      <td>9.33</td>\n      <td>1035.621437</td>\n      <td>NaN</td>\n      <td>15</td>\n      <td>...</td>\n      <td>97.0</td>\n      <td>1.48</td>\n      <td>97.0</td>\n      <td>0.1</td>\n      <td>5338.25483</td>\n      <td>16615394.0</td>\n      <td>1.0</td>\n      <td>0.9</td>\n      <td>0.906</td>\n      <td>17.0</td>\n    </tr>\n    <tr>\n      <th>1214</th>\n      <td>Indonesia</td>\n      <td>2003</td>\n      <td>Developing</td>\n      <td>66.9</td>\n      <td>189.0</td>\n      <td>173</td>\n      <td>0.05</td>\n      <td>8.460156</td>\n      <td>64.0</td>\n      <td>24457</td>\n      <td>...</td>\n      <td>8.0</td>\n      <td>2.53</td>\n      <td>71.0</td>\n      <td>0.1</td>\n      <td>164.59447</td>\n      <td>22545214.0</td>\n      <td>1.9</td>\n      <td>11.0</td>\n      <td>0.613</td>\n      <td>10.8</td>\n    </tr>\n    <tr>\n      <th>940</th>\n      <td>France</td>\n      <td>2005</td>\n      <td>Developing</td>\n      <td>81.0</td>\n      <td>93.0</td>\n      <td>3</td>\n      <td>12.20</td>\n      <td>5451.701225</td>\n      <td>35.0</td>\n      <td>36</td>\n      <td>...</td>\n      <td>98.0</td>\n      <td>1.60</td>\n      <td>98.0</td>\n      <td>0.1</td>\n      <td>34879.72633</td>\n      <td>63179356.0</td>\n      <td>0.6</td>\n      <td>0.6</td>\n      <td>0.860</td>\n      <td>15.5</td>\n    </tr>\n    <tr>\n      <th>2863</th>\n      <td>Venezuela (Bolivarian Republic of)</td>\n      <td>2010</td>\n      <td>Developing</td>\n      <td>73.7</td>\n      <td>158.0</td>\n      <td>9</td>\n      <td>7.22</td>\n      <td>0.000000</td>\n      <td>78.0</td>\n      <td>0</td>\n      <td>...</td>\n      <td>74.0</td>\n      <td>5.40</td>\n      <td>78.0</td>\n      <td>0.1</td>\n      <td>NaN</td>\n      <td>NaN</td>\n      <td>1.6</td>\n      <td>1.5</td>\n      <td>0.754</td>\n      <td>14.0</td>\n    </tr>\n  </tbody>\n</table>\n<p>5 rows × 22 columns</p>\n</div>"
     },
     "execution_count": 4,
     "metadata": {},
     "output_type": "execute_result"
    }
   ],
   "source": [
    "data = pd.read_csv(\"datasets/life_expectancy_data.csv\")\n",
    "data.sample(5)"
   ],
   "metadata": {
    "collapsed": false,
    "pycharm": {
     "name": "#%%\n"
    }
   }
  },
  {
   "cell_type": "code",
   "execution_count": 5,
   "outputs": [
    {
     "data": {
      "text/plain": "Country                              0\nYear                                 0\nStatus                               0\nLife expectancy                     10\nAdult Mortality                     10\ninfant deaths                        0\nAlcohol                            194\npercentage expenditure               0\nHepatitis B                        553\nMeasles                              0\n BMI                                34\nunder-five deaths                    0\nPolio                               19\nTotal expenditure                  226\nDiphtheria                          19\n HIV/AIDS                            0\nGDP                                448\nPopulation                         652\n thinness  1-19 years               34\n thinness 5-9 years                 34\nIncome composition of resources    167\nSchooling                          163\ndtype: int64"
     },
     "execution_count": 5,
     "metadata": {},
     "output_type": "execute_result"
    }
   ],
   "source": [
    "data.isna().sum()"
   ],
   "metadata": {
    "collapsed": false,
    "pycharm": {
     "name": "#%%\n"
    }
   }
  },
  {
   "cell_type": "code",
   "execution_count": 6,
   "outputs": [
    {
     "data": {
      "text/plain": "(1649, 22)"
     },
     "execution_count": 6,
     "metadata": {},
     "output_type": "execute_result"
    }
   ],
   "source": [
    "data = data.dropna()\n",
    "data.shape"
   ],
   "metadata": {
    "collapsed": false,
    "pycharm": {
     "name": "#%%\n"
    }
   }
  },
  {
   "cell_type": "code",
   "execution_count": 7,
   "outputs": [
    {
     "data": {
      "text/plain": "       Country  Year      Status  Life expectancy   Adult Mortality  \\\n2640     Tonga  2008  Developing              72.6            145.0   \n2817   Uruguay  2008  Developing              76.4            119.0   \n2052    Poland  2002   Developed              74.5            145.0   \n755   Djibouti  2013  Developing              62.7            256.0   \n2818   Uruguay  2007  Developing              75.4            124.0   \n\n      infant deaths  Alcohol  percentage expenditure  Hepatitis B  Measles   \\\n2640              0     1.10              569.625504         84.0         0   \n2817              1     6.76               24.731423         94.0         0   \n2052              3     8.02              516.055439         98.0        34   \n755               1     0.53              229.441010         82.0        28   \n2818              1     6.67               14.473059         94.0         0   \n\n      ...  Polio  Total expenditure  Diphtheria    HIV/AIDS          GDP  \\\n2640  ...   88.0               5.13         86.0        0.1  3392.647430   \n2817  ...   94.0               8.17         94.0        0.1   962.312164   \n2052  ...   98.0               6.32         99.0        0.1  5196.932921   \n755   ...   82.0               9.14         82.0        2.1  1622.637974   \n2818  ...   94.0               8.23         94.0        0.1    79.697460   \n\n      Population   thinness  1-19 years   thinness 5-9 years  \\\n2640       135.0                    0.1                  0.1   \n2817    335824.0                    1.6                  1.5   \n2052   3823364.0                    2.5                  2.6   \n755     896688.0                    5.6                  5.4   \n2818   3339741.0                    1.6                  1.5   \n\n      Income composition of resources  Schooling  \n2640                            0.698       14.5  \n2817                            0.770       15.7  \n2052                            0.790       15.0  \n755                             0.464        6.3  \n2818                            0.760       15.3  \n\n[5 rows x 22 columns]",
      "text/html": "<div>\n<style scoped>\n    .dataframe tbody tr th:only-of-type {\n        vertical-align: middle;\n    }\n\n    .dataframe tbody tr th {\n        vertical-align: top;\n    }\n\n    .dataframe thead th {\n        text-align: right;\n    }\n</style>\n<table border=\"1\" class=\"dataframe\">\n  <thead>\n    <tr style=\"text-align: right;\">\n      <th></th>\n      <th>Country</th>\n      <th>Year</th>\n      <th>Status</th>\n      <th>Life expectancy</th>\n      <th>Adult Mortality</th>\n      <th>infant deaths</th>\n      <th>Alcohol</th>\n      <th>percentage expenditure</th>\n      <th>Hepatitis B</th>\n      <th>Measles</th>\n      <th>...</th>\n      <th>Polio</th>\n      <th>Total expenditure</th>\n      <th>Diphtheria</th>\n      <th>HIV/AIDS</th>\n      <th>GDP</th>\n      <th>Population</th>\n      <th>thinness  1-19 years</th>\n      <th>thinness 5-9 years</th>\n      <th>Income composition of resources</th>\n      <th>Schooling</th>\n    </tr>\n  </thead>\n  <tbody>\n    <tr>\n      <th>2640</th>\n      <td>Tonga</td>\n      <td>2008</td>\n      <td>Developing</td>\n      <td>72.6</td>\n      <td>145.0</td>\n      <td>0</td>\n      <td>1.10</td>\n      <td>569.625504</td>\n      <td>84.0</td>\n      <td>0</td>\n      <td>...</td>\n      <td>88.0</td>\n      <td>5.13</td>\n      <td>86.0</td>\n      <td>0.1</td>\n      <td>3392.647430</td>\n      <td>135.0</td>\n      <td>0.1</td>\n      <td>0.1</td>\n      <td>0.698</td>\n      <td>14.5</td>\n    </tr>\n    <tr>\n      <th>2817</th>\n      <td>Uruguay</td>\n      <td>2008</td>\n      <td>Developing</td>\n      <td>76.4</td>\n      <td>119.0</td>\n      <td>1</td>\n      <td>6.76</td>\n      <td>24.731423</td>\n      <td>94.0</td>\n      <td>0</td>\n      <td>...</td>\n      <td>94.0</td>\n      <td>8.17</td>\n      <td>94.0</td>\n      <td>0.1</td>\n      <td>962.312164</td>\n      <td>335824.0</td>\n      <td>1.6</td>\n      <td>1.5</td>\n      <td>0.770</td>\n      <td>15.7</td>\n    </tr>\n    <tr>\n      <th>2052</th>\n      <td>Poland</td>\n      <td>2002</td>\n      <td>Developed</td>\n      <td>74.5</td>\n      <td>145.0</td>\n      <td>3</td>\n      <td>8.02</td>\n      <td>516.055439</td>\n      <td>98.0</td>\n      <td>34</td>\n      <td>...</td>\n      <td>98.0</td>\n      <td>6.32</td>\n      <td>99.0</td>\n      <td>0.1</td>\n      <td>5196.932921</td>\n      <td>3823364.0</td>\n      <td>2.5</td>\n      <td>2.6</td>\n      <td>0.790</td>\n      <td>15.0</td>\n    </tr>\n    <tr>\n      <th>755</th>\n      <td>Djibouti</td>\n      <td>2013</td>\n      <td>Developing</td>\n      <td>62.7</td>\n      <td>256.0</td>\n      <td>1</td>\n      <td>0.53</td>\n      <td>229.441010</td>\n      <td>82.0</td>\n      <td>28</td>\n      <td>...</td>\n      <td>82.0</td>\n      <td>9.14</td>\n      <td>82.0</td>\n      <td>2.1</td>\n      <td>1622.637974</td>\n      <td>896688.0</td>\n      <td>5.6</td>\n      <td>5.4</td>\n      <td>0.464</td>\n      <td>6.3</td>\n    </tr>\n    <tr>\n      <th>2818</th>\n      <td>Uruguay</td>\n      <td>2007</td>\n      <td>Developing</td>\n      <td>75.4</td>\n      <td>124.0</td>\n      <td>1</td>\n      <td>6.67</td>\n      <td>14.473059</td>\n      <td>94.0</td>\n      <td>0</td>\n      <td>...</td>\n      <td>94.0</td>\n      <td>8.23</td>\n      <td>94.0</td>\n      <td>0.1</td>\n      <td>79.697460</td>\n      <td>3339741.0</td>\n      <td>1.6</td>\n      <td>1.5</td>\n      <td>0.760</td>\n      <td>15.3</td>\n    </tr>\n  </tbody>\n</table>\n<p>5 rows × 22 columns</p>\n</div>"
     },
     "execution_count": 7,
     "metadata": {},
     "output_type": "execute_result"
    }
   ],
   "source": [
    "data.sample(5)"
   ],
   "metadata": {
    "collapsed": false,
    "pycharm": {
     "name": "#%%\n"
    }
   }
  },
  {
   "cell_type": "code",
   "execution_count": 8,
   "outputs": [
    {
     "data": {
      "text/plain": "Developing    1407\nDeveloped      242\nName: Status, dtype: int64"
     },
     "execution_count": 8,
     "metadata": {},
     "output_type": "execute_result"
    }
   ],
   "source": [
    "data[\"Status\"].value_counts()"
   ],
   "metadata": {
    "collapsed": false,
    "pycharm": {
     "name": "#%%\n"
    }
   }
  },
  {
   "cell_type": "code",
   "execution_count": 9,
   "outputs": [
    {
     "data": {
      "text/plain": "Afghanistan          16\nAlbania              16\nKiribati             15\nMexico               15\nMauritius            15\n                     ..\nIreland               5\nSweden                4\nNetherlands           4\nHaiti                 2\nEquatorial Guinea     1\nName: Country, Length: 133, dtype: int64"
     },
     "execution_count": 9,
     "metadata": {},
     "output_type": "execute_result"
    }
   ],
   "source": [
    "data[\"Country\"].value_counts()"
   ],
   "metadata": {
    "collapsed": false,
    "pycharm": {
     "name": "#%%\n"
    }
   }
  },
  {
   "cell_type": "code",
   "execution_count": 10,
   "outputs": [
    {
     "data": {
      "text/plain": "<Figure size 720x576 with 1 Axes>",
      "image/png": "[encoded data removed]"
     },
     "metadata": {
      "needs_background": "light"
     },
     "output_type": "display_data"
    }
   ],
   "source": [
    "plt.figure(figsize=(10, 8))\n",
    "data.boxplot('Life expectancy ')\n",
    "plt.show()"
   ],
   "metadata": {
    "collapsed": false,
    "pycharm": {
     "name": "#%%\n"
    }
   }
  },
  {
   "cell_type": "code",
   "execution_count": 11,
   "outputs": [
    {
     "name": "stderr",
     "output_type": "stream",
     "text": [
      "d:\\development\\softwares\\venv\\lib\\site-packages\\seaborn\\_decorators.py:36: FutureWarning: Pass the following variables as keyword args: x, y. From version 0.12, the only valid positional argument will be `data`, and passing other arguments without an explicit keyword will result in an error or misinterpretation.\n",
      "  warnings.warn(\n"
     ]
    },
    {
     "data": {
      "text/plain": "<Figure size 576x432 with 1 Axes>",
      "image/png": "[encoded data removed]"
     },
     "metadata": {
      "needs_background": "light"
     },
     "output_type": "display_data"
    }
   ],
   "source": [
    "plt.figure(figsize=(8,6))\n",
    "sns.boxplot('Status', 'Life expectancy ', data=data)\n",
    "plt.xlabel('Status', fontsize=16)\n",
    "plt.ylabel('Total expenditure', fontsize=16)\n",
    "plt.show()"
   ],
   "metadata": {
    "collapsed": false,
    "pycharm": {
     "name": "#%%\n"
    }
   }
  },
  {
   "cell_type": "code",
   "execution_count": 12,
   "outputs": [
    {
     "data": {
      "text/plain": "                   Life expectancy   Adult Mortality  Schooling  \\\nLife expectancy            1.000000        -0.702523   0.727630   \nAdult Mortality           -0.702523         1.000000  -0.421171   \nSchooling                  0.727630        -0.421171   1.000000   \nTotal expenditure          0.174718        -0.085227   0.243783   \nDiphtheria                 0.341331        -0.191429   0.350398   \nGDP                        0.441322        -0.255035   0.467947   \nPopulation                -0.022305        -0.015012  -0.040312   \n\n                   Total expenditure  Diphtheria        GDP  Population  \nLife expectancy             0.174718     0.341331  0.441322   -0.022305  \nAdult Mortality            -0.085227    -0.191429 -0.255035   -0.015012  \nSchooling                   0.243783     0.350398  0.467947   -0.040312  \nTotal expenditure           1.000000     0.129915  0.180373   -0.079962  \nDiphtheria                  0.129915     1.000000  0.158438   -0.039898  \nGDP                         0.180373     0.158438  1.000000   -0.020369  \nPopulation                 -0.079962    -0.039898 -0.020369    1.000000  ",
      "text/html": "<div>\n<style scoped>\n    .dataframe tbody tr th:only-of-type {\n        vertical-align: middle;\n    }\n\n    .dataframe tbody tr th {\n        vertical-align: top;\n    }\n\n    .dataframe thead th {\n        text-align: right;\n    }\n</style>\n<table border=\"1\" class=\"dataframe\">\n  <thead>\n    <tr style=\"text-align: right;\">\n      <th></th>\n      <th>Life expectancy</th>\n      <th>Adult Mortality</th>\n      <th>Schooling</th>\n      <th>Total expenditure</th>\n      <th>Diphtheria</th>\n      <th>GDP</th>\n      <th>Population</th>\n    </tr>\n  </thead>\n  <tbody>\n    <tr>\n      <th>Life expectancy</th>\n      <td>1.000000</td>\n      <td>-0.702523</td>\n      <td>0.727630</td>\n      <td>0.174718</td>\n      <td>0.341331</td>\n      <td>0.441322</td>\n      <td>-0.022305</td>\n    </tr>\n    <tr>\n      <th>Adult Mortality</th>\n      <td>-0.702523</td>\n      <td>1.000000</td>\n      <td>-0.421171</td>\n      <td>-0.085227</td>\n      <td>-0.191429</td>\n      <td>-0.255035</td>\n      <td>-0.015012</td>\n    </tr>\n    <tr>\n      <th>Schooling</th>\n      <td>0.727630</td>\n      <td>-0.421171</td>\n      <td>1.000000</td>\n      <td>0.243783</td>\n      <td>0.350398</td>\n      <td>0.467947</td>\n      <td>-0.040312</td>\n    </tr>\n    <tr>\n      <th>Total expenditure</th>\n      <td>0.174718</td>\n      <td>-0.085227</td>\n      <td>0.243783</td>\n      <td>1.000000</td>\n      <td>0.129915</td>\n      <td>0.180373</td>\n      <td>-0.079962</td>\n    </tr>\n    <tr>\n      <th>Diphtheria</th>\n      <td>0.341331</td>\n      <td>-0.191429</td>\n      <td>0.350398</td>\n      <td>0.129915</td>\n      <td>1.000000</td>\n      <td>0.158438</td>\n      <td>-0.039898</td>\n    </tr>\n    <tr>\n      <th>GDP</th>\n      <td>0.441322</td>\n      <td>-0.255035</td>\n      <td>0.467947</td>\n      <td>0.180373</td>\n      <td>0.158438</td>\n      <td>1.000000</td>\n      <td>-0.020369</td>\n    </tr>\n    <tr>\n      <th>Population</th>\n      <td>-0.022305</td>\n      <td>-0.015012</td>\n      <td>-0.040312</td>\n      <td>-0.079962</td>\n      <td>-0.039898</td>\n      <td>-0.020369</td>\n      <td>1.000000</td>\n    </tr>\n  </tbody>\n</table>\n</div>"
     },
     "execution_count": 12,
     "metadata": {},
     "output_type": "execute_result"
    }
   ],
   "source": [
    "data_corr = data[['Life expectancy ', 'Adult Mortality', 'Schooling', 'Total expenditure', 'Diphtheria ', 'GDP', 'Population']].corr()\n",
    "data_corr"
   ],
   "metadata": {
    "collapsed": false,
    "pycharm": {
     "name": "#%%\n"
    }
   }
  },
  {
   "cell_type": "code",
   "execution_count": 13,
   "outputs": [
    {
     "data": {
      "text/plain": "<Figure size 864x576 with 2 Axes>",
      "image/png": "[encoded data removed]"
     },
     "metadata": {
      "needs_background": "light"
     },
     "output_type": "display_data"
    }
   ],
   "source": [
    "fig, ax = plt.subplots(figsize=(12, 8))\n",
    "sns.heatmap(data_corr, annot=True)\n",
    "plt.show()"
   ],
   "metadata": {
    "collapsed": false,
    "pycharm": {
     "name": "#%%\n"
    }
   }
  },
  {
   "cell_type": "code",
   "execution_count": 14,
   "outputs": [
    {
     "data": {
      "text/plain": "Index(['Country', 'Year', 'Status', 'Adult Mortality', 'infant deaths',\n       'Alcohol', 'percentage expenditure', 'Hepatitis B', 'Measles ', ' BMI ',\n       'under-five deaths ', 'Polio', 'Total expenditure', 'Diphtheria ',\n       ' HIV/AIDS', 'GDP', 'Population', ' thinness  1-19 years',\n       ' thinness 5-9 years', 'Income composition of resources', 'Schooling'],\n      dtype='object')"
     },
     "execution_count": 14,
     "metadata": {},
     "output_type": "execute_result"
    }
   ],
   "source": [
    "features = data.drop('Life expectancy ', axis=1)\n",
    "target = data[['Life expectancy ']]\n",
    "features.columns"
   ],
   "metadata": {
    "collapsed": false,
    "pycharm": {
     "name": "#%%\n"
    }
   }
  },
  {
   "cell_type": "code",
   "execution_count": 15,
   "outputs": [
    {
     "data": {
      "text/plain": "      Life expectancy \n1944              66.0\n832               68.9\n799               73.6\n2448              72.3\n141               78.7",
      "text/html": "<div>\n<style scoped>\n    .dataframe tbody tr th:only-of-type {\n        vertical-align: middle;\n    }\n\n    .dataframe tbody tr th {\n        vertical-align: top;\n    }\n\n    .dataframe thead th {\n        text-align: right;\n    }\n</style>\n<table border=\"1\" class=\"dataframe\">\n  <thead>\n    <tr style=\"text-align: right;\">\n      <th></th>\n      <th>Life expectancy</th>\n    </tr>\n  </thead>\n  <tbody>\n    <tr>\n      <th>1944</th>\n      <td>66.0</td>\n    </tr>\n    <tr>\n      <th>832</th>\n      <td>68.9</td>\n    </tr>\n    <tr>\n      <th>799</th>\n      <td>73.6</td>\n    </tr>\n    <tr>\n      <th>2448</th>\n      <td>72.3</td>\n    </tr>\n    <tr>\n      <th>141</th>\n      <td>78.7</td>\n    </tr>\n  </tbody>\n</table>\n</div>"
     },
     "execution_count": 15,
     "metadata": {},
     "output_type": "execute_result"
    }
   ],
   "source": [
    "target.sample(5)"
   ],
   "metadata": {
    "collapsed": false,
    "pycharm": {
     "name": "#%%\n"
    }
   }
  },
  {
   "cell_type": "code",
   "execution_count": 16,
   "outputs": [
    {
     "data": {
      "text/plain": "Index(['Year', 'Status', 'Adult Mortality', 'infant deaths', 'Alcohol',\n       'percentage expenditure', 'Hepatitis B', 'Measles ', ' BMI ',\n       'under-five deaths ', 'Polio', 'Total expenditure', 'Diphtheria ',\n       ' HIV/AIDS', 'GDP', 'Population', ' thinness  1-19 years',\n       ' thinness 5-9 years', 'Income composition of resources', 'Schooling'],\n      dtype='object')"
     },
     "execution_count": 16,
     "metadata": {},
     "output_type": "execute_result"
    }
   ],
   "source": [
    "features = features.drop('Country', axis=1)\n",
    "features.columns"
   ],
   "metadata": {
    "collapsed": false,
    "pycharm": {
     "name": "#%%\n"
    }
   }
  },
  {
   "cell_type": "code",
   "execution_count": 17,
   "outputs": [
    {
     "data": {
      "text/plain": "0    Developing\n1    Developing\n2    Developing\n3    Developing\n4    Developing\nName: Status, dtype: object"
     },
     "execution_count": 17,
     "metadata": {},
     "output_type": "execute_result"
    }
   ],
   "source": [
    "categorical_features = features['Status'].copy()\n",
    "categorical_features.head()"
   ],
   "metadata": {
    "collapsed": false,
    "pycharm": {
     "name": "#%%\n"
    }
   }
  },
  {
   "cell_type": "code",
   "execution_count": 18,
   "outputs": [
    {
     "data": {
      "text/plain": "   Developed  Developing\n0          0           1\n1          0           1\n2          0           1\n3          0           1\n4          0           1",
      "text/html": "<div>\n<style scoped>\n    .dataframe tbody tr th:only-of-type {\n        vertical-align: middle;\n    }\n\n    .dataframe tbody tr th {\n        vertical-align: top;\n    }\n\n    .dataframe thead th {\n        text-align: right;\n    }\n</style>\n<table border=\"1\" class=\"dataframe\">\n  <thead>\n    <tr style=\"text-align: right;\">\n      <th></th>\n      <th>Developed</th>\n      <th>Developing</th>\n    </tr>\n  </thead>\n  <tbody>\n    <tr>\n      <th>0</th>\n      <td>0</td>\n      <td>1</td>\n    </tr>\n    <tr>\n      <th>1</th>\n      <td>0</td>\n      <td>1</td>\n    </tr>\n    <tr>\n      <th>2</th>\n      <td>0</td>\n      <td>1</td>\n    </tr>\n    <tr>\n      <th>3</th>\n      <td>0</td>\n      <td>1</td>\n    </tr>\n    <tr>\n      <th>4</th>\n      <td>0</td>\n      <td>1</td>\n    </tr>\n  </tbody>\n</table>\n</div>"
     },
     "execution_count": 18,
     "metadata": {},
     "output_type": "execute_result"
    }
   ],
   "source": [
    "categorical_features = pd.get_dummies(categorical_features)\n",
    "categorical_features.head()"
   ],
   "metadata": {
    "collapsed": false,
    "pycharm": {
     "name": "#%%\n"
    }
   }
  },
  {
   "cell_type": "code",
   "execution_count": 19,
   "outputs": [
    {
     "data": {
      "text/plain": "   Year  Adult Mortality  infant deaths  Alcohol  percentage expenditure  \\\n0  2015            263.0             62     0.01               71.279624   \n1  2014            271.0             64     0.01               73.523582   \n2  2013            268.0             66     0.01               73.219243   \n3  2012            272.0             69     0.01               78.184215   \n4  2011            275.0             71     0.01                7.097109   \n\n   Hepatitis B  Measles    BMI   under-five deaths   Polio  Total expenditure  \\\n0         65.0      1154   19.1                  83    6.0               8.16   \n1         62.0       492   18.6                  86   58.0               8.18   \n2         64.0       430   18.1                  89   62.0               8.13   \n3         67.0      2787   17.6                  93   67.0               8.52   \n4         68.0      3013   17.2                  97   68.0               7.87   \n\n   Diphtheria    HIV/AIDS         GDP  Population   thinness  1-19 years  \\\n0         65.0        0.1  584.259210  33736494.0                   17.2   \n1         62.0        0.1  612.696514    327582.0                   17.5   \n2         64.0        0.1  631.744976  31731688.0                   17.7   \n3         67.0        0.1  669.959000   3696958.0                   17.9   \n4         68.0        0.1   63.537231   2978599.0                   18.2   \n\n    thinness 5-9 years  Income composition of resources  Schooling  \n0                 17.3                            0.479       10.1  \n1                 17.5                            0.476       10.0  \n2                 17.7                            0.470        9.9  \n3                 18.0                            0.463        9.8  \n4                 18.2                            0.454        9.5  ",
      "text/html": "<div>\n<style scoped>\n    .dataframe tbody tr th:only-of-type {\n        vertical-align: middle;\n    }\n\n    .dataframe tbody tr th {\n        vertical-align: top;\n    }\n\n    .dataframe thead th {\n        text-align: right;\n    }\n</style>\n<table border=\"1\" class=\"dataframe\">\n  <thead>\n    <tr style=\"text-align: right;\">\n      <th></th>\n      <th>Year</th>\n      <th>Adult Mortality</th>\n      <th>infant deaths</th>\n      <th>Alcohol</th>\n      <th>percentage expenditure</th>\n      <th>Hepatitis B</th>\n      <th>Measles</th>\n      <th>BMI</th>\n      <th>under-five deaths</th>\n      <th>Polio</th>\n      <th>Total expenditure</th>\n      <th>Diphtheria</th>\n      <th>HIV/AIDS</th>\n      <th>GDP</th>\n      <th>Population</th>\n      <th>thinness  1-19 years</th>\n      <th>thinness 5-9 years</th>\n      <th>Income composition of resources</th>\n      <th>Schooling</th>\n    </tr>\n  </thead>\n  <tbody>\n    <tr>\n      <th>0</th>\n      <td>2015</td>\n      <td>263.0</td>\n      <td>62</td>\n      <td>0.01</td>\n      <td>71.279624</td>\n      <td>65.0</td>\n      <td>1154</td>\n      <td>19.1</td>\n      <td>83</td>\n      <td>6.0</td>\n      <td>8.16</td>\n      <td>65.0</td>\n      <td>0.1</td>\n      <td>584.259210</td>\n      <td>33736494.0</td>\n      <td>17.2</td>\n      <td>17.3</td>\n      <td>0.479</td>\n      <td>10.1</td>\n    </tr>\n    <tr>\n      <th>1</th>\n      <td>2014</td>\n      <td>271.0</td>\n      <td>64</td>\n      <td>0.01</td>\n      <td>73.523582</td>\n      <td>62.0</td>\n      <td>492</td>\n      <td>18.6</td>\n      <td>86</td>\n      <td>58.0</td>\n      <td>8.18</td>\n      <td>62.0</td>\n      <td>0.1</td>\n      <td>612.696514</td>\n      <td>327582.0</td>\n      <td>17.5</td>\n      <td>17.5</td>\n      <td>0.476</td>\n      <td>10.0</td>\n    </tr>\n    <tr>\n      <th>2</th>\n      <td>2013</td>\n      <td>268.0</td>\n      <td>66</td>\n      <td>0.01</td>\n      <td>73.219243</td>\n      <td>64.0</td>\n      <td>430</td>\n      <td>18.1</td>\n      <td>89</td>\n      <td>62.0</td>\n      <td>8.13</td>\n      <td>64.0</td>\n      <td>0.1</td>\n      <td>631.744976</td>\n      <td>31731688.0</td>\n      <td>17.7</td>\n      <td>17.7</td>\n      <td>0.470</td>\n      <td>9.9</td>\n    </tr>\n    <tr>\n      <th>3</th>\n      <td>2012</td>\n      <td>272.0</td>\n      <td>69</td>\n      <td>0.01</td>\n      <td>78.184215</td>\n      <td>67.0</td>\n      <td>2787</td>\n      <td>17.6</td>\n      <td>93</td>\n      <td>67.0</td>\n      <td>8.52</td>\n      <td>67.0</td>\n      <td>0.1</td>\n      <td>669.959000</td>\n      <td>3696958.0</td>\n      <td>17.9</td>\n      <td>18.0</td>\n      <td>0.463</td>\n      <td>9.8</td>\n    </tr>\n    <tr>\n      <th>4</th>\n      <td>2011</td>\n      <td>275.0</td>\n      <td>71</td>\n      <td>0.01</td>\n      <td>7.097109</td>\n      <td>68.0</td>\n      <td>3013</td>\n      <td>17.2</td>\n      <td>97</td>\n      <td>68.0</td>\n      <td>7.87</td>\n      <td>68.0</td>\n      <td>0.1</td>\n      <td>63.537231</td>\n      <td>2978599.0</td>\n      <td>18.2</td>\n      <td>18.2</td>\n      <td>0.454</td>\n      <td>9.5</td>\n    </tr>\n  </tbody>\n</table>\n</div>"
     },
     "execution_count": 19,
     "metadata": {},
     "output_type": "execute_result"
    }
   ],
   "source": [
    "numeric_features = features.drop(['Status'], axis = 1)\n",
    "numeric_features.head()"
   ],
   "metadata": {
    "collapsed": false,
    "pycharm": {
     "name": "#%%\n"
    }
   }
  },
  {
   "cell_type": "code",
   "execution_count": 20,
   "outputs": [
    {
     "data": {
      "text/plain": "                                  count          mean           std  \\\nYear                             1649.0  2.007841e+03  4.087711e+00   \nAdult Mortality                  1649.0  1.682153e+02  1.253104e+02   \ninfant deaths                    1649.0  3.255306e+01  1.208472e+02   \nAlcohol                          1649.0  4.533196e+00  4.029189e+00   \npercentage expenditure           1649.0  6.989736e+02  1.759229e+03   \nHepatitis B                      1649.0  7.921771e+01  2.560466e+01   \nMeasles                          1649.0  2.224494e+03  1.008580e+04   \n BMI                             1649.0  3.812862e+01  1.975425e+01   \nunder-five deaths                1649.0  4.422013e+01  1.628980e+02   \nPolio                            1649.0  8.356458e+01  2.245056e+01   \nTotal expenditure                1649.0  5.955925e+00  2.299385e+00   \nDiphtheria                       1649.0  8.415525e+01  2.157919e+01   \n HIV/AIDS                        1649.0  1.983869e+00  6.032360e+00   \nGDP                              1649.0  5.566032e+03  1.147590e+04   \nPopulation                       1649.0  1.465363e+07  7.046039e+07   \n thinness  1-19 years            1649.0  4.850637e+00  4.599228e+00   \n thinness 5-9 years              1649.0  4.907762e+00  4.653757e+00   \nIncome composition of resources  1649.0  6.315512e-01  1.830887e-01   \nSchooling                        1649.0  1.211989e+01  2.795388e+00   \n\n                                        min            25%           50%  \\\nYear                             2000.00000    2005.000000  2.008000e+03   \nAdult Mortality                     1.00000      77.000000  1.480000e+02   \ninfant deaths                       0.00000       1.000000  3.000000e+00   \nAlcohol                             0.01000       0.810000  3.790000e+00   \npercentage expenditure              0.00000      37.438577  1.451023e+02   \nHepatitis B                         2.00000      74.000000  8.900000e+01   \nMeasles                             0.00000       0.000000  1.500000e+01   \n BMI                                2.00000      19.500000  4.370000e+01   \nunder-five deaths                   0.00000       1.000000  4.000000e+00   \nPolio                               3.00000      81.000000  9.300000e+01   \nTotal expenditure                   0.74000       4.410000  5.840000e+00   \nDiphtheria                          2.00000      82.000000  9.200000e+01   \n HIV/AIDS                           0.10000       0.100000  1.000000e-01   \nGDP                                 1.68135     462.149650  1.592572e+03   \nPopulation                         34.00000  191897.000000  1.419631e+06   \n thinness  1-19 years               0.10000       1.600000  3.000000e+00   \n thinness 5-9 years                 0.10000       1.700000  3.200000e+00   \nIncome composition of resources     0.00000       0.509000  6.730000e-01   \nSchooling                           4.20000      10.300000  1.230000e+01   \n\n                                          75%           max  \nYear                             2.011000e+03  2.015000e+03  \nAdult Mortality                  2.270000e+02  7.230000e+02  \ninfant deaths                    2.200000e+01  1.600000e+03  \nAlcohol                          7.340000e+00  1.787000e+01  \npercentage expenditure           5.093900e+02  1.896135e+04  \nHepatitis B                      9.600000e+01  9.900000e+01  \nMeasles                          3.730000e+02  1.314410e+05  \n BMI                             5.580000e+01  7.710000e+01  \nunder-five deaths                2.900000e+01  2.100000e+03  \nPolio                            9.700000e+01  9.900000e+01  \nTotal expenditure                7.470000e+00  1.439000e+01  \nDiphtheria                       9.700000e+01  9.900000e+01  \n HIV/AIDS                        7.000000e-01  5.060000e+01  \nGDP                              4.718513e+03  1.191727e+05  \nPopulation                       7.658972e+06  1.293859e+09  \n thinness  1-19 years            7.100000e+00  2.720000e+01  \n thinness 5-9 years              7.100000e+00  2.820000e+01  \nIncome composition of resources  7.510000e-01  9.360000e-01  \nSchooling                        1.400000e+01  2.070000e+01  ",
      "text/html": "<div>\n<style scoped>\n    .dataframe tbody tr th:only-of-type {\n        vertical-align: middle;\n    }\n\n    .dataframe tbody tr th {\n        vertical-align: top;\n    }\n\n    .dataframe thead th {\n        text-align: right;\n    }\n</style>\n<table border=\"1\" class=\"dataframe\">\n  <thead>\n    <tr style=\"text-align: right;\">\n      <th></th>\n      <th>count</th>\n      <th>mean</th>\n      <th>std</th>\n      <th>min</th>\n      <th>25%</th>\n      <th>50%</th>\n      <th>75%</th>\n      <th>max</th>\n    </tr>\n  </thead>\n  <tbody>\n    <tr>\n      <th>Year</th>\n      <td>1649.0</td>\n      <td>2.007841e+03</td>\n      <td>4.087711e+00</td>\n      <td>2000.00000</td>\n      <td>2005.000000</td>\n      <td>2.008000e+03</td>\n      <td>2.011000e+03</td>\n      <td>2.015000e+03</td>\n    </tr>\n    <tr>\n      <th>Adult Mortality</th>\n      <td>1649.0</td>\n      <td>1.682153e+02</td>\n      <td>1.253104e+02</td>\n      <td>1.00000</td>\n      <td>77.000000</td>\n      <td>1.480000e+02</td>\n      <td>2.270000e+02</td>\n      <td>7.230000e+02</td>\n    </tr>\n    <tr>\n      <th>infant deaths</th>\n      <td>1649.0</td>\n      <td>3.255306e+01</td>\n      <td>1.208472e+02</td>\n      <td>0.00000</td>\n      <td>1.000000</td>\n      <td>3.000000e+00</td>\n      <td>2.200000e+01</td>\n      <td>1.600000e+03</td>\n    </tr>\n    <tr>\n      <th>Alcohol</th>\n      <td>1649.0</td>\n      <td>4.533196e+00</td>\n      <td>4.029189e+00</td>\n      <td>0.01000</td>\n      <td>0.810000</td>\n      <td>3.790000e+00</td>\n      <td>7.340000e+00</td>\n      <td>1.787000e+01</td>\n    </tr>\n    <tr>\n      <th>percentage expenditure</th>\n      <td>1649.0</td>\n      <td>6.989736e+02</td>\n      <td>1.759229e+03</td>\n      <td>0.00000</td>\n      <td>37.438577</td>\n      <td>1.451023e+02</td>\n      <td>5.093900e+02</td>\n      <td>1.896135e+04</td>\n    </tr>\n    <tr>\n      <th>Hepatitis B</th>\n      <td>1649.0</td>\n      <td>7.921771e+01</td>\n      <td>2.560466e+01</td>\n      <td>2.00000</td>\n      <td>74.000000</td>\n      <td>8.900000e+01</td>\n      <td>9.600000e+01</td>\n      <td>9.900000e+01</td>\n    </tr>\n    <tr>\n      <th>Measles</th>\n      <td>1649.0</td>\n      <td>2.224494e+03</td>\n      <td>1.008580e+04</td>\n      <td>0.00000</td>\n      <td>0.000000</td>\n      <td>1.500000e+01</td>\n      <td>3.730000e+02</td>\n      <td>1.314410e+05</td>\n    </tr>\n    <tr>\n      <th>BMI</th>\n      <td>1649.0</td>\n      <td>3.812862e+01</td>\n      <td>1.975425e+01</td>\n      <td>2.00000</td>\n      <td>19.500000</td>\n      <td>4.370000e+01</td>\n      <td>5.580000e+01</td>\n      <td>7.710000e+01</td>\n    </tr>\n    <tr>\n      <th>under-five deaths</th>\n      <td>1649.0</td>\n      <td>4.422013e+01</td>\n      <td>1.628980e+02</td>\n      <td>0.00000</td>\n      <td>1.000000</td>\n      <td>4.000000e+00</td>\n      <td>2.900000e+01</td>\n      <td>2.100000e+03</td>\n    </tr>\n    <tr>\n      <th>Polio</th>\n      <td>1649.0</td>\n      <td>8.356458e+01</td>\n      <td>2.245056e+01</td>\n      <td>3.00000</td>\n      <td>81.000000</td>\n      <td>9.300000e+01</td>\n      <td>9.700000e+01</td>\n      <td>9.900000e+01</td>\n    </tr>\n    <tr>\n      <th>Total expenditure</th>\n      <td>1649.0</td>\n      <td>5.955925e+00</td>\n      <td>2.299385e+00</td>\n      <td>0.74000</td>\n      <td>4.410000</td>\n      <td>5.840000e+00</td>\n      <td>7.470000e+00</td>\n      <td>1.439000e+01</td>\n    </tr>\n    <tr>\n      <th>Diphtheria</th>\n      <td>1649.0</td>\n      <td>8.415525e+01</td>\n      <td>2.157919e+01</td>\n      <td>2.00000</td>\n      <td>82.000000</td>\n      <td>9.200000e+01</td>\n      <td>9.700000e+01</td>\n      <td>9.900000e+01</td>\n    </tr>\n    <tr>\n      <th>HIV/AIDS</th>\n      <td>1649.0</td>\n      <td>1.983869e+00</td>\n      <td>6.032360e+00</td>\n      <td>0.10000</td>\n      <td>0.100000</td>\n      <td>1.000000e-01</td>\n      <td>7.000000e-01</td>\n      <td>5.060000e+01</td>\n    </tr>\n    <tr>\n      <th>GDP</th>\n      <td>1649.0</td>\n      <td>5.566032e+03</td>\n      <td>1.147590e+04</td>\n      <td>1.68135</td>\n      <td>462.149650</td>\n      <td>1.592572e+03</td>\n      <td>4.718513e+03</td>\n      <td>1.191727e+05</td>\n    </tr>\n    <tr>\n      <th>Population</th>\n      <td>1649.0</td>\n      <td>1.465363e+07</td>\n      <td>7.046039e+07</td>\n      <td>34.00000</td>\n      <td>191897.000000</td>\n      <td>1.419631e+06</td>\n      <td>7.658972e+06</td>\n      <td>1.293859e+09</td>\n    </tr>\n    <tr>\n      <th>thinness  1-19 years</th>\n      <td>1649.0</td>\n      <td>4.850637e+00</td>\n      <td>4.599228e+00</td>\n      <td>0.10000</td>\n      <td>1.600000</td>\n      <td>3.000000e+00</td>\n      <td>7.100000e+00</td>\n      <td>2.720000e+01</td>\n    </tr>\n    <tr>\n      <th>thinness 5-9 years</th>\n      <td>1649.0</td>\n      <td>4.907762e+00</td>\n      <td>4.653757e+00</td>\n      <td>0.10000</td>\n      <td>1.700000</td>\n      <td>3.200000e+00</td>\n      <td>7.100000e+00</td>\n      <td>2.820000e+01</td>\n    </tr>\n    <tr>\n      <th>Income composition of resources</th>\n      <td>1649.0</td>\n      <td>6.315512e-01</td>\n      <td>1.830887e-01</td>\n      <td>0.00000</td>\n      <td>0.509000</td>\n      <td>6.730000e-01</td>\n      <td>7.510000e-01</td>\n      <td>9.360000e-01</td>\n    </tr>\n    <tr>\n      <th>Schooling</th>\n      <td>1649.0</td>\n      <td>1.211989e+01</td>\n      <td>2.795388e+00</td>\n      <td>4.20000</td>\n      <td>10.300000</td>\n      <td>1.230000e+01</td>\n      <td>1.400000e+01</td>\n      <td>2.070000e+01</td>\n    </tr>\n  </tbody>\n</table>\n</div>"
     },
     "execution_count": 20,
     "metadata": {},
     "output_type": "execute_result"
    }
   ],
   "source": [
    "numeric_features.describe().T"
   ],
   "metadata": {
    "collapsed": false,
    "pycharm": {
     "name": "#%%\n"
    }
   }
  },
  {
   "cell_type": "code",
   "execution_count": 21,
   "outputs": [
    {
     "data": {
      "text/plain": "                                  count          mean       std       min  \\\nYear                             1649.0 -7.962905e-15  1.000303 -1.918650   \nAdult Mortality                  1649.0 -7.756076e-17  1.000303 -1.334813   \ninfant deaths                    1649.0 -4.308931e-18  1.000303 -0.269455   \nAlcohol                          1649.0  6.894290e-17  1.000303 -1.122948   \npercentage expenditure           1649.0  2.585359e-17  1.000303 -0.397439   \nHepatitis B                      1649.0  1.637394e-16  1.000303 -3.016682   \nMeasles                          1649.0 -4.308931e-18  1.000303 -0.220624   \n BMI                             1649.0 -6.894290e-17  1.000303 -1.829459   \nunder-five deaths                1649.0 -2.585359e-17  1.000303 -0.271541   \nPolio                            1649.0  2.574586e-16  1.000303 -3.589622   \nTotal expenditure                1649.0  1.680483e-16  1.000303 -2.269088   \nDiphtheria                       1649.0  1.292679e-17  1.000303 -3.808306   \n HIV/AIDS                        1649.0  6.032504e-17  1.000303 -0.312389   \nGDP                              1649.0  8.617862e-17  1.000303 -0.485020   \nPopulation                       1649.0 -3.016252e-17  1.000303 -0.208032   \n thinness  1-19 years            1649.0  5.601610e-17  1.000303 -1.033234   \n thinness 5-9 years              1649.0 -7.756076e-17  1.000303 -1.033406   \nIncome composition of resources  1649.0  1.723572e-16  1.000303 -3.450474   \nSchooling                        1649.0  7.928433e-16  1.000303 -2.834059   \n\n                                      25%       50%       75%        max  \nYear                            -0.695101  0.039029  0.773159   1.751998  \nAdult Mortality                 -0.728135 -0.161371  0.469255   4.428626  \ninfant deaths                   -0.261178 -0.244623 -0.087352  12.974422  \nAlcohol                         -0.924336 -0.184509  0.696829   3.311051  \npercentage expenditure          -0.376151 -0.314933 -0.107798  10.384044  \nHepatitis B                     -0.203841  0.382167  0.655638   0.772839  \nMeasles                         -0.220624 -0.219136 -0.183630  12.815610  \n BMI                            -0.943305  0.282120  0.894832   1.973408  \nunder-five deaths               -0.265401 -0.246979 -0.093462  12.623872  \nPolio                           -0.114267  0.420403  0.598626   0.687738  \nTotal expenditure               -0.672525 -0.050431  0.658669   3.669082  \nDiphtheria                      -0.099906  0.363644  0.595419   0.688128  \n HIV/AIDS                       -0.312389 -0.312389 -0.212895   8.061668  \nGDP                             -0.444883 -0.346349 -0.073874   9.902593  \nPopulation                      -0.205308 -0.187879 -0.099301  18.160468  \n thinness  1-19 years           -0.706993 -0.402502  0.489222   4.860846  \n thinness 5-9 years             -0.689494 -0.367076  0.471211   5.006558  \nIncome composition of resources -0.669557  0.226455  0.652607   1.663353  \nSchooling                       -0.651231  0.064450  0.672780   3.070312  ",
      "text/html": "<div>\n<style scoped>\n    .dataframe tbody tr th:only-of-type {\n        vertical-align: middle;\n    }\n\n    .dataframe tbody tr th {\n        vertical-align: top;\n    }\n\n    .dataframe thead th {\n        text-align: right;\n    }\n</style>\n<table border=\"1\" class=\"dataframe\">\n  <thead>\n    <tr style=\"text-align: right;\">\n      <th></th>\n      <th>count</th>\n      <th>mean</th>\n      <th>std</th>\n      <th>min</th>\n      <th>25%</th>\n      <th>50%</th>\n      <th>75%</th>\n      <th>max</th>\n    </tr>\n  </thead>\n  <tbody>\n    <tr>\n      <th>Year</th>\n      <td>1649.0</td>\n      <td>-7.962905e-15</td>\n      <td>1.000303</td>\n      <td>-1.918650</td>\n      <td>-0.695101</td>\n      <td>0.039029</td>\n      <td>0.773159</td>\n      <td>1.751998</td>\n    </tr>\n    <tr>\n      <th>Adult Mortality</th>\n      <td>1649.0</td>\n      <td>-7.756076e-17</td>\n      <td>1.000303</td>\n      <td>-1.334813</td>\n      <td>-0.728135</td>\n      <td>-0.161371</td>\n      <td>0.469255</td>\n      <td>4.428626</td>\n    </tr>\n    <tr>\n      <th>infant deaths</th>\n      <td>1649.0</td>\n      <td>-4.308931e-18</td>\n      <td>1.000303</td>\n      <td>-0.269455</td>\n      <td>-0.261178</td>\n      <td>-0.244623</td>\n      <td>-0.087352</td>\n      <td>12.974422</td>\n    </tr>\n    <tr>\n      <th>Alcohol</th>\n      <td>1649.0</td>\n      <td>6.894290e-17</td>\n      <td>1.000303</td>\n      <td>-1.122948</td>\n      <td>-0.924336</td>\n      <td>-0.184509</td>\n      <td>0.696829</td>\n      <td>3.311051</td>\n    </tr>\n    <tr>\n      <th>percentage expenditure</th>\n      <td>1649.0</td>\n      <td>2.585359e-17</td>\n      <td>1.000303</td>\n      <td>-0.397439</td>\n      <td>-0.376151</td>\n      <td>-0.314933</td>\n      <td>-0.107798</td>\n      <td>10.384044</td>\n    </tr>\n    <tr>\n      <th>Hepatitis B</th>\n      <td>1649.0</td>\n      <td>1.637394e-16</td>\n      <td>1.000303</td>\n      <td>-3.016682</td>\n      <td>-0.203841</td>\n      <td>0.382167</td>\n      <td>0.655638</td>\n      <td>0.772839</td>\n    </tr>\n    <tr>\n      <th>Measles</th>\n      <td>1649.0</td>\n      <td>-4.308931e-18</td>\n      <td>1.000303</td>\n      <td>-0.220624</td>\n      <td>-0.220624</td>\n      <td>-0.219136</td>\n      <td>-0.183630</td>\n      <td>12.815610</td>\n    </tr>\n    <tr>\n      <th>BMI</th>\n      <td>1649.0</td>\n      <td>-6.894290e-17</td>\n      <td>1.000303</td>\n      <td>-1.829459</td>\n      <td>-0.943305</td>\n      <td>0.282120</td>\n      <td>0.894832</td>\n      <td>1.973408</td>\n    </tr>\n    <tr>\n      <th>under-five deaths</th>\n      <td>1649.0</td>\n      <td>-2.585359e-17</td>\n      <td>1.000303</td>\n      <td>-0.271541</td>\n      <td>-0.265401</td>\n      <td>-0.246979</td>\n      <td>-0.093462</td>\n      <td>12.623872</td>\n    </tr>\n    <tr>\n      <th>Polio</th>\n      <td>1649.0</td>\n      <td>2.574586e-16</td>\n      <td>1.000303</td>\n      <td>-3.589622</td>\n      <td>-0.114267</td>\n      <td>0.420403</td>\n      <td>0.598626</td>\n      <td>0.687738</td>\n    </tr>\n    <tr>\n      <th>Total expenditure</th>\n      <td>1649.0</td>\n      <td>1.680483e-16</td>\n      <td>1.000303</td>\n      <td>-2.269088</td>\n      <td>-0.672525</td>\n      <td>-0.050431</td>\n      <td>0.658669</td>\n      <td>3.669082</td>\n    </tr>\n    <tr>\n      <th>Diphtheria</th>\n      <td>1649.0</td>\n      <td>1.292679e-17</td>\n      <td>1.000303</td>\n      <td>-3.808306</td>\n      <td>-0.099906</td>\n      <td>0.363644</td>\n      <td>0.595419</td>\n      <td>0.688128</td>\n    </tr>\n    <tr>\n      <th>HIV/AIDS</th>\n      <td>1649.0</td>\n      <td>6.032504e-17</td>\n      <td>1.000303</td>\n      <td>-0.312389</td>\n      <td>-0.312389</td>\n      <td>-0.312389</td>\n      <td>-0.212895</td>\n      <td>8.061668</td>\n    </tr>\n    <tr>\n      <th>GDP</th>\n      <td>1649.0</td>\n      <td>8.617862e-17</td>\n      <td>1.000303</td>\n      <td>-0.485020</td>\n      <td>-0.444883</td>\n      <td>-0.346349</td>\n      <td>-0.073874</td>\n      <td>9.902593</td>\n    </tr>\n    <tr>\n      <th>Population</th>\n      <td>1649.0</td>\n      <td>-3.016252e-17</td>\n      <td>1.000303</td>\n      <td>-0.208032</td>\n      <td>-0.205308</td>\n      <td>-0.187879</td>\n      <td>-0.099301</td>\n      <td>18.160468</td>\n    </tr>\n    <tr>\n      <th>thinness  1-19 years</th>\n      <td>1649.0</td>\n      <td>5.601610e-17</td>\n      <td>1.000303</td>\n      <td>-1.033234</td>\n      <td>-0.706993</td>\n      <td>-0.402502</td>\n      <td>0.489222</td>\n      <td>4.860846</td>\n    </tr>\n    <tr>\n      <th>thinness 5-9 years</th>\n      <td>1649.0</td>\n      <td>-7.756076e-17</td>\n      <td>1.000303</td>\n      <td>-1.033406</td>\n      <td>-0.689494</td>\n      <td>-0.367076</td>\n      <td>0.471211</td>\n      <td>5.006558</td>\n    </tr>\n    <tr>\n      <th>Income composition of resources</th>\n      <td>1649.0</td>\n      <td>1.723572e-16</td>\n      <td>1.000303</td>\n      <td>-3.450474</td>\n      <td>-0.669557</td>\n      <td>0.226455</td>\n      <td>0.652607</td>\n      <td>1.663353</td>\n    </tr>\n    <tr>\n      <th>Schooling</th>\n      <td>1649.0</td>\n      <td>7.928433e-16</td>\n      <td>1.000303</td>\n      <td>-2.834059</td>\n      <td>-0.651231</td>\n      <td>0.064450</td>\n      <td>0.672780</td>\n      <td>3.070312</td>\n    </tr>\n  </tbody>\n</table>\n</div>"
     },
     "execution_count": 21,
     "metadata": {},
     "output_type": "execute_result"
    }
   ],
   "source": [
    "standardScalar = StandardScaler()\n",
    "\n",
    "numeric_features = pd.DataFrame(standardScalar.fit_transform(numeric_features), columns=numeric_features.columns, index=numeric_features.index)\n",
    "\n",
    "numeric_features.describe().T"
   ],
   "metadata": {
    "collapsed": false,
    "pycharm": {
     "name": "#%%\n"
    }
   }
  },
  {
   "cell_type": "code",
   "execution_count": 22,
   "outputs": [
    {
     "data": {
      "text/plain": "       Year  Adult Mortality  infant deaths   Alcohol  percentage expenditure  \\\n0  1.751998         0.756629       0.243745 -1.122948               -0.356909   \n1  1.507289         0.820490       0.260300 -1.122948               -0.355633   \n2  1.262579         0.796542       0.276854 -1.122948               -0.355806   \n3  1.017869         0.828472       0.301687 -1.122948               -0.352983   \n4  0.773159         0.852420       0.318242 -1.122948               -0.393403   \n\n   Hepatitis B  Measles       BMI   under-five deaths      Polio  ...  \\\n0    -0.555446 -0.106171 -0.963560            0.238134 -3.455955  ...   \n1    -0.672648 -0.171828 -0.988878            0.256557 -1.139051  ...   \n2    -0.594514 -0.177977 -1.014197            0.274979 -0.960828  ...   \n3    -0.477312  0.055789 -1.039516            0.299541 -0.738049  ...   \n4    -0.438245  0.078203 -1.059771            0.324104 -0.693493  ...   \n\n   Diphtheria    HIV/AIDS       GDP  Population   thinness  1-19 years  \\\n0    -0.887941  -0.312389 -0.434239    0.270913               2.685909   \n1    -1.027006  -0.312389 -0.431760   -0.203382               2.751157   \n2    -0.934296  -0.312389 -0.430100    0.242452               2.794656   \n3    -0.795231  -0.312389 -0.426769   -0.155548               2.838155   \n4    -0.748876  -0.312389 -0.479628   -0.165747               2.903403   \n\n    thinness 5-9 years  Income composition of resources  Schooling  Developed  \\\n0             2.663654                        -0.833462  -0.722799          0   \n1             2.706643                        -0.849853  -0.758583          0   \n2             2.749632                        -0.882634  -0.794367          0   \n3             2.814116                        -0.920878  -0.830151          0   \n4             2.857105                        -0.970049  -0.937503          0   \n\n   Developing  \n0           1  \n1           1  \n2           1  \n3           1  \n4           1  \n\n[5 rows x 21 columns]",
      "text/html": "<div>\n<style scoped>\n    .dataframe tbody tr th:only-of-type {\n        vertical-align: middle;\n    }\n\n    .dataframe tbody tr th {\n        vertical-align: top;\n    }\n\n    .dataframe thead th {\n        text-align: right;\n    }\n</style>\n<table border=\"1\" class=\"dataframe\">\n  <thead>\n    <tr style=\"text-align: right;\">\n      <th></th>\n      <th>Year</th>\n      <th>Adult Mortality</th>\n      <th>infant deaths</th>\n      <th>Alcohol</th>\n      <th>percentage expenditure</th>\n      <th>Hepatitis B</th>\n      <th>Measles</th>\n      <th>BMI</th>\n      <th>under-five deaths</th>\n      <th>Polio</th>\n      <th>...</th>\n      <th>Diphtheria</th>\n      <th>HIV/AIDS</th>\n      <th>GDP</th>\n      <th>Population</th>\n      <th>thinness  1-19 years</th>\n      <th>thinness 5-9 years</th>\n      <th>Income composition of resources</th>\n      <th>Schooling</th>\n      <th>Developed</th>\n      <th>Developing</th>\n    </tr>\n  </thead>\n  <tbody>\n    <tr>\n      <th>0</th>\n      <td>1.751998</td>\n      <td>0.756629</td>\n      <td>0.243745</td>\n      <td>-1.122948</td>\n      <td>-0.356909</td>\n      <td>-0.555446</td>\n      <td>-0.106171</td>\n      <td>-0.963560</td>\n      <td>0.238134</td>\n      <td>-3.455955</td>\n      <td>...</td>\n      <td>-0.887941</td>\n      <td>-0.312389</td>\n      <td>-0.434239</td>\n      <td>0.270913</td>\n      <td>2.685909</td>\n      <td>2.663654</td>\n      <td>-0.833462</td>\n      <td>-0.722799</td>\n      <td>0</td>\n      <td>1</td>\n    </tr>\n    <tr>\n      <th>1</th>\n      <td>1.507289</td>\n      <td>0.820490</td>\n      <td>0.260300</td>\n      <td>-1.122948</td>\n      <td>-0.355633</td>\n      <td>-0.672648</td>\n      <td>-0.171828</td>\n      <td>-0.988878</td>\n      <td>0.256557</td>\n      <td>-1.139051</td>\n      <td>...</td>\n      <td>-1.027006</td>\n      <td>-0.312389</td>\n      <td>-0.431760</td>\n      <td>-0.203382</td>\n      <td>2.751157</td>\n      <td>2.706643</td>\n      <td>-0.849853</td>\n      <td>-0.758583</td>\n      <td>0</td>\n      <td>1</td>\n    </tr>\n    <tr>\n      <th>2</th>\n      <td>1.262579</td>\n      <td>0.796542</td>\n      <td>0.276854</td>\n      <td>-1.122948</td>\n      <td>-0.355806</td>\n      <td>-0.594514</td>\n      <td>-0.177977</td>\n      <td>-1.014197</td>\n      <td>0.274979</td>\n      <td>-0.960828</td>\n      <td>...</td>\n      <td>-0.934296</td>\n      <td>-0.312389</td>\n      <td>-0.430100</td>\n      <td>0.242452</td>\n      <td>2.794656</td>\n      <td>2.749632</td>\n      <td>-0.882634</td>\n      <td>-0.794367</td>\n      <td>0</td>\n      <td>1</td>\n    </tr>\n    <tr>\n      <th>3</th>\n      <td>1.017869</td>\n      <td>0.828472</td>\n      <td>0.301687</td>\n      <td>-1.122948</td>\n      <td>-0.352983</td>\n      <td>-0.477312</td>\n      <td>0.055789</td>\n      <td>-1.039516</td>\n      <td>0.299541</td>\n      <td>-0.738049</td>\n      <td>...</td>\n      <td>-0.795231</td>\n      <td>-0.312389</td>\n      <td>-0.426769</td>\n      <td>-0.155548</td>\n      <td>2.838155</td>\n      <td>2.814116</td>\n      <td>-0.920878</td>\n      <td>-0.830151</td>\n      <td>0</td>\n      <td>1</td>\n    </tr>\n    <tr>\n      <th>4</th>\n      <td>0.773159</td>\n      <td>0.852420</td>\n      <td>0.318242</td>\n      <td>-1.122948</td>\n      <td>-0.393403</td>\n      <td>-0.438245</td>\n      <td>0.078203</td>\n      <td>-1.059771</td>\n      <td>0.324104</td>\n      <td>-0.693493</td>\n      <td>...</td>\n      <td>-0.748876</td>\n      <td>-0.312389</td>\n      <td>-0.479628</td>\n      <td>-0.165747</td>\n      <td>2.903403</td>\n      <td>2.857105</td>\n      <td>-0.970049</td>\n      <td>-0.937503</td>\n      <td>0</td>\n      <td>1</td>\n    </tr>\n  </tbody>\n</table>\n<p>5 rows × 21 columns</p>\n</div>"
     },
     "execution_count": 22,
     "metadata": {},
     "output_type": "execute_result"
    }
   ],
   "source": [
    "processed_features = pd.concat([numeric_features, categorical_features], axis=1, sort=False)\n",
    "processed_features.head()"
   ],
   "metadata": {
    "collapsed": false,
    "pycharm": {
     "name": "#%%\n"
    }
   }
  },
  {
   "cell_type": "code",
   "execution_count": 23,
   "outputs": [],
   "source": [
    "from sklearn.model_selection import train_test_split\n",
    "\n",
    "x_train, x_test, y_train, y_test = train_test_split(processed_features, target, test_size=0.2, random_state=1)"
   ],
   "metadata": {
    "collapsed": false,
    "pycharm": {
     "name": "#%%\n"
    }
   }
  },
  {
   "cell_type": "code",
   "execution_count": 24,
   "outputs": [
    {
     "data": {
      "text/plain": "(((1319, 21), (330, 21)), ((1319, 1), (330, 1)))"
     },
     "execution_count": 24,
     "metadata": {},
     "output_type": "execute_result"
    }
   ],
   "source": [
    "(x_train.shape, x_test.shape), (y_train.shape, y_test.shape)"
   ],
   "metadata": {
    "collapsed": false,
    "pycharm": {
     "name": "#%%\n"
    }
   }
  },
  {
   "cell_type": "code",
   "execution_count": 25,
   "outputs": [],
   "source": [
    "def build_single_layer_model():\n",
    "    model = tf.keras.Sequential()\n",
    "    model.add(tf.keras.layers.Dense(32, input_shape = (x_train.shape[1],),activation = 'sigmoid'))\n",
    "\n",
    "    model.add(tf.keras.layers.Dense(1))\n",
    "\n",
    "    optimizer = tf.keras.optimizers.Adam(learning_rate=0.01)\n",
    "\n",
    "    model.compile(loss = 'mse', metrics=['mae', 'mse'], optimizer=optimizer)\n",
    "\n",
    "    return model"
   ],
   "metadata": {
    "collapsed": false,
    "pycharm": {
     "name": "#%%\n"
    }
   }
  },
  {
   "cell_type": "code",
   "execution_count": 26,
   "outputs": [
    {
     "name": "stdout",
     "output_type": "stream",
     "text": [
      "Model: \"sequential\"\n",
      "_________________________________________________________________\n",
      " Layer (type)                Output Shape              Param #   \n",
      "=================================================================\n",
      " dense (Dense)               (None, 32)                704       \n",
      "                                                                 \n",
      " dense_1 (Dense)             (None, 1)                 33        \n",
      "                                                                 \n",
      "=================================================================\n",
      "Total params: 737\n",
      "Trainable params: 737\n",
      "Non-trainable params: 0\n",
      "_________________________________________________________________\n"
     ]
    }
   ],
   "source": [
    "model = build_single_layer_model()\n",
    "model.summary()"
   ],
   "metadata": {
    "collapsed": false,
    "pycharm": {
     "name": "#%%\n"
    }
   }
  },
  {
   "cell_type": "code",
   "execution_count": null,
   "outputs": [],
   "source": [
    "# !pip install pydot\n",
    "# !pip install pydotplus\n",
    "# !pip install graphviz\n",
    "#\n",
    "# !pip3 install pydot-ng\n",
    "# !pip3 install graphviz\n",
    "\n",
    "# import keras.utils.vis_utils\n",
    "# from importlib import reload\n",
    "# reload(keras.utils.vis_utils)\n",
    "#\n",
    "#\n",
    "# from keras.utils.vis_utils import plot_model\n",
    "#\n",
    "tf.keras.utils.plot_model(model)"
   ],
   "metadata": {
    "collapsed": false,
    "pycharm": {
     "name": "#%%\n",
     "is_executing": true
    }
   }
  },
  {
   "cell_type": "code",
   "execution_count": 41,
   "outputs": [
    {
     "name": "stdout",
     "output_type": "stream",
     "text": [
      "Epoch 1/100\n",
      "33/33 [==============================] - 0s 4ms/step - loss: 4124.1196 - mae: 63.7295 - mse: 4124.1196 - val_loss: 3632.6836 - val_mae: 59.7712 - val_mse: 3632.6836\n",
      "Epoch 2/100\n",
      "33/33 [==============================] - 0s 3ms/step - loss: 3120.6802 - mae: 55.2783 - mse: 3120.6802 - val_loss: 2585.6169 - val_mae: 50.1889 - val_mse: 2585.6169\n",
      "Epoch 3/100\n",
      "33/33 [==============================] - 0s 3ms/step - loss: 2081.5657 - mae: 44.8032 - mse: 2081.5657 - val_loss: 1606.9030 - val_mae: 39.2306 - val_mse: 1606.9030\n",
      "Epoch 4/100\n",
      "33/33 [==============================] - 0s 3ms/step - loss: 1226.5785 - mae: 33.9768 - mse: 1226.5785 - val_loss: 890.8802 - val_mae: 28.7481 - val_mse: 890.8802\n",
      "Epoch 5/100\n",
      "33/33 [==============================] - 0s 2ms/step - loss: 655.7150 - mae: 24.2352 - mse: 655.7150 - val_loss: 464.9297 - val_mae: 20.0984 - val_mse: 464.9297\n",
      "Epoch 6/100\n",
      "33/33 [==============================] - 0s 2ms/step - loss: 333.5573 - mae: 16.6108 - mse: 333.5573 - val_loss: 234.9963 - val_mae: 13.6453 - val_mse: 234.9963\n",
      "Epoch 7/100\n",
      "33/33 [==============================] - 0s 4ms/step - loss: 167.2297 - mae: 11.2161 - mse: 167.2297 - val_loss: 122.4964 - val_mae: 9.4863 - val_mse: 122.4964\n",
      "Epoch 8/100\n",
      "33/33 [==============================] - 0s 3ms/step - loss: 89.1990 - mae: 7.8920 - mse: 89.1990 - val_loss: 70.2538 - val_mae: 7.0129 - val_mse: 70.2538\n",
      "Epoch 9/100\n",
      "33/33 [==============================] - 0s 3ms/step - loss: 53.3465 - mae: 5.9413 - mse: 53.3465 - val_loss: 45.8575 - val_mae: 5.5046 - val_mse: 45.8575\n",
      "Epoch 10/100\n",
      "33/33 [==============================] - 0s 2ms/step - loss: 36.1145 - mae: 4.8295 - mse: 36.1145 - val_loss: 34.3013 - val_mae: 4.6349 - val_mse: 34.3013\n",
      "Epoch 11/100\n",
      "33/33 [==============================] - 0s 3ms/step - loss: 27.7122 - mae: 4.2093 - mse: 27.7122 - val_loss: 28.0389 - val_mae: 4.0745 - val_mse: 28.0389\n",
      "Epoch 12/100\n",
      "33/33 [==============================] - 0s 3ms/step - loss: 23.4977 - mae: 3.8206 - mse: 23.4977 - val_loss: 24.7894 - val_mae: 3.7490 - val_mse: 24.7894\n",
      "Epoch 13/100\n",
      "33/33 [==============================] - 0s 3ms/step - loss: 21.2311 - mae: 3.5861 - mse: 21.2311 - val_loss: 23.0607 - val_mae: 3.5433 - val_mse: 23.0607\n",
      "Epoch 14/100\n",
      "33/33 [==============================] - 0s 3ms/step - loss: 19.8594 - mae: 3.4522 - mse: 19.8594 - val_loss: 21.5953 - val_mae: 3.4213 - val_mse: 21.5953\n",
      "Epoch 15/100\n",
      "33/33 [==============================] - 0s 3ms/step - loss: 18.8712 - mae: 3.3269 - mse: 18.8712 - val_loss: 20.5220 - val_mae: 3.3153 - val_mse: 20.5220\n",
      "Epoch 16/100\n",
      "33/33 [==============================] - 0s 3ms/step - loss: 18.0845 - mae: 3.2548 - mse: 18.0845 - val_loss: 19.7577 - val_mae: 3.2606 - val_mse: 19.7577\n",
      "Epoch 17/100\n",
      "33/33 [==============================] - 0s 3ms/step - loss: 17.4683 - mae: 3.1934 - mse: 17.4683 - val_loss: 19.0229 - val_mae: 3.1879 - val_mse: 19.0229\n",
      "Epoch 18/100\n",
      "33/33 [==============================] - 0s 3ms/step - loss: 16.8657 - mae: 3.1362 - mse: 16.8657 - val_loss: 18.4860 - val_mae: 3.1411 - val_mse: 18.4860\n",
      "Epoch 19/100\n",
      "33/33 [==============================] - 0s 3ms/step - loss: 16.3469 - mae: 3.0770 - mse: 16.3469 - val_loss: 17.8962 - val_mae: 3.0964 - val_mse: 17.8962\n",
      "Epoch 20/100\n",
      "33/33 [==============================] - 0s 3ms/step - loss: 15.7486 - mae: 3.0223 - mse: 15.7486 - val_loss: 17.2592 - val_mae: 3.0461 - val_mse: 17.2592\n",
      "Epoch 21/100\n",
      "33/33 [==============================] - 0s 2ms/step - loss: 15.1222 - mae: 2.9567 - mse: 15.1222 - val_loss: 16.7578 - val_mae: 2.9962 - val_mse: 16.7578\n",
      "Epoch 22/100\n",
      "33/33 [==============================] - 0s 3ms/step - loss: 14.4698 - mae: 2.8935 - mse: 14.4698 - val_loss: 16.2449 - val_mae: 2.9479 - val_mse: 16.2449\n",
      "Epoch 23/100\n",
      "33/33 [==============================] - 0s 2ms/step - loss: 13.9190 - mae: 2.8446 - mse: 13.9190 - val_loss: 15.7221 - val_mae: 2.8985 - val_mse: 15.7221\n",
      "Epoch 24/100\n",
      "33/33 [==============================] - 0s 3ms/step - loss: 13.3648 - mae: 2.7824 - mse: 13.3648 - val_loss: 15.2922 - val_mae: 2.8559 - val_mse: 15.2922\n",
      "Epoch 25/100\n",
      "33/33 [==============================] - 0s 2ms/step - loss: 12.8371 - mae: 2.7236 - mse: 12.8371 - val_loss: 14.7108 - val_mae: 2.7938 - val_mse: 14.7108\n",
      "Epoch 26/100\n",
      "33/33 [==============================] - 0s 2ms/step - loss: 12.2997 - mae: 2.6556 - mse: 12.2997 - val_loss: 14.3295 - val_mae: 2.7452 - val_mse: 14.3295\n",
      "Epoch 27/100\n",
      "33/33 [==============================] - 0s 3ms/step - loss: 11.7902 - mae: 2.6014 - mse: 11.7902 - val_loss: 13.7807 - val_mae: 2.6923 - val_mse: 13.7807\n",
      "Epoch 28/100\n",
      "33/33 [==============================] - 0s 3ms/step - loss: 11.3478 - mae: 2.5502 - mse: 11.3478 - val_loss: 13.4731 - val_mae: 2.6492 - val_mse: 13.4731\n",
      "Epoch 29/100\n",
      "33/33 [==============================] - 0s 3ms/step - loss: 10.8777 - mae: 2.4968 - mse: 10.8777 - val_loss: 13.1225 - val_mae: 2.6060 - val_mse: 13.1225\n",
      "Epoch 30/100\n",
      "33/33 [==============================] - 0s 3ms/step - loss: 10.5592 - mae: 2.4565 - mse: 10.5592 - val_loss: 12.7319 - val_mae: 2.5672 - val_mse: 12.7319\n",
      "Epoch 31/100\n",
      "33/33 [==============================] - 0s 3ms/step - loss: 10.0941 - mae: 2.3939 - mse: 10.0941 - val_loss: 12.3786 - val_mae: 2.5295 - val_mse: 12.3786\n",
      "Epoch 32/100\n",
      "33/33 [==============================] - 0s 3ms/step - loss: 9.7091 - mae: 2.3415 - mse: 9.7091 - val_loss: 12.0847 - val_mae: 2.4995 - val_mse: 12.0847\n",
      "Epoch 33/100\n",
      "33/33 [==============================] - 0s 3ms/step - loss: 9.3778 - mae: 2.3062 - mse: 9.3778 - val_loss: 11.7746 - val_mae: 2.4720 - val_mse: 11.7746\n",
      "Epoch 34/100\n",
      "33/33 [==============================] - 0s 2ms/step - loss: 9.0876 - mae: 2.2627 - mse: 9.0876 - val_loss: 11.5739 - val_mae: 2.4550 - val_mse: 11.5739\n",
      "Epoch 35/100\n",
      "33/33 [==============================] - 0s 3ms/step - loss: 8.8200 - mae: 2.2272 - mse: 8.8200 - val_loss: 11.3216 - val_mae: 2.4298 - val_mse: 11.3216\n",
      "Epoch 36/100\n",
      "33/33 [==============================] - 0s 4ms/step - loss: 8.5797 - mae: 2.1981 - mse: 8.5797 - val_loss: 11.1748 - val_mae: 2.4243 - val_mse: 11.1748\n",
      "Epoch 37/100\n",
      "33/33 [==============================] - 0s 3ms/step - loss: 8.3153 - mae: 2.1657 - mse: 8.3153 - val_loss: 10.9552 - val_mae: 2.4014 - val_mse: 10.9552\n",
      "Epoch 38/100\n",
      "33/33 [==============================] - 0s 3ms/step - loss: 8.1368 - mae: 2.1315 - mse: 8.1368 - val_loss: 10.8567 - val_mae: 2.3955 - val_mse: 10.8567\n",
      "Epoch 39/100\n",
      "33/33 [==============================] - 0s 2ms/step - loss: 7.9506 - mae: 2.1161 - mse: 7.9506 - val_loss: 10.7901 - val_mae: 2.3887 - val_mse: 10.7901\n",
      "Epoch 40/100\n",
      "33/33 [==============================] - 0s 2ms/step - loss: 7.7869 - mae: 2.0902 - mse: 7.7869 - val_loss: 10.6411 - val_mae: 2.3707 - val_mse: 10.6411\n",
      "Epoch 41/100\n",
      "33/33 [==============================] - 0s 2ms/step - loss: 7.6818 - mae: 2.0762 - mse: 7.6818 - val_loss: 10.4950 - val_mae: 2.3613 - val_mse: 10.4950\n",
      "Epoch 42/100\n",
      "33/33 [==============================] - 0s 2ms/step - loss: 7.5449 - mae: 2.0680 - mse: 7.5449 - val_loss: 10.3734 - val_mae: 2.3379 - val_mse: 10.3734\n",
      "Epoch 43/100\n",
      "33/33 [==============================] - 0s 3ms/step - loss: 7.4458 - mae: 2.0341 - mse: 7.4458 - val_loss: 10.4048 - val_mae: 2.3383 - val_mse: 10.4048\n",
      "Epoch 44/100\n",
      "33/33 [==============================] - 0s 2ms/step - loss: 7.2660 - mae: 2.0127 - mse: 7.2660 - val_loss: 10.2615 - val_mae: 2.3151 - val_mse: 10.2615\n",
      "Epoch 45/100\n",
      "33/33 [==============================] - 0s 3ms/step - loss: 7.1159 - mae: 1.9958 - mse: 7.1159 - val_loss: 10.0816 - val_mae: 2.2948 - val_mse: 10.0816\n",
      "Epoch 46/100\n",
      "33/33 [==============================] - 0s 3ms/step - loss: 7.0477 - mae: 1.9897 - mse: 7.0477 - val_loss: 10.0807 - val_mae: 2.3015 - val_mse: 10.0807\n",
      "Epoch 47/100\n",
      "33/33 [==============================] - 0s 3ms/step - loss: 6.9506 - mae: 1.9708 - mse: 6.9506 - val_loss: 10.0553 - val_mae: 2.2872 - val_mse: 10.0553\n",
      "Epoch 48/100\n",
      "33/33 [==============================] - 0s 2ms/step - loss: 6.8024 - mae: 1.9470 - mse: 6.8024 - val_loss: 9.8117 - val_mae: 2.2546 - val_mse: 9.8117\n",
      "Epoch 49/100\n",
      "33/33 [==============================] - 0s 2ms/step - loss: 6.7631 - mae: 1.9386 - mse: 6.7631 - val_loss: 9.7787 - val_mae: 2.2443 - val_mse: 9.7787\n",
      "Epoch 50/100\n",
      "33/33 [==============================] - 0s 2ms/step - loss: 6.6207 - mae: 1.9212 - mse: 6.6207 - val_loss: 9.6513 - val_mae: 2.2247 - val_mse: 9.6513\n",
      "Epoch 51/100\n",
      "33/33 [==============================] - 0s 3ms/step - loss: 6.5135 - mae: 1.8971 - mse: 6.5135 - val_loss: 9.6429 - val_mae: 2.2137 - val_mse: 9.6429\n",
      "Epoch 52/100\n",
      "33/33 [==============================] - 0s 3ms/step - loss: 6.4479 - mae: 1.8840 - mse: 6.4479 - val_loss: 9.5124 - val_mae: 2.2016 - val_mse: 9.5124\n",
      "Epoch 53/100\n",
      "33/33 [==============================] - 0s 2ms/step - loss: 6.3739 - mae: 1.8722 - mse: 6.3739 - val_loss: 9.4625 - val_mae: 2.1843 - val_mse: 9.4625\n",
      "Epoch 54/100\n",
      "33/33 [==============================] - 0s 2ms/step - loss: 6.3323 - mae: 1.8731 - mse: 6.3323 - val_loss: 9.3857 - val_mae: 2.1793 - val_mse: 9.3857\n",
      "Epoch 55/100\n",
      "33/33 [==============================] - 0s 3ms/step - loss: 6.2610 - mae: 1.8606 - mse: 6.2610 - val_loss: 9.2971 - val_mae: 2.1660 - val_mse: 9.2971\n",
      "Epoch 56/100\n",
      "33/33 [==============================] - 0s 3ms/step - loss: 6.1322 - mae: 1.8265 - mse: 6.1322 - val_loss: 9.1496 - val_mae: 2.1577 - val_mse: 9.1496\n",
      "Epoch 57/100\n",
      "33/33 [==============================] - 0s 3ms/step - loss: 6.0644 - mae: 1.8244 - mse: 6.0644 - val_loss: 9.2144 - val_mae: 2.1484 - val_mse: 9.2144\n",
      "Epoch 58/100\n",
      "33/33 [==============================] - 0s 2ms/step - loss: 5.9639 - mae: 1.8083 - mse: 5.9639 - val_loss: 9.1360 - val_mae: 2.1431 - val_mse: 9.1360\n",
      "Epoch 59/100\n",
      "33/33 [==============================] - 0s 2ms/step - loss: 5.8883 - mae: 1.7947 - mse: 5.8883 - val_loss: 9.0870 - val_mae: 2.1292 - val_mse: 9.0870\n",
      "Epoch 60/100\n",
      "33/33 [==============================] - 0s 3ms/step - loss: 5.8463 - mae: 1.7846 - mse: 5.8463 - val_loss: 9.0040 - val_mae: 2.1236 - val_mse: 9.0040\n",
      "Epoch 61/100\n",
      "33/33 [==============================] - 0s 3ms/step - loss: 5.7899 - mae: 1.7727 - mse: 5.7899 - val_loss: 8.9744 - val_mae: 2.1170 - val_mse: 8.9744\n",
      "Epoch 62/100\n",
      "33/33 [==============================] - 0s 3ms/step - loss: 5.7234 - mae: 1.7684 - mse: 5.7234 - val_loss: 8.8905 - val_mae: 2.1012 - val_mse: 8.8905\n",
      "Epoch 63/100\n",
      "33/33 [==============================] - 0s 3ms/step - loss: 5.6793 - mae: 1.7501 - mse: 5.6793 - val_loss: 8.8965 - val_mae: 2.0918 - val_mse: 8.8965\n",
      "Epoch 64/100\n",
      "33/33 [==============================] - 0s 2ms/step - loss: 5.6625 - mae: 1.7582 - mse: 5.6625 - val_loss: 8.8989 - val_mae: 2.1107 - val_mse: 8.8989\n",
      "Epoch 65/100\n",
      "33/33 [==============================] - 0s 2ms/step - loss: 5.5521 - mae: 1.7315 - mse: 5.5521 - val_loss: 8.7927 - val_mae: 2.0917 - val_mse: 8.7927\n",
      "Epoch 66/100\n",
      "33/33 [==============================] - 0s 3ms/step - loss: 5.4867 - mae: 1.7238 - mse: 5.4867 - val_loss: 8.7243 - val_mae: 2.0733 - val_mse: 8.7243\n",
      "Epoch 67/100\n",
      "33/33 [==============================] - 0s 3ms/step - loss: 5.4237 - mae: 1.7169 - mse: 5.4237 - val_loss: 8.6303 - val_mae: 2.0736 - val_mse: 8.6303\n",
      "Epoch 68/100\n",
      "33/33 [==============================] - 0s 3ms/step - loss: 5.3982 - mae: 1.7092 - mse: 5.3982 - val_loss: 8.5860 - val_mae: 2.0669 - val_mse: 8.5860\n",
      "Epoch 69/100\n",
      "33/33 [==============================] - 0s 3ms/step - loss: 5.3959 - mae: 1.7085 - mse: 5.3959 - val_loss: 8.5156 - val_mae: 2.0634 - val_mse: 8.5156\n",
      "Epoch 70/100\n",
      "33/33 [==============================] - 0s 3ms/step - loss: 5.2973 - mae: 1.7013 - mse: 5.2973 - val_loss: 8.5158 - val_mae: 2.0581 - val_mse: 8.5158\n",
      "Epoch 71/100\n",
      "33/33 [==============================] - 0s 3ms/step - loss: 5.2411 - mae: 1.6716 - mse: 5.2411 - val_loss: 8.5086 - val_mae: 2.0586 - val_mse: 8.5086\n",
      "Epoch 72/100\n",
      "33/33 [==============================] - 0s 3ms/step - loss: 5.2363 - mae: 1.6871 - mse: 5.2363 - val_loss: 8.5330 - val_mae: 2.0508 - val_mse: 8.5330\n",
      "Epoch 73/100\n",
      "33/33 [==============================] - 0s 2ms/step - loss: 5.1807 - mae: 1.6615 - mse: 5.1807 - val_loss: 8.4168 - val_mae: 2.0327 - val_mse: 8.4168\n",
      "Epoch 74/100\n",
      "33/33 [==============================] - 0s 3ms/step - loss: 5.1255 - mae: 1.6599 - mse: 5.1255 - val_loss: 8.5224 - val_mae: 2.0664 - val_mse: 8.5224\n",
      "Epoch 75/100\n",
      "33/33 [==============================] - 0s 3ms/step - loss: 5.2127 - mae: 1.6713 - mse: 5.2127 - val_loss: 8.3441 - val_mae: 2.0346 - val_mse: 8.3441\n",
      "Epoch 76/100\n",
      "33/33 [==============================] - 0s 2ms/step - loss: 5.0915 - mae: 1.6591 - mse: 5.0915 - val_loss: 8.4080 - val_mae: 2.0299 - val_mse: 8.4080\n",
      "Epoch 77/100\n",
      "33/33 [==============================] - 0s 2ms/step - loss: 5.0583 - mae: 1.6550 - mse: 5.0583 - val_loss: 8.2349 - val_mae: 2.0246 - val_mse: 8.2349\n",
      "Epoch 78/100\n",
      "33/33 [==============================] - 0s 2ms/step - loss: 4.9821 - mae: 1.6323 - mse: 4.9821 - val_loss: 8.2425 - val_mae: 2.0118 - val_mse: 8.2425\n",
      "Epoch 79/100\n",
      "33/33 [==============================] - 0s 3ms/step - loss: 4.9566 - mae: 1.6306 - mse: 4.9566 - val_loss: 8.2025 - val_mae: 2.0076 - val_mse: 8.2025\n",
      "Epoch 80/100\n",
      "33/33 [==============================] - 0s 3ms/step - loss: 4.9594 - mae: 1.6326 - mse: 4.9594 - val_loss: 8.1630 - val_mae: 2.0042 - val_mse: 8.1630\n",
      "Epoch 81/100\n",
      "33/33 [==============================] - 0s 3ms/step - loss: 4.9366 - mae: 1.6277 - mse: 4.9366 - val_loss: 8.0963 - val_mae: 1.9957 - val_mse: 8.0963\n",
      "Epoch 82/100\n",
      "33/33 [==============================] - 0s 3ms/step - loss: 4.8691 - mae: 1.6169 - mse: 4.8691 - val_loss: 8.0280 - val_mae: 2.0004 - val_mse: 8.0280\n",
      "Epoch 83/100\n",
      "33/33 [==============================] - 0s 3ms/step - loss: 4.8995 - mae: 1.6239 - mse: 4.8995 - val_loss: 8.0184 - val_mae: 1.9996 - val_mse: 8.0184\n",
      "Epoch 84/100\n",
      "33/33 [==============================] - 0s 3ms/step - loss: 4.8799 - mae: 1.6326 - mse: 4.8799 - val_loss: 8.0937 - val_mae: 1.9962 - val_mse: 8.0937\n",
      "Epoch 85/100\n",
      "33/33 [==============================] - 0s 3ms/step - loss: 4.7926 - mae: 1.6045 - mse: 4.7926 - val_loss: 8.0551 - val_mae: 2.0036 - val_mse: 8.0551\n",
      "Epoch 86/100\n",
      "33/33 [==============================] - 0s 3ms/step - loss: 4.8323 - mae: 1.6287 - mse: 4.8323 - val_loss: 8.1153 - val_mae: 2.0098 - val_mse: 8.1153\n",
      "Epoch 87/100\n",
      "33/33 [==============================] - 0s 3ms/step - loss: 4.7681 - mae: 1.5960 - mse: 4.7681 - val_loss: 7.8941 - val_mae: 1.9753 - val_mse: 7.8941\n",
      "Epoch 88/100\n",
      "33/33 [==============================] - 0s 2ms/step - loss: 4.7224 - mae: 1.5925 - mse: 4.7224 - val_loss: 7.9195 - val_mae: 1.9838 - val_mse: 7.9195\n",
      "Epoch 89/100\n",
      "33/33 [==============================] - 0s 2ms/step - loss: 4.7644 - mae: 1.6016 - mse: 4.7644 - val_loss: 7.9383 - val_mae: 1.9880 - val_mse: 7.9383\n",
      "Epoch 90/100\n",
      "33/33 [==============================] - 0s 2ms/step - loss: 4.7343 - mae: 1.5987 - mse: 4.7343 - val_loss: 7.9126 - val_mae: 1.9682 - val_mse: 7.9126\n",
      "Epoch 91/100\n",
      "33/33 [==============================] - 0s 3ms/step - loss: 4.7196 - mae: 1.5890 - mse: 4.7196 - val_loss: 7.8943 - val_mae: 1.9818 - val_mse: 7.8943\n",
      "Epoch 92/100\n",
      "33/33 [==============================] - 0s 2ms/step - loss: 4.6107 - mae: 1.5754 - mse: 4.6107 - val_loss: 7.9033 - val_mae: 1.9661 - val_mse: 7.9033\n",
      "Epoch 93/100\n",
      "33/33 [==============================] - 0s 3ms/step - loss: 4.6265 - mae: 1.5768 - mse: 4.6265 - val_loss: 7.7937 - val_mae: 1.9684 - val_mse: 7.7937\n",
      "Epoch 94/100\n",
      "33/33 [==============================] - 0s 3ms/step - loss: 4.5790 - mae: 1.5659 - mse: 4.5790 - val_loss: 7.8230 - val_mae: 1.9549 - val_mse: 7.8230\n",
      "Epoch 95/100\n",
      "33/33 [==============================] - 0s 3ms/step - loss: 4.5403 - mae: 1.5581 - mse: 4.5403 - val_loss: 7.7594 - val_mae: 1.9556 - val_mse: 7.7594\n",
      "Epoch 96/100\n",
      "33/33 [==============================] - 0s 2ms/step - loss: 4.5306 - mae: 1.5521 - mse: 4.5306 - val_loss: 7.7348 - val_mae: 1.9557 - val_mse: 7.7348\n",
      "Epoch 97/100\n",
      "33/33 [==============================] - 0s 3ms/step - loss: 4.5404 - mae: 1.5623 - mse: 4.5404 - val_loss: 7.7297 - val_mae: 1.9437 - val_mse: 7.7297\n",
      "Epoch 98/100\n",
      "33/33 [==============================] - 0s 2ms/step - loss: 4.5192 - mae: 1.5534 - mse: 4.5192 - val_loss: 7.6892 - val_mae: 1.9378 - val_mse: 7.6892\n",
      "Epoch 99/100\n",
      "33/33 [==============================] - 0s 3ms/step - loss: 4.4668 - mae: 1.5349 - mse: 4.4668 - val_loss: 7.6569 - val_mae: 1.9471 - val_mse: 7.6569\n",
      "Epoch 100/100\n",
      "33/33 [==============================] - 0s 3ms/step - loss: 4.4571 - mae: 1.5347 - mse: 4.4571 - val_loss: 7.6582 - val_mae: 1.9346 - val_mse: 7.6582\n"
     ]
    }
   ],
   "source": [
    "num_epocsh = 100\n",
    "\n",
    "training_history = model.fit(x_train, y_train, epochs = num_epocsh, validation_split=0.2, verbose=True)"
   ],
   "metadata": {
    "collapsed": false,
    "pycharm": {
     "name": "#%%\n"
    }
   }
  },
  {
   "cell_type": "code",
   "execution_count": 46,
   "outputs": [
    {
     "data": {
      "text/plain": "<Figure size 1152x576 with 2 Axes>",
      "image/png": "[encoded data removed]"
     },
     "metadata": {
      "needs_background": "light"
     },
     "output_type": "display_data"
    }
   ],
   "source": [
    "plt.figure(figsize=(16, 8))\n",
    "plt.subplot(1, 2 ,1)\n",
    "\n",
    "plt.plot(training_history.history['mae'])\n",
    "plt.plot(training_history.history['val_mae'])\n",
    "\n",
    "plt.title('Model MAE')\n",
    "plt.ylabel('mae')\n",
    "plt.xlabel('epoch')\n",
    "plt.legend(['train', 'val'])\n",
    "plt.subplot(1, 2, 2)\n",
    "plt.plot(training_history.history['loss'])\n",
    "plt.plot(training_history.history['val_loss'])\n",
    "\n",
    "plt.title('Model Loss')\n",
    "plt.ylabel('loss')\n",
    "plt.xlabel('epoch')\n",
    "plt.legend(['train', 'val'])\n",
    "plt.show()"
   ],
   "metadata": {
    "collapsed": false,
    "pycharm": {
     "name": "#%%\n"
    }
   }
  },
  {
   "cell_type": "code",
   "execution_count": 47,
   "outputs": [
    {
     "name": "stdout",
     "output_type": "stream",
     "text": [
      "11/11 [==============================] - 0s 1ms/step - loss: 5.0999 - mae: 1.6796 - mse: 5.0999\n"
     ]
    },
    {
     "data": {
      "text/plain": "[5.099903106689453, 1.6795920133590698, 5.099903106689453]"
     },
     "execution_count": 47,
     "metadata": {},
     "output_type": "execute_result"
    }
   ],
   "source": [
    "model.evaluate(x_test, y_test)"
   ],
   "metadata": {
    "collapsed": false,
    "pycharm": {
     "name": "#%%\n"
    }
   }
  },
  {
   "cell_type": "code",
   "execution_count": 48,
   "outputs": [
    {
     "data": {
      "text/plain": "0.9333747126547747"
     },
     "execution_count": 48,
     "metadata": {},
     "output_type": "execute_result"
    }
   ],
   "source": [
    "y_pred = model.predict(x_test)\n",
    "\n",
    "# How much of the variance is captured in the model. Higher the better\n",
    "r2_score(y_test, y_pred)"
   ],
   "metadata": {
    "collapsed": false,
    "pycharm": {
     "name": "#%%\n"
    }
   }
  },
  {
   "cell_type": "code",
   "execution_count": 50,
   "outputs": [
    {
     "data": {
      "text/plain": "     y_test     y_pred\n310    88.0  82.119225\n300    86.0  81.262085\n213    58.6  58.926834\n290    81.1  79.125847\n38     63.3  62.214687\n89     54.3  56.020264\n105    69.5  71.515213\n231    67.6  67.871872\n186    77.0  70.089767\n88     73.2  75.202888",
      "text/html": "<div>\n<style scoped>\n    .dataframe tbody tr th:only-of-type {\n        vertical-align: middle;\n    }\n\n    .dataframe tbody tr th {\n        vertical-align: top;\n    }\n\n    .dataframe thead th {\n        text-align: right;\n    }\n</style>\n<table border=\"1\" class=\"dataframe\">\n  <thead>\n    <tr style=\"text-align: right;\">\n      <th></th>\n      <th>y_test</th>\n      <th>y_pred</th>\n    </tr>\n  </thead>\n  <tbody>\n    <tr>\n      <th>310</th>\n      <td>88.0</td>\n      <td>82.119225</td>\n    </tr>\n    <tr>\n      <th>300</th>\n      <td>86.0</td>\n      <td>81.262085</td>\n    </tr>\n    <tr>\n      <th>213</th>\n      <td>58.6</td>\n      <td>58.926834</td>\n    </tr>\n    <tr>\n      <th>290</th>\n      <td>81.1</td>\n      <td>79.125847</td>\n    </tr>\n    <tr>\n      <th>38</th>\n      <td>63.3</td>\n      <td>62.214687</td>\n    </tr>\n    <tr>\n      <th>89</th>\n      <td>54.3</td>\n      <td>56.020264</td>\n    </tr>\n    <tr>\n      <th>105</th>\n      <td>69.5</td>\n      <td>71.515213</td>\n    </tr>\n    <tr>\n      <th>231</th>\n      <td>67.6</td>\n      <td>67.871872</td>\n    </tr>\n    <tr>\n      <th>186</th>\n      <td>77.0</td>\n      <td>70.089767</td>\n    </tr>\n    <tr>\n      <th>88</th>\n      <td>73.2</td>\n      <td>75.202888</td>\n    </tr>\n  </tbody>\n</table>\n</div>"
     },
     "execution_count": 50,
     "metadata": {},
     "output_type": "execute_result"
    }
   ],
   "source": [
    "pred_results = pd.DataFrame({'y_test': y_test.values.flatten(),\n",
    "                             'y_pred': y_pred.flatten()}, index=range(len(y_pred)))\n",
    "\n",
    "pred_results.sample(10)"
   ],
   "metadata": {
    "collapsed": false,
    "pycharm": {
     "name": "#%%\n"
    }
   }
  },
  {
   "cell_type": "code",
   "execution_count": 51,
   "outputs": [
    {
     "data": {
      "text/plain": "<Figure size 720x576 with 1 Axes>",
      "image/png": "[encoded data removed]"
     },
     "metadata": {
      "needs_background": "light"
     },
     "output_type": "display_data"
    }
   ],
   "source": [
    "plt.figure(figsize=(10, 8))\n",
    "\n",
    "plt.scatter(y_test, y_pred, s=100, c='blue')\n",
    "\n",
    "plt.xlabel('Actual life expectancy values')\n",
    "plt.ylabel('Predicted life expectany values')\n",
    "plt.show()"
   ],
   "metadata": {
    "collapsed": false,
    "pycharm": {
     "name": "#%%\n"
    }
   }
  },
  {
   "cell_type": "code",
   "execution_count": 52,
   "outputs": [],
   "source": [
    "def build_multiple_layer_model():\n",
    "    model = keras.Sequential([layers.Dense(32, input_shape = (x_train.shape[1], ), activation='relu'),\n",
    "                              layers.Dense(16, activation='relu'),\n",
    "                              layers.Dense(8, activation='relu'),\n",
    "                              layers.Dense(1)\n",
    "                              ])\n",
    "\n",
    "    optimizer = tf.keras.optimizers.Adam(learning_rate=0.001)\n",
    "\n",
    "    model.compile(loss = 'mse', metrics=['mae', 'mse'], optimizer = optimizer)\n",
    "\n",
    "    return model\n"
   ],
   "metadata": {
    "collapsed": false,
    "pycharm": {
     "name": "#%%\n"
    }
   }
  },
  {
   "cell_type": "code",
   "execution_count": 53,
   "outputs": [
    {
     "name": "stdout",
     "output_type": "stream",
     "text": [
      "You must install pydot (`pip install pydot`) and install graphviz (see instructions at https://graphviz.gitlab.io/download/) for plot_model/model_to_dot to work.\n"
     ]
    }
   ],
   "source": [
    "model = build_multiple_layer_model()\n",
    "tf.keras.utils.plot_model(model, show_shapes=True)"
   ],
   "metadata": {
    "collapsed": false,
    "pycharm": {
     "name": "#%%\n"
    }
   }
  },
  {
   "cell_type": "code",
   "execution_count": 59,
   "outputs": [],
   "source": [
    "# !rm -rf seq_logs\n",
    "# !ls -l\n",
    "\n",
    "from tensorflow import keras\n",
    "\n",
    "logdir = os.path.join(\"seq_logs\", datetime.datetime.now().strftime(\"%Y$m%d-%H%M%S\"))\n",
    "\n",
    "tensorboard_callback = keras.callbacks.TensorBoard(logdir, histogram_freq=1)"
   ],
   "metadata": {
    "collapsed": false,
    "pycharm": {
     "name": "#%%\n"
    }
   }
  },
  {
   "cell_type": "code",
   "execution_count": 60,
   "outputs": [
    {
     "name": "stdout",
     "output_type": "stream",
     "text": [
      "Epoch 1/500\n",
      "11/11 [==============================] - 2s 69ms/step - loss: 4776.0366 - mae: 68.5520 - mse: 4776.0366 - val_loss: 4749.0103 - val_mae: 68.2748 - val_mse: 4749.0103\n",
      "Epoch 2/500\n",
      "11/11 [==============================] - 0s 23ms/step - loss: 4698.4321 - mae: 67.9845 - mse: 4698.4321 - val_loss: 4659.9004 - val_mae: 67.6195 - val_mse: 4659.9004\n",
      "Epoch 3/500\n",
      "11/11 [==============================] - 0s 26ms/step - loss: 4594.6846 - mae: 67.2166 - mse: 4594.6851 - val_loss: 4538.8306 - val_mae: 66.7214 - val_mse: 4538.8306\n",
      "Epoch 4/500\n",
      "11/11 [==============================] - 0s 29ms/step - loss: 4455.3164 - mae: 66.1696 - mse: 4455.3169 - val_loss: 4373.4692 - val_mae: 65.4757 - val_mse: 4373.4697\n",
      "Epoch 5/500\n",
      "11/11 [==============================] - 0s 25ms/step - loss: 4260.7314 - mae: 64.6793 - mse: 4260.7314 - val_loss: 4140.8174 - val_mae: 63.6791 - val_mse: 4140.8174\n",
      "Epoch 6/500\n",
      "11/11 [==============================] - 0s 19ms/step - loss: 3990.1042 - mae: 62.5367 - mse: 3990.1042 - val_loss: 3817.3069 - val_mae: 61.0828 - val_mse: 3817.3069\n",
      "Epoch 7/500\n",
      "11/11 [==============================] - 0s 19ms/step - loss: 3619.6885 - mae: 59.4442 - mse: 3619.6885 - val_loss: 3383.5852 - val_mae: 57.3870 - val_mse: 3383.5852\n",
      "Epoch 8/500\n",
      "11/11 [==============================] - 0s 21ms/step - loss: 3136.1899 - mae: 55.1147 - mse: 3136.1899 - val_loss: 2835.6477 - val_mae: 52.2517 - val_mse: 2835.6477\n",
      "Epoch 9/500\n",
      "11/11 [==============================] - 0s 22ms/step - loss: 2547.7227 - mae: 49.3483 - mse: 2547.7227 - val_loss: 2200.4954 - val_mae: 45.4497 - val_mse: 2200.4954\n",
      "Epoch 10/500\n",
      "11/11 [==============================] - 0s 22ms/step - loss: 1902.8906 - mae: 42.0703 - mse: 1902.8906 - val_loss: 1540.6934 - val_mae: 37.5680 - val_mse: 1540.6934\n",
      "Epoch 11/500\n",
      "11/11 [==============================] - 0s 19ms/step - loss: 1277.8932 - mae: 33.5442 - mse: 1277.8932 - val_loss: 974.3564 - val_mae: 28.9694 - val_mse: 974.3564\n",
      "Epoch 12/500\n",
      "11/11 [==============================] - 0s 19ms/step - loss: 800.6729 - mae: 25.4650 - mse: 800.6729 - val_loss: 585.9288 - val_mae: 21.0878 - val_mse: 585.9288\n",
      "Epoch 13/500\n",
      "11/11 [==============================] - 0s 26ms/step - loss: 503.2854 - mae: 19.0339 - mse: 503.2854 - val_loss: 384.0951 - val_mae: 15.8443 - val_mse: 384.0951\n",
      "Epoch 14/500\n",
      "11/11 [==============================] - 0s 19ms/step - loss: 348.9307 - mae: 15.1149 - mse: 348.9307 - val_loss: 282.4368 - val_mae: 13.0836 - val_mse: 282.4368\n",
      "Epoch 15/500\n",
      "11/11 [==============================] - 0s 20ms/step - loss: 259.9847 - mae: 12.8265 - mse: 259.9847 - val_loss: 218.7641 - val_mae: 11.3326 - val_mse: 218.7641\n",
      "Epoch 16/500\n",
      "11/11 [==============================] - 0s 23ms/step - loss: 196.6967 - mae: 11.1245 - mse: 196.6967 - val_loss: 178.9128 - val_mae: 10.1587 - val_mse: 178.9128\n",
      "Epoch 17/500\n",
      "11/11 [==============================] - 0s 19ms/step - loss: 160.1805 - mae: 10.0063 - mse: 160.1805 - val_loss: 154.0438 - val_mae: 9.4206 - val_mse: 154.0438\n",
      "Epoch 18/500\n",
      "11/11 [==============================] - 0s 21ms/step - loss: 135.6159 - mae: 9.2328 - mse: 135.6159 - val_loss: 139.5911 - val_mae: 9.0135 - val_mse: 139.5911\n",
      "Epoch 19/500\n",
      "11/11 [==============================] - 0s 24ms/step - loss: 120.1920 - mae: 8.6911 - mse: 120.1920 - val_loss: 130.3452 - val_mae: 8.7352 - val_mse: 130.3452\n",
      "Epoch 20/500\n",
      "11/11 [==============================] - 0s 22ms/step - loss: 109.5372 - mae: 8.2905 - mse: 109.5372 - val_loss: 123.3709 - val_mae: 8.5307 - val_mse: 123.3709\n",
      "Epoch 21/500\n",
      "11/11 [==============================] - 0s 18ms/step - loss: 101.8650 - mae: 8.0076 - mse: 101.8650 - val_loss: 117.4628 - val_mae: 8.3648 - val_mse: 117.4628\n",
      "Epoch 22/500\n",
      "11/11 [==============================] - 0s 21ms/step - loss: 95.5267 - mae: 7.7626 - mse: 95.5267 - val_loss: 112.6976 - val_mae: 8.2207 - val_mse: 112.6976\n",
      "Epoch 23/500\n",
      "11/11 [==============================] - 0s 21ms/step - loss: 90.3198 - mae: 7.5472 - mse: 90.3198 - val_loss: 108.3365 - val_mae: 8.0651 - val_mse: 108.3365\n",
      "Epoch 24/500\n",
      "11/11 [==============================] - 0s 22ms/step - loss: 85.8639 - mae: 7.3719 - mse: 85.8639 - val_loss: 104.2368 - val_mae: 7.9282 - val_mse: 104.2368\n",
      "Epoch 25/500\n",
      "11/11 [==============================] - 0s 25ms/step - loss: 82.0209 - mae: 7.2194 - mse: 82.0209 - val_loss: 100.4549 - val_mae: 7.8212 - val_mse: 100.4549\n",
      "Epoch 26/500\n",
      "11/11 [==============================] - 0s 24ms/step - loss: 78.5158 - mae: 7.0704 - mse: 78.5158 - val_loss: 97.0995 - val_mae: 7.6972 - val_mse: 97.0995\n",
      "Epoch 27/500\n",
      "11/11 [==============================] - 0s 24ms/step - loss: 75.4940 - mae: 6.9333 - mse: 75.4940 - val_loss: 93.9547 - val_mae: 7.5952 - val_mse: 93.9547\n",
      "Epoch 28/500\n",
      "11/11 [==============================] - 0s 26ms/step - loss: 72.6533 - mae: 6.8083 - mse: 72.6533 - val_loss: 91.2295 - val_mae: 7.5036 - val_mse: 91.2295\n",
      "Epoch 29/500\n",
      "11/11 [==============================] - 0s 37ms/step - loss: 70.3014 - mae: 6.7041 - mse: 70.3014 - val_loss: 88.5470 - val_mae: 7.4071 - val_mse: 88.5470\n",
      "Epoch 30/500\n",
      "11/11 [==============================] - 0s 24ms/step - loss: 67.8652 - mae: 6.5848 - mse: 67.8652 - val_loss: 86.0908 - val_mae: 7.3092 - val_mse: 86.0908\n",
      "Epoch 31/500\n",
      "11/11 [==============================] - 0s 25ms/step - loss: 65.8860 - mae: 6.4849 - mse: 65.8860 - val_loss: 83.7068 - val_mae: 7.2177 - val_mse: 83.7068\n",
      "Epoch 32/500\n",
      "11/11 [==============================] - 0s 24ms/step - loss: 63.9426 - mae: 6.3957 - mse: 63.9426 - val_loss: 81.4994 - val_mae: 7.1324 - val_mse: 81.4994\n",
      "Epoch 33/500\n",
      "11/11 [==============================] - 0s 25ms/step - loss: 62.2495 - mae: 6.3099 - mse: 62.2495 - val_loss: 79.4151 - val_mae: 7.0571 - val_mse: 79.4151\n",
      "Epoch 34/500\n",
      "11/11 [==============================] - 0s 24ms/step - loss: 60.3951 - mae: 6.2121 - mse: 60.3951 - val_loss: 77.4231 - val_mae: 6.9536 - val_mse: 77.4231\n",
      "Epoch 35/500\n",
      "11/11 [==============================] - 0s 24ms/step - loss: 58.7826 - mae: 6.1209 - mse: 58.7826 - val_loss: 75.4715 - val_mae: 6.8725 - val_mse: 75.4715\n",
      "Epoch 36/500\n",
      "11/11 [==============================] - 0s 25ms/step - loss: 57.1851 - mae: 6.0414 - mse: 57.1851 - val_loss: 73.5663 - val_mae: 6.7935 - val_mse: 73.5663\n",
      "Epoch 37/500\n",
      "11/11 [==============================] - 0s 22ms/step - loss: 55.6470 - mae: 5.9618 - mse: 55.6470 - val_loss: 71.7318 - val_mae: 6.7187 - val_mse: 71.7318\n",
      "Epoch 38/500\n",
      "11/11 [==============================] - 0s 23ms/step - loss: 54.2026 - mae: 5.8782 - mse: 54.2026 - val_loss: 70.0219 - val_mae: 6.6319 - val_mse: 70.0219\n",
      "Epoch 39/500\n",
      "11/11 [==============================] - 0s 23ms/step - loss: 52.8257 - mae: 5.8014 - mse: 52.8257 - val_loss: 68.3423 - val_mae: 6.5516 - val_mse: 68.3423\n",
      "Epoch 40/500\n",
      "11/11 [==============================] - 0s 23ms/step - loss: 51.5239 - mae: 5.7284 - mse: 51.5239 - val_loss: 66.7407 - val_mae: 6.4899 - val_mse: 66.7407\n",
      "Epoch 41/500\n",
      "11/11 [==============================] - 0s 22ms/step - loss: 50.2716 - mae: 5.6601 - mse: 50.2716 - val_loss: 65.1638 - val_mae: 6.3985 - val_mse: 65.1638\n",
      "Epoch 42/500\n",
      "11/11 [==============================] - 0s 21ms/step - loss: 49.0450 - mae: 5.5924 - mse: 49.0450 - val_loss: 63.7740 - val_mae: 6.3331 - val_mse: 63.7740\n",
      "Epoch 43/500\n",
      "11/11 [==============================] - 0s 21ms/step - loss: 47.8546 - mae: 5.5181 - mse: 47.8546 - val_loss: 62.2984 - val_mae: 6.2586 - val_mse: 62.2984\n",
      "Epoch 44/500\n",
      "11/11 [==============================] - 0s 23ms/step - loss: 46.6439 - mae: 5.4488 - mse: 46.6439 - val_loss: 60.8328 - val_mae: 6.1770 - val_mse: 60.8328\n",
      "Epoch 45/500\n",
      "11/11 [==============================] - 0s 23ms/step - loss: 45.5212 - mae: 5.3880 - mse: 45.5212 - val_loss: 59.3871 - val_mae: 6.1140 - val_mse: 59.3871\n",
      "Epoch 46/500\n",
      "11/11 [==============================] - 0s 24ms/step - loss: 44.4202 - mae: 5.3180 - mse: 44.4202 - val_loss: 57.9915 - val_mae: 6.0428 - val_mse: 57.9915\n",
      "Epoch 47/500\n",
      "11/11 [==============================] - 0s 23ms/step - loss: 43.4124 - mae: 5.2542 - mse: 43.4124 - val_loss: 56.7367 - val_mae: 5.9710 - val_mse: 56.7367\n",
      "Epoch 48/500\n",
      "11/11 [==============================] - 0s 19ms/step - loss: 42.3554 - mae: 5.1910 - mse: 42.3554 - val_loss: 55.5263 - val_mae: 5.9102 - val_mse: 55.5263\n",
      "Epoch 49/500\n",
      "11/11 [==============================] - 0s 25ms/step - loss: 41.3276 - mae: 5.1198 - mse: 41.3276 - val_loss: 54.3154 - val_mae: 5.8286 - val_mse: 54.3154\n",
      "Epoch 50/500\n",
      "11/11 [==============================] - 0s 22ms/step - loss: 40.3889 - mae: 5.0637 - mse: 40.3889 - val_loss: 53.0130 - val_mae: 5.7633 - val_mse: 53.0130\n",
      "Epoch 51/500\n",
      "11/11 [==============================] - 0s 25ms/step - loss: 39.5017 - mae: 5.0082 - mse: 39.5017 - val_loss: 51.8956 - val_mae: 5.7129 - val_mse: 51.8956\n",
      "Epoch 52/500\n",
      "11/11 [==============================] - 0s 26ms/step - loss: 38.5449 - mae: 4.9337 - mse: 38.5449 - val_loss: 50.7996 - val_mae: 5.6405 - val_mse: 50.7996\n",
      "Epoch 53/500\n",
      "11/11 [==============================] - 0s 24ms/step - loss: 37.6464 - mae: 4.8824 - mse: 37.6464 - val_loss: 49.7353 - val_mae: 5.5704 - val_mse: 49.7353\n",
      "Epoch 54/500\n",
      "11/11 [==============================] - 0s 23ms/step - loss: 36.8591 - mae: 4.8341 - mse: 36.8591 - val_loss: 48.7361 - val_mae: 5.5069 - val_mse: 48.7361\n",
      "Epoch 55/500\n",
      "11/11 [==============================] - 0s 22ms/step - loss: 36.0063 - mae: 4.7725 - mse: 36.0063 - val_loss: 47.6167 - val_mae: 5.4411 - val_mse: 47.6167\n",
      "Epoch 56/500\n",
      "11/11 [==============================] - 0s 23ms/step - loss: 35.2470 - mae: 4.7178 - mse: 35.2470 - val_loss: 46.5747 - val_mae: 5.3860 - val_mse: 46.5747\n",
      "Epoch 57/500\n",
      "11/11 [==============================] - 0s 22ms/step - loss: 34.3678 - mae: 4.6515 - mse: 34.3678 - val_loss: 45.5821 - val_mae: 5.3204 - val_mse: 45.5821\n",
      "Epoch 58/500\n",
      "11/11 [==============================] - 0s 32ms/step - loss: 33.5792 - mae: 4.6000 - mse: 33.5792 - val_loss: 44.6356 - val_mae: 5.2494 - val_mse: 44.6356\n",
      "Epoch 59/500\n",
      "11/11 [==============================] - 0s 24ms/step - loss: 32.8355 - mae: 4.5468 - mse: 32.8355 - val_loss: 43.6666 - val_mae: 5.1909 - val_mse: 43.6666\n",
      "Epoch 60/500\n",
      "11/11 [==============================] - 0s 28ms/step - loss: 32.1172 - mae: 4.4929 - mse: 32.1172 - val_loss: 42.8107 - val_mae: 5.1361 - val_mse: 42.8107\n",
      "Epoch 61/500\n",
      "11/11 [==============================] - 0s 27ms/step - loss: 31.4148 - mae: 4.4381 - mse: 31.4148 - val_loss: 41.8459 - val_mae: 5.0754 - val_mse: 41.8459\n",
      "Epoch 62/500\n",
      "11/11 [==============================] - 0s 25ms/step - loss: 30.7594 - mae: 4.3849 - mse: 30.7594 - val_loss: 40.9485 - val_mae: 5.0102 - val_mse: 40.9485\n",
      "Epoch 63/500\n",
      "11/11 [==============================] - 0s 36ms/step - loss: 30.0332 - mae: 4.3352 - mse: 30.0332 - val_loss: 40.1336 - val_mae: 4.9451 - val_mse: 40.1336\n",
      "Epoch 64/500\n",
      "11/11 [==============================] - 0s 24ms/step - loss: 29.3806 - mae: 4.2871 - mse: 29.3806 - val_loss: 39.3559 - val_mae: 4.8966 - val_mse: 39.3559\n",
      "Epoch 65/500\n",
      "11/11 [==============================] - 0s 26ms/step - loss: 28.7448 - mae: 4.2366 - mse: 28.7448 - val_loss: 38.5509 - val_mae: 4.8453 - val_mse: 38.5509\n",
      "Epoch 66/500\n",
      "11/11 [==============================] - 0s 26ms/step - loss: 28.1380 - mae: 4.1931 - mse: 28.1380 - val_loss: 37.7621 - val_mae: 4.7584 - val_mse: 37.7621\n",
      "Epoch 67/500\n",
      "11/11 [==============================] - 0s 23ms/step - loss: 27.5447 - mae: 4.1385 - mse: 27.5447 - val_loss: 36.9460 - val_mae: 4.7215 - val_mse: 36.9460\n",
      "Epoch 68/500\n",
      "11/11 [==============================] - 0s 29ms/step - loss: 26.8501 - mae: 4.0925 - mse: 26.8501 - val_loss: 36.2671 - val_mae: 4.6545 - val_mse: 36.2671\n",
      "Epoch 69/500\n",
      "11/11 [==============================] - 0s 26ms/step - loss: 26.2740 - mae: 4.0449 - mse: 26.2740 - val_loss: 35.4514 - val_mae: 4.5968 - val_mse: 35.4514\n",
      "Epoch 70/500\n",
      "11/11 [==============================] - 0s 23ms/step - loss: 25.6110 - mae: 3.9844 - mse: 25.6110 - val_loss: 34.6878 - val_mae: 4.5489 - val_mse: 34.6878\n",
      "Epoch 71/500\n",
      "11/11 [==============================] - 0s 39ms/step - loss: 25.0839 - mae: 3.9477 - mse: 25.0839 - val_loss: 34.1676 - val_mae: 4.5051 - val_mse: 34.1676\n",
      "Epoch 72/500\n",
      "11/11 [==============================] - 0s 23ms/step - loss: 24.5208 - mae: 3.9010 - mse: 24.5208 - val_loss: 33.4474 - val_mae: 4.4548 - val_mse: 33.4474\n",
      "Epoch 73/500\n",
      "11/11 [==============================] - 0s 23ms/step - loss: 23.9994 - mae: 3.8513 - mse: 23.9994 - val_loss: 32.7727 - val_mae: 4.4026 - val_mse: 32.7727\n",
      "Epoch 74/500\n",
      "11/11 [==============================] - 0s 22ms/step - loss: 23.4483 - mae: 3.8051 - mse: 23.4483 - val_loss: 32.1948 - val_mae: 4.3575 - val_mse: 32.1948\n",
      "Epoch 75/500\n",
      "11/11 [==============================] - 0s 20ms/step - loss: 22.9543 - mae: 3.7680 - mse: 22.9543 - val_loss: 31.4461 - val_mae: 4.3030 - val_mse: 31.4461\n",
      "Epoch 76/500\n",
      "11/11 [==============================] - 0s 20ms/step - loss: 22.5148 - mae: 3.7257 - mse: 22.5148 - val_loss: 30.8754 - val_mae: 4.2550 - val_mse: 30.8754\n",
      "Epoch 77/500\n",
      "11/11 [==============================] - 0s 18ms/step - loss: 22.0430 - mae: 3.6872 - mse: 22.0430 - val_loss: 30.3590 - val_mae: 4.2137 - val_mse: 30.3590\n",
      "Epoch 78/500\n",
      "11/11 [==============================] - 0s 19ms/step - loss: 21.5543 - mae: 3.6458 - mse: 21.5543 - val_loss: 29.8930 - val_mae: 4.1681 - val_mse: 29.8930\n",
      "Epoch 79/500\n",
      "11/11 [==============================] - 0s 23ms/step - loss: 21.1039 - mae: 3.6011 - mse: 21.1039 - val_loss: 29.2915 - val_mae: 4.1241 - val_mse: 29.2915\n",
      "Epoch 80/500\n",
      "11/11 [==============================] - 0s 19ms/step - loss: 20.7589 - mae: 3.5641 - mse: 20.7589 - val_loss: 28.7073 - val_mae: 4.0847 - val_mse: 28.7073\n",
      "Epoch 81/500\n",
      "11/11 [==============================] - 0s 20ms/step - loss: 20.1709 - mae: 3.5129 - mse: 20.1709 - val_loss: 28.2247 - val_mae: 4.0328 - val_mse: 28.2247\n",
      "Epoch 82/500\n",
      "11/11 [==============================] - 0s 27ms/step - loss: 19.8221 - mae: 3.4870 - mse: 19.8221 - val_loss: 27.6350 - val_mae: 3.9801 - val_mse: 27.6350\n",
      "Epoch 83/500\n",
      "11/11 [==============================] - 0s 23ms/step - loss: 19.4320 - mae: 3.4446 - mse: 19.4320 - val_loss: 27.1376 - val_mae: 3.9525 - val_mse: 27.1376\n",
      "Epoch 84/500\n",
      "11/11 [==============================] - 0s 31ms/step - loss: 19.0705 - mae: 3.4134 - mse: 19.0705 - val_loss: 26.8354 - val_mae: 3.9108 - val_mse: 26.8354\n",
      "Epoch 85/500\n",
      "11/11 [==============================] - 0s 20ms/step - loss: 18.5406 - mae: 3.3634 - mse: 18.5406 - val_loss: 26.2917 - val_mae: 3.8711 - val_mse: 26.2917\n",
      "Epoch 86/500\n",
      "11/11 [==============================] - 0s 20ms/step - loss: 18.1556 - mae: 3.3278 - mse: 18.1556 - val_loss: 25.8617 - val_mae: 3.8307 - val_mse: 25.8617\n",
      "Epoch 87/500\n",
      "11/11 [==============================] - 0s 22ms/step - loss: 17.7716 - mae: 3.2842 - mse: 17.7716 - val_loss: 25.5134 - val_mae: 3.7944 - val_mse: 25.5134\n",
      "Epoch 88/500\n",
      "11/11 [==============================] - 0s 22ms/step - loss: 17.4448 - mae: 3.2520 - mse: 17.4448 - val_loss: 25.0691 - val_mae: 3.7607 - val_mse: 25.0691\n",
      "Epoch 89/500\n",
      "11/11 [==============================] - 0s 18ms/step - loss: 17.1350 - mae: 3.2360 - mse: 17.1350 - val_loss: 24.6716 - val_mae: 3.7254 - val_mse: 24.6716\n",
      "Epoch 90/500\n",
      "11/11 [==============================] - 0s 19ms/step - loss: 16.7274 - mae: 3.1890 - mse: 16.7274 - val_loss: 24.2913 - val_mae: 3.6839 - val_mse: 24.2913\n",
      "Epoch 91/500\n",
      "11/11 [==============================] - 0s 19ms/step - loss: 16.4626 - mae: 3.1640 - mse: 16.4626 - val_loss: 23.8230 - val_mae: 3.6544 - val_mse: 23.8230\n",
      "Epoch 92/500\n",
      "11/11 [==============================] - 0s 22ms/step - loss: 16.1366 - mae: 3.1341 - mse: 16.1366 - val_loss: 23.4289 - val_mae: 3.6100 - val_mse: 23.4289\n",
      "Epoch 93/500\n",
      "11/11 [==============================] - 0s 21ms/step - loss: 15.7899 - mae: 3.0993 - mse: 15.7899 - val_loss: 23.0145 - val_mae: 3.5819 - val_mse: 23.0145\n",
      "Epoch 94/500\n",
      "11/11 [==============================] - 0s 20ms/step - loss: 15.4333 - mae: 3.0693 - mse: 15.4333 - val_loss: 22.7617 - val_mae: 3.5422 - val_mse: 22.7617\n",
      "Epoch 95/500\n",
      "11/11 [==============================] - 0s 21ms/step - loss: 15.2036 - mae: 3.0446 - mse: 15.2036 - val_loss: 22.4192 - val_mae: 3.5132 - val_mse: 22.4192\n",
      "Epoch 96/500\n",
      "11/11 [==============================] - 0s 21ms/step - loss: 14.9078 - mae: 3.0230 - mse: 14.9078 - val_loss: 21.9985 - val_mae: 3.4846 - val_mse: 21.9985\n",
      "Epoch 97/500\n",
      "11/11 [==============================] - 0s 21ms/step - loss: 14.6419 - mae: 2.9830 - mse: 14.6419 - val_loss: 21.7307 - val_mae: 3.4692 - val_mse: 21.7307\n",
      "Epoch 98/500\n",
      "11/11 [==============================] - 0s 24ms/step - loss: 14.3201 - mae: 2.9508 - mse: 14.3201 - val_loss: 21.3982 - val_mae: 3.4314 - val_mse: 21.3982\n",
      "Epoch 99/500\n",
      "11/11 [==============================] - 1s 78ms/step - loss: 14.0770 - mae: 2.9297 - mse: 14.0770 - val_loss: 21.1334 - val_mae: 3.4062 - val_mse: 21.1334\n",
      "Epoch 100/500\n",
      "11/11 [==============================] - 0s 26ms/step - loss: 13.8419 - mae: 2.8989 - mse: 13.8419 - val_loss: 20.8328 - val_mae: 3.3933 - val_mse: 20.8328\n",
      "Epoch 101/500\n",
      "11/11 [==============================] - 0s 29ms/step - loss: 13.6276 - mae: 2.8875 - mse: 13.6276 - val_loss: 20.5223 - val_mae: 3.3656 - val_mse: 20.5223\n",
      "Epoch 102/500\n",
      "11/11 [==============================] - 0s 27ms/step - loss: 13.4490 - mae: 2.8680 - mse: 13.4490 - val_loss: 20.2141 - val_mae: 3.3542 - val_mse: 20.2141\n",
      "Epoch 103/500\n",
      "11/11 [==============================] - 0s 25ms/step - loss: 13.1448 - mae: 2.8284 - mse: 13.1448 - val_loss: 20.1389 - val_mae: 3.3153 - val_mse: 20.1389\n",
      "Epoch 104/500\n",
      "11/11 [==============================] - 0s 24ms/step - loss: 12.9863 - mae: 2.8123 - mse: 12.9863 - val_loss: 19.8238 - val_mae: 3.3240 - val_mse: 19.8238\n",
      "Epoch 105/500\n",
      "11/11 [==============================] - 0s 28ms/step - loss: 12.7400 - mae: 2.7899 - mse: 12.7400 - val_loss: 19.7104 - val_mae: 3.2821 - val_mse: 19.7104\n",
      "Epoch 106/500\n",
      "11/11 [==============================] - 0s 28ms/step - loss: 12.6073 - mae: 2.7676 - mse: 12.6073 - val_loss: 19.3984 - val_mae: 3.2720 - val_mse: 19.3984\n",
      "Epoch 107/500\n",
      "11/11 [==============================] - 0s 23ms/step - loss: 12.4895 - mae: 2.7649 - mse: 12.4895 - val_loss: 19.2441 - val_mae: 3.2573 - val_mse: 19.2441\n",
      "Epoch 108/500\n",
      "11/11 [==============================] - 0s 19ms/step - loss: 12.2846 - mae: 2.7317 - mse: 12.2846 - val_loss: 19.1220 - val_mae: 3.2301 - val_mse: 19.1220\n",
      "Epoch 109/500\n",
      "11/11 [==============================] - 0s 30ms/step - loss: 12.0536 - mae: 2.7091 - mse: 12.0536 - val_loss: 18.8138 - val_mae: 3.2328 - val_mse: 18.8138\n",
      "Epoch 110/500\n",
      "11/11 [==============================] - 0s 18ms/step - loss: 11.9314 - mae: 2.6941 - mse: 11.9314 - val_loss: 18.7547 - val_mae: 3.2075 - val_mse: 18.7547\n",
      "Epoch 111/500\n",
      "11/11 [==============================] - 0s 45ms/step - loss: 11.7995 - mae: 2.6894 - mse: 11.7995 - val_loss: 18.4812 - val_mae: 3.2066 - val_mse: 18.4812\n",
      "Epoch 112/500\n",
      "11/11 [==============================] - 0s 33ms/step - loss: 11.5601 - mae: 2.6542 - mse: 11.5601 - val_loss: 18.3436 - val_mae: 3.1727 - val_mse: 18.3436\n",
      "Epoch 113/500\n",
      "11/11 [==============================] - 0s 20ms/step - loss: 11.4425 - mae: 2.6431 - mse: 11.4425 - val_loss: 18.2260 - val_mae: 3.1509 - val_mse: 18.2260\n",
      "Epoch 114/500\n",
      "11/11 [==============================] - 0s 22ms/step - loss: 11.2736 - mae: 2.6288 - mse: 11.2736 - val_loss: 18.0258 - val_mae: 3.1443 - val_mse: 18.0258\n",
      "Epoch 115/500\n",
      "11/11 [==============================] - 0s 18ms/step - loss: 11.1748 - mae: 2.6085 - mse: 11.1748 - val_loss: 17.9374 - val_mae: 3.1349 - val_mse: 17.9374\n",
      "Epoch 116/500\n",
      "11/11 [==============================] - 0s 20ms/step - loss: 11.0415 - mae: 2.6076 - mse: 11.0415 - val_loss: 17.7790 - val_mae: 3.1296 - val_mse: 17.7790\n",
      "Epoch 117/500\n",
      "11/11 [==============================] - 0s 17ms/step - loss: 10.9060 - mae: 2.5803 - mse: 10.9060 - val_loss: 17.5652 - val_mae: 3.1024 - val_mse: 17.5652\n",
      "Epoch 118/500\n",
      "11/11 [==============================] - 0s 18ms/step - loss: 10.8027 - mae: 2.5737 - mse: 10.8027 - val_loss: 17.4084 - val_mae: 3.0822 - val_mse: 17.4084\n",
      "Epoch 119/500\n",
      "11/11 [==============================] - 0s 18ms/step - loss: 10.6932 - mae: 2.5623 - mse: 10.6932 - val_loss: 17.1946 - val_mae: 3.0654 - val_mse: 17.1946\n",
      "Epoch 120/500\n",
      "11/11 [==============================] - 0s 18ms/step - loss: 10.5963 - mae: 2.5507 - mse: 10.5963 - val_loss: 17.2254 - val_mae: 3.0592 - val_mse: 17.2254\n",
      "Epoch 121/500\n",
      "11/11 [==============================] - 0s 18ms/step - loss: 10.4652 - mae: 2.5378 - mse: 10.4652 - val_loss: 17.0134 - val_mae: 3.0507 - val_mse: 17.0134\n",
      "Epoch 122/500\n",
      "11/11 [==============================] - 0s 22ms/step - loss: 10.3676 - mae: 2.5197 - mse: 10.3676 - val_loss: 17.0196 - val_mae: 3.0404 - val_mse: 17.0196\n",
      "Epoch 123/500\n",
      "11/11 [==============================] - 0s 23ms/step - loss: 10.3279 - mae: 2.5072 - mse: 10.3279 - val_loss: 16.7371 - val_mae: 3.0077 - val_mse: 16.7371\n",
      "Epoch 124/500\n",
      "11/11 [==============================] - 0s 20ms/step - loss: 10.2521 - mae: 2.5037 - mse: 10.2521 - val_loss: 16.7704 - val_mae: 3.0297 - val_mse: 16.7704\n",
      "Epoch 125/500\n",
      "11/11 [==============================] - 0s 20ms/step - loss: 10.0984 - mae: 2.4886 - mse: 10.0984 - val_loss: 16.6304 - val_mae: 3.0083 - val_mse: 16.6304\n",
      "Epoch 126/500\n",
      "11/11 [==============================] - 0s 22ms/step - loss: 9.9754 - mae: 2.4737 - mse: 9.9754 - val_loss: 16.4419 - val_mae: 2.9865 - val_mse: 16.4419\n",
      "Epoch 127/500\n",
      "11/11 [==============================] - 0s 19ms/step - loss: 9.8624 - mae: 2.4568 - mse: 9.8624 - val_loss: 16.4602 - val_mae: 2.9915 - val_mse: 16.4602\n",
      "Epoch 128/500\n",
      "11/11 [==============================] - 0s 20ms/step - loss: 9.7929 - mae: 2.4517 - mse: 9.7929 - val_loss: 16.4518 - val_mae: 3.0013 - val_mse: 16.4518\n",
      "Epoch 129/500\n",
      "11/11 [==============================] - 0s 17ms/step - loss: 9.7146 - mae: 2.4436 - mse: 9.7146 - val_loss: 16.2006 - val_mae: 2.9647 - val_mse: 16.2006\n",
      "Epoch 130/500\n",
      "11/11 [==============================] - 0s 40ms/step - loss: 9.6219 - mae: 2.4282 - mse: 9.6219 - val_loss: 16.1232 - val_mae: 2.9610 - val_mse: 16.1232\n",
      "Epoch 131/500\n",
      "11/11 [==============================] - 0s 21ms/step - loss: 9.6203 - mae: 2.4239 - mse: 9.6203 - val_loss: 16.1077 - val_mae: 2.9484 - val_mse: 16.1077\n",
      "Epoch 132/500\n",
      "11/11 [==============================] - 0s 27ms/step - loss: 9.5207 - mae: 2.4131 - mse: 9.5207 - val_loss: 15.8721 - val_mae: 2.9392 - val_mse: 15.8721\n",
      "Epoch 133/500\n",
      "11/11 [==============================] - 0s 28ms/step - loss: 9.4180 - mae: 2.3990 - mse: 9.4180 - val_loss: 15.8897 - val_mae: 2.9361 - val_mse: 15.8897\n",
      "Epoch 134/500\n",
      "11/11 [==============================] - 0s 30ms/step - loss: 9.3703 - mae: 2.3944 - mse: 9.3703 - val_loss: 15.7208 - val_mae: 2.9299 - val_mse: 15.7208\n",
      "Epoch 135/500\n",
      "11/11 [==============================] - 0s 29ms/step - loss: 9.2825 - mae: 2.3794 - mse: 9.2825 - val_loss: 15.6209 - val_mae: 2.9091 - val_mse: 15.6209\n",
      "Epoch 136/500\n",
      "11/11 [==============================] - 0s 24ms/step - loss: 9.2278 - mae: 2.3791 - mse: 9.2278 - val_loss: 15.7170 - val_mae: 2.9224 - val_mse: 15.7170\n",
      "Epoch 137/500\n",
      "11/11 [==============================] - 0s 20ms/step - loss: 9.1937 - mae: 2.3731 - mse: 9.1937 - val_loss: 15.5301 - val_mae: 2.9052 - val_mse: 15.5301\n",
      "Epoch 138/500\n",
      "11/11 [==============================] - 0s 20ms/step - loss: 9.0757 - mae: 2.3510 - mse: 9.0757 - val_loss: 15.3787 - val_mae: 2.8849 - val_mse: 15.3787\n",
      "Epoch 139/500\n",
      "11/11 [==============================] - 0s 20ms/step - loss: 9.0563 - mae: 2.3539 - mse: 9.0563 - val_loss: 15.3447 - val_mae: 2.8852 - val_mse: 15.3447\n",
      "Epoch 140/500\n",
      "11/11 [==============================] - 0s 21ms/step - loss: 8.9765 - mae: 2.3428 - mse: 8.9765 - val_loss: 15.2526 - val_mae: 2.8691 - val_mse: 15.2526\n",
      "Epoch 141/500\n",
      "11/11 [==============================] - 0s 31ms/step - loss: 8.8959 - mae: 2.3294 - mse: 8.8959 - val_loss: 15.1985 - val_mae: 2.8679 - val_mse: 15.1985\n",
      "Epoch 142/500\n",
      "11/11 [==============================] - 0s 22ms/step - loss: 8.8436 - mae: 2.3262 - mse: 8.8436 - val_loss: 15.1408 - val_mae: 2.8616 - val_mse: 15.1408\n",
      "Epoch 143/500\n",
      "11/11 [==============================] - 0s 24ms/step - loss: 8.8194 - mae: 2.3130 - mse: 8.8194 - val_loss: 15.0132 - val_mae: 2.8580 - val_mse: 15.0132\n",
      "Epoch 144/500\n",
      "11/11 [==============================] - 0s 25ms/step - loss: 8.7535 - mae: 2.3140 - mse: 8.7535 - val_loss: 15.0788 - val_mae: 2.8719 - val_mse: 15.0788\n",
      "Epoch 145/500\n",
      "11/11 [==============================] - 0s 22ms/step - loss: 8.7020 - mae: 2.3019 - mse: 8.7020 - val_loss: 14.8098 - val_mae: 2.8380 - val_mse: 14.8098\n",
      "Epoch 146/500\n",
      "11/11 [==============================] - 0s 24ms/step - loss: 8.6554 - mae: 2.2984 - mse: 8.6554 - val_loss: 14.7832 - val_mae: 2.8206 - val_mse: 14.7832\n",
      "Epoch 147/500\n",
      "11/11 [==============================] - 0s 19ms/step - loss: 8.6017 - mae: 2.2851 - mse: 8.6017 - val_loss: 14.7198 - val_mae: 2.8290 - val_mse: 14.7198\n",
      "Epoch 148/500\n",
      "11/11 [==============================] - 0s 23ms/step - loss: 8.5561 - mae: 2.2784 - mse: 8.5561 - val_loss: 14.7729 - val_mae: 2.8292 - val_mse: 14.7729\n",
      "Epoch 149/500\n",
      "11/11 [==============================] - 0s 18ms/step - loss: 8.4997 - mae: 2.2751 - mse: 8.4997 - val_loss: 14.6393 - val_mae: 2.8227 - val_mse: 14.6393\n",
      "Epoch 150/500\n",
      "11/11 [==============================] - 0s 21ms/step - loss: 8.4242 - mae: 2.2640 - mse: 8.4242 - val_loss: 14.5980 - val_mae: 2.8155 - val_mse: 14.5980\n",
      "Epoch 151/500\n",
      "11/11 [==============================] - 0s 20ms/step - loss: 8.4698 - mae: 2.2715 - mse: 8.4698 - val_loss: 14.4866 - val_mae: 2.7952 - val_mse: 14.4866\n",
      "Epoch 152/500\n",
      "11/11 [==============================] - 0s 22ms/step - loss: 8.3471 - mae: 2.2509 - mse: 8.3471 - val_loss: 14.3878 - val_mae: 2.7946 - val_mse: 14.3878\n",
      "Epoch 153/500\n",
      "11/11 [==============================] - 0s 27ms/step - loss: 8.3198 - mae: 2.2445 - mse: 8.3198 - val_loss: 14.4040 - val_mae: 2.8000 - val_mse: 14.4040\n",
      "Epoch 154/500\n",
      "11/11 [==============================] - 0s 24ms/step - loss: 8.2594 - mae: 2.2405 - mse: 8.2594 - val_loss: 14.3686 - val_mae: 2.7924 - val_mse: 14.3686\n",
      "Epoch 155/500\n",
      "11/11 [==============================] - 0s 21ms/step - loss: 8.2463 - mae: 2.2399 - mse: 8.2463 - val_loss: 14.1855 - val_mae: 2.7749 - val_mse: 14.1855\n",
      "Epoch 156/500\n",
      "11/11 [==============================] - 0s 22ms/step - loss: 8.1955 - mae: 2.2278 - mse: 8.1955 - val_loss: 14.1730 - val_mae: 2.7685 - val_mse: 14.1730\n",
      "Epoch 157/500\n",
      "11/11 [==============================] - 0s 26ms/step - loss: 8.1192 - mae: 2.2179 - mse: 8.1192 - val_loss: 14.2547 - val_mae: 2.7792 - val_mse: 14.2547\n",
      "Epoch 158/500\n",
      "11/11 [==============================] - 0s 18ms/step - loss: 8.1354 - mae: 2.2273 - mse: 8.1354 - val_loss: 14.2367 - val_mae: 2.7855 - val_mse: 14.2367\n",
      "Epoch 159/500\n",
      "11/11 [==============================] - 0s 18ms/step - loss: 8.1053 - mae: 2.2125 - mse: 8.1053 - val_loss: 14.0178 - val_mae: 2.7484 - val_mse: 14.0178\n",
      "Epoch 160/500\n",
      "11/11 [==============================] - 0s 23ms/step - loss: 8.0366 - mae: 2.2038 - mse: 8.0366 - val_loss: 14.0448 - val_mae: 2.7648 - val_mse: 14.0448\n",
      "Epoch 161/500\n",
      "11/11 [==============================] - 0s 21ms/step - loss: 8.0524 - mae: 2.2096 - mse: 8.0524 - val_loss: 14.1432 - val_mae: 2.7587 - val_mse: 14.1432\n",
      "Epoch 162/500\n",
      "11/11 [==============================] - 0s 24ms/step - loss: 8.0212 - mae: 2.2097 - mse: 8.0212 - val_loss: 14.0373 - val_mae: 2.7648 - val_mse: 14.0373\n",
      "Epoch 163/500\n",
      "11/11 [==============================] - 0s 19ms/step - loss: 7.9760 - mae: 2.1971 - mse: 7.9760 - val_loss: 13.8530 - val_mae: 2.7247 - val_mse: 13.8530\n",
      "Epoch 164/500\n",
      "11/11 [==============================] - 0s 21ms/step - loss: 7.9028 - mae: 2.1852 - mse: 7.9028 - val_loss: 13.8765 - val_mae: 2.7434 - val_mse: 13.8765\n",
      "Epoch 165/500\n",
      "11/11 [==============================] - 0s 21ms/step - loss: 7.8724 - mae: 2.1796 - mse: 7.8724 - val_loss: 13.7558 - val_mae: 2.7177 - val_mse: 13.7558\n",
      "Epoch 166/500\n",
      "11/11 [==============================] - 0s 22ms/step - loss: 7.8907 - mae: 2.1844 - mse: 7.8907 - val_loss: 13.7543 - val_mae: 2.7276 - val_mse: 13.7543\n",
      "Epoch 167/500\n",
      "11/11 [==============================] - 0s 21ms/step - loss: 7.8450 - mae: 2.1822 - mse: 7.8450 - val_loss: 13.7813 - val_mae: 2.7259 - val_mse: 13.7813\n",
      "Epoch 168/500\n",
      "11/11 [==============================] - 0s 23ms/step - loss: 7.7787 - mae: 2.1685 - mse: 7.7787 - val_loss: 13.7018 - val_mae: 2.7072 - val_mse: 13.7018\n",
      "Epoch 169/500\n",
      "11/11 [==============================] - 0s 18ms/step - loss: 7.7925 - mae: 2.1792 - mse: 7.7925 - val_loss: 13.6723 - val_mae: 2.7167 - val_mse: 13.6723\n",
      "Epoch 170/500\n",
      "11/11 [==============================] - 0s 24ms/step - loss: 7.7247 - mae: 2.1589 - mse: 7.7247 - val_loss: 13.6930 - val_mae: 2.7172 - val_mse: 13.6930\n",
      "Epoch 171/500\n",
      "11/11 [==============================] - 0s 48ms/step - loss: 7.6816 - mae: 2.1547 - mse: 7.6816 - val_loss: 13.6254 - val_mae: 2.7211 - val_mse: 13.6254\n",
      "Epoch 172/500\n",
      "11/11 [==============================] - 0s 20ms/step - loss: 7.7459 - mae: 2.1659 - mse: 7.7459 - val_loss: 13.5631 - val_mae: 2.6907 - val_mse: 13.5631\n",
      "Epoch 173/500\n",
      "11/11 [==============================] - 0s 28ms/step - loss: 7.6495 - mae: 2.1480 - mse: 7.6495 - val_loss: 13.6280 - val_mae: 2.7118 - val_mse: 13.6280\n",
      "Epoch 174/500\n",
      "11/11 [==============================] - 0s 22ms/step - loss: 7.5977 - mae: 2.1436 - mse: 7.5977 - val_loss: 13.5081 - val_mae: 2.6968 - val_mse: 13.5081\n",
      "Epoch 175/500\n",
      "11/11 [==============================] - 0s 22ms/step - loss: 7.5509 - mae: 2.1340 - mse: 7.5509 - val_loss: 13.4396 - val_mae: 2.6871 - val_mse: 13.4396\n",
      "Epoch 176/500\n",
      "11/11 [==============================] - 0s 35ms/step - loss: 7.5997 - mae: 2.1413 - mse: 7.5997 - val_loss: 13.4098 - val_mae: 2.6648 - val_mse: 13.4098\n",
      "Epoch 177/500\n",
      "11/11 [==============================] - 0s 32ms/step - loss: 7.5498 - mae: 2.1285 - mse: 7.5498 - val_loss: 13.3146 - val_mae: 2.6707 - val_mse: 13.3146\n",
      "Epoch 178/500\n",
      "11/11 [==============================] - 0s 18ms/step - loss: 7.4574 - mae: 2.1178 - mse: 7.4574 - val_loss: 13.3704 - val_mae: 2.6726 - val_mse: 13.3704\n",
      "Epoch 179/500\n",
      "11/11 [==============================] - 0s 17ms/step - loss: 7.4467 - mae: 2.1148 - mse: 7.4467 - val_loss: 13.2732 - val_mae: 2.6699 - val_mse: 13.2732\n",
      "Epoch 180/500\n",
      "11/11 [==============================] - 0s 23ms/step - loss: 7.4001 - mae: 2.1115 - mse: 7.4001 - val_loss: 13.2668 - val_mae: 2.6630 - val_mse: 13.2668\n",
      "Epoch 181/500\n",
      "11/11 [==============================] - 0s 19ms/step - loss: 7.4375 - mae: 2.1164 - mse: 7.4375 - val_loss: 13.1975 - val_mae: 2.6656 - val_mse: 13.1975\n",
      "Epoch 182/500\n",
      "11/11 [==============================] - 0s 18ms/step - loss: 7.3766 - mae: 2.1051 - mse: 7.3766 - val_loss: 13.0912 - val_mae: 2.6459 - val_mse: 13.0912\n",
      "Epoch 183/500\n",
      "11/11 [==============================] - 0s 20ms/step - loss: 7.3559 - mae: 2.1027 - mse: 7.3559 - val_loss: 13.1678 - val_mae: 2.6529 - val_mse: 13.1678\n",
      "Epoch 184/500\n",
      "11/11 [==============================] - 0s 17ms/step - loss: 7.3052 - mae: 2.0926 - mse: 7.3052 - val_loss: 13.1443 - val_mae: 2.6462 - val_mse: 13.1443\n",
      "Epoch 185/500\n",
      "11/11 [==============================] - 0s 19ms/step - loss: 7.3194 - mae: 2.1002 - mse: 7.3194 - val_loss: 13.0943 - val_mae: 2.6371 - val_mse: 13.0943\n",
      "Epoch 186/500\n",
      "11/11 [==============================] - 0s 18ms/step - loss: 7.2531 - mae: 2.0859 - mse: 7.2531 - val_loss: 13.0660 - val_mae: 2.6483 - val_mse: 13.0660\n",
      "Epoch 187/500\n",
      "11/11 [==============================] - 0s 19ms/step - loss: 7.2614 - mae: 2.0883 - mse: 7.2614 - val_loss: 13.0144 - val_mae: 2.6396 - val_mse: 13.0144\n",
      "Epoch 188/500\n",
      "11/11 [==============================] - 0s 22ms/step - loss: 7.2351 - mae: 2.0841 - mse: 7.2351 - val_loss: 13.0035 - val_mae: 2.6335 - val_mse: 13.0035\n",
      "Epoch 189/500\n",
      "11/11 [==============================] - 0s 20ms/step - loss: 7.1910 - mae: 2.0741 - mse: 7.1910 - val_loss: 12.8866 - val_mae: 2.6228 - val_mse: 12.8866\n",
      "Epoch 190/500\n",
      "11/11 [==============================] - 0s 32ms/step - loss: 7.1946 - mae: 2.0826 - mse: 7.1946 - val_loss: 12.9456 - val_mae: 2.6255 - val_mse: 12.9456\n",
      "Epoch 191/500\n",
      "11/11 [==============================] - 0s 27ms/step - loss: 7.1970 - mae: 2.0799 - mse: 7.1970 - val_loss: 12.8705 - val_mae: 2.6125 - val_mse: 12.8705\n",
      "Epoch 192/500\n",
      "11/11 [==============================] - 0s 27ms/step - loss: 7.2336 - mae: 2.0850 - mse: 7.2336 - val_loss: 12.8834 - val_mae: 2.6308 - val_mse: 12.8834\n",
      "Epoch 193/500\n",
      "11/11 [==============================] - 0s 37ms/step - loss: 7.2153 - mae: 2.0809 - mse: 7.2153 - val_loss: 12.7976 - val_mae: 2.6021 - val_mse: 12.7976\n",
      "Epoch 194/500\n",
      "11/11 [==============================] - 0s 28ms/step - loss: 7.1241 - mae: 2.0676 - mse: 7.1241 - val_loss: 12.7647 - val_mae: 2.6122 - val_mse: 12.7647\n",
      "Epoch 195/500\n",
      "11/11 [==============================] - 0s 37ms/step - loss: 7.1383 - mae: 2.0717 - mse: 7.1383 - val_loss: 12.8661 - val_mae: 2.6129 - val_mse: 12.8661\n",
      "Epoch 196/500\n",
      "11/11 [==============================] - 0s 29ms/step - loss: 7.1011 - mae: 2.0664 - mse: 7.1011 - val_loss: 12.7983 - val_mae: 2.6105 - val_mse: 12.7983\n",
      "Epoch 197/500\n",
      "11/11 [==============================] - 0s 37ms/step - loss: 7.0549 - mae: 2.0625 - mse: 7.0549 - val_loss: 12.7791 - val_mae: 2.6080 - val_mse: 12.7791\n",
      "Epoch 198/500\n",
      "11/11 [==============================] - 0s 23ms/step - loss: 7.0419 - mae: 2.0558 - mse: 7.0419 - val_loss: 12.7352 - val_mae: 2.5972 - val_mse: 12.7352\n",
      "Epoch 199/500\n",
      "11/11 [==============================] - 0s 23ms/step - loss: 7.0110 - mae: 2.0561 - mse: 7.0110 - val_loss: 12.7429 - val_mae: 2.6038 - val_mse: 12.7429\n",
      "Epoch 200/500\n",
      "11/11 [==============================] - 1s 52ms/step - loss: 7.0143 - mae: 2.0496 - mse: 7.0143 - val_loss: 12.6545 - val_mae: 2.5781 - val_mse: 12.6545\n",
      "Epoch 201/500\n",
      "11/11 [==============================] - 0s 31ms/step - loss: 7.0747 - mae: 2.0548 - mse: 7.0747 - val_loss: 12.6269 - val_mae: 2.5958 - val_mse: 12.6269\n",
      "Epoch 202/500\n",
      "11/11 [==============================] - 0s 31ms/step - loss: 6.9123 - mae: 2.0329 - mse: 6.9123 - val_loss: 12.5843 - val_mae: 2.5692 - val_mse: 12.5843\n",
      "Epoch 203/500\n",
      "11/11 [==============================] - 0s 25ms/step - loss: 6.9349 - mae: 2.0456 - mse: 6.9349 - val_loss: 12.6601 - val_mae: 2.6042 - val_mse: 12.6601\n",
      "Epoch 204/500\n",
      "11/11 [==============================] - 0s 26ms/step - loss: 6.8869 - mae: 2.0319 - mse: 6.8869 - val_loss: 12.7011 - val_mae: 2.5878 - val_mse: 12.7011\n",
      "Epoch 205/500\n",
      "11/11 [==============================] - 0s 25ms/step - loss: 6.8943 - mae: 2.0338 - mse: 6.8943 - val_loss: 12.6194 - val_mae: 2.5976 - val_mse: 12.6194\n",
      "Epoch 206/500\n",
      "11/11 [==============================] - 0s 30ms/step - loss: 6.8603 - mae: 2.0302 - mse: 6.8603 - val_loss: 12.4583 - val_mae: 2.5700 - val_mse: 12.4583\n",
      "Epoch 207/500\n",
      "11/11 [==============================] - 0s 23ms/step - loss: 6.8165 - mae: 2.0205 - mse: 6.8165 - val_loss: 12.5713 - val_mae: 2.5748 - val_mse: 12.5713\n",
      "Epoch 208/500\n",
      "11/11 [==============================] - 0s 23ms/step - loss: 6.8211 - mae: 2.0215 - mse: 6.8211 - val_loss: 12.5729 - val_mae: 2.5731 - val_mse: 12.5729\n",
      "Epoch 209/500\n",
      "11/11 [==============================] - 0s 23ms/step - loss: 6.8027 - mae: 2.0189 - mse: 6.8027 - val_loss: 12.3375 - val_mae: 2.5552 - val_mse: 12.3375\n",
      "Epoch 210/500\n",
      "11/11 [==============================] - 0s 22ms/step - loss: 6.7844 - mae: 2.0101 - mse: 6.7844 - val_loss: 12.4058 - val_mae: 2.5635 - val_mse: 12.4058\n",
      "Epoch 211/500\n",
      "11/11 [==============================] - 0s 19ms/step - loss: 6.7387 - mae: 2.0057 - mse: 6.7387 - val_loss: 12.4292 - val_mae: 2.5589 - val_mse: 12.4292\n",
      "Epoch 212/500\n",
      "11/11 [==============================] - 0s 23ms/step - loss: 6.7013 - mae: 2.0028 - mse: 6.7013 - val_loss: 12.4740 - val_mae: 2.5722 - val_mse: 12.4740\n",
      "Epoch 213/500\n",
      "11/11 [==============================] - 0s 23ms/step - loss: 6.7096 - mae: 2.0014 - mse: 6.7096 - val_loss: 12.3992 - val_mae: 2.5473 - val_mse: 12.3992\n",
      "Epoch 214/500\n",
      "11/11 [==============================] - 0s 37ms/step - loss: 6.7110 - mae: 2.0027 - mse: 6.7110 - val_loss: 12.2732 - val_mae: 2.5477 - val_mse: 12.2732\n",
      "Epoch 215/500\n",
      "11/11 [==============================] - 0s 23ms/step - loss: 6.6975 - mae: 1.9961 - mse: 6.6975 - val_loss: 12.3374 - val_mae: 2.5401 - val_mse: 12.3374\n",
      "Epoch 216/500\n",
      "11/11 [==============================] - 0s 29ms/step - loss: 6.6872 - mae: 1.9967 - mse: 6.6872 - val_loss: 12.2955 - val_mae: 2.5519 - val_mse: 12.2955\n",
      "Epoch 217/500\n",
      "11/11 [==============================] - 0s 24ms/step - loss: 6.6465 - mae: 1.9927 - mse: 6.6465 - val_loss: 12.3920 - val_mae: 2.5353 - val_mse: 12.3920\n",
      "Epoch 218/500\n",
      "11/11 [==============================] - 0s 26ms/step - loss: 6.6745 - mae: 1.9998 - mse: 6.6745 - val_loss: 12.3587 - val_mae: 2.5578 - val_mse: 12.3587\n",
      "Epoch 219/500\n",
      "11/11 [==============================] - 0s 25ms/step - loss: 6.6346 - mae: 1.9935 - mse: 6.6346 - val_loss: 12.2385 - val_mae: 2.5431 - val_mse: 12.2385\n",
      "Epoch 220/500\n",
      "11/11 [==============================] - 0s 36ms/step - loss: 6.5746 - mae: 1.9783 - mse: 6.5746 - val_loss: 12.3292 - val_mae: 2.5357 - val_mse: 12.3292\n",
      "Epoch 221/500\n",
      "11/11 [==============================] - 0s 30ms/step - loss: 6.6180 - mae: 1.9823 - mse: 6.6180 - val_loss: 12.2816 - val_mae: 2.5295 - val_mse: 12.2816\n",
      "Epoch 222/500\n",
      "11/11 [==============================] - 0s 31ms/step - loss: 6.5718 - mae: 1.9793 - mse: 6.5718 - val_loss: 12.2990 - val_mae: 2.5318 - val_mse: 12.2990\n",
      "Epoch 223/500\n",
      "11/11 [==============================] - 0s 31ms/step - loss: 6.5610 - mae: 1.9828 - mse: 6.5610 - val_loss: 12.3661 - val_mae: 2.5667 - val_mse: 12.3661\n",
      "Epoch 224/500\n",
      "11/11 [==============================] - 0s 27ms/step - loss: 6.6370 - mae: 1.9933 - mse: 6.6370 - val_loss: 12.2343 - val_mae: 2.5197 - val_mse: 12.2343\n",
      "Epoch 225/500\n",
      "11/11 [==============================] - 0s 23ms/step - loss: 6.5702 - mae: 1.9710 - mse: 6.5702 - val_loss: 12.1426 - val_mae: 2.5219 - val_mse: 12.1426\n",
      "Epoch 226/500\n",
      "11/11 [==============================] - 0s 30ms/step - loss: 6.5558 - mae: 1.9825 - mse: 6.5558 - val_loss: 12.1541 - val_mae: 2.5237 - val_mse: 12.1541\n",
      "Epoch 227/500\n",
      "11/11 [==============================] - 0s 32ms/step - loss: 6.5028 - mae: 1.9673 - mse: 6.5028 - val_loss: 12.1831 - val_mae: 2.5189 - val_mse: 12.1831\n",
      "Epoch 228/500\n",
      "11/11 [==============================] - 0s 27ms/step - loss: 6.4453 - mae: 1.9550 - mse: 6.4453 - val_loss: 12.1002 - val_mae: 2.5153 - val_mse: 12.1002\n",
      "Epoch 229/500\n",
      "11/11 [==============================] - 0s 21ms/step - loss: 6.4437 - mae: 1.9568 - mse: 6.4437 - val_loss: 12.1463 - val_mae: 2.5190 - val_mse: 12.1463\n",
      "Epoch 230/500\n",
      "11/11 [==============================] - 0s 22ms/step - loss: 6.4571 - mae: 1.9614 - mse: 6.4571 - val_loss: 12.1659 - val_mae: 2.5239 - val_mse: 12.1659\n",
      "Epoch 231/500\n",
      "11/11 [==============================] - 1s 90ms/step - loss: 6.4555 - mae: 1.9575 - mse: 6.4555 - val_loss: 11.9751 - val_mae: 2.5016 - val_mse: 11.9751\n",
      "Epoch 232/500\n",
      "11/11 [==============================] - 0s 21ms/step - loss: 6.3931 - mae: 1.9487 - mse: 6.3931 - val_loss: 12.0307 - val_mae: 2.5111 - val_mse: 12.0307\n",
      "Epoch 233/500\n",
      "11/11 [==============================] - 0s 44ms/step - loss: 6.3636 - mae: 1.9433 - mse: 6.3636 - val_loss: 12.0655 - val_mae: 2.5115 - val_mse: 12.0655\n",
      "Epoch 234/500\n",
      "11/11 [==============================] - 1s 57ms/step - loss: 6.3897 - mae: 1.9524 - mse: 6.3897 - val_loss: 12.1016 - val_mae: 2.5123 - val_mse: 12.1016\n",
      "Epoch 235/500\n",
      "11/11 [==============================] - 0s 39ms/step - loss: 6.3362 - mae: 1.9451 - mse: 6.3362 - val_loss: 11.9541 - val_mae: 2.4921 - val_mse: 11.9541\n",
      "Epoch 236/500\n",
      "11/11 [==============================] - 0s 32ms/step - loss: 6.3505 - mae: 1.9482 - mse: 6.3505 - val_loss: 11.9106 - val_mae: 2.4907 - val_mse: 11.9106\n",
      "Epoch 237/500\n",
      "11/11 [==============================] - 0s 23ms/step - loss: 6.3148 - mae: 1.9368 - mse: 6.3148 - val_loss: 11.9074 - val_mae: 2.4841 - val_mse: 11.9074\n",
      "Epoch 238/500\n",
      "11/11 [==============================] - 0s 35ms/step - loss: 6.3183 - mae: 1.9438 - mse: 6.3183 - val_loss: 12.1143 - val_mae: 2.5153 - val_mse: 12.1143\n",
      "Epoch 239/500\n",
      "11/11 [==============================] - 0s 19ms/step - loss: 6.2789 - mae: 1.9314 - mse: 6.2789 - val_loss: 11.8236 - val_mae: 2.4692 - val_mse: 11.8236\n",
      "Epoch 240/500\n",
      "11/11 [==============================] - 0s 31ms/step - loss: 6.3536 - mae: 1.9450 - mse: 6.3536 - val_loss: 11.9757 - val_mae: 2.4953 - val_mse: 11.9757\n",
      "Epoch 241/500\n",
      "11/11 [==============================] - 0s 25ms/step - loss: 6.2708 - mae: 1.9334 - mse: 6.2708 - val_loss: 11.8116 - val_mae: 2.4746 - val_mse: 11.8116\n",
      "Epoch 242/500\n",
      "11/11 [==============================] - 0s 23ms/step - loss: 6.2486 - mae: 1.9217 - mse: 6.2486 - val_loss: 12.0195 - val_mae: 2.4869 - val_mse: 12.0195\n",
      "Epoch 243/500\n",
      "11/11 [==============================] - 0s 30ms/step - loss: 6.3967 - mae: 1.9498 - mse: 6.3967 - val_loss: 11.9417 - val_mae: 2.4898 - val_mse: 11.9417\n",
      "Epoch 244/500\n",
      "11/11 [==============================] - 0s 24ms/step - loss: 6.2014 - mae: 1.9122 - mse: 6.2014 - val_loss: 11.7882 - val_mae: 2.4584 - val_mse: 11.7882\n",
      "Epoch 245/500\n",
      "11/11 [==============================] - 0s 23ms/step - loss: 6.2876 - mae: 1.9395 - mse: 6.2876 - val_loss: 11.9894 - val_mae: 2.4959 - val_mse: 11.9894\n",
      "Epoch 246/500\n",
      "11/11 [==============================] - 0s 23ms/step - loss: 6.2427 - mae: 1.9159 - mse: 6.2427 - val_loss: 11.8781 - val_mae: 2.4638 - val_mse: 11.8781\n",
      "Epoch 247/500\n",
      "11/11 [==============================] - 0s 27ms/step - loss: 6.2195 - mae: 1.9178 - mse: 6.2195 - val_loss: 11.9126 - val_mae: 2.4871 - val_mse: 11.9126\n",
      "Epoch 248/500\n",
      "11/11 [==============================] - 0s 24ms/step - loss: 6.1464 - mae: 1.9125 - mse: 6.1464 - val_loss: 11.8140 - val_mae: 2.4694 - val_mse: 11.8140\n",
      "Epoch 249/500\n",
      "11/11 [==============================] - 0s 28ms/step - loss: 6.1482 - mae: 1.9051 - mse: 6.1482 - val_loss: 11.8450 - val_mae: 2.4635 - val_mse: 11.8450\n",
      "Epoch 250/500\n",
      "11/11 [==============================] - 0s 22ms/step - loss: 6.1565 - mae: 1.9101 - mse: 6.1565 - val_loss: 11.6595 - val_mae: 2.4575 - val_mse: 11.6595\n",
      "Epoch 251/500\n",
      "11/11 [==============================] - 0s 22ms/step - loss: 6.1732 - mae: 1.9179 - mse: 6.1732 - val_loss: 11.8840 - val_mae: 2.4845 - val_mse: 11.8840\n",
      "Epoch 252/500\n",
      "11/11 [==============================] - 0s 22ms/step - loss: 6.1879 - mae: 1.9197 - mse: 6.1879 - val_loss: 11.7447 - val_mae: 2.4563 - val_mse: 11.7447\n",
      "Epoch 253/500\n",
      "11/11 [==============================] - 0s 23ms/step - loss: 6.1035 - mae: 1.9012 - mse: 6.1035 - val_loss: 11.7325 - val_mae: 2.4542 - val_mse: 11.7325\n",
      "Epoch 254/500\n",
      "11/11 [==============================] - 0s 21ms/step - loss: 6.1052 - mae: 1.8981 - mse: 6.1052 - val_loss: 11.7954 - val_mae: 2.4654 - val_mse: 11.7954\n",
      "Epoch 255/500\n",
      "11/11 [==============================] - 0s 26ms/step - loss: 6.0633 - mae: 1.8967 - mse: 6.0633 - val_loss: 11.6233 - val_mae: 2.4296 - val_mse: 11.6233\n",
      "Epoch 256/500\n",
      "11/11 [==============================] - 0s 27ms/step - loss: 6.1041 - mae: 1.8981 - mse: 6.1041 - val_loss: 11.6264 - val_mae: 2.4405 - val_mse: 11.6264\n",
      "Epoch 257/500\n",
      "11/11 [==============================] - 0s 27ms/step - loss: 6.1307 - mae: 1.9054 - mse: 6.1307 - val_loss: 11.7313 - val_mae: 2.4648 - val_mse: 11.7313\n",
      "Epoch 258/500\n",
      "11/11 [==============================] - 0s 22ms/step - loss: 6.1061 - mae: 1.8930 - mse: 6.1061 - val_loss: 11.7159 - val_mae: 2.4276 - val_mse: 11.7159\n",
      "Epoch 259/500\n",
      "11/11 [==============================] - 0s 31ms/step - loss: 6.1509 - mae: 1.9189 - mse: 6.1509 - val_loss: 11.7187 - val_mae: 2.4686 - val_mse: 11.7187\n",
      "Epoch 260/500\n",
      "11/11 [==============================] - 0s 23ms/step - loss: 6.0937 - mae: 1.9004 - mse: 6.0937 - val_loss: 11.5524 - val_mae: 2.4285 - val_mse: 11.5524\n",
      "Epoch 261/500\n",
      "11/11 [==============================] - 0s 29ms/step - loss: 6.0206 - mae: 1.8800 - mse: 6.0206 - val_loss: 11.6365 - val_mae: 2.4385 - val_mse: 11.6365\n",
      "Epoch 262/500\n",
      "11/11 [==============================] - 0s 29ms/step - loss: 6.0328 - mae: 1.8886 - mse: 6.0328 - val_loss: 11.5911 - val_mae: 2.4378 - val_mse: 11.5911\n",
      "Epoch 263/500\n",
      "11/11 [==============================] - 0s 23ms/step - loss: 5.9874 - mae: 1.8846 - mse: 5.9874 - val_loss: 11.6135 - val_mae: 2.4462 - val_mse: 11.6135\n",
      "Epoch 264/500\n",
      "11/11 [==============================] - 0s 23ms/step - loss: 5.9868 - mae: 1.8780 - mse: 5.9868 - val_loss: 11.5997 - val_mae: 2.4365 - val_mse: 11.5997\n",
      "Epoch 265/500\n",
      "11/11 [==============================] - 0s 20ms/step - loss: 6.0121 - mae: 1.8893 - mse: 6.0121 - val_loss: 11.6069 - val_mae: 2.4273 - val_mse: 11.6069\n",
      "Epoch 266/500\n",
      "11/11 [==============================] - 0s 23ms/step - loss: 6.0209 - mae: 1.8865 - mse: 6.0209 - val_loss: 11.6153 - val_mae: 2.4483 - val_mse: 11.6153\n",
      "Epoch 267/500\n",
      "11/11 [==============================] - 0s 18ms/step - loss: 6.0468 - mae: 1.8839 - mse: 6.0468 - val_loss: 11.4332 - val_mae: 2.4266 - val_mse: 11.4332\n",
      "Epoch 268/500\n",
      "11/11 [==============================] - 0s 28ms/step - loss: 5.9521 - mae: 1.8647 - mse: 5.9521 - val_loss: 11.6151 - val_mae: 2.4382 - val_mse: 11.6151\n",
      "Epoch 269/500\n",
      "11/11 [==============================] - 0s 23ms/step - loss: 5.9217 - mae: 1.8770 - mse: 5.9217 - val_loss: 11.5035 - val_mae: 2.4316 - val_mse: 11.5035\n",
      "Epoch 270/500\n",
      "11/11 [==============================] - 0s 23ms/step - loss: 5.9356 - mae: 1.8730 - mse: 5.9356 - val_loss: 11.4421 - val_mae: 2.4172 - val_mse: 11.4421\n",
      "Epoch 271/500\n",
      "11/11 [==============================] - 0s 33ms/step - loss: 5.8699 - mae: 1.8558 - mse: 5.8699 - val_loss: 11.4954 - val_mae: 2.4165 - val_mse: 11.4954\n",
      "Epoch 272/500\n",
      "11/11 [==============================] - 0s 24ms/step - loss: 5.8806 - mae: 1.8645 - mse: 5.8806 - val_loss: 11.5749 - val_mae: 2.4166 - val_mse: 11.5749\n",
      "Epoch 273/500\n",
      "11/11 [==============================] - 0s 19ms/step - loss: 5.8890 - mae: 1.8660 - mse: 5.8890 - val_loss: 11.4968 - val_mae: 2.4234 - val_mse: 11.4968\n",
      "Epoch 274/500\n",
      "11/11 [==============================] - 0s 20ms/step - loss: 5.9492 - mae: 1.8659 - mse: 5.9492 - val_loss: 11.4416 - val_mae: 2.4076 - val_mse: 11.4416\n",
      "Epoch 275/500\n",
      "11/11 [==============================] - 0s 24ms/step - loss: 5.8400 - mae: 1.8581 - mse: 5.8400 - val_loss: 11.6528 - val_mae: 2.4631 - val_mse: 11.6528\n",
      "Epoch 276/500\n",
      "11/11 [==============================] - 0s 25ms/step - loss: 5.9334 - mae: 1.8642 - mse: 5.9334 - val_loss: 11.5265 - val_mae: 2.4165 - val_mse: 11.5265\n",
      "Epoch 277/500\n",
      "11/11 [==============================] - 0s 18ms/step - loss: 5.8235 - mae: 1.8511 - mse: 5.8235 - val_loss: 11.3694 - val_mae: 2.4054 - val_mse: 11.3694\n",
      "Epoch 278/500\n",
      "11/11 [==============================] - 0s 22ms/step - loss: 5.8377 - mae: 1.8521 - mse: 5.8377 - val_loss: 11.5410 - val_mae: 2.4472 - val_mse: 11.5410\n",
      "Epoch 279/500\n",
      "11/11 [==============================] - 0s 17ms/step - loss: 5.8641 - mae: 1.8596 - mse: 5.8641 - val_loss: 11.6532 - val_mae: 2.4249 - val_mse: 11.6532\n",
      "Epoch 280/500\n",
      "11/11 [==============================] - 0s 18ms/step - loss: 5.8138 - mae: 1.8454 - mse: 5.8138 - val_loss: 11.4595 - val_mae: 2.4373 - val_mse: 11.4595\n",
      "Epoch 281/500\n",
      "11/11 [==============================] - 0s 22ms/step - loss: 5.8481 - mae: 1.8565 - mse: 5.8481 - val_loss: 11.3514 - val_mae: 2.4066 - val_mse: 11.3514\n",
      "Epoch 282/500\n",
      "11/11 [==============================] - 0s 23ms/step - loss: 5.7744 - mae: 1.8461 - mse: 5.7744 - val_loss: 11.4692 - val_mae: 2.4240 - val_mse: 11.4692\n",
      "Epoch 283/500\n",
      "11/11 [==============================] - 0s 18ms/step - loss: 5.7934 - mae: 1.8489 - mse: 5.7934 - val_loss: 11.5672 - val_mae: 2.4068 - val_mse: 11.5672\n",
      "Epoch 284/500\n",
      "11/11 [==============================] - 0s 22ms/step - loss: 5.8904 - mae: 1.8608 - mse: 5.8904 - val_loss: 11.5064 - val_mae: 2.4295 - val_mse: 11.5064\n",
      "Epoch 285/500\n",
      "11/11 [==============================] - 0s 22ms/step - loss: 5.8610 - mae: 1.8500 - mse: 5.8610 - val_loss: 11.4290 - val_mae: 2.4066 - val_mse: 11.4290\n",
      "Epoch 286/500\n",
      "11/11 [==============================] - 0s 22ms/step - loss: 5.7724 - mae: 1.8429 - mse: 5.7724 - val_loss: 11.3608 - val_mae: 2.4013 - val_mse: 11.3608\n",
      "Epoch 287/500\n",
      "11/11 [==============================] - 0s 21ms/step - loss: 5.7403 - mae: 1.8358 - mse: 5.7403 - val_loss: 11.3043 - val_mae: 2.3990 - val_mse: 11.3043\n",
      "Epoch 288/500\n",
      "11/11 [==============================] - 0s 23ms/step - loss: 5.7226 - mae: 1.8340 - mse: 5.7226 - val_loss: 11.3496 - val_mae: 2.4029 - val_mse: 11.3496\n",
      "Epoch 289/500\n",
      "11/11 [==============================] - 0s 23ms/step - loss: 5.7796 - mae: 1.8467 - mse: 5.7796 - val_loss: 11.3332 - val_mae: 2.4092 - val_mse: 11.3332\n",
      "Epoch 290/500\n",
      "11/11 [==============================] - 0s 22ms/step - loss: 5.7116 - mae: 1.8303 - mse: 5.7116 - val_loss: 11.5176 - val_mae: 2.4123 - val_mse: 11.5176\n",
      "Epoch 291/500\n",
      "11/11 [==============================] - 0s 24ms/step - loss: 5.6965 - mae: 1.8327 - mse: 5.6965 - val_loss: 11.4000 - val_mae: 2.4256 - val_mse: 11.4000\n",
      "Epoch 292/500\n",
      "11/11 [==============================] - 0s 18ms/step - loss: 5.7244 - mae: 1.8328 - mse: 5.7244 - val_loss: 11.2959 - val_mae: 2.4028 - val_mse: 11.2959\n",
      "Epoch 293/500\n",
      "11/11 [==============================] - 0s 23ms/step - loss: 5.7034 - mae: 1.8304 - mse: 5.7034 - val_loss: 11.3761 - val_mae: 2.3859 - val_mse: 11.3761\n",
      "Epoch 294/500\n",
      "11/11 [==============================] - 0s 23ms/step - loss: 5.7608 - mae: 1.8433 - mse: 5.7608 - val_loss: 11.5025 - val_mae: 2.4346 - val_mse: 11.5025\n",
      "Epoch 295/500\n",
      "11/11 [==============================] - 0s 21ms/step - loss: 5.6919 - mae: 1.8247 - mse: 5.6919 - val_loss: 11.3285 - val_mae: 2.3944 - val_mse: 11.3285\n",
      "Epoch 296/500\n",
      "11/11 [==============================] - 0s 24ms/step - loss: 5.6814 - mae: 1.8163 - mse: 5.6814 - val_loss: 11.2435 - val_mae: 2.3778 - val_mse: 11.2435\n",
      "Epoch 297/500\n",
      "11/11 [==============================] - 0s 24ms/step - loss: 5.7211 - mae: 1.8435 - mse: 5.7211 - val_loss: 11.3831 - val_mae: 2.4163 - val_mse: 11.3831\n",
      "Epoch 298/500\n",
      "11/11 [==============================] - 0s 18ms/step - loss: 5.6504 - mae: 1.8205 - mse: 5.6504 - val_loss: 11.1270 - val_mae: 2.3849 - val_mse: 11.1270\n",
      "Epoch 299/500\n",
      "11/11 [==============================] - 0s 24ms/step - loss: 5.6514 - mae: 1.8136 - mse: 5.6514 - val_loss: 11.1653 - val_mae: 2.3808 - val_mse: 11.1653\n",
      "Epoch 300/500\n",
      "11/11 [==============================] - 0s 25ms/step - loss: 5.6248 - mae: 1.8184 - mse: 5.6248 - val_loss: 11.3983 - val_mae: 2.4172 - val_mse: 11.3983\n",
      "Epoch 301/500\n",
      "11/11 [==============================] - 0s 25ms/step - loss: 5.6795 - mae: 1.8220 - mse: 5.6795 - val_loss: 11.3071 - val_mae: 2.3733 - val_mse: 11.3071\n",
      "Epoch 302/500\n",
      "11/11 [==============================] - 0s 23ms/step - loss: 5.6354 - mae: 1.8158 - mse: 5.6354 - val_loss: 11.2823 - val_mae: 2.3868 - val_mse: 11.2823\n",
      "Epoch 303/500\n",
      "11/11 [==============================] - 0s 25ms/step - loss: 5.5830 - mae: 1.8103 - mse: 5.5830 - val_loss: 11.3895 - val_mae: 2.4129 - val_mse: 11.3895\n",
      "Epoch 304/500\n",
      "11/11 [==============================] - 0s 25ms/step - loss: 5.5818 - mae: 1.8075 - mse: 5.5818 - val_loss: 11.1118 - val_mae: 2.3696 - val_mse: 11.1118\n",
      "Epoch 305/500\n",
      "11/11 [==============================] - 0s 25ms/step - loss: 5.5568 - mae: 1.7995 - mse: 5.5568 - val_loss: 11.2974 - val_mae: 2.3848 - val_mse: 11.2974\n",
      "Epoch 306/500\n",
      "11/11 [==============================] - 0s 27ms/step - loss: 5.6139 - mae: 1.8090 - mse: 5.6139 - val_loss: 11.1757 - val_mae: 2.3873 - val_mse: 11.1757\n",
      "Epoch 307/500\n",
      "11/11 [==============================] - 0s 25ms/step - loss: 5.5490 - mae: 1.7931 - mse: 5.5490 - val_loss: 11.3642 - val_mae: 2.3980 - val_mse: 11.3642\n",
      "Epoch 308/500\n",
      "11/11 [==============================] - 0s 24ms/step - loss: 5.5518 - mae: 1.8075 - mse: 5.5518 - val_loss: 11.2197 - val_mae: 2.3677 - val_mse: 11.2197\n",
      "Epoch 309/500\n",
      "11/11 [==============================] - 1s 62ms/step - loss: 5.5693 - mae: 1.7979 - mse: 5.5693 - val_loss: 11.1736 - val_mae: 2.3736 - val_mse: 11.1736\n",
      "Epoch 310/500\n",
      "11/11 [==============================] - 0s 24ms/step - loss: 5.5533 - mae: 1.7990 - mse: 5.5533 - val_loss: 11.2868 - val_mae: 2.3833 - val_mse: 11.2868\n",
      "Epoch 311/500\n",
      "11/11 [==============================] - 0s 28ms/step - loss: 5.5038 - mae: 1.7942 - mse: 5.5038 - val_loss: 11.2268 - val_mae: 2.3781 - val_mse: 11.2268\n",
      "Epoch 312/500\n",
      "11/11 [==============================] - 0s 27ms/step - loss: 5.4969 - mae: 1.7853 - mse: 5.4969 - val_loss: 11.1598 - val_mae: 2.3639 - val_mse: 11.1598\n",
      "Epoch 313/500\n",
      "11/11 [==============================] - 0s 32ms/step - loss: 5.4827 - mae: 1.7861 - mse: 5.4827 - val_loss: 11.2730 - val_mae: 2.4060 - val_mse: 11.2730\n",
      "Epoch 314/500\n",
      "11/11 [==============================] - 0s 31ms/step - loss: 5.5499 - mae: 1.8003 - mse: 5.5499 - val_loss: 11.0827 - val_mae: 2.3638 - val_mse: 11.0827\n",
      "Epoch 315/500\n",
      "11/11 [==============================] - 0s 26ms/step - loss: 5.5114 - mae: 1.7869 - mse: 5.5114 - val_loss: 11.2394 - val_mae: 2.3619 - val_mse: 11.2394\n",
      "Epoch 316/500\n",
      "11/11 [==============================] - 0s 18ms/step - loss: 5.4636 - mae: 1.7842 - mse: 5.4636 - val_loss: 11.2196 - val_mae: 2.3821 - val_mse: 11.2196\n",
      "Epoch 317/500\n",
      "11/11 [==============================] - 0s 23ms/step - loss: 5.4361 - mae: 1.7751 - mse: 5.4361 - val_loss: 11.1033 - val_mae: 2.3538 - val_mse: 11.1033\n",
      "Epoch 318/500\n",
      "11/11 [==============================] - 0s 30ms/step - loss: 5.4495 - mae: 1.7724 - mse: 5.4495 - val_loss: 11.1266 - val_mae: 2.3592 - val_mse: 11.1266\n",
      "Epoch 319/500\n",
      "11/11 [==============================] - 0s 29ms/step - loss: 5.4796 - mae: 1.7874 - mse: 5.4796 - val_loss: 11.1622 - val_mae: 2.3830 - val_mse: 11.1622\n",
      "Epoch 320/500\n",
      "11/11 [==============================] - 0s 22ms/step - loss: 5.4199 - mae: 1.7778 - mse: 5.4199 - val_loss: 11.2810 - val_mae: 2.3685 - val_mse: 11.2810\n",
      "Epoch 321/500\n",
      "11/11 [==============================] - 0s 24ms/step - loss: 5.4787 - mae: 1.7799 - mse: 5.4787 - val_loss: 11.0294 - val_mae: 2.3515 - val_mse: 11.0294\n",
      "Epoch 322/500\n",
      "11/11 [==============================] - 0s 23ms/step - loss: 5.4134 - mae: 1.7712 - mse: 5.4134 - val_loss: 11.1464 - val_mae: 2.3710 - val_mse: 11.1464\n",
      "Epoch 323/500\n",
      "11/11 [==============================] - 0s 20ms/step - loss: 5.4118 - mae: 1.7744 - mse: 5.4118 - val_loss: 11.1548 - val_mae: 2.3641 - val_mse: 11.1548\n",
      "Epoch 324/500\n",
      "11/11 [==============================] - 0s 24ms/step - loss: 5.4121 - mae: 1.7738 - mse: 5.4121 - val_loss: 11.0865 - val_mae: 2.3472 - val_mse: 11.0865\n",
      "Epoch 325/500\n",
      "11/11 [==============================] - 0s 21ms/step - loss: 5.5382 - mae: 1.7915 - mse: 5.5382 - val_loss: 11.1376 - val_mae: 2.3670 - val_mse: 11.1376\n",
      "Epoch 326/500\n",
      "11/11 [==============================] - 0s 21ms/step - loss: 5.4109 - mae: 1.7771 - mse: 5.4109 - val_loss: 11.0540 - val_mae: 2.3509 - val_mse: 11.0540\n",
      "Epoch 327/500\n",
      "11/11 [==============================] - 0s 22ms/step - loss: 5.4210 - mae: 1.7760 - mse: 5.4210 - val_loss: 11.0386 - val_mae: 2.3538 - val_mse: 11.0386\n",
      "Epoch 328/500\n",
      "11/11 [==============================] - 0s 20ms/step - loss: 5.3928 - mae: 1.7683 - mse: 5.3928 - val_loss: 10.9893 - val_mae: 2.3560 - val_mse: 10.9893\n",
      "Epoch 329/500\n",
      "11/11 [==============================] - 0s 29ms/step - loss: 5.3809 - mae: 1.7699 - mse: 5.3809 - val_loss: 11.0858 - val_mae: 2.3522 - val_mse: 11.0858\n",
      "Epoch 330/500\n",
      "11/11 [==============================] - 0s 22ms/step - loss: 5.3769 - mae: 1.7665 - mse: 5.3769 - val_loss: 11.0931 - val_mae: 2.3410 - val_mse: 11.0931\n",
      "Epoch 331/500\n",
      "11/11 [==============================] - 0s 19ms/step - loss: 5.4082 - mae: 1.7702 - mse: 5.4082 - val_loss: 11.0271 - val_mae: 2.3611 - val_mse: 11.0271\n",
      "Epoch 332/500\n",
      "11/11 [==============================] - 0s 21ms/step - loss: 5.3398 - mae: 1.7594 - mse: 5.3398 - val_loss: 11.1351 - val_mae: 2.3619 - val_mse: 11.1351\n",
      "Epoch 333/500\n",
      "11/11 [==============================] - 0s 31ms/step - loss: 5.3244 - mae: 1.7535 - mse: 5.3244 - val_loss: 10.9293 - val_mae: 2.3412 - val_mse: 10.9293\n",
      "Epoch 334/500\n",
      "11/11 [==============================] - 0s 21ms/step - loss: 5.3468 - mae: 1.7607 - mse: 5.3468 - val_loss: 11.0445 - val_mae: 2.3613 - val_mse: 11.0445\n",
      "Epoch 335/500\n",
      "11/11 [==============================] - 0s 20ms/step - loss: 5.4300 - mae: 1.7854 - mse: 5.4300 - val_loss: 11.1185 - val_mae: 2.3443 - val_mse: 11.1185\n",
      "Epoch 336/500\n",
      "11/11 [==============================] - 0s 21ms/step - loss: 5.3219 - mae: 1.7600 - mse: 5.3219 - val_loss: 10.9942 - val_mae: 2.3456 - val_mse: 10.9942\n",
      "Epoch 337/500\n",
      "11/11 [==============================] - 0s 20ms/step - loss: 5.3688 - mae: 1.7662 - mse: 5.3688 - val_loss: 11.2405 - val_mae: 2.3938 - val_mse: 11.2405\n",
      "Epoch 338/500\n",
      "11/11 [==============================] - 0s 17ms/step - loss: 5.3680 - mae: 1.7662 - mse: 5.3680 - val_loss: 10.9853 - val_mae: 2.3387 - val_mse: 10.9853\n",
      "Epoch 339/500\n",
      "11/11 [==============================] - 0s 18ms/step - loss: 5.4768 - mae: 1.7887 - mse: 5.4768 - val_loss: 11.5045 - val_mae: 2.4012 - val_mse: 11.5045\n",
      "Epoch 340/500\n",
      "11/11 [==============================] - 0s 24ms/step - loss: 5.5557 - mae: 1.8039 - mse: 5.5557 - val_loss: 11.0500 - val_mae: 2.3683 - val_mse: 11.0500\n",
      "Epoch 341/500\n",
      "11/11 [==============================] - 0s 35ms/step - loss: 5.3589 - mae: 1.7605 - mse: 5.3589 - val_loss: 11.1502 - val_mae: 2.3529 - val_mse: 11.1502\n",
      "Epoch 342/500\n",
      "11/11 [==============================] - 0s 19ms/step - loss: 5.2790 - mae: 1.7554 - mse: 5.2790 - val_loss: 10.9953 - val_mae: 2.3499 - val_mse: 10.9953\n",
      "Epoch 343/500\n",
      "11/11 [==============================] - 0s 21ms/step - loss: 5.2385 - mae: 1.7355 - mse: 5.2385 - val_loss: 11.0804 - val_mae: 2.3339 - val_mse: 11.0804\n",
      "Epoch 344/500\n",
      "11/11 [==============================] - 0s 34ms/step - loss: 5.3528 - mae: 1.7652 - mse: 5.3528 - val_loss: 11.0918 - val_mae: 2.3526 - val_mse: 11.0918\n",
      "Epoch 345/500\n",
      "11/11 [==============================] - 0s 17ms/step - loss: 5.2982 - mae: 1.7576 - mse: 5.2982 - val_loss: 10.8876 - val_mae: 2.3393 - val_mse: 10.8876\n",
      "Epoch 346/500\n",
      "11/11 [==============================] - 0s 21ms/step - loss: 5.2903 - mae: 1.7522 - mse: 5.2903 - val_loss: 11.0484 - val_mae: 2.3407 - val_mse: 11.0484\n",
      "Epoch 347/500\n",
      "11/11 [==============================] - 0s 22ms/step - loss: 5.2847 - mae: 1.7552 - mse: 5.2847 - val_loss: 11.0292 - val_mae: 2.3399 - val_mse: 11.0292\n",
      "Epoch 348/500\n",
      "11/11 [==============================] - 0s 22ms/step - loss: 5.2774 - mae: 1.7500 - mse: 5.2774 - val_loss: 10.9430 - val_mae: 2.3392 - val_mse: 10.9430\n",
      "Epoch 349/500\n",
      "11/11 [==============================] - 0s 22ms/step - loss: 5.2194 - mae: 1.7376 - mse: 5.2194 - val_loss: 11.0051 - val_mae: 2.3357 - val_mse: 11.0051\n",
      "Epoch 350/500\n",
      "11/11 [==============================] - 0s 20ms/step - loss: 5.2685 - mae: 1.7417 - mse: 5.2685 - val_loss: 11.0012 - val_mae: 2.3407 - val_mse: 11.0012\n",
      "Epoch 351/500\n",
      "11/11 [==============================] - 0s 24ms/step - loss: 5.3219 - mae: 1.7569 - mse: 5.3219 - val_loss: 11.0582 - val_mae: 2.3503 - val_mse: 11.0582\n",
      "Epoch 352/500\n",
      "11/11 [==============================] - 0s 18ms/step - loss: 5.4961 - mae: 1.7920 - mse: 5.4961 - val_loss: 11.0624 - val_mae: 2.3351 - val_mse: 11.0624\n",
      "Epoch 353/500\n",
      "11/11 [==============================] - 0s 23ms/step - loss: 5.3176 - mae: 1.7629 - mse: 5.3176 - val_loss: 11.0631 - val_mae: 2.3550 - val_mse: 11.0631\n",
      "Epoch 354/500\n",
      "11/11 [==============================] - 0s 20ms/step - loss: 5.2765 - mae: 1.7602 - mse: 5.2765 - val_loss: 11.0197 - val_mae: 2.3484 - val_mse: 11.0197\n",
      "Epoch 355/500\n",
      "11/11 [==============================] - 0s 19ms/step - loss: 5.3116 - mae: 1.7723 - mse: 5.3116 - val_loss: 11.0722 - val_mae: 2.3494 - val_mse: 11.0722\n",
      "Epoch 356/500\n",
      "11/11 [==============================] - 0s 24ms/step - loss: 5.2337 - mae: 1.7477 - mse: 5.2337 - val_loss: 10.9893 - val_mae: 2.3452 - val_mse: 10.9893\n",
      "Epoch 357/500\n",
      "11/11 [==============================] - 0s 23ms/step - loss: 5.2411 - mae: 1.7389 - mse: 5.2411 - val_loss: 10.9117 - val_mae: 2.3472 - val_mse: 10.9117\n",
      "Epoch 358/500\n",
      "11/11 [==============================] - 0s 19ms/step - loss: 5.3222 - mae: 1.7501 - mse: 5.3222 - val_loss: 10.9891 - val_mae: 2.3323 - val_mse: 10.9891\n",
      "Epoch 359/500\n",
      "11/11 [==============================] - 0s 19ms/step - loss: 5.2188 - mae: 1.7372 - mse: 5.2188 - val_loss: 10.8370 - val_mae: 2.3210 - val_mse: 10.8370\n",
      "Epoch 360/500\n",
      "11/11 [==============================] - 0s 19ms/step - loss: 5.1886 - mae: 1.7286 - mse: 5.1886 - val_loss: 10.8347 - val_mae: 2.3184 - val_mse: 10.8347\n",
      "Epoch 361/500\n",
      "11/11 [==============================] - 0s 21ms/step - loss: 5.1441 - mae: 1.7229 - mse: 5.1441 - val_loss: 10.9400 - val_mae: 2.3285 - val_mse: 10.9400\n",
      "Epoch 362/500\n",
      "11/11 [==============================] - 0s 23ms/step - loss: 5.1681 - mae: 1.7268 - mse: 5.1681 - val_loss: 10.9007 - val_mae: 2.3256 - val_mse: 10.9007\n",
      "Epoch 363/500\n",
      "11/11 [==============================] - 0s 22ms/step - loss: 5.1385 - mae: 1.7191 - mse: 5.1385 - val_loss: 11.0220 - val_mae: 2.3336 - val_mse: 11.0220\n",
      "Epoch 364/500\n",
      "11/11 [==============================] - 1s 60ms/step - loss: 5.1488 - mae: 1.7252 - mse: 5.1488 - val_loss: 10.9306 - val_mae: 2.3346 - val_mse: 10.9306\n",
      "Epoch 365/500\n",
      "11/11 [==============================] - 0s 33ms/step - loss: 5.1481 - mae: 1.7240 - mse: 5.1481 - val_loss: 10.9418 - val_mae: 2.3364 - val_mse: 10.9418\n",
      "Epoch 366/500\n",
      "11/11 [==============================] - 0s 22ms/step - loss: 5.1260 - mae: 1.7264 - mse: 5.1260 - val_loss: 10.8885 - val_mae: 2.3307 - val_mse: 10.8885\n",
      "Epoch 367/500\n",
      "11/11 [==============================] - 0s 18ms/step - loss: 5.1090 - mae: 1.7131 - mse: 5.1090 - val_loss: 10.9251 - val_mae: 2.3292 - val_mse: 10.9251\n",
      "Epoch 368/500\n",
      "11/11 [==============================] - 0s 17ms/step - loss: 5.1411 - mae: 1.7257 - mse: 5.1411 - val_loss: 11.0978 - val_mae: 2.3462 - val_mse: 11.0978\n",
      "Epoch 369/500\n",
      "11/11 [==============================] - 0s 22ms/step - loss: 5.1570 - mae: 1.7215 - mse: 5.1570 - val_loss: 10.9222 - val_mae: 2.3287 - val_mse: 10.9222\n",
      "Epoch 370/500\n",
      "11/11 [==============================] - 0s 18ms/step - loss: 5.1836 - mae: 1.7323 - mse: 5.1836 - val_loss: 10.9525 - val_mae: 2.3304 - val_mse: 10.9525\n",
      "Epoch 371/500\n",
      "11/11 [==============================] - 0s 19ms/step - loss: 5.1643 - mae: 1.7365 - mse: 5.1643 - val_loss: 11.1267 - val_mae: 2.3462 - val_mse: 11.1267\n",
      "Epoch 372/500\n",
      "11/11 [==============================] - 0s 19ms/step - loss: 5.2789 - mae: 1.7591 - mse: 5.2789 - val_loss: 11.0046 - val_mae: 2.3310 - val_mse: 11.0046\n",
      "Epoch 373/500\n",
      "11/11 [==============================] - 0s 18ms/step - loss: 5.1505 - mae: 1.7265 - mse: 5.1505 - val_loss: 10.8558 - val_mae: 2.3224 - val_mse: 10.8558\n",
      "Epoch 374/500\n",
      "11/11 [==============================] - 0s 35ms/step - loss: 5.1178 - mae: 1.7155 - mse: 5.1178 - val_loss: 10.8976 - val_mae: 2.3268 - val_mse: 10.8976\n",
      "Epoch 375/500\n",
      "11/11 [==============================] - 0s 22ms/step - loss: 5.0265 - mae: 1.6959 - mse: 5.0265 - val_loss: 10.8711 - val_mae: 2.3207 - val_mse: 10.8711\n",
      "Epoch 376/500\n",
      "11/11 [==============================] - 0s 22ms/step - loss: 5.0696 - mae: 1.7173 - mse: 5.0696 - val_loss: 10.8420 - val_mae: 2.3288 - val_mse: 10.8420\n",
      "Epoch 377/500\n",
      "11/11 [==============================] - 0s 18ms/step - loss: 5.0761 - mae: 1.7046 - mse: 5.0761 - val_loss: 10.9688 - val_mae: 2.3279 - val_mse: 10.9688\n",
      "Epoch 378/500\n",
      "11/11 [==============================] - 0s 22ms/step - loss: 5.1372 - mae: 1.7194 - mse: 5.1372 - val_loss: 10.9966 - val_mae: 2.3270 - val_mse: 10.9966\n",
      "Epoch 379/500\n",
      "11/11 [==============================] - 0s 17ms/step - loss: 5.0577 - mae: 1.7065 - mse: 5.0577 - val_loss: 10.8394 - val_mae: 2.3149 - val_mse: 10.8394\n",
      "Epoch 380/500\n",
      "11/11 [==============================] - 0s 17ms/step - loss: 5.0554 - mae: 1.6999 - mse: 5.0554 - val_loss: 10.9280 - val_mae: 2.3233 - val_mse: 10.9280\n",
      "Epoch 381/500\n",
      "11/11 [==============================] - 0s 18ms/step - loss: 5.0123 - mae: 1.6969 - mse: 5.0123 - val_loss: 11.0149 - val_mae: 2.3410 - val_mse: 11.0149\n",
      "Epoch 382/500\n",
      "11/11 [==============================] - 0s 29ms/step - loss: 5.0954 - mae: 1.7092 - mse: 5.0954 - val_loss: 10.9358 - val_mae: 2.3297 - val_mse: 10.9358\n",
      "Epoch 383/500\n",
      "11/11 [==============================] - 0s 50ms/step - loss: 5.0855 - mae: 1.7199 - mse: 5.0855 - val_loss: 10.8770 - val_mae: 2.3323 - val_mse: 10.8770\n",
      "Epoch 384/500\n",
      "11/11 [==============================] - 0s 28ms/step - loss: 5.1069 - mae: 1.7228 - mse: 5.1069 - val_loss: 10.9121 - val_mae: 2.3394 - val_mse: 10.9121\n",
      "Epoch 385/500\n",
      "11/11 [==============================] - 0s 22ms/step - loss: 5.1242 - mae: 1.7202 - mse: 5.1242 - val_loss: 10.9334 - val_mae: 2.3341 - val_mse: 10.9334\n",
      "Epoch 386/500\n",
      "11/11 [==============================] - 0s 20ms/step - loss: 5.0417 - mae: 1.7104 - mse: 5.0417 - val_loss: 10.9991 - val_mae: 2.3403 - val_mse: 10.9991\n",
      "Epoch 387/500\n",
      "11/11 [==============================] - 0s 23ms/step - loss: 5.1119 - mae: 1.7184 - mse: 5.1119 - val_loss: 10.8576 - val_mae: 2.3091 - val_mse: 10.8576\n",
      "Epoch 388/500\n",
      "11/11 [==============================] - 0s 47ms/step - loss: 5.0550 - mae: 1.7024 - mse: 5.0550 - val_loss: 11.0091 - val_mae: 2.3284 - val_mse: 11.0091\n",
      "Epoch 389/500\n",
      "11/11 [==============================] - 0s 35ms/step - loss: 5.0191 - mae: 1.6915 - mse: 5.0191 - val_loss: 10.9633 - val_mae: 2.3453 - val_mse: 10.9633\n",
      "Epoch 390/500\n",
      "11/11 [==============================] - 0s 23ms/step - loss: 5.0892 - mae: 1.7138 - mse: 5.0892 - val_loss: 10.8935 - val_mae: 2.3259 - val_mse: 10.8936\n",
      "Epoch 391/500\n",
      "11/11 [==============================] - 0s 32ms/step - loss: 5.0328 - mae: 1.6901 - mse: 5.0328 - val_loss: 10.8517 - val_mae: 2.3251 - val_mse: 10.8517\n",
      "Epoch 392/500\n",
      "11/11 [==============================] - 0s 30ms/step - loss: 4.9568 - mae: 1.6908 - mse: 4.9568 - val_loss: 10.9656 - val_mae: 2.3361 - val_mse: 10.9656\n",
      "Epoch 393/500\n",
      "11/11 [==============================] - 0s 20ms/step - loss: 4.9751 - mae: 1.6852 - mse: 4.9751 - val_loss: 10.8630 - val_mae: 2.3053 - val_mse: 10.8630\n",
      "Epoch 394/500\n",
      "11/11 [==============================] - 0s 37ms/step - loss: 4.9973 - mae: 1.6891 - mse: 4.9973 - val_loss: 10.9616 - val_mae: 2.3311 - val_mse: 10.9616\n",
      "Epoch 395/500\n",
      "11/11 [==============================] - 0s 25ms/step - loss: 4.9332 - mae: 1.6838 - mse: 4.9332 - val_loss: 10.8259 - val_mae: 2.3080 - val_mse: 10.8259\n",
      "Epoch 396/500\n",
      "11/11 [==============================] - 0s 20ms/step - loss: 4.9941 - mae: 1.6868 - mse: 4.9941 - val_loss: 11.0181 - val_mae: 2.3565 - val_mse: 11.0181\n",
      "Epoch 397/500\n",
      "11/11 [==============================] - 0s 20ms/step - loss: 5.0429 - mae: 1.7162 - mse: 5.0429 - val_loss: 11.0721 - val_mae: 2.3420 - val_mse: 11.0721\n",
      "Epoch 398/500\n",
      "11/11 [==============================] - 0s 32ms/step - loss: 4.9796 - mae: 1.6754 - mse: 4.9796 - val_loss: 10.8480 - val_mae: 2.3038 - val_mse: 10.8480\n",
      "Epoch 399/500\n",
      "11/11 [==============================] - 0s 23ms/step - loss: 4.9952 - mae: 1.6821 - mse: 4.9952 - val_loss: 10.9088 - val_mae: 2.3180 - val_mse: 10.9088\n",
      "Epoch 400/500\n",
      "11/11 [==============================] - 0s 20ms/step - loss: 4.9185 - mae: 1.6785 - mse: 4.9185 - val_loss: 10.9458 - val_mae: 2.3274 - val_mse: 10.9458\n",
      "Epoch 401/500\n",
      "11/11 [==============================] - 0s 18ms/step - loss: 4.9752 - mae: 1.6892 - mse: 4.9752 - val_loss: 10.9832 - val_mae: 2.3358 - val_mse: 10.9832\n",
      "Epoch 402/500\n",
      "11/11 [==============================] - 0s 24ms/step - loss: 4.9239 - mae: 1.6760 - mse: 4.9239 - val_loss: 11.0418 - val_mae: 2.3371 - val_mse: 11.0418\n",
      "Epoch 403/500\n",
      "11/11 [==============================] - 0s 24ms/step - loss: 4.9984 - mae: 1.6949 - mse: 4.9984 - val_loss: 10.8635 - val_mae: 2.3160 - val_mse: 10.8635\n",
      "Epoch 404/500\n",
      "11/11 [==============================] - 0s 22ms/step - loss: 4.8913 - mae: 1.6719 - mse: 4.8913 - val_loss: 10.7997 - val_mae: 2.3073 - val_mse: 10.7997\n",
      "Epoch 405/500\n",
      "11/11 [==============================] - 0s 20ms/step - loss: 4.8939 - mae: 1.6707 - mse: 4.8939 - val_loss: 10.9734 - val_mae: 2.3172 - val_mse: 10.9734\n",
      "Epoch 406/500\n",
      "11/11 [==============================] - 0s 18ms/step - loss: 4.9407 - mae: 1.6761 - mse: 4.9407 - val_loss: 11.1401 - val_mae: 2.3583 - val_mse: 11.1401\n",
      "Epoch 407/500\n",
      "11/11 [==============================] - 0s 38ms/step - loss: 5.0404 - mae: 1.7036 - mse: 5.0404 - val_loss: 10.8571 - val_mae: 2.3183 - val_mse: 10.8571\n",
      "Epoch 408/500\n",
      "11/11 [==============================] - 0s 23ms/step - loss: 4.8963 - mae: 1.6691 - mse: 4.8963 - val_loss: 10.9897 - val_mae: 2.3269 - val_mse: 10.9897\n",
      "Epoch 409/500\n",
      "11/11 [==============================] - 0s 20ms/step - loss: 4.9711 - mae: 1.6881 - mse: 4.9711 - val_loss: 11.1405 - val_mae: 2.3657 - val_mse: 11.1405\n",
      "Epoch 410/500\n",
      "11/11 [==============================] - 0s 26ms/step - loss: 4.9374 - mae: 1.6825 - mse: 4.9374 - val_loss: 10.9613 - val_mae: 2.3237 - val_mse: 10.9613\n",
      "Epoch 411/500\n",
      "11/11 [==============================] - 0s 19ms/step - loss: 4.8626 - mae: 1.6609 - mse: 4.8626 - val_loss: 10.9724 - val_mae: 2.3230 - val_mse: 10.9724\n",
      "Epoch 412/500\n",
      "11/11 [==============================] - 0s 18ms/step - loss: 4.8169 - mae: 1.6622 - mse: 4.8169 - val_loss: 10.9154 - val_mae: 2.3224 - val_mse: 10.9154\n",
      "Epoch 413/500\n",
      "11/11 [==============================] - 0s 37ms/step - loss: 4.8483 - mae: 1.6624 - mse: 4.8483 - val_loss: 10.9745 - val_mae: 2.3321 - val_mse: 10.9745\n",
      "Epoch 414/500\n",
      "11/11 [==============================] - 0s 22ms/step - loss: 4.9074 - mae: 1.6749 - mse: 4.9074 - val_loss: 11.1075 - val_mae: 2.3378 - val_mse: 11.1075\n",
      "Epoch 415/500\n",
      "11/11 [==============================] - 0s 33ms/step - loss: 4.9284 - mae: 1.6662 - mse: 4.9284 - val_loss: 11.0852 - val_mae: 2.3332 - val_mse: 11.0852\n",
      "Epoch 416/500\n",
      "11/11 [==============================] - 0s 27ms/step - loss: 4.9450 - mae: 1.6773 - mse: 4.9450 - val_loss: 10.9386 - val_mae: 2.3087 - val_mse: 10.9386\n",
      "Epoch 417/500\n",
      "11/11 [==============================] - 0s 20ms/step - loss: 4.8483 - mae: 1.6644 - mse: 4.8483 - val_loss: 10.9790 - val_mae: 2.3301 - val_mse: 10.9790\n",
      "Epoch 418/500\n",
      "11/11 [==============================] - 0s 21ms/step - loss: 4.8174 - mae: 1.6518 - mse: 4.8174 - val_loss: 11.0586 - val_mae: 2.3263 - val_mse: 11.0586\n",
      "Epoch 419/500\n",
      "11/11 [==============================] - 0s 33ms/step - loss: 4.8037 - mae: 1.6598 - mse: 4.8037 - val_loss: 11.1819 - val_mae: 2.3494 - val_mse: 11.1819\n",
      "Epoch 420/500\n",
      "11/11 [==============================] - 0s 18ms/step - loss: 4.8885 - mae: 1.6681 - mse: 4.8885 - val_loss: 10.9422 - val_mae: 2.3345 - val_mse: 10.9422\n",
      "Epoch 421/500\n",
      "11/11 [==============================] - 0s 18ms/step - loss: 4.8487 - mae: 1.6683 - mse: 4.8487 - val_loss: 11.0438 - val_mae: 2.3484 - val_mse: 11.0438\n",
      "Epoch 422/500\n",
      "11/11 [==============================] - 0s 22ms/step - loss: 4.9324 - mae: 1.6791 - mse: 4.9324 - val_loss: 10.9804 - val_mae: 2.3402 - val_mse: 10.9804\n",
      "Epoch 423/500\n",
      "11/11 [==============================] - 0s 25ms/step - loss: 4.9228 - mae: 1.6818 - mse: 4.9228 - val_loss: 11.1276 - val_mae: 2.3347 - val_mse: 11.1276\n",
      "Epoch 424/500\n",
      "11/11 [==============================] - 0s 30ms/step - loss: 4.7335 - mae: 1.6302 - mse: 4.7335 - val_loss: 11.0220 - val_mae: 2.3275 - val_mse: 11.0220\n",
      "Epoch 425/500\n",
      "11/11 [==============================] - 0s 18ms/step - loss: 4.7330 - mae: 1.6374 - mse: 4.7330 - val_loss: 11.1269 - val_mae: 2.3338 - val_mse: 11.1269\n",
      "Epoch 426/500\n",
      "11/11 [==============================] - 0s 27ms/step - loss: 4.7774 - mae: 1.6446 - mse: 4.7774 - val_loss: 11.0963 - val_mae: 2.3316 - val_mse: 11.0963\n",
      "Epoch 427/500\n",
      "11/11 [==============================] - 1s 54ms/step - loss: 4.7235 - mae: 1.6448 - mse: 4.7235 - val_loss: 11.2380 - val_mae: 2.3589 - val_mse: 11.2380\n",
      "Epoch 428/500\n",
      "11/11 [==============================] - 0s 27ms/step - loss: 4.8746 - mae: 1.6732 - mse: 4.8746 - val_loss: 11.0275 - val_mae: 2.3274 - val_mse: 11.0275\n",
      "Epoch 429/500\n",
      "11/11 [==============================] - 0s 36ms/step - loss: 4.7219 - mae: 1.6367 - mse: 4.7219 - val_loss: 11.1322 - val_mae: 2.3465 - val_mse: 11.1322\n",
      "Epoch 430/500\n",
      "11/11 [==============================] - 0s 35ms/step - loss: 4.7656 - mae: 1.6408 - mse: 4.7656 - val_loss: 11.1277 - val_mae: 2.3436 - val_mse: 11.1277\n",
      "Epoch 431/500\n",
      "11/11 [==============================] - 0s 23ms/step - loss: 4.7558 - mae: 1.6440 - mse: 4.7558 - val_loss: 11.2522 - val_mae: 2.3470 - val_mse: 11.2522\n",
      "Epoch 432/500\n",
      "11/11 [==============================] - 0s 30ms/step - loss: 4.7857 - mae: 1.6497 - mse: 4.7857 - val_loss: 11.3067 - val_mae: 2.3487 - val_mse: 11.3067\n",
      "Epoch 433/500\n",
      "11/11 [==============================] - 1s 50ms/step - loss: 4.8022 - mae: 1.6675 - mse: 4.8022 - val_loss: 11.0770 - val_mae: 2.3319 - val_mse: 11.0770\n",
      "Epoch 434/500\n",
      "11/11 [==============================] - 0s 33ms/step - loss: 4.9444 - mae: 1.6742 - mse: 4.9444 - val_loss: 11.0047 - val_mae: 2.3165 - val_mse: 11.0047\n",
      "Epoch 435/500\n",
      "11/11 [==============================] - 0s 23ms/step - loss: 4.8536 - mae: 1.6847 - mse: 4.8536 - val_loss: 11.1838 - val_mae: 2.3584 - val_mse: 11.1838\n",
      "Epoch 436/500\n",
      "11/11 [==============================] - 0s 25ms/step - loss: 4.9004 - mae: 1.6957 - mse: 4.9004 - val_loss: 11.2187 - val_mae: 2.3733 - val_mse: 11.2187\n",
      "Epoch 437/500\n",
      "11/11 [==============================] - 1s 53ms/step - loss: 4.8778 - mae: 1.6735 - mse: 4.8778 - val_loss: 11.1213 - val_mae: 2.3391 - val_mse: 11.1213\n",
      "Epoch 438/500\n",
      "11/11 [==============================] - 1s 56ms/step - loss: 4.7149 - mae: 1.6332 - mse: 4.7149 - val_loss: 11.1157 - val_mae: 2.3303 - val_mse: 11.1157\n",
      "Epoch 439/500\n",
      "11/11 [==============================] - 0s 43ms/step - loss: 4.6702 - mae: 1.6114 - mse: 4.6702 - val_loss: 11.2459 - val_mae: 2.3375 - val_mse: 11.2459\n",
      "Epoch 440/500\n",
      "11/11 [==============================] - 0s 37ms/step - loss: 4.7390 - mae: 1.6473 - mse: 4.7390 - val_loss: 11.0336 - val_mae: 2.3218 - val_mse: 11.0336\n",
      "Epoch 441/500\n",
      "11/11 [==============================] - 0s 30ms/step - loss: 4.7938 - mae: 1.6587 - mse: 4.7938 - val_loss: 11.3579 - val_mae: 2.3740 - val_mse: 11.3579\n",
      "Epoch 442/500\n",
      "11/11 [==============================] - 0s 25ms/step - loss: 4.7274 - mae: 1.6310 - mse: 4.7274 - val_loss: 11.2286 - val_mae: 2.3382 - val_mse: 11.2286\n",
      "Epoch 443/500\n",
      "11/11 [==============================] - 0s 32ms/step - loss: 4.6354 - mae: 1.6137 - mse: 4.6354 - val_loss: 10.9924 - val_mae: 2.3105 - val_mse: 10.9924\n",
      "Epoch 444/500\n",
      "11/11 [==============================] - 0s 22ms/step - loss: 4.5763 - mae: 1.6000 - mse: 4.5763 - val_loss: 11.2100 - val_mae: 2.3379 - val_mse: 11.2100\n",
      "Epoch 445/500\n",
      "11/11 [==============================] - 0s 38ms/step - loss: 4.6551 - mae: 1.6257 - mse: 4.6551 - val_loss: 11.0530 - val_mae: 2.3147 - val_mse: 11.0530\n",
      "Epoch 446/500\n",
      "11/11 [==============================] - 0s 22ms/step - loss: 4.5801 - mae: 1.6092 - mse: 4.5801 - val_loss: 11.0760 - val_mae: 2.3162 - val_mse: 11.0760\n",
      "Epoch 447/500\n",
      "11/11 [==============================] - 0s 32ms/step - loss: 4.5855 - mae: 1.6066 - mse: 4.5855 - val_loss: 11.2945 - val_mae: 2.3395 - val_mse: 11.2945\n",
      "Epoch 448/500\n",
      "11/11 [==============================] - 0s 22ms/step - loss: 4.6506 - mae: 1.6307 - mse: 4.6506 - val_loss: 11.0367 - val_mae: 2.3175 - val_mse: 11.0367\n",
      "Epoch 449/500\n",
      "11/11 [==============================] - 0s 32ms/step - loss: 4.5655 - mae: 1.6006 - mse: 4.5655 - val_loss: 11.0846 - val_mae: 2.3208 - val_mse: 11.0846\n",
      "Epoch 450/500\n",
      "11/11 [==============================] - 0s 20ms/step - loss: 4.5652 - mae: 1.6062 - mse: 4.5652 - val_loss: 11.1223 - val_mae: 2.3213 - val_mse: 11.1223\n",
      "Epoch 451/500\n",
      "11/11 [==============================] - 0s 23ms/step - loss: 4.6707 - mae: 1.6325 - mse: 4.6707 - val_loss: 11.0157 - val_mae: 2.3034 - val_mse: 11.0157\n",
      "Epoch 452/500\n",
      "11/11 [==============================] - 0s 28ms/step - loss: 4.5414 - mae: 1.5871 - mse: 4.5414 - val_loss: 11.3027 - val_mae: 2.3331 - val_mse: 11.3027\n",
      "Epoch 453/500\n",
      "11/11 [==============================] - 0s 23ms/step - loss: 4.6296 - mae: 1.6288 - mse: 4.6296 - val_loss: 11.0598 - val_mae: 2.3162 - val_mse: 11.0598\n",
      "Epoch 454/500\n",
      "11/11 [==============================] - 0s 30ms/step - loss: 4.6088 - mae: 1.6111 - mse: 4.6088 - val_loss: 11.0149 - val_mae: 2.3074 - val_mse: 11.0149\n",
      "Epoch 455/500\n",
      "11/11 [==============================] - 0s 22ms/step - loss: 4.5794 - mae: 1.5972 - mse: 4.5794 - val_loss: 11.1878 - val_mae: 2.3305 - val_mse: 11.1878\n",
      "Epoch 456/500\n",
      "11/11 [==============================] - 0s 25ms/step - loss: 4.5164 - mae: 1.5881 - mse: 4.5164 - val_loss: 11.1063 - val_mae: 2.3073 - val_mse: 11.1063\n",
      "Epoch 457/500\n",
      "11/11 [==============================] - 0s 23ms/step - loss: 4.5593 - mae: 1.6080 - mse: 4.5593 - val_loss: 11.0199 - val_mae: 2.3202 - val_mse: 11.0199\n",
      "Epoch 458/500\n",
      "11/11 [==============================] - 0s 23ms/step - loss: 4.6091 - mae: 1.6094 - mse: 4.6091 - val_loss: 11.2347 - val_mae: 2.3278 - val_mse: 11.2347\n",
      "Epoch 459/500\n",
      "11/11 [==============================] - 0s 35ms/step - loss: 4.5482 - mae: 1.6055 - mse: 4.5482 - val_loss: 11.1144 - val_mae: 2.3268 - val_mse: 11.1144\n",
      "Epoch 460/500\n",
      "11/11 [==============================] - 0s 20ms/step - loss: 4.5158 - mae: 1.5886 - mse: 4.5158 - val_loss: 11.1390 - val_mae: 2.3136 - val_mse: 11.1390\n",
      "Epoch 461/500\n",
      "11/11 [==============================] - 0s 23ms/step - loss: 4.5657 - mae: 1.5956 - mse: 4.5657 - val_loss: 11.1727 - val_mae: 2.3250 - val_mse: 11.1727\n",
      "Epoch 462/500\n",
      "11/11 [==============================] - 0s 30ms/step - loss: 4.5246 - mae: 1.5957 - mse: 4.5246 - val_loss: 11.1411 - val_mae: 2.3271 - val_mse: 11.1411\n",
      "Epoch 463/500\n",
      "11/11 [==============================] - 0s 22ms/step - loss: 4.6424 - mae: 1.6371 - mse: 4.6424 - val_loss: 11.1504 - val_mae: 2.3034 - val_mse: 11.1504\n",
      "Epoch 464/500\n",
      "11/11 [==============================] - 0s 20ms/step - loss: 4.7826 - mae: 1.6463 - mse: 4.7826 - val_loss: 11.5936 - val_mae: 2.3888 - val_mse: 11.5936\n",
      "Epoch 465/500\n",
      "11/11 [==============================] - 0s 19ms/step - loss: 4.6943 - mae: 1.6311 - mse: 4.6943 - val_loss: 11.2404 - val_mae: 2.3195 - val_mse: 11.2404\n",
      "Epoch 466/500\n",
      "11/11 [==============================] - 0s 16ms/step - loss: 4.5166 - mae: 1.5981 - mse: 4.5166 - val_loss: 11.0527 - val_mae: 2.3178 - val_mse: 11.0527\n",
      "Epoch 467/500\n",
      "11/11 [==============================] - 0s 17ms/step - loss: 4.5717 - mae: 1.6013 - mse: 4.5717 - val_loss: 11.1109 - val_mae: 2.3073 - val_mse: 11.1109\n",
      "Epoch 468/500\n",
      "11/11 [==============================] - 0s 18ms/step - loss: 4.6082 - mae: 1.6386 - mse: 4.6082 - val_loss: 11.4982 - val_mae: 2.3782 - val_mse: 11.4982\n",
      "Epoch 469/500\n",
      "11/11 [==============================] - 0s 22ms/step - loss: 4.5991 - mae: 1.6187 - mse: 4.5991 - val_loss: 11.0919 - val_mae: 2.3195 - val_mse: 11.0919\n",
      "Epoch 470/500\n",
      "11/11 [==============================] - 0s 20ms/step - loss: 4.5887 - mae: 1.5994 - mse: 4.5887 - val_loss: 11.0853 - val_mae: 2.3045 - val_mse: 11.0853\n",
      "Epoch 471/500\n",
      "11/11 [==============================] - 0s 22ms/step - loss: 4.4764 - mae: 1.5988 - mse: 4.4764 - val_loss: 11.2393 - val_mae: 2.3250 - val_mse: 11.2393\n",
      "Epoch 472/500\n",
      "11/11 [==============================] - 0s 16ms/step - loss: 4.4769 - mae: 1.5874 - mse: 4.4769 - val_loss: 10.9952 - val_mae: 2.2928 - val_mse: 10.9952\n",
      "Epoch 473/500\n",
      "11/11 [==============================] - 0s 23ms/step - loss: 4.4419 - mae: 1.5842 - mse: 4.4419 - val_loss: 11.3300 - val_mae: 2.3453 - val_mse: 11.3300\n",
      "Epoch 474/500\n",
      "11/11 [==============================] - 0s 16ms/step - loss: 4.5004 - mae: 1.6022 - mse: 4.5004 - val_loss: 11.2016 - val_mae: 2.3179 - val_mse: 11.2016\n",
      "Epoch 475/500\n",
      "11/11 [==============================] - 0s 37ms/step - loss: 4.5379 - mae: 1.5988 - mse: 4.5379 - val_loss: 10.9833 - val_mae: 2.2819 - val_mse: 10.9833\n",
      "Epoch 476/500\n",
      "11/11 [==============================] - 0s 18ms/step - loss: 4.4146 - mae: 1.5684 - mse: 4.4146 - val_loss: 11.0448 - val_mae: 2.2911 - val_mse: 11.0448\n",
      "Epoch 477/500\n",
      "11/11 [==============================] - 0s 18ms/step - loss: 4.4288 - mae: 1.5875 - mse: 4.4288 - val_loss: 10.9951 - val_mae: 2.2934 - val_mse: 10.9951\n",
      "Epoch 478/500\n",
      "11/11 [==============================] - 0s 23ms/step - loss: 4.5224 - mae: 1.5916 - mse: 4.5224 - val_loss: 11.2058 - val_mae: 2.3149 - val_mse: 11.2058\n",
      "Epoch 479/500\n",
      "11/11 [==============================] - 0s 18ms/step - loss: 4.4133 - mae: 1.5890 - mse: 4.4133 - val_loss: 11.0238 - val_mae: 2.3041 - val_mse: 11.0238\n",
      "Epoch 480/500\n",
      "11/11 [==============================] - 0s 20ms/step - loss: 4.4397 - mae: 1.5777 - mse: 4.4397 - val_loss: 10.9601 - val_mae: 2.2783 - val_mse: 10.9601\n",
      "Epoch 481/500\n",
      "11/11 [==============================] - 0s 23ms/step - loss: 4.4582 - mae: 1.5909 - mse: 4.4582 - val_loss: 11.0003 - val_mae: 2.2947 - val_mse: 11.0003\n",
      "Epoch 482/500\n",
      "11/11 [==============================] - 0s 30ms/step - loss: 4.4651 - mae: 1.5910 - mse: 4.4651 - val_loss: 11.1601 - val_mae: 2.3028 - val_mse: 11.1601\n",
      "Epoch 483/500\n",
      "11/11 [==============================] - 0s 18ms/step - loss: 4.3909 - mae: 1.5734 - mse: 4.3909 - val_loss: 10.9121 - val_mae: 2.2918 - val_mse: 10.9121\n",
      "Epoch 484/500\n",
      "11/11 [==============================] - 0s 22ms/step - loss: 4.4066 - mae: 1.5688 - mse: 4.4066 - val_loss: 11.1270 - val_mae: 2.3106 - val_mse: 11.1270\n",
      "Epoch 485/500\n",
      "11/11 [==============================] - 0s 23ms/step - loss: 4.4174 - mae: 1.5803 - mse: 4.4174 - val_loss: 10.8946 - val_mae: 2.2773 - val_mse: 10.8946\n",
      "Epoch 486/500\n",
      "11/11 [==============================] - 0s 23ms/step - loss: 4.4738 - mae: 1.6002 - mse: 4.4738 - val_loss: 11.2164 - val_mae: 2.3154 - val_mse: 11.2164\n",
      "Epoch 487/500\n",
      "11/11 [==============================] - 0s 22ms/step - loss: 4.4884 - mae: 1.5959 - mse: 4.4884 - val_loss: 11.1585 - val_mae: 2.3092 - val_mse: 11.1585\n",
      "Epoch 488/500\n",
      "11/11 [==============================] - 0s 20ms/step - loss: 4.5415 - mae: 1.6082 - mse: 4.5415 - val_loss: 11.0069 - val_mae: 2.2863 - val_mse: 11.0069\n",
      "Epoch 489/500\n",
      "11/11 [==============================] - 0s 20ms/step - loss: 4.4066 - mae: 1.5678 - mse: 4.4066 - val_loss: 11.1404 - val_mae: 2.2990 - val_mse: 11.1404\n",
      "Epoch 490/500\n",
      "11/11 [==============================] - 0s 21ms/step - loss: 4.4498 - mae: 1.5912 - mse: 4.4498 - val_loss: 11.0959 - val_mae: 2.2933 - val_mse: 11.0959\n",
      "Epoch 491/500\n",
      "11/11 [==============================] - 0s 23ms/step - loss: 4.3647 - mae: 1.5572 - mse: 4.3647 - val_loss: 10.9153 - val_mae: 2.2956 - val_mse: 10.9153\n",
      "Epoch 492/500\n",
      "11/11 [==============================] - 0s 23ms/step - loss: 4.3800 - mae: 1.5705 - mse: 4.3800 - val_loss: 10.8924 - val_mae: 2.2945 - val_mse: 10.8924\n",
      "Epoch 493/500\n",
      "11/11 [==============================] - 0s 23ms/step - loss: 4.3462 - mae: 1.5739 - mse: 4.3462 - val_loss: 11.0653 - val_mae: 2.3023 - val_mse: 11.0653\n",
      "Epoch 494/500\n",
      "11/11 [==============================] - 0s 18ms/step - loss: 4.3320 - mae: 1.5548 - mse: 4.3320 - val_loss: 11.0113 - val_mae: 2.2887 - val_mse: 11.0113\n",
      "Epoch 495/500\n",
      "11/11 [==============================] - 0s 30ms/step - loss: 4.4410 - mae: 1.5923 - mse: 4.4410 - val_loss: 10.9922 - val_mae: 2.3098 - val_mse: 10.9922\n",
      "Epoch 496/500\n",
      "11/11 [==============================] - 0s 20ms/step - loss: 4.3700 - mae: 1.5680 - mse: 4.3700 - val_loss: 11.1271 - val_mae: 2.3395 - val_mse: 11.1271\n",
      "Epoch 497/500\n",
      "11/11 [==============================] - 0s 23ms/step - loss: 4.4029 - mae: 1.5760 - mse: 4.4029 - val_loss: 11.0571 - val_mae: 2.3121 - val_mse: 11.0571\n",
      "Epoch 498/500\n",
      "11/11 [==============================] - 0s 30ms/step - loss: 4.3835 - mae: 1.5610 - mse: 4.3835 - val_loss: 10.9237 - val_mae: 2.2800 - val_mse: 10.9237\n",
      "Epoch 499/500\n",
      "11/11 [==============================] - 0s 18ms/step - loss: 4.2725 - mae: 1.5528 - mse: 4.2725 - val_loss: 11.0993 - val_mae: 2.3163 - val_mse: 11.0993\n",
      "Epoch 500/500\n",
      "11/11 [==============================] - 0s 18ms/step - loss: 4.3437 - mae: 1.5548 - mse: 4.3437 - val_loss: 10.8996 - val_mae: 2.2753 - val_mse: 10.8996\n"
     ]
    }
   ],
   "source": [
    "training_history = model.fit(x_train,\n",
    "                             y_train,\n",
    "                             validation_split=0.2,\n",
    "                             epochs=500,\n",
    "                             batch_size=100,\n",
    "                             callbacks=[tensorboard_callback]\n",
    "                             )"
   ],
   "metadata": {
    "collapsed": false,
    "pycharm": {
     "name": "#%%\n"
    }
   }
  },
  {
   "cell_type": "code",
   "execution_count": 61,
   "outputs": [],
   "source": [
    "%load_ext tensorboard"
   ],
   "metadata": {
    "collapsed": false,
    "pycharm": {
     "name": "#%%\n"
    }
   }
  },
  {
   "cell_type": "code",
   "execution_count": 62,
   "outputs": [
    {
     "data": {
      "text/plain": "Launching TensorBoard..."
     },
     "metadata": {},
     "output_type": "display_data"
    }
   ],
   "source": [
    "%tensorboard --logdir seq_logs --port 6050"
   ],
   "metadata": {
    "collapsed": false,
    "pycharm": {
     "name": "#%%\n"
    }
   }
  },
  {
   "cell_type": "code",
   "execution_count": null,
   "outputs": [],
   "source": [
    "#localhost:6050"
   ],
   "metadata": {
    "collapsed": false,
    "pycharm": {
     "name": "#%%\n"
    }
   }
  },
  {
   "cell_type": "code",
   "execution_count": null,
   "outputs": [],
   "source": [],
   "metadata": {
    "collapsed": false,
    "pycharm": {
     "name": "#%%\n"
    }
   }
  }
 ],
 "metadata": {
  "kernelspec": {
   "display_name": "Python 3",
   "language": "python",
   "name": "python3"
  },
  "language_info": {
   "codemirror_mode": {
    "name": "ipython",
    "version": 2
   },
   "file_extension": ".py",
   "mimetype": "text/x-python",
   "name": "python",
   "nbconvert_exporter": "python",
   "pygments_lexer": "ipython2",
   "version": "2.7.6"
  }
 },
 "nbformat": 4,
 "nbformat_minor": 0
}